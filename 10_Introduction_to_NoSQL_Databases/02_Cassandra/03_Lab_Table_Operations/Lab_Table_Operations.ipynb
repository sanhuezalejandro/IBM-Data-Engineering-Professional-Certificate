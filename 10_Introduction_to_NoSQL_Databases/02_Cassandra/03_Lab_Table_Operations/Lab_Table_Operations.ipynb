{
 "cells": [
  {
   "cell_type": "markdown",
   "id": "3f5b3da3",
   "metadata": {},
   "source": [
    "# Lab: Table Operations\n",
    "\n",
    "![https://cf-courses-data.s3.us.cloud-object-storage.appdomain.cloud/IBMSkillsNetwork-WD0231EN-SkillsNetwork/IDSN-logo.png](https://cf-courses-data.s3.us.cloud-object-storage.appdomain.cloud/IBMSkillsNetwork-WD0231EN-SkillsNetwork/IDSN-logo.png)\n",
    "\n",
    "Estimated time needed: **10** minutes\n",
    "\n",
    "## **Objectives**\n",
    "\n",
    "After completing this lab, you will be able to:\n",
    "\n",
    "- Create a table in a keyspace by defining a column name and data type\n",
    "- Extract the details of a table with the DESCRIBE command\n",
    "- Alter a table by adding columns\n",
    "- Drop a table by removing it from the keyspace\n",
    "\n",
    "## **Deploying your Cassandra cluster and running commands**\n",
    "\n",
    "To deploy your Cassandra cluster, use the Docker CLI in the same folder as your docker-compose.yml to run the following command (the -d causes the containers to run in the background):\n",
    "\n"
   ]
  },
  {
   "cell_type": "code",
   "execution_count": 1,
   "id": "30549ce0",
   "metadata": {},
   "outputs": [
    {
     "name": "stdout",
     "output_type": "stream",
     "text": [
      "\u001b[1A\u001b[1B\u001b[0G\u001b[?25l[+] Running 0/0\n",
      " ⠋ Network 03_lab_table_operations_cassandra  Creating                     \u001b[34m0.0s \u001b[0m\n",
      "\u001b[?25h\u001b[1A\u001b[1A\u001b[0G\u001b[?25l\u001b[34m[+] Running 1/1\u001b[0m\n",
      " \u001b[32m✔\u001b[0m Network 03_lab_table_operations_cassandra  \u001b[32mCreated\u001b[0m                      \u001b[34m0.1s \u001b[0m\n",
      " ⠋ Container cassandra1                       Cr...                        \u001b[34m0.1s \u001b[0m\n",
      "\u001b[?25h\u001b[1A\u001b[1A\u001b[1A\u001b[0G\u001b[?25l\u001b[34m[+] Running 2/2\u001b[0m\n",
      " \u001b[32m✔\u001b[0m Network 03_lab_table_operations_cassandra  \u001b[32mCreated\u001b[0m                      \u001b[34m0.1s \u001b[0m\n",
      " \u001b[32m✔\u001b[0m Container cassandra1                       \u001b[32mCr...\u001b[0m                        \u001b[34m0.1s \u001b[0m\n",
      " ⠋ Container cassandra2                       Cr...                        \u001b[34m0.1s \u001b[0m\n",
      "\u001b[?25h\u001b[1A\u001b[1A\u001b[1A\u001b[1A\u001b[0G\u001b[?25l\u001b[34m[+] Running 3/3\u001b[0m\n",
      " \u001b[32m✔\u001b[0m Network 03_lab_table_operations_cassandra  \u001b[32mCreated\u001b[0m                      \u001b[34m0.1s \u001b[0m\n",
      " ⠿ Container cassandra1                       St...                        \u001b[34m0.3s \u001b[0m\n",
      " \u001b[32m✔\u001b[0m Container cassandra2                       \u001b[32mCr...\u001b[0m                        \u001b[34m0.1s \u001b[0m\n",
      " \u001b[32m✔\u001b[0m Container cassandra3                       \u001b[32mCr...\u001b[0m                        \u001b[34m0.1s \u001b[0m\n",
      "\u001b[?25h\u001b[1A\u001b[1A\u001b[1A\u001b[1A\u001b[1A\u001b[0G\u001b[?25l[+] Running 3/4\n",
      " \u001b[32m✔\u001b[0m Network 03_lab_table_operations_cassandra  \u001b[32mCreated\u001b[0m                      \u001b[34m0.1s \u001b[0m\n",
      " ⠿ Container cassandra1                       St...                        \u001b[34m0.4s \u001b[0m\n",
      " \u001b[32m✔\u001b[0m Container cassandra2                       \u001b[32mCr...\u001b[0m                        \u001b[34m0.1s \u001b[0m\n",
      " \u001b[32m✔\u001b[0m Container cassandra3                       \u001b[32mCr...\u001b[0m                        \u001b[34m0.1s \u001b[0m\n",
      "\u001b[?25h\u001b[1A\u001b[1A\u001b[1A\u001b[1A\u001b[1A\u001b[0G\u001b[?25l[+] Running 3/4\n",
      " \u001b[32m✔\u001b[0m Network 03_lab_table_operations_cassandra  \u001b[32mCreated\u001b[0m                      \u001b[34m0.1s \u001b[0m\n",
      " ⠿ Container cassandra1                       St...                        \u001b[34m0.5s \u001b[0m\n",
      " \u001b[32m✔\u001b[0m Container cassandra2                       \u001b[32mCr...\u001b[0m                        \u001b[34m0.1s \u001b[0m\n",
      " \u001b[32m✔\u001b[0m Container cassandra3                       \u001b[32mCr...\u001b[0m                        \u001b[34m0.1s \u001b[0m\n",
      "\u001b[?25h\u001b[1A\u001b[1A\u001b[1A\u001b[1A\u001b[1A\u001b[0G\u001b[?25l[+] Running 3/4\n",
      " \u001b[32m✔\u001b[0m Network 03_lab_table_operations_cassandra  \u001b[32mCreated\u001b[0m                      \u001b[34m0.1s \u001b[0m\n",
      " ⠿ Container cassandra1                       St...                        \u001b[34m0.6s \u001b[0m\n",
      " \u001b[32m✔\u001b[0m Container cassandra2                       \u001b[32mCr...\u001b[0m                        \u001b[34m0.1s \u001b[0m\n",
      " \u001b[32m✔\u001b[0m Container cassandra3                       \u001b[32mCr...\u001b[0m                        \u001b[34m0.1s \u001b[0m\n",
      "\u001b[?25h\u001b[1A\u001b[1A\u001b[1A\u001b[1A\u001b[1A\u001b[0G\u001b[?25l[+] Running 3/4\n",
      " \u001b[32m✔\u001b[0m Network 03_lab_table_operations_cassandra  \u001b[32mCreated\u001b[0m                      \u001b[34m0.1s \u001b[0m\n",
      " ⠿ Container cassandra1                       St...                        \u001b[34m0.7s \u001b[0m\n",
      " \u001b[32m✔\u001b[0m Container cassandra2                       \u001b[32mCr...\u001b[0m                        \u001b[34m0.1s \u001b[0m\n",
      " \u001b[32m✔\u001b[0m Container cassandra3                       \u001b[32mCr...\u001b[0m                        \u001b[34m0.1s \u001b[0m\n",
      "\u001b[?25h\u001b[1A\u001b[1A\u001b[1A\u001b[1A\u001b[1A\u001b[0G\u001b[?25l[+] Running 3/4\n",
      " \u001b[32m✔\u001b[0m Network 03_lab_table_operations_cassandra  \u001b[32mCreated\u001b[0m                      \u001b[34m0.1s \u001b[0m\n",
      " \u001b[32m✔\u001b[0m Container cassandra1                       \u001b[32mSt...\u001b[0m                        \u001b[34m0.7s \u001b[0m\n",
      " ⠿ Container cassandra2                       St...                        \u001b[34m0.7s \u001b[0m\n",
      " \u001b[32m✔\u001b[0m Container cassandra3                       \u001b[32mCr...\u001b[0m                        \u001b[34m0.1s \u001b[0m\n",
      "\u001b[?25h\u001b[1A\u001b[1A\u001b[1A\u001b[1A\u001b[1A\u001b[0G\u001b[?25l[+] Running 3/4\n",
      " \u001b[32m✔\u001b[0m Network 03_lab_table_operations_cassandra  \u001b[32mCreated\u001b[0m                      \u001b[34m0.1s \u001b[0m\n",
      " \u001b[32m✔\u001b[0m Container cassandra1                       \u001b[32mSt...\u001b[0m                        \u001b[34m0.7s \u001b[0m\n",
      " ⠿ Container cassandra2                       St...                        \u001b[34m0.8s \u001b[0m\n",
      " \u001b[32m✔\u001b[0m Container cassandra3                       \u001b[32mCr...\u001b[0m                        \u001b[34m0.1s \u001b[0m\n",
      "\u001b[?25h\u001b[1A\u001b[1A\u001b[1A\u001b[1A\u001b[1A\u001b[0G\u001b[?25l[+] Running 3/4\n",
      " \u001b[32m✔\u001b[0m Network 03_lab_table_operations_cassandra  \u001b[32mCreated\u001b[0m                      \u001b[34m0.1s \u001b[0m\n",
      " \u001b[32m✔\u001b[0m Container cassandra1                       \u001b[32mSt...\u001b[0m                        \u001b[34m0.7s \u001b[0m\n",
      " ⠿ Container cassandra2                       St...                        \u001b[34m0.9s \u001b[0m\n",
      " \u001b[32m✔\u001b[0m Container cassandra3                       \u001b[32mCr...\u001b[0m                        \u001b[34m0.1s \u001b[0m\n",
      "\u001b[?25h\u001b[1A\u001b[1A\u001b[1A\u001b[1A\u001b[1A\u001b[0G\u001b[?25l[+] Running 3/4\n",
      " \u001b[32m✔\u001b[0m Network 03_lab_table_operations_cassandra  \u001b[32mCreated\u001b[0m                      \u001b[34m0.1s \u001b[0m\n",
      " \u001b[32m✔\u001b[0m Container cassandra1                       \u001b[32mSt...\u001b[0m                        \u001b[34m0.7s \u001b[0m\n",
      " \u001b[32m✔\u001b[0m Container cassandra2                       \u001b[32mSt...\u001b[0m                        \u001b[34m0.9s \u001b[0m\n",
      " ⠿ Container cassandra3                       St...                        \u001b[34m0.9s \u001b[0m\n",
      "\u001b[?25h\u001b[1A\u001b[1A\u001b[1A\u001b[1A\u001b[1A\u001b[0G\u001b[?25l[+] Running 3/4\n",
      " \u001b[32m✔\u001b[0m Network 03_lab_table_operations_cassandra  \u001b[32mCreated\u001b[0m                      \u001b[34m0.1s \u001b[0m\n",
      " \u001b[32m✔\u001b[0m Container cassandra1                       \u001b[32mSt...\u001b[0m                        \u001b[34m0.7s \u001b[0m\n",
      " \u001b[32m✔\u001b[0m Container cassandra2                       \u001b[32mSt...\u001b[0m                        \u001b[34m0.9s \u001b[0m\n",
      " ⠿ Container cassandra3                       St...                        \u001b[34m1.0s \u001b[0m\n",
      "\u001b[?25h\u001b[1A\u001b[1A\u001b[1A\u001b[1A\u001b[1A\u001b[0G\u001b[?25l[+] Running 3/4\n",
      " \u001b[32m✔\u001b[0m Network 03_lab_table_operations_cassandra  \u001b[32mCreated\u001b[0m                      \u001b[34m0.1s \u001b[0m\n",
      " \u001b[32m✔\u001b[0m Container cassandra1                       \u001b[32mSt...\u001b[0m                        \u001b[34m0.7s \u001b[0m\n",
      " \u001b[32m✔\u001b[0m Container cassandra2                       \u001b[32mSt...\u001b[0m                        \u001b[34m0.9s \u001b[0m\n",
      " ⠿ Container cassandra3                       St...                        \u001b[34m1.1s \u001b[0m\n",
      "\u001b[?25h\u001b[1A\u001b[1A\u001b[1A\u001b[1A\u001b[1A\u001b[0G\u001b[?25l\u001b[34m[+] Running 4/4\u001b[0m\n",
      " \u001b[32m✔\u001b[0m Network 03_lab_table_operations_cassandra  \u001b[32mCreated\u001b[0m                      \u001b[34m0.1s \u001b[0m\n",
      " \u001b[32m✔\u001b[0m Container cassandra1                       \u001b[32mSt...\u001b[0m                        \u001b[34m0.7s \u001b[0m\n",
      " \u001b[32m✔\u001b[0m Container cassandra2                       \u001b[32mSt...\u001b[0m                        \u001b[34m0.9s \u001b[0m\n",
      " \u001b[32m✔\u001b[0m Container cassandra3                       \u001b[32mSt...\u001b[0m                        \u001b[34m1.1s \u001b[0m\n",
      "\u001b[?25h"
     ]
    }
   ],
   "source": [
    "\n",
    "!docker compose up -d\n"
   ]
  },
  {
   "cell_type": "markdown",
   "id": "f91655f5",
   "metadata": {},
   "source": [
    "\n",
    "\n",
    "You can also check the cluster configuration using:\n",
    "\n"
   ]
  },
  {
   "cell_type": "code",
   "execution_count": 4,
   "id": "cc4c59a9",
   "metadata": {},
   "outputs": [
    {
     "name": "stdout",
     "output_type": "stream",
     "text": [
      "Datacenter: DC1\n",
      "===============\n",
      "Status=Up/Down\n",
      "|/ State=Normal/Leaving/Joining/Moving\n",
      "--  Address     Load        Tokens  Owns (effective)  Host ID                               Rack \n",
      "UN  172.18.0.4  190.11 KiB  128     63.1%             41596d3c-8ac7-4799-9cd7-dcebdc0a53f4  RACK1\n",
      "UN  172.18.0.3  72.43 KiB   128     69.8%             cf505126-74fc-4122-b421-31cd5347037c  RACK1\n",
      "UN  172.18.0.2  77.58 KiB   128     67.1%             dc8385a5-0434-41fa-9482-f9c238c0349f  RACK1\n",
      "\n"
     ]
    }
   ],
   "source": [
    "\n",
    "!docker exec -it cassandra1 nodetool status\n"
   ]
  },
  {
   "cell_type": "raw",
   "id": "c24da5f8",
   "metadata": {
    "vscode": {
     "languageId": "raw"
    }
   },
   "source": [
    "sudo docker exec -it cassandra1 cqlsh"
   ]
  },
  {
   "cell_type": "markdown",
   "id": "dc96b012",
   "metadata": {},
   "source": [
    "\n",
    "\n",
    "# **Exercise 1 - Create Keyspace**\n",
    "\n",
    "Create a keyspace named `training` using `SimpleStrategy` and `replication factor` of `3`.\n",
    "\n",
    "- Click here for Hint\n",
    "\n",
    "> use CREATE KEYSPACE command with appropriate options\n",
    ">\n",
    "- Click here for Solution\n",
    "\n"
   ]
  },
  {
   "cell_type": "raw",
   "id": "c429d2e2",
   "metadata": {
    "vscode": {
     "languageId": "raw"
    }
   },
   "source": [
    "\n",
    "CREATE KEYSPACE training \n",
    "WITH replication = {'class':'SimpleStrategy', 'replication_factor' : 3};"
   ]
  },
  {
   "cell_type": "code",
   "execution_count": 3,
   "id": "35f3ff3d",
   "metadata": {},
   "outputs": [],
   "source": [
    "!docker exec -it cassandra1 cqlsh -e \"CREATE KEYSPACE training WITH replication = {'class':'SimpleStrategy', 'replication_factor' : 2};\""
   ]
  },
  {
   "cell_type": "markdown",
   "id": "d7547407",
   "metadata": {},
   "source": [
    "\n",
    "\n",
    "\n",
    "# **Exercise 2 - Create a table**\n",
    "\n",
    "The below command creates a table named `movies`, in the `training` keyspace.\n",
    "\n",
    "The `movies` table has three columns:\n",
    "\n",
    "- `movie_id` is an integer and is the primary key.\n",
    "- `movie_name` is a text column.\n",
    "- `year_of_release` is an integer.\n",
    "\n",
    "On the cassandra client run the below command.\n",
    "\n"
   ]
  },
  {
   "cell_type": "raw",
   "id": "b16998bc",
   "metadata": {
    "vscode": {
     "languageId": "raw"
    }
   },
   "source": [
    "use training;\n",
    "CREATE TABLE movies(\n",
    "movie_id int PRIMARY KEY,\n",
    "movie_name text,\n",
    "year_of_release int\n",
    ");"
   ]
  },
  {
   "cell_type": "markdown",
   "id": "e05f97ce",
   "metadata": {},
   "source": [
    "\n",
    "\n",
    "Verify that the table got created by listing all tables.\n",
    "\n"
   ]
  },
  {
   "cell_type": "raw",
   "id": "83c5127d",
   "metadata": {
    "vscode": {
     "languageId": "raw"
    }
   },
   "source": [
    "\n",
    "describe tables;\n"
   ]
  },
  {
   "cell_type": "code",
   "execution_count": 5,
   "id": "58e73d89",
   "metadata": {},
   "outputs": [
    {
     "name": "stdout",
     "output_type": "stream",
     "text": [
      "\n",
      "Keyspace system\n",
      "---------------\n",
      "available_ranges     paxos_repair_history  sstable_activity       \n",
      "available_ranges_v2  peer_events           sstable_activity_v2    \n",
      "batches              peer_events_v2        table_estimates        \n",
      "built_views          peers                 top_partitions         \n",
      "compaction_history   peers_v2              transferred_ranges     \n",
      "\"IndexInfo\"          prepared_statements   transferred_ranges_v2  \n",
      "local                repairs               view_builds_in_progress\n",
      "paxos                size_estimates      \n",
      "\n",
      "Keyspace system_auth\n",
      "--------------------\n",
      "network_permissions             role_members      roles\n",
      "resource_role_permissons_index  role_permissions\n",
      "\n",
      "Keyspace system_distributed\n",
      "---------------------------\n",
      "parent_repair_history  partition_denylist  repair_history  view_build_status\n",
      "\n",
      "Keyspace system_schema\n",
      "----------------------\n",
      "aggregates  dropped_columns  indexes    tables    types\n",
      "columns     functions        keyspaces  triggers  views\n",
      "\n",
      "Keyspace system_traces\n",
      "----------------------\n",
      "events  sessions\n",
      "\n",
      "Keyspace system_views\n",
      "---------------------\n",
      "batch_metrics              jmx_permissions_cache_keys      repair_validations \n",
      "caches                     local_read_latency              repairs            \n",
      "clients                    local_scan_latency              roles_cache_keys   \n",
      "coordinator_read_latency   local_write_latency             rows_per_read      \n",
      "coordinator_scan_latency   max_partition_size              settings           \n",
      "coordinator_write_latency  network_permissions_cache_keys  sstable_tasks      \n",
      "cql_metrics                pending_hints                   streaming          \n",
      "credentials_cache_keys     permissions_cache_keys          system_properties  \n",
      "disk_usage                 queries                         thread_pools       \n",
      "gossip_info                repair_jobs                     tombstones_per_read\n",
      "internode_inbound          repair_participates           \n",
      "internode_outbound         repair_sessions               \n",
      "\n",
      "Keyspace system_virtual_schema\n",
      "------------------------------\n",
      "columns  keyspaces  tables\n",
      "\n",
      "Keyspace training\n",
      "-----------------\n",
      "movies\n",
      "\n"
     ]
    }
   ],
   "source": [
    "!docker exec -it cassandra1 cqlsh -e \"describe tables;\""
   ]
  },
  {
   "cell_type": "markdown",
   "id": "33cf4f4d",
   "metadata": {},
   "source": [
    "\n",
    "\n",
    "# **Exercise 3 - Describe a table**\n",
    "\n",
    "In the previous exercise you created a table named `movies`.\n",
    "\n",
    "Let us print more details of it using the describe command.\n",
    "\n",
    "Describe the table.\n",
    "\n"
   ]
  },
  {
   "cell_type": "raw",
   "id": "04f7d43d",
   "metadata": {
    "vscode": {
     "languageId": "raw"
    }
   },
   "source": [
    "describe movies"
   ]
  },
  {
   "cell_type": "markdown",
   "id": "ffad9d9b",
   "metadata": {},
   "source": [
    "answer in the CLI:"
   ]
  },
  {
   "cell_type": "raw",
   "id": "3fbaf64a",
   "metadata": {
    "vscode": {
     "languageId": "raw"
    }
   },
   "source": [
    "cqlsh:training> describe movies\n",
    "\n",
    "CREATE TABLE training.movies (\n",
    "    movie_id int PRIMARY KEY,\n",
    "    movie_name text,\n",
    "    year_of_release int\n",
    ") WITH additional_write_policy = '99p'\n",
    "    AND bloom_filter_fp_chance = 0.01\n",
    "    AND caching = {'keys': 'ALL', 'rows_per_partition': 'NONE'}\n",
    "    AND cdc = false\n",
    "    AND comment = ''\n",
    "    AND compaction = {'class': 'org.apache.cassandra.db.compaction.SizeTieredCompactionStrategy', 'max_threshold': '32', 'min_threshold': '4'}\n",
    "    AND compression = {'chunk_length_in_kb': '16', 'class': 'org.apache.cassandra.io.compress.LZ4Compressor'}\n",
    "    AND memtable = 'default'\n",
    "    AND crc_check_chance = 1.0\n",
    "    AND default_time_to_live = 0\n",
    "    AND extensions = {}\n",
    "    AND gc_grace_seconds = 864000\n",
    "    AND max_index_interval = 2048\n",
    "    AND memtable_flush_period_in_ms = 0\n",
    "    AND min_index_interval = 128\n",
    "    AND read_repair = 'BLOCKING'\n",
    "    AND speculative_retry = '99p';"
   ]
  },
  {
   "cell_type": "markdown",
   "id": "6d2db2d3",
   "metadata": {},
   "source": [
    "\n",
    "\n",
    "# **Exercise 4 - Alter a table**\n",
    "\n",
    "In a previous exercise you created a table named `movies`.\n",
    "\n",
    "Let's modify it by adding a column named 'genre' which is of type 'text.'\n",
    "\n",
    "Alter the table.\n",
    "\n"
   ]
  },
  {
   "cell_type": "raw",
   "id": "789a8757",
   "metadata": {
    "vscode": {
     "languageId": "raw"
    }
   },
   "source": [
    "\n",
    "ALTER TABLE movies\n",
    "ADD genre text;\n"
   ]
  },
  {
   "cell_type": "markdown",
   "id": "2f9c1737",
   "metadata": {},
   "source": [
    "\n",
    "\n",
    "Verify the changes using the below command\n",
    "\n"
   ]
  },
  {
   "cell_type": "raw",
   "id": "3daa5538",
   "metadata": {
    "vscode": {
     "languageId": "raw"
    }
   },
   "source": [
    "\n",
    "describe movies;\n"
   ]
  },
  {
   "cell_type": "markdown",
   "id": "e3df6a6f",
   "metadata": {},
   "source": [
    "="
   ]
  },
  {
   "cell_type": "raw",
   "id": "625cc623",
   "metadata": {
    "vscode": {
     "languageId": "raw"
    }
   },
   "source": [
    "qlsh:training> describe movies;\n",
    "\n",
    "CREATE TABLE training.movies (\n",
    "    movie_id int PRIMARY KEY,\n",
    "    genre text,\n",
    "    movie_name text,\n",
    "    year_of_release int\n",
    ") WITH additional_write_policy = '99p'\n",
    "    AND bloom_filter_fp_chance = 0.01\n",
    "    AND caching = {'keys': 'ALL', 'rows_per_partition': 'NONE'}\n",
    "    AND cdc = false\n",
    "    AND comment = ''\n",
    "    AND compaction = {'class': 'org.apache.cassandra.db.compaction.SizeTieredCompactionStrategy', 'max_threshold': '32', 'min_threshold': '4'}\n",
    "    AND compression = {'chunk_length_in_kb': '16', 'class': 'org.apache.cassandra.io.compress.LZ4Compressor'}\n",
    "    AND memtable = 'default'\n",
    "    AND crc_check_chance = 1.0\n",
    "    AND default_time_to_live = 0\n",
    "    AND extensions = {}\n",
    "    AND gc_grace_seconds = 864000\n",
    "    AND max_index_interval = 2048\n",
    "    AND memtable_flush_period_in_ms = 0\n",
    "    AND min_index_interval = 128\n",
    "    AND read_repair = 'BLOCKING'\n",
    "    AND speculative_retry = '99p';"
   ]
  },
  {
   "cell_type": "markdown",
   "id": "369bda97",
   "metadata": {},
   "source": [
    "\n",
    "\n",
    "# **Exercise 5 - Drop a table**\n",
    "\n",
    "To drop the `movies` table run the below command.\n",
    "\n"
   ]
  },
  {
   "cell_type": "raw",
   "id": "2609e3b1",
   "metadata": {
    "vscode": {
     "languageId": "raw"
    }
   },
   "source": [
    "\n",
    "drop table movies;\n"
   ]
  },
  {
   "cell_type": "markdown",
   "id": "1ee4ec2c",
   "metadata": {},
   "source": [
    "\n",
    "\n",
    "Verify using the below command. You should get an error.\n",
    "\n"
   ]
  },
  {
   "cell_type": "raw",
   "id": "d45a2dc7",
   "metadata": {
    "vscode": {
     "languageId": "raw"
    }
   },
   "source": [
    "describe movies;"
   ]
  },
  {
   "cell_type": "markdown",
   "id": "2973838a",
   "metadata": {},
   "source": [
    "="
   ]
  },
  {
   "cell_type": "raw",
   "id": "c33bcab2",
   "metadata": {
    "vscode": {
     "languageId": "raw"
    }
   },
   "source": [
    "cqlsh:training> describe movies;\n",
    "'movies' not found in keyspace 'training'"
   ]
  },
  {
   "cell_type": "markdown",
   "id": "853846a7",
   "metadata": {},
   "source": [
    "\n",
    "\n",
    "# **Practice exercises**\n",
    "\n",
    "1. Problem: Create a table named `books` with 3 columns; 'book_id' which is the primary key and of `integer` type, 'author' which is of type `text` and 'title' which is of type `text`.\n",
    "- Click here for Hint\n",
    "\n",
    "> use the create table command\n",
    ">\n",
    "- Click here for Solution\n",
    "\n",
    "On the cqlsh run the below command.\n",
    "\n"
   ]
  },
  {
   "cell_type": "raw",
   "id": "c244563e",
   "metadata": {
    "vscode": {
     "languageId": "raw"
    }
   },
   "source": [
    "\n",
    "CREATE TABLE books (\n",
    "book_id int PRIMARY KEY,\n",
    "author text,\n",
    "title text\n",
    ");\n"
   ]
  },
  {
   "cell_type": "markdown",
   "id": "a625d64f",
   "metadata": {},
   "source": [
    "\n",
    "\n",
    "2. Problem: Add a column `date_of_publication` which is of `date` type.\n",
    "- Click here for Hint\n",
    "\n",
    "> use the alter table command\n",
    ">\n",
    "- Click here for Solution\n",
    "\n",
    "On the cqlsh run the below command.\n",
    "\n"
   ]
  },
  {
   "cell_type": "raw",
   "id": "fd43f98e",
   "metadata": {
    "vscode": {
     "languageId": "raw"
    }
   },
   "source": [
    "\n",
    "ALTER TABLE books\n",
    "add date_of_publication date;\n"
   ]
  },
  {
   "cell_type": "markdown",
   "id": "89be2481",
   "metadata": {},
   "source": [
    "\n",
    "\n",
    "3. Problem: Add a column `price` which is of type `decimal`.\n",
    "- Click here for Hint\n",
    "\n",
    "> use the alter table command\n",
    ">\n",
    "- Click here for Solution\n",
    "\n",
    "On the cqlsh run the below command.\n",
    "\n"
   ]
  },
  {
   "cell_type": "raw",
   "id": "9ec89299",
   "metadata": {
    "vscode": {
     "languageId": "raw"
    }
   },
   "source": [
    "\n",
    "ALTER TABLE books\n",
    "add price decimal;\n"
   ]
  },
  {
   "cell_type": "markdown",
   "id": "f27d397f",
   "metadata": {},
   "source": [
    "\n",
    "\n",
    "4. Problem: Drop the column `price` from the `books` table.\n",
    "- Click here for Hint\n",
    "\n",
    "> use the alter table command with drop option\n",
    ">\n",
    "- Click here for Solution\n",
    "\n",
    "On the cqlsh run the below command.\n",
    "\n"
   ]
  },
  {
   "cell_type": "raw",
   "id": "842eafb1",
   "metadata": {
    "vscode": {
     "languageId": "raw"
    }
   },
   "source": [
    "\n",
    "ALTER TABLE books\n",
    "drop price;\n"
   ]
  },
  {
   "cell_type": "markdown",
   "id": "94381ded",
   "metadata": {},
   "source": [
    "\n",
    "\n",
    "5. Problem: Drop the `books` table.\n",
    "- Click here for Hint\n",
    "\n",
    "> use the drop table command\n",
    ">\n",
    "- Click here for Solution\n",
    "\n",
    "On the cqlsh run the below command.\n",
    "\n"
   ]
  },
  {
   "cell_type": "raw",
   "id": "fbd1923c",
   "metadata": {
    "vscode": {
     "languageId": "raw"
    }
   },
   "source": [
    "\n",
    "DROP TABLE books;\n"
   ]
  },
  {
   "cell_type": "markdown",
   "id": "1fd12511",
   "metadata": {},
   "source": [
    "\n",
    "\n",
    "6. Problem: Drop the `training` keyspace.\n",
    "- Click here for Hint\n",
    "\n",
    "> use the drop keyspace command\n",
    ">\n",
    "- Click here for Solution\n",
    "\n",
    "On the cqlsh run the below command.\n",
    "\n"
   ]
  },
  {
   "cell_type": "raw",
   "id": "fedeb17f",
   "metadata": {
    "vscode": {
     "languageId": "raw"
    }
   },
   "source": [
    "\n",
    "drop keyspace training;\n"
   ]
  }
 ],
 "metadata": {
  "kernelspec": {
   "display_name": "base",
   "language": "python",
   "name": "python3"
  },
  "language_info": {
   "codemirror_mode": {
    "name": "ipython",
    "version": 3
   },
   "file_extension": ".py",
   "mimetype": "text/x-python",
   "name": "python",
   "nbconvert_exporter": "python",
   "pygments_lexer": "ipython3",
   "version": "3.9.13"
  }
 },
 "nbformat": 4,
 "nbformat_minor": 5
}
