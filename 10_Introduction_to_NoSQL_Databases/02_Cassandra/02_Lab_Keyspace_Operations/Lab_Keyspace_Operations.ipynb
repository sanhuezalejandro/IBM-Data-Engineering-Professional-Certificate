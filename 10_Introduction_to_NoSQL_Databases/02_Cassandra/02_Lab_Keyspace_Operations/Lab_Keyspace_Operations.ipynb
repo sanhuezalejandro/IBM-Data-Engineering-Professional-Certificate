{
 "cells": [
  {
   "cell_type": "markdown",
   "id": "7f408686",
   "metadata": {},
   "source": [
    "# Lab: Keyspace Operations\n",
    "\n",
    "![https://cf-courses-data.s3.us.cloud-object-storage.appdomain.cloud/IBMSkillsNetwork-WD0231EN-SkillsNetwork/IDSN-logo.png](https://cf-courses-data.s3.us.cloud-object-storage.appdomain.cloud/IBMSkillsNetwork-WD0231EN-SkillsNetwork/IDSN-logo.png)\n",
    "\n",
    "Estimated time needed: **15** minutes\n",
    "\n",
    "## **Objectives**\n",
    "\n",
    "After completing this lab you will be able to:\n",
    "\n",
    "- Create, update and remove a keyspace in Cassandra\n",
    "- Identify the keyspace for the current session with the USE command\n",
    "- Describe a keyspace by listing all the tables in it\n",
    "\n",
    "# **Running a single Cassandra node using Docker CLI**\n",
    "\n",
    "This method uses the **[Docker CLI](https://docs.docker.com/engine/reference/commandline/cli/)** to create a container based on the **[latest official Cassandra image](https://hub.docker.com/_/cassandra)**. In this example we will:\n",
    "\n",
    "- Set up the Docker container\n",
    "- Test that it’s set up by connecting to it and running cqlsh\n",
    "- Clean up the container once you’re done with using it.\n",
    "\n",
    "## Open Docker\n",
    "\n"
   ]
  },
  {
   "cell_type": "code",
   "execution_count": 13,
   "id": "371110f4",
   "metadata": {},
   "outputs": [],
   "source": [
    "!open /Applications/Docker.app"
   ]
  },
  {
   "cell_type": "markdown",
   "id": "86e84e55",
   "metadata": {},
   "source": [
    "\n",
    "\n"
   ]
  },
  {
   "cell_type": "code",
   "execution_count": 3,
   "id": "c80b7705",
   "metadata": {},
   "outputs": [
    {
     "name": "stdout",
     "output_type": "stream",
     "text": [
      "Cannot connect to the Docker daemon at unix:///var/run/docker.sock. Is the docker daemon running?\n",
      "Client:\n",
      " Cloud integration: v1.0.31\n",
      " Version:           23.0.5\n",
      " API version:       1.42\n",
      " Go version:        go1.19.8\n",
      " Git commit:        bc4487a\n",
      " Built:             Wed Apr 26 16:12:52 2023\n",
      " OS/Arch:           darwin/arm64\n",
      " Context:           default\n"
     ]
    }
   ],
   "source": [
    "!docker version"
   ]
  },
  {
   "cell_type": "markdown",
   "id": "a5511580",
   "metadata": {},
   "source": [
    "\n",
    "\n",
    "## **Setting up the container**\n",
    "\n",
    "You can run Cassandra on your machine by opening up a terminal and using the following command in the Docker CLI:\n",
    "\n"
   ]
  },
  {
   "cell_type": "code",
   "execution_count": 4,
   "id": "b2a127ea",
   "metadata": {},
   "outputs": [
    {
     "name": "stdout",
     "output_type": "stream",
     "text": [
      "4791f0d145d6a9b63e7166b598b90311d27650d7026d3905349ed7d6257decc1\n"
     ]
    }
   ],
   "source": [
    "!docker run --name my-cassandra-db -d cassandra:latest\n"
   ]
  },
  {
   "cell_type": "markdown",
   "id": "884d0506",
   "metadata": {},
   "source": [
    "\n",
    "\n",
    "Let’s look at what this command does:\n",
    "\n",
    "- Docker uses the ‘***run***’ subcommand to run new containers.\n",
    "- The ‘–name’ field allows us to name the container, which helps for later use and cleanup; we’ll use the name ‘***my-cassandra-db’***.\n",
    "- The ‘-d’ flag tells Docker to run the container in the background, so we can run other commands or close the terminal without turning off the container.\n",
    "- The final argument ***‘cassandra:latest’*** is the image to build the container from; we’re using the **[latest official Cassandra image](https://hub.docker.com/_/cassandra)**.\n",
    "\n",
    "When you run this, you should see an ID, like the screenshot below:\n",
    "\n",
    "![https://miro.medium.com/v2/resize:fit:1400/1*F6oIekGsew2FQfVZQN1Z8g.png](https://miro.medium.com/v2/resize:fit:1400/1*F6oIekGsew2FQfVZQN1Z8g.png)\n",
    "\n",
    "To check and make sure everything is running smoothly, run the following command:\n",
    "\n"
   ]
  },
  {
   "cell_type": "code",
   "execution_count": 5,
   "id": "953c69d7",
   "metadata": {},
   "outputs": [
    {
     "name": "stdout",
     "output_type": "stream",
     "text": [
      "CONTAINER ID   IMAGE              COMMAND                  CREATED          STATUS          PORTS                                         NAMES\n",
      "4791f0d145d6   cassandra:latest   \"docker-entrypoint.s…\"   18 seconds ago   Up 17 seconds   7000-7001/tcp, 7199/tcp, 9042/tcp, 9160/tcp   my-cassandra-db\n"
     ]
    }
   ],
   "source": [
    "\n",
    "!docker ps\n"
   ]
  },
  {
   "cell_type": "markdown",
   "id": "de4b8ab0",
   "metadata": {},
   "source": [
    "\n",
    "\n",
    "You should see something like this:\n",
    "\n",
    "![https://miro.medium.com/v2/resize:fit:1400/1*EukCXUc937VFfnO0SfuEkQ.png](https://miro.medium.com/v2/resize:fit:1400/1*EukCXUc937VFfnO0SfuEkQ.png)\n",
    "\n",
    "## **Connecting to the container**\n",
    "\n",
    "Now that the data container has been created, you can now connect to it using the following command:\n",
    "\n"
   ]
  },
  {
   "cell_type": "raw",
   "id": "cc9f5757",
   "metadata": {
    "vscode": {
     "languageId": "raw"
    }
   },
   "source": [
    "docker exec -it my-cassandra-db cqlsh\n"
   ]
  },
  {
   "cell_type": "markdown",
   "id": "ab661dab",
   "metadata": {},
   "source": [
    "\n",
    "\n",
    "This will run **[cqlsh, or CQL Shell](https://cassandra.apache.org/doc/stable/cassandra/tools/cqlsh.html)**, inside your container, allowing you to make queries to your new Cassandra database. You should see a prompt like the following:\n",
    "\n",
    "![https://miro.medium.com/v2/resize:fit:1400/1*U5wKyoIOWnpVZM8DiYDZjA.jpeg](https://miro.medium.com/v2/resize:fit:1400/1*U5wKyoIOWnpVZM8DiYDZjA.jpeg)\n",
    "\n",
    "# **Exercise 1 - Create a keyspace**\n",
    "\n",
    "The below command creates a keyspace called `training`, using SimpleStrategy and a `replication_factor` of `3`.\n",
    "\n",
    "`SimpleStrategy` is used when all the nodes in your cassandra cluster exist in a single data center.\n",
    "\n",
    "On `cqlsh` run the below command.\n",
    "\n"
   ]
  },
  {
   "cell_type": "raw",
   "id": "1d78abad",
   "metadata": {
    "vscode": {
     "languageId": "raw"
    }
   },
   "source": [
    "\n",
    "CREATE KEYSPACE training\n",
    "WITH replication = {'class':'SimpleStrategy', 'replication_factor' : 3};\n"
   ]
  },
  {
   "cell_type": "code",
   "execution_count": 6,
   "id": "9c80123c",
   "metadata": {},
   "outputs": [
    {
     "name": "stdout",
     "output_type": "stream",
     "text": [
      "\n",
      "Warnings :\n",
      "Your replication factor 3 for keyspace training is higher than the number of nodes 1\n",
      "\n"
     ]
    }
   ],
   "source": [
    "!docker exec -it my-cassandra-db cqlsh -e \"CREATE KEYSPACE training WITH replication = {'class':'SimpleStrategy', 'replication_factor' : 3};\""
   ]
  },
  {
   "cell_type": "markdown",
   "id": "be08f3a6",
   "metadata": {},
   "source": [
    "\n",
    "\n",
    "\n",
    "## **Cleaning up the container**\n",
    "\n",
    "Once you’re done, you can clean up the container with the ’docker rm’ command. First, you’ll need to stop the container though, so you must to run the following 2 commands:\n",
    "\n"
   ]
  },
  {
   "cell_type": "code",
   "execution_count": 7,
   "id": "5e3706e6",
   "metadata": {},
   "outputs": [
    {
     "name": "stdout",
     "output_type": "stream",
     "text": [
      "my-cassandra-db\n",
      "my-cassandra-db\n"
     ]
    }
   ],
   "source": [
    "!docker stop my-cassandra-db\n",
    "\n",
    "!docker rm my-cassandra-db"
   ]
  },
  {
   "cell_type": "markdown",
   "id": "135d486a",
   "metadata": {},
   "source": [
    "\n",
    "\n",
    "This will delete the database container, including all data that was written to the database. You’ll see a prompt like the following, which, if it worked correctly, will show the ID of the container being stopped/removed:\n",
    "\n",
    "![https://miro.medium.com/v2/resize:fit:1400/1*kEwodg686PZKg0C8i6evyQ.jpeg](https://miro.medium.com/v2/resize:fit:1400/1*kEwodg686PZKg0C8i6evyQ.jpeg)\n",
    "\n"
   ]
  },
  {
   "cell_type": "markdown",
   "id": "8b0bc670",
   "metadata": {},
   "source": [
    "# **Method 2: Deploying a three-node Apache Cassandra cluster using Docker compose**\n",
    "\n",
    "This method allows you to have multiple nodes running on a single machine. But in which situations would you want to use this method? Some examples include testing the consistency level of your queries, your replication setup, and more.\n",
    "\n",
    "## **Writing a docker-compose.yml**\n",
    "\n",
    "The first step is creating a docker-compose.yml file that describes our Cassandra cluster. In your code editor, create a ***docker-compose.yml*** file and enter the following into it:"
   ]
  },
  {
   "cell_type": "raw",
   "id": "a852ee80",
   "metadata": {
    "vscode": {
     "languageId": "raw"
    }
   },
   "source": [
    "version: '3.8'\n",
    "\n",
    "networks:\n",
    "\n",
    "  cassandra:\n",
    "\n",
    "services:\n",
    "\n",
    "  cassandra1:\n",
    "\n",
    "    image: cassandra:latest\n",
    "\n",
    "    container_name: cassandra1\n",
    "\n",
    "    hostname: cassandra1\n",
    "\n",
    "    networks:\n",
    "\n",
    "      - cassandra\n",
    "\n",
    "    ports:\n",
    "\n",
    "      - \"9042:9042\"\n",
    "\n",
    "    environment: &environment\n",
    "\n",
    "        CASSANDRA_SEEDS: \"cassandra1,cassandra2\"\n",
    "\n",
    "        CASSANDRA_CLUSTER_NAME: MyTestCluster\n",
    "\n",
    "        CASSANDRA_DC: DC1\n",
    "\n",
    "        CASSANDRA_RACK: RACK1\n",
    "\n",
    "        CASSANDRA_ENDPOINT_SNITCH: GossipingPropertyFileSnitch\n",
    "\n",
    "        CASSANDRA_NUM_TOKENS: 128\n",
    "\n",
    "  cassandra2:\n",
    "\n",
    "    image: cassandra:latest\n",
    "\n",
    "    container_name: cassandra2\n",
    "\n",
    "    hostname: cassandra2\n",
    "\n",
    "    networks:\n",
    "\n",
    "      - cassandra\n",
    "\n",
    "    ports:\n",
    "\n",
    "      - \"9043:9042\"\n",
    "\n",
    "    environment: *environment\n",
    "\n",
    "    depends_on:\n",
    "\n",
    "      cassandra1:\n",
    "\n",
    "        condition: service_started\n",
    "\n",
    "  cassandra3:\n",
    "\n",
    "    image: cassandra:latest\n",
    "\n",
    "    container_name: cassandra3\n",
    "\n",
    "    hostname: cassandra3\n",
    "\n",
    "    networks:\n",
    "\n",
    "      - cassandra\n",
    "\n",
    "    ports:\n",
    "\n",
    "      - \"9044:9042\"\n",
    "\n",
    "    environment: *environment\n",
    "\n",
    "    depends_on:\n",
    "\n",
    "      cassandra2:\n",
    "\n",
    "        condition: service_started"
   ]
  },
  {
   "cell_type": "markdown",
   "id": "3074192b",
   "metadata": {},
   "source": [
    "## **Deploying your Cassandra cluster and running commands**\n",
    "\n",
    "To deploy your Cassandra cluster, use the Docker CLI in the same folder as your docker-compose.yml to run the following command (the -d causes the containers to run in the background):"
   ]
  },
  {
   "cell_type": "code",
   "execution_count": 7,
   "id": "0ae16e32",
   "metadata": {},
   "outputs": [
    {
     "name": "stdout",
     "output_type": "stream",
     "text": [
      "\u001b[1A\u001b[1B\u001b[0G\u001b[?25l[+] Running 2/0\n",
      " \u001b[32m✔\u001b[0m Container cassandra1  \u001b[32mRunning\u001b[0m                                           \u001b[34m0.0s \u001b[0m\n",
      " \u001b[32m✔\u001b[0m Container cassandra2  \u001b[32mRunning\u001b[0m                                           \u001b[34m0.0s \u001b[0m\n",
      " ⠿ Container cassandra3  Starting                                          \u001b[34m0.1s \u001b[0m\n",
      "\u001b[?25h\u001b[1A\u001b[1A\u001b[1A\u001b[1A\u001b[0G\u001b[?25l[+] Running 2/3\n",
      " \u001b[32m✔\u001b[0m Container cassandra1  \u001b[32mRunning\u001b[0m                                           \u001b[34m0.0s \u001b[0m\n",
      " \u001b[32m✔\u001b[0m Container cassandra2  \u001b[32mRunning\u001b[0m                                           \u001b[34m0.0s \u001b[0m\n",
      " ⠿ Container cassandra3  Starting                                          \u001b[34m0.2s \u001b[0m\n",
      "\u001b[?25h\u001b[1A\u001b[1A\u001b[1A\u001b[1A\u001b[0G\u001b[?25l[+] Running 2/3\n",
      " \u001b[32m✔\u001b[0m Container cassandra1  \u001b[32mRunning\u001b[0m                                           \u001b[34m0.0s \u001b[0m\n",
      " \u001b[32m✔\u001b[0m Container cassandra2  \u001b[32mRunning\u001b[0m                                           \u001b[34m0.0s \u001b[0m\n",
      " ⠿ Container cassandra3  Starting                                          \u001b[34m0.3s \u001b[0m\n",
      "\u001b[?25h\u001b[1A\u001b[1A\u001b[1A\u001b[1A\u001b[0G\u001b[?25l[+] Running 2/3\n",
      " \u001b[32m✔\u001b[0m Container cassandra1  \u001b[32mRunning\u001b[0m                                           \u001b[34m0.0s \u001b[0m\n",
      " \u001b[32m✔\u001b[0m Container cassandra2  \u001b[32mRunning\u001b[0m                                           \u001b[34m0.0s \u001b[0m\n",
      " ⠿ Container cassandra3  Starting                                          \u001b[34m0.4s \u001b[0m\n",
      "\u001b[?25h\u001b[1A\u001b[1A\u001b[1A\u001b[1A\u001b[0G\u001b[?25l[+] Running 2/3\n",
      " \u001b[32m✔\u001b[0m Container cassandra1  \u001b[32mRunning\u001b[0m                                           \u001b[34m0.0s \u001b[0m\n",
      " \u001b[32m✔\u001b[0m Container cassandra2  \u001b[32mRunning\u001b[0m                                           \u001b[34m0.0s \u001b[0m\n",
      " ⠿ Container cassandra3  Starting                                          \u001b[34m0.5s \u001b[0m\n",
      "\u001b[?25h\u001b[1A\u001b[1A\u001b[1A\u001b[1A\u001b[0G\u001b[?25l[+] Running 2/3\n",
      " \u001b[32m✔\u001b[0m Container cassandra1  \u001b[32mRunning\u001b[0m                                           \u001b[34m0.0s \u001b[0m\n",
      " \u001b[32m✔\u001b[0m Container cassandra2  \u001b[32mRunning\u001b[0m                                           \u001b[34m0.0s \u001b[0m\n",
      " ⠿ Container cassandra3  Starting                                          \u001b[34m0.6s \u001b[0m\n",
      "\u001b[?25h\u001b[1A\u001b[1A\u001b[1A\u001b[1A\u001b[0G\u001b[?25l[+] Running 2/3\n",
      " \u001b[32m✔\u001b[0m Container cassandra1  \u001b[32mRunning\u001b[0m                                           \u001b[34m0.0s \u001b[0m\n",
      " \u001b[32m✔\u001b[0m Container cassandra2  \u001b[32mRunning\u001b[0m                                           \u001b[34m0.0s \u001b[0m\n",
      " ⠿ Container cassandra3  Starting                                          \u001b[34m0.7s \u001b[0m\n",
      "\u001b[?25h\u001b[1A\u001b[1A\u001b[1A\u001b[1A\u001b[0G\u001b[?25l[+] Running 2/3\n",
      " \u001b[32m✔\u001b[0m Container cassandra1  \u001b[32mRunning\u001b[0m                                           \u001b[34m0.0s \u001b[0m\n",
      " \u001b[32m✔\u001b[0m Container cassandra2  \u001b[32mRunning\u001b[0m                                           \u001b[34m0.0s \u001b[0m\n",
      " ⠿ Container cassandra3  Starting                                          \u001b[34m0.8s \u001b[0m\n",
      "\u001b[?25h\u001b[1A\u001b[1A\u001b[1A\u001b[1A\u001b[0G\u001b[?25l[+] Running 2/3\n",
      " \u001b[32m✔\u001b[0m Container cassandra1  \u001b[32mRunning\u001b[0m                                           \u001b[34m0.0s \u001b[0m\n",
      " \u001b[32m✔\u001b[0m Container cassandra2  \u001b[32mRunning\u001b[0m                                           \u001b[34m0.0s \u001b[0m\n",
      " ⠿ Container cassandra3  Starting                                          \u001b[34m0.9s \u001b[0m\n",
      "\u001b[?25h\u001b[1A\u001b[1A\u001b[1A\u001b[1A\u001b[0G\u001b[?25l[+] Running 2/3\n",
      " \u001b[32m✔\u001b[0m Container cassandra1  \u001b[32mRunning\u001b[0m                                           \u001b[34m0.0s \u001b[0m\n",
      " \u001b[32m✔\u001b[0m Container cassandra2  \u001b[32mRunning\u001b[0m                                           \u001b[34m0.0s \u001b[0m\n",
      " ⠿ Container cassandra3  Starting                                          \u001b[34m1.0s \u001b[0m\n",
      "\u001b[?25h\u001b[1A\u001b[1A\u001b[1A\u001b[1A\u001b[0G\u001b[?25l[+] Running 2/3\n",
      " \u001b[32m✔\u001b[0m Container cassandra1  \u001b[32mRunning\u001b[0m                                           \u001b[34m0.0s \u001b[0m\n",
      " \u001b[32m✔\u001b[0m Container cassandra2  \u001b[32mRunning\u001b[0m                                           \u001b[34m0.0s \u001b[0m\n",
      " ⠿ Container cassandra3  Starting                                          \u001b[34m1.1s \u001b[0m\n",
      "\u001b[?25h\u001b[1A\u001b[1A\u001b[1A\u001b[1A\u001b[0G\u001b[?25l\u001b[34m[+] Running 3/3\u001b[0m\n",
      " \u001b[32m✔\u001b[0m Container cassandra1  \u001b[32mRunning\u001b[0m                                           \u001b[34m0.0s \u001b[0m\n",
      " \u001b[32m✔\u001b[0m Container cassandra2  \u001b[32mRunning\u001b[0m                                           \u001b[34m0.0s \u001b[0m\n",
      " \u001b[32m✔\u001b[0m Container cassandra3  \u001b[32mStarted\u001b[0m                                           \u001b[34m1.1s \u001b[0m\n",
      "\u001b[?25h"
     ]
    }
   ],
   "source": [
    "!docker compose up -d"
   ]
  },
  {
   "cell_type": "code",
   "execution_count": 8,
   "id": "4a3b1230",
   "metadata": {},
   "outputs": [
    {
     "name": "stdout",
     "output_type": "stream",
     "text": [
      "CONTAINER ID   IMAGE              COMMAND                  CREATED         STATUS          PORTS                                                       NAMES\n",
      "a92e22b04541   cassandra:latest   \"docker-entrypoint.s…\"   3 minutes ago   Up 14 seconds   7000-7001/tcp, 7199/tcp, 9160/tcp, 0.0.0.0:9044->9042/tcp   cassandra3\n",
      "3b806186dcf5   cassandra:latest   \"docker-entrypoint.s…\"   3 minutes ago   Up 3 minutes    7000-7001/tcp, 7199/tcp, 9160/tcp, 0.0.0.0:9043->9042/tcp   cassandra2\n",
      "7fa75ac0d3bd   cassandra:latest   \"docker-entrypoint.s…\"   3 minutes ago   Up 3 minutes    7000-7001/tcp, 7199/tcp, 9160/tcp, 0.0.0.0:9042->9042/tcp   cassandra1\n"
     ]
    }
   ],
   "source": [
    "!docker ps"
   ]
  },
  {
   "cell_type": "markdown",
   "id": "f5ddef98",
   "metadata": {},
   "source": [
    "To access your Cassandra cluster, you can use csqlsh to connect to the container database using the following commands:"
   ]
  },
  {
   "cell_type": "raw",
   "id": "4eb0896e",
   "metadata": {
    "vscode": {
     "languageId": "raw"
    }
   },
   "source": [
    "sudo docker exec -it cassandra1 cqlsh"
   ]
  },
  {
   "cell_type": "markdown",
   "id": "299cc745",
   "metadata": {},
   "source": [
    "You can also check the cluster configuration using:"
   ]
  },
  {
   "cell_type": "code",
   "execution_count": 11,
   "id": "4572d54b",
   "metadata": {},
   "outputs": [
    {
     "name": "stdout",
     "output_type": "stream",
     "text": [
      "Datacenter: DC1\n",
      "===============\n",
      "Status=Up/Down\n",
      "|/ State=Normal/Leaving/Joining/Moving\n",
      "--  Address     Load        Tokens  Owns (effective)  Host ID                               Rack \n",
      "UN  172.18.0.4  182.46 KiB  128     58.0%             f21f9311-3171-4f1e-a050-893db996f317  RACK1\n",
      "UN  172.18.0.3  77.49 KiB   128     72.5%             8f2a40e0-0c1b-4a93-83d4-e5e853d520b2  RACK1\n",
      "UN  172.18.0.2  72.45 KiB   128     69.5%             15d84cce-10d0-483e-b270-301d1dd8429b  RACK1\n",
      "\n"
     ]
    }
   ],
   "source": [
    "!docker exec -it cassandra1 nodetool status\n"
   ]
  },
  {
   "cell_type": "markdown",
   "id": "4e5cc4bd",
   "metadata": {},
   "source": [
    "And the node info with:"
   ]
  },
  {
   "cell_type": "code",
   "execution_count": 53,
   "id": "21e529a6",
   "metadata": {},
   "outputs": [
    {
     "name": "stdout",
     "output_type": "stream",
     "text": [
      "ID                     : 2db1173a-942c-4c98-bd13-c6ea5f2a8446\n",
      "Gossip active          : true\n",
      "Native Transport active: true\n",
      "Load                   : 143.36 KiB\n",
      "Generation No          : 1715983669\n",
      "Uptime (seconds)       : 73\n",
      "Heap Memory (MB)       : 215.52 / 998.44\n",
      "Off Heap Memory (MB)   : 0.00\n",
      "Data Center            : DC1\n",
      "Rack                   : RACK1\n",
      "Exceptions             : 0\n",
      "Key Cache              : entries 12, size 1.04 KiB, capacity 49 MiB, 121 hits, 137 requests, 0.883 recent hit rate, 14400 save period in seconds\n",
      "Row Cache              : entries 0, size 0 bytes, capacity 0 bytes, 0 hits, 0 requests, NaN recent hit rate, 0 save period in seconds\n",
      "Counter Cache          : entries 0, size 0 bytes, capacity 24 MiB, 0 hits, 0 requests, NaN recent hit rate, 7200 save period in seconds\n",
      "Network Cache          : size 8 MiB, overflow size: 0 bytes, capacity 62 MiB\n",
      "Percent Repaired       : 100.0%\n",
      "Token                  : (invoke with -T/--tokens to see all 128 tokens)\n"
     ]
    }
   ],
   "source": [
    "!docker exec -it cassandra1 nodetool info"
   ]
  },
  {
   "cell_type": "markdown",
   "id": "e0c2ba35",
   "metadata": {},
   "source": [
    "# **Repeat - Exercise 1 - Create a keyspace**\n",
    "\n",
    "The below command creates a keyspace called `training`, using SimpleStrategy and a `replication_factor` of `3`.\n",
    "\n",
    "`SimpleStrategy` is used when all the nodes in your cassandra cluster exist in a single data center.\n",
    "\n",
    "On `cqlsh` run the below command."
   ]
  },
  {
   "cell_type": "code",
   "execution_count": 54,
   "id": "355347ec",
   "metadata": {},
   "outputs": [],
   "source": [
    "!docker exec -it cassandra1 cqlsh -e \"CREATE KEYSPACE training WITH replication = {'class':'SimpleStrategy', 'replication_factor' : 2};\""
   ]
  },
  {
   "cell_type": "markdown",
   "id": "3947898d",
   "metadata": {},
   "source": [
    "\n",
    "\n",
    "List all keyspaces.\n",
    "\n"
   ]
  },
  {
   "cell_type": "raw",
   "id": "ff5f15c3",
   "metadata": {
    "vscode": {
     "languageId": "raw"
    }
   },
   "source": [
    "\n",
    "describe keyspaces"
   ]
  },
  {
   "cell_type": "code",
   "execution_count": 55,
   "id": "33b068f6",
   "metadata": {},
   "outputs": [
    {
     "name": "stdout",
     "output_type": "stream",
     "text": [
      "\n",
      "system       system_distributed  system_traces  system_virtual_schema\n",
      "system_auth  system_schema       system_views   training             \n",
      "\n"
     ]
    }
   ],
   "source": [
    "!docker exec -it cassandra1 cqlsh -e \"describe keyspaces\""
   ]
  },
  {
   "cell_type": "markdown",
   "id": "b90c47f1",
   "metadata": {},
   "source": [
    "\n",
    "\n",
    "# **Exercise 2 - Describe a keyspace**\n",
    "\n",
    "In the previous exercise you have created a keyspace named `training`.\n",
    "\n",
    "Let us print more details of it using the describe command.\n",
    "\n",
    "Describe a keyspace.\n",
    "\n"
   ]
  },
  {
   "cell_type": "raw",
   "id": "5d05a071",
   "metadata": {
    "vscode": {
     "languageId": "raw"
    }
   },
   "source": [
    "\n",
    "describe training\n"
   ]
  },
  {
   "cell_type": "code",
   "execution_count": 56,
   "id": "144d4347",
   "metadata": {},
   "outputs": [
    {
     "name": "stdout",
     "output_type": "stream",
     "text": [
      "\n",
      "CREATE KEYSPACE training WITH replication = {'class': 'SimpleStrategy', 'replication_factor': '2'}  AND durable_writes = true;\n"
     ]
    }
   ],
   "source": [
    "!docker exec -it cassandra1 cqlsh -e \"describe training\""
   ]
  },
  {
   "cell_type": "markdown",
   "id": "b28f14a6",
   "metadata": {},
   "source": [
    "\n",
    "\n",
    "# **Exercise 3 - Alter a keyspace**\n",
    "\n",
    "In a previous exercise you created a keyspace named `training` using `SimpleStrategy`.\n",
    "\n",
    "Let us change that to use `NetworkTopologyStrategy`.\n",
    "\n",
    "`NetworkTopologyStrategy` is used when all the nodes in your cassandra cluster are spread across multiple data centers.\n",
    "\n",
    "Alter a keyspace.\n",
    "\n"
   ]
  },
  {
   "cell_type": "raw",
   "id": "5579b3fc",
   "metadata": {
    "vscode": {
     "languageId": "raw"
    }
   },
   "source": [
    "\n",
    "ALTER KEYSPACE training WITH replication = {'class': 'NetworkTopologyStrategy'};\n"
   ]
  },
  {
   "cell_type": "code",
   "execution_count": 57,
   "id": "18749488",
   "metadata": {},
   "outputs": [],
   "source": [
    "!docker exec -it cassandra1 cqlsh -e \"ALTER KEYSPACE training WITH replication = {'class': 'NetworkTopologyStrategy'};\""
   ]
  },
  {
   "cell_type": "markdown",
   "id": "be349dc0",
   "metadata": {},
   "source": [
    "\n",
    "\n",
    "Verify the changes using the describe command.\n",
    "\n"
   ]
  },
  {
   "cell_type": "raw",
   "id": "e09e1c0d",
   "metadata": {
    "vscode": {
     "languageId": "raw"
    }
   },
   "source": [
    "\n",
    "describe training\n"
   ]
  },
  {
   "cell_type": "code",
   "execution_count": 58,
   "id": "c650dba6",
   "metadata": {},
   "outputs": [
    {
     "name": "stdout",
     "output_type": "stream",
     "text": [
      "\n",
      "CREATE KEYSPACE training WITH replication = {'class': 'NetworkTopologyStrategy', 'DC1': '2'}  AND durable_writes = true;\n"
     ]
    }
   ],
   "source": [
    "!docker exec -it cassandra1 cqlsh -e \"describe training\""
   ]
  },
  {
   "cell_type": "markdown",
   "id": "f327211c",
   "metadata": {},
   "source": [
    "\n",
    "\n",
    "# **Exercise 4 - Use a keyspace**\n",
    "\n",
    "To use a keyspace run the below command.\n",
    "\n"
   ]
  },
  {
   "cell_type": "raw",
   "id": "5798e5a0",
   "metadata": {
    "vscode": {
     "languageId": "raw"
    }
   },
   "source": [
    "\n",
    "use training;\n"
   ]
  },
  {
   "cell_type": "code",
   "execution_count": 59,
   "id": "e0be363d",
   "metadata": {},
   "outputs": [],
   "source": [
    "!docker exec -it cassandra1 cqlsh -e \"use training;\""
   ]
  },
  {
   "cell_type": "markdown",
   "id": "1e72e5b6",
   "metadata": {},
   "source": [
    "\n",
    "\n",
    "List all tables in this keyspace.\n",
    "\n"
   ]
  },
  {
   "cell_type": "raw",
   "id": "66a9cd1c",
   "metadata": {
    "vscode": {
     "languageId": "raw"
    }
   },
   "source": [
    "\n",
    "describe tables\n"
   ]
  },
  {
   "cell_type": "code",
   "execution_count": 60,
   "id": "b0e1aa43",
   "metadata": {},
   "outputs": [
    {
     "name": "stdout",
     "output_type": "stream",
     "text": [
      "\n",
      "Keyspace system\n",
      "---------------\n",
      "available_ranges     paxos_repair_history  sstable_activity       \n",
      "available_ranges_v2  peer_events           sstable_activity_v2    \n",
      "batches              peer_events_v2        table_estimates        \n",
      "built_views          peers                 top_partitions         \n",
      "compaction_history   peers_v2              transferred_ranges     \n",
      "\"IndexInfo\"          prepared_statements   transferred_ranges_v2  \n",
      "local                repairs               view_builds_in_progress\n",
      "paxos                size_estimates      \n",
      "\n",
      "Keyspace system_auth\n",
      "--------------------\n",
      "network_permissions             role_members      roles\n",
      "resource_role_permissons_index  role_permissions\n",
      "\n",
      "Keyspace system_distributed\n",
      "---------------------------\n",
      "parent_repair_history  partition_denylist  repair_history  view_build_status\n",
      "\n",
      "Keyspace system_schema\n",
      "----------------------\n",
      "aggregates  dropped_columns  indexes    tables    types\n",
      "columns     functions        keyspaces  triggers  views\n",
      "\n",
      "Keyspace system_traces\n",
      "----------------------\n",
      "events  sessions\n",
      "\n",
      "Keyspace system_views\n",
      "---------------------\n",
      "batch_metrics              jmx_permissions_cache_keys      repair_validations \n",
      "caches                     local_read_latency              repairs            \n",
      "clients                    local_scan_latency              roles_cache_keys   \n",
      "coordinator_read_latency   local_write_latency             rows_per_read      \n",
      "coordinator_scan_latency   max_partition_size              settings           \n",
      "coordinator_write_latency  network_permissions_cache_keys  sstable_tasks      \n",
      "cql_metrics                pending_hints                   streaming          \n",
      "credentials_cache_keys     permissions_cache_keys          system_properties  \n",
      "disk_usage                 queries                         thread_pools       \n",
      "gossip_info                repair_jobs                     tombstones_per_read\n",
      "internode_inbound          repair_participates           \n",
      "internode_outbound         repair_sessions               \n",
      "\n",
      "Keyspace system_virtual_schema\n",
      "------------------------------\n",
      "columns  keyspaces  tables\n",
      "\n"
     ]
    }
   ],
   "source": [
    "!docker exec -it cassandra1 cqlsh -e \"describe tables\""
   ]
  },
  {
   "cell_type": "markdown",
   "id": "355252f0",
   "metadata": {},
   "source": [
    "\n",
    "\n",
    "You will get an empty list because we do not have any tables yet.\n",
    "\n",
    "# **Exercise 5 - Drop a keyspace**\n",
    "\n",
    "To drop a keyspace run the below command.\n",
    "\n"
   ]
  },
  {
   "cell_type": "raw",
   "id": "7d70ae4a",
   "metadata": {
    "vscode": {
     "languageId": "raw"
    }
   },
   "source": [
    "drop keyspace training;"
   ]
  },
  {
   "cell_type": "code",
   "execution_count": 66,
   "id": "2285517b",
   "metadata": {},
   "outputs": [],
   "source": [
    "!docker exec -it cassandra1 cqlsh -e \"drop keyspace training;\""
   ]
  },
  {
   "cell_type": "markdown",
   "id": "7bccfa8a",
   "metadata": {},
   "source": [
    "\n",
    "\n",
    "Verify the changes using the describe command.\n",
    "\n"
   ]
  },
  {
   "cell_type": "raw",
   "id": "c748ed6e",
   "metadata": {
    "vscode": {
     "languageId": "raw"
    }
   },
   "source": [
    "\n",
    "use system;\n",
    "describe keyspaces\n"
   ]
  },
  {
   "cell_type": "code",
   "execution_count": 67,
   "id": "1d584972",
   "metadata": {},
   "outputs": [
    {
     "name": "stdout",
     "output_type": "stream",
     "text": [
      "\n",
      "system       system_distributed  system_traces  system_virtual_schema\n",
      "system_auth  system_schema       system_views \n",
      "\n"
     ]
    }
   ],
   "source": [
    "!docker exec -it cassandra1 cqlsh -e \"describe keyspaces\""
   ]
  },
  {
   "cell_type": "markdown",
   "id": "8cdf4ef3",
   "metadata": {},
   "source": [
    "\n",
    "\n",
    "# **Practice exercises**\n",
    "\n",
    "1. Problem: Create a keyspace named `sales` using `SimpleStrategy` and a replication factor of `1`.\n",
    "- Click here for Hint\n",
    "\n",
    "> use the create keyspace command\n",
    ">\n",
    "- Click here for Solution\n",
    "\n"
   ]
  },
  {
   "cell_type": "raw",
   "id": "f5db0d46",
   "metadata": {
    "vscode": {
     "languageId": "raw"
    }
   },
   "source": [
    "\n",
    "CREATE KEYSPACE sales WITH replication = {'class':'SimpleStrategy', 'replication_factor' : 1};\n"
   ]
  },
  {
   "cell_type": "code",
   "execution_count": 68,
   "id": "055cf49d",
   "metadata": {},
   "outputs": [],
   "source": [
    "!docker exec -it cassandra1 cqlsh -e \"CREATE KEYSPACE sales WITH replication = {'class':'SimpleStrategy', 'replication_factor' : 1};\""
   ]
  },
  {
   "cell_type": "markdown",
   "id": "48a1a59f",
   "metadata": {},
   "source": [
    "\n",
    "\n",
    "2. Problem: Change the replication factor to `3` for the `sales` keyspace.\n",
    "- Click here for Hint\n",
    "\n",
    "> use the alter keyspace command\n",
    ">\n",
    "- Click here for Solution\n",
    "\n",
    "On the `cqlsh` run the below command.\n",
    "\n"
   ]
  },
  {
   "cell_type": "raw",
   "id": "513e9f0f",
   "metadata": {
    "vscode": {
     "languageId": "raw"
    }
   },
   "source": [
    "\n",
    "ALTER KEYSPACE sales WITH replication = {'class':'SimpleStrategy', 'replication_factor' : 3};\n"
   ]
  },
  {
   "cell_type": "code",
   "execution_count": 70,
   "id": "cdd4e564",
   "metadata": {},
   "outputs": [],
   "source": [
    "!docker exec -it cassandra1 cqlsh -e \"ALTER KEYSPACE sales WITH replication = {'class':'SimpleStrategy', 'replication_factor' : 2};\""
   ]
  },
  {
   "cell_type": "markdown",
   "id": "8e40f2a0",
   "metadata": {},
   "source": [
    "\n",
    "\n",
    "3. Problem: Drop the `sales` keyspace.\n",
    "- Click here for Hint\n",
    "\n",
    "> use the drop keyspace command\n",
    ">\n",
    "- Click here for Solution\n",
    "\n",
    "On the `cqlsh` run the below command.\n",
    "\n"
   ]
  },
  {
   "cell_type": "raw",
   "id": "e126344a",
   "metadata": {
    "vscode": {
     "languageId": "raw"
    }
   },
   "source": [
    "\n",
    "drop keyspace sales;\n"
   ]
  },
  {
   "cell_type": "code",
   "execution_count": 71,
   "id": "a333fdc1",
   "metadata": {},
   "outputs": [],
   "source": [
    "!docker exec -it cassandra1 cqlsh -e \"drop keyspace sales;\""
   ]
  },
  {
   "cell_type": "markdown",
   "id": "89dc9157",
   "metadata": {},
   "source": [
    "\n",
    "\n",
    "4. Problem: Verify that the `sales` keyspace is dropped.\n",
    "- Click here for Hint\n",
    "\n",
    "> use the describe command\n",
    ">\n",
    "- Click here for Solution\n",
    "\n",
    "On the `cqlsh` run the below command.\n",
    "\n"
   ]
  },
  {
   "cell_type": "raw",
   "id": "397a4609",
   "metadata": {
    "vscode": {
     "languageId": "raw"
    }
   },
   "source": [
    "describe keyspaces"
   ]
  },
  {
   "cell_type": "code",
   "execution_count": 72,
   "id": "9c91833a",
   "metadata": {},
   "outputs": [
    {
     "name": "stdout",
     "output_type": "stream",
     "text": [
      "\n",
      "system       system_distributed  system_traces  system_virtual_schema\n",
      "system_auth  system_schema       system_views \n",
      "\n"
     ]
    }
   ],
   "source": [
    "!docker exec -it cassandra1 cqlsh -e \"describe keyspaces\""
   ]
  },
  {
   "cell_type": "markdown",
   "id": "0b1fc1de",
   "metadata": {},
   "source": [
    "## Drop Container"
   ]
  },
  {
   "cell_type": "code",
   "execution_count": 12,
   "id": "284db392",
   "metadata": {},
   "outputs": [
    {
     "name": "stdout",
     "output_type": "stream",
     "text": [
      "\u001b[1A\u001b[1B\u001b[0G\u001b[?25l[+] Running 0/0\n",
      " ⠋ Container cassandra3  Stopping                                          \u001b[34m0.1s \u001b[0m\n",
      "\u001b[?25h\u001b[1A\u001b[1A\u001b[0G\u001b[?25l[+] Running 0/1\n",
      " ⠙ Container cassandra3  Stopping                                          \u001b[34m0.2s \u001b[0m\n",
      "\u001b[?25h\u001b[1A\u001b[1A\u001b[0G\u001b[?25l[+] Running 0/1\n",
      " ⠹ Container cassandra3  Stopping                                          \u001b[34m0.3s \u001b[0m\n",
      "\u001b[?25h\u001b[1A\u001b[1A\u001b[0G\u001b[?25l[+] Running 0/1\n",
      " ⠸ Container cassandra3  Stopping                                          \u001b[34m0.4s \u001b[0m\n",
      "\u001b[?25h\u001b[1A\u001b[1A\u001b[0G\u001b[?25l[+] Running 0/1\n",
      " ⠼ Container cassandra3  Stopping                                          \u001b[34m0.5s \u001b[0m\n",
      "\u001b[?25h\u001b[1A\u001b[1A\u001b[0G\u001b[?25l[+] Running 0/1\n",
      " ⠴ Container cassandra3  Stopping                                          \u001b[34m0.6s \u001b[0m\n",
      "\u001b[?25h\u001b[1A\u001b[1A\u001b[0G\u001b[?25l[+] Running 0/1\n",
      " ⠦ Container cassandra3  Stopping                                          \u001b[34m0.7s \u001b[0m\n",
      "\u001b[?25h\u001b[1A\u001b[1A\u001b[0G\u001b[?25l[+] Running 0/1\n",
      " ⠧ Container cassandra3  Stopping                                          \u001b[34m0.8s \u001b[0m\n",
      "\u001b[?25h\u001b[1A\u001b[1A\u001b[0G\u001b[?25l[+] Running 0/1\n",
      " ⠇ Container cassandra3  Stopping                                          \u001b[34m0.9s \u001b[0m\n",
      "\u001b[?25h\u001b[1A\u001b[1A\u001b[0G\u001b[?25l[+] Running 0/1\n",
      " ⠏ Container cassandra3  Stopping                                          \u001b[34m1.0s \u001b[0m\n",
      "\u001b[?25h\u001b[1A\u001b[1A\u001b[0G\u001b[?25l[+] Running 0/1\n",
      " ⠋ Container cassandra3  Stopping                                          \u001b[34m1.1s \u001b[0m\n",
      "\u001b[?25h\u001b[1A\u001b[1A\u001b[0G\u001b[?25l[+] Running 0/1\n",
      " ⠙ Container cassandra3  Stopping                                          \u001b[34m1.2s \u001b[0m\n",
      "\u001b[?25h\u001b[1A\u001b[1A\u001b[0G\u001b[?25l[+] Running 0/1\n",
      " ⠹ Container cassandra3  Stopping                                          \u001b[34m1.3s \u001b[0m\n",
      "\u001b[?25h\u001b[1A\u001b[1A\u001b[0G\u001b[?25l[+] Running 0/1\n",
      " ⠸ Container cassandra3  Stopping                                          \u001b[34m1.4s \u001b[0m\n",
      "\u001b[?25h\u001b[1A\u001b[1A\u001b[0G\u001b[?25l[+] Running 0/1\n",
      " ⠼ Container cassandra3  Stopping                                          \u001b[34m1.5s \u001b[0m\n",
      "\u001b[?25h\u001b[1A\u001b[1A\u001b[0G\u001b[?25l[+] Running 0/1\n",
      " ⠴ Container cassandra3  Stopping                                          \u001b[34m1.6s \u001b[0m\n",
      "\u001b[?25h\u001b[1A\u001b[1A\u001b[0G\u001b[?25l[+] Running 0/1\n",
      " ⠦ Container cassandra3  Stopping                                          \u001b[34m1.7s \u001b[0m\n",
      "\u001b[?25h\u001b[1A\u001b[1A\u001b[0G\u001b[?25l[+] Running 0/1\n",
      " ⠧ Container cassandra3  Stopping                                          \u001b[34m1.8s \u001b[0m\n",
      "\u001b[?25h\u001b[1A\u001b[1A\u001b[0G\u001b[?25l[+] Running 0/1\n",
      " ⠇ Container cassandra3  Stopping                                          \u001b[34m1.9s \u001b[0m\n",
      "\u001b[?25h\u001b[1A\u001b[1A\u001b[0G\u001b[?25l[+] Running 0/1\n",
      " ⠏ Container cassandra3  Stopping                                          \u001b[34m2.0s \u001b[0m\n",
      "\u001b[?25h\u001b[1A\u001b[1A\u001b[0G\u001b[?25l[+] Running 0/1\n",
      " ⠋ Container cassandra3  Stopping                                          \u001b[34m2.1s \u001b[0m\n",
      "\u001b[?25h\u001b[1A\u001b[1A\u001b[0G\u001b[?25l[+] Running 0/1\n",
      " ⠙ Container cassandra3  Stopping                                          \u001b[34m2.2s \u001b[0m\n",
      "\u001b[?25h\u001b[1A\u001b[1A\u001b[0G\u001b[?25l[+] Running 0/1\n",
      " ⠹ Container cassandra3  Stopping                                          \u001b[34m2.3s \u001b[0m\n",
      "\u001b[?25h\u001b[1A\u001b[1A\u001b[0G\u001b[?25l[+] Running 0/1\n",
      " ⠸ Container cassandra3  Stopping                                          \u001b[34m2.4s \u001b[0m\n",
      "\u001b[?25h\u001b[1A\u001b[1A\u001b[0G\u001b[?25l[+] Running 0/1\n",
      " ⠼ Container cassandra3  Stopping                                          \u001b[34m2.5s \u001b[0m\n",
      "\u001b[?25h\u001b[1A\u001b[1A\u001b[0G\u001b[?25l[+] Running 0/1\n",
      " ⠴ Container cassandra3  Stopping                                          \u001b[34m2.6s \u001b[0m\n",
      "\u001b[?25h\u001b[1A\u001b[1A\u001b[0G\u001b[?25l[+] Running 0/1\n",
      " ⠦ Container cassandra3  Stopping                                          \u001b[34m2.7s \u001b[0m\n",
      "\u001b[?25h\u001b[1A\u001b[1A\u001b[0G\u001b[?25l[+] Running 0/1\n",
      " ⠧ Container cassandra3  Stopping                                          \u001b[34m2.8s \u001b[0m\n",
      "\u001b[?25h\u001b[1A\u001b[1A\u001b[0G\u001b[?25l[+] Running 0/1\n",
      " ⠇ Container cassandra3  Stopping                                          \u001b[34m2.9s \u001b[0m\n",
      "\u001b[?25h\u001b[1A\u001b[1A\u001b[0G\u001b[?25l[+] Running 0/1\n",
      " ⠏ Container cassandra3  Stopping                                          \u001b[34m3.0s \u001b[0m\n",
      "\u001b[?25h\u001b[1A\u001b[1A\u001b[0G\u001b[?25l[+] Running 0/1\n",
      " ⠋ Container cassandra3  Stopping                                          \u001b[34m3.1s \u001b[0m\n",
      "\u001b[?25h\u001b[1A\u001b[1A\u001b[0G\u001b[?25l[+] Running 0/1\n",
      " ⠙ Container cassandra3  Stopping                                          \u001b[34m3.2s \u001b[0m\n",
      "\u001b[?25h\u001b[1A\u001b[1A\u001b[0G\u001b[?25l[+] Running 0/1\n",
      " ⠹ Container cassandra3  Stopping                                          \u001b[34m3.3s \u001b[0m\n",
      "\u001b[?25h\u001b[1A\u001b[1A\u001b[0G\u001b[?25l[+] Running 0/1\n",
      " ⠸ Container cassandra3  Stopping                                          \u001b[34m3.4s \u001b[0m\n",
      "\u001b[?25h\u001b[1A\u001b[1A\u001b[0G\u001b[?25l[+] Running 0/1\n",
      " ⠼ Container cassandra3  Stopping                                          \u001b[34m3.5s \u001b[0m\n",
      "\u001b[?25h\u001b[1A\u001b[1A\u001b[0G\u001b[?25l[+] Running 0/1\n",
      " ⠴ Container cassandra3  Stopping                                          \u001b[34m3.6s \u001b[0m\n",
      "\u001b[?25h\u001b[1A\u001b[1A\u001b[0G\u001b[?25l[+] Running 0/1\n",
      " ⠦ Container cassandra3  Stopping                                          \u001b[34m3.7s \u001b[0m\n",
      "\u001b[?25h\u001b[1A\u001b[1A\u001b[0G\u001b[?25l[+] Running 0/1\n",
      " ⠧ Container cassandra3  Stopping                                          \u001b[34m3.8s \u001b[0m\n",
      "\u001b[?25h\u001b[1A\u001b[1A\u001b[0G\u001b[?25l[+] Running 0/1\n",
      " ⠇ Container cassandra3  Stopping                                          \u001b[34m3.9s \u001b[0m\n",
      "\u001b[?25h\u001b[1A\u001b[1A\u001b[0G\u001b[?25l[+] Running 0/1\n",
      " ⠏ Container cassandra3  Stopping                                          \u001b[34m4.0s \u001b[0m\n",
      "\u001b[?25h\u001b[1A\u001b[1A\u001b[0G\u001b[?25l[+] Running 0/1\n",
      " ⠋ Container cassandra3  Stopping                                          \u001b[34m4.1s \u001b[0m\n",
      "\u001b[?25h\u001b[1A\u001b[1A\u001b[0G\u001b[?25l[+] Running 0/1\n",
      " ⠙ Container cassandra3  Stopping                                          \u001b[34m4.2s \u001b[0m\n",
      "\u001b[?25h\u001b[1A\u001b[1A\u001b[0G\u001b[?25l[+] Running 0/1\n",
      " ⠹ Container cassandra3  Stopping                                          \u001b[34m4.3s \u001b[0m\n",
      "\u001b[?25h\u001b[1A\u001b[1A\u001b[0G\u001b[?25l[+] Running 0/1\n",
      " ⠸ Container cassandra3  Stopping                                          \u001b[34m4.4s \u001b[0m\n",
      "\u001b[?25h\u001b[1A\u001b[1A\u001b[0G\u001b[?25l[+] Running 0/1\n",
      " ⠼ Container cassandra3  Stopping                                          \u001b[34m4.5s \u001b[0m\n",
      "\u001b[?25h\u001b[1A\u001b[1A\u001b[0G\u001b[?25l[+] Running 0/1\n",
      " ⠴ Container cassandra3  Stopping                                          \u001b[34m4.6s \u001b[0m\n",
      "\u001b[?25h\u001b[1A\u001b[1A\u001b[0G\u001b[?25l[+] Running 0/1\n",
      " ⠦ Container cassandra3  Stopping                                          \u001b[34m4.7s \u001b[0m\n",
      "\u001b[?25h\u001b[1A\u001b[1A\u001b[0G\u001b[?25l[+] Running 0/1\n",
      " ⠧ Container cassandra3  Stopping                                          \u001b[34m4.8s \u001b[0m\n",
      "\u001b[?25h\u001b[1A\u001b[1A\u001b[0G\u001b[?25l[+] Running 0/1\n",
      " ⠇ Container cassandra3  Stopping                                          \u001b[34m4.9s \u001b[0m\n",
      "\u001b[?25h\u001b[1A\u001b[1A\u001b[0G\u001b[?25l[+] Running 0/1\n",
      " ⠏ Container cassandra3  Stopping                                          \u001b[34m5.0s \u001b[0m\n",
      "\u001b[?25h\u001b[1A\u001b[1A\u001b[0G\u001b[?25l[+] Running 0/1\n",
      " ⠋ Container cassandra3  Stopping                                          \u001b[34m5.1s \u001b[0m\n",
      "\u001b[?25h\u001b[1A\u001b[1A\u001b[0G\u001b[?25l[+] Running 0/1\n",
      " ⠙ Container cassandra3  Stopping                                          \u001b[34m5.2s \u001b[0m\n",
      "\u001b[?25h\u001b[1A\u001b[1A\u001b[0G\u001b[?25l[+] Running 0/1\n",
      " ⠹ Container cassandra3  Stopping                                          \u001b[34m5.3s \u001b[0m\n",
      "\u001b[?25h\u001b[1A\u001b[1A\u001b[0G\u001b[?25l[+] Running 0/1\n",
      " ⠸ Container cassandra3  Stopping                                          \u001b[34m5.4s \u001b[0m\n",
      "\u001b[?25h\u001b[1A\u001b[1A\u001b[0G\u001b[?25l[+] Running 0/1\n",
      " ⠼ Container cassandra3  Stopping                                          \u001b[34m5.5s \u001b[0m\n",
      "\u001b[?25h\u001b[1A\u001b[1A\u001b[0G\u001b[?25l[+] Running 0/1\n",
      " ⠴ Container cassandra3  Stopping                                          \u001b[34m5.6s \u001b[0m\n",
      "\u001b[?25h\u001b[1A\u001b[1A\u001b[0G\u001b[?25l[+] Running 0/1\n",
      " ⠦ Container cassandra3  Stopping                                          \u001b[34m5.7s \u001b[0m\n",
      "\u001b[?25h\u001b[1A\u001b[1A\u001b[0G\u001b[?25l[+] Running 0/1\n",
      " ⠧ Container cassandra3  Stopping                                          \u001b[34m5.8s \u001b[0m\n",
      "\u001b[?25h\u001b[1A\u001b[1A\u001b[0G\u001b[?25l[+] Running 0/1\n",
      " ⠇ Container cassandra3  Stopping                                          \u001b[34m5.9s \u001b[0m\n",
      "\u001b[?25h\u001b[1A\u001b[1A\u001b[0G\u001b[?25l[+] Running 0/1\n",
      " ⠏ Container cassandra3  Stopping                                          \u001b[34m6.0s \u001b[0m\n",
      "\u001b[?25h\u001b[1A\u001b[1A\u001b[0G\u001b[?25l[+] Running 0/1\n",
      " ⠋ Container cassandra3  Stopping                                          \u001b[34m6.1s \u001b[0m\n",
      "\u001b[?25h\u001b[1A\u001b[1A\u001b[0G\u001b[?25l[+] Running 0/1\n",
      " ⠙ Container cassandra3  Stopping                                          \u001b[34m6.2s \u001b[0m\n",
      "\u001b[?25h\u001b[1A\u001b[1A\u001b[0G\u001b[?25l[+] Running 0/1\n",
      " ⠹ Container cassandra3  Stopping                                          \u001b[34m6.3s \u001b[0m\n",
      "\u001b[?25h\u001b[1A\u001b[1A\u001b[0G\u001b[?25l[+] Running 0/1\n",
      " ⠸ Container cassandra3  Stopping                                          \u001b[34m6.4s \u001b[0m\n",
      "\u001b[?25h\u001b[1A\u001b[1A\u001b[0G\u001b[?25l[+] Running 0/1\n",
      " ⠼ Container cassandra3  Stopping                                          \u001b[34m6.5s \u001b[0m\n",
      "\u001b[?25h\u001b[1A\u001b[1A\u001b[0G\u001b[?25l[+] Running 0/1\n",
      " ⠴ Container cassandra3  Stopping                                          \u001b[34m6.6s \u001b[0m\n",
      "\u001b[?25h\u001b[1A\u001b[1A\u001b[0G\u001b[?25l[+] Running 0/1\n",
      " ⠦ Container cassandra3  Stopping                                          \u001b[34m6.7s \u001b[0m\n",
      "\u001b[?25h\u001b[1A\u001b[1A\u001b[0G\u001b[?25l[+] Running 0/1\n",
      " ⠧ Container cassandra3  Stopping                                          \u001b[34m6.8s \u001b[0m\n",
      "\u001b[?25h\u001b[1A\u001b[1A\u001b[0G\u001b[?25l[+] Running 0/1\n",
      " ⠇ Container cassandra3  Stopping                                          \u001b[34m6.9s \u001b[0m\n",
      "\u001b[?25h\u001b[1A\u001b[1A\u001b[0G\u001b[?25l[+] Running 0/1\n",
      " ⠏ Container cassandra3  Stopping                                          \u001b[34m7.0s \u001b[0m\n",
      "\u001b[?25h\u001b[1A\u001b[1A\u001b[0G\u001b[?25l[+] Running 0/1\n",
      " ⠋ Container cassandra3  Stopping                                          \u001b[34m7.1s \u001b[0m\n",
      "\u001b[?25h\u001b[1A\u001b[1A\u001b[0G\u001b[?25l[+] Running 0/1\n",
      " ⠙ Container cassandra3  Stopping                                          \u001b[34m7.2s \u001b[0m\n",
      "\u001b[?25h\u001b[1A\u001b[1A\u001b[0G\u001b[?25l[+] Running 0/1\n",
      " ⠹ Container cassandra3  Stopping                                          \u001b[34m7.3s \u001b[0m\n",
      "\u001b[?25h\u001b[1A\u001b[1A\u001b[0G\u001b[?25l[+] Running 0/1\n",
      " ⠸ Container cassandra3  Stopping                                          \u001b[34m7.4s \u001b[0m\n",
      "\u001b[?25h\u001b[1A\u001b[1A\u001b[0G\u001b[?25l[+] Running 0/1\n",
      " ⠼ Container cassandra3  Stopping                                          \u001b[34m7.5s \u001b[0m\n",
      "\u001b[?25h\u001b[1A\u001b[1A\u001b[0G\u001b[?25l[+] Running 0/1\n",
      " ⠴ Container cassandra3  Stopping                                          \u001b[34m7.6s \u001b[0m\n",
      "\u001b[?25h\u001b[1A\u001b[1A\u001b[0G\u001b[?25l[+] Running 0/1\n",
      " ⠦ Container cassandra3  Stopping                                          \u001b[34m7.7s \u001b[0m\n",
      "\u001b[?25h\u001b[1A\u001b[1A\u001b[0G\u001b[?25l[+] Running 0/1\n",
      " ⠧ Container cassandra3  Stopping                                          \u001b[34m7.8s \u001b[0m\n",
      "\u001b[?25h\u001b[1A\u001b[1A\u001b[0G\u001b[?25l[+] Running 0/1\n",
      " ⠇ Container cassandra3  Stopping                                          \u001b[34m7.9s \u001b[0m\n",
      "\u001b[?25h\u001b[1A\u001b[1A\u001b[0G\u001b[?25l[+] Running 0/1\n",
      " ⠏ Container cassandra3  Stopping                                          \u001b[34m8.0s \u001b[0m\n",
      "\u001b[?25h\u001b[1A\u001b[1A\u001b[0G\u001b[?25l[+] Running 0/1\n",
      " ⠋ Container cassandra3  Stopping                                          \u001b[34m8.1s \u001b[0m\n",
      "\u001b[?25h\u001b[1A\u001b[1A\u001b[0G\u001b[?25l[+] Running 0/1\n",
      " ⠙ Container cassandra3  Stopping                                          \u001b[34m8.2s \u001b[0m\n",
      "\u001b[?25h\u001b[1A\u001b[1A\u001b[0G\u001b[?25l[+] Running 0/1\n",
      " ⠹ Container cassandra3  Stopping                                          \u001b[34m8.3s \u001b[0m\n",
      "\u001b[?25h\u001b[1A\u001b[1A\u001b[0G\u001b[?25l[+] Running 0/1\n",
      " ⠸ Container cassandra3  Stopping                                          \u001b[34m8.4s \u001b[0m\n",
      "\u001b[?25h\u001b[1A\u001b[1A\u001b[0G\u001b[?25l[+] Running 0/1\n",
      " ⠼ Container cassandra3  Stopping                                          \u001b[34m8.5s \u001b[0m\n",
      "\u001b[?25h\u001b[1A\u001b[1A\u001b[0G\u001b[?25l[+] Running 0/1\n",
      " ⠴ Container cassandra3  Stopping                                          \u001b[34m8.6s \u001b[0m\n",
      "\u001b[?25h\u001b[1A\u001b[1A\u001b[0G\u001b[?25l[+] Running 0/1\n",
      " ⠦ Container cassandra3  Stopping                                          \u001b[34m8.7s \u001b[0m\n",
      "\u001b[?25h\u001b[1A\u001b[1A\u001b[0G\u001b[?25l[+] Running 0/1\n",
      " ⠧ Container cassandra3  Stopping                                          \u001b[34m8.8s \u001b[0m\n",
      "\u001b[?25h\u001b[1A\u001b[1A\u001b[0G\u001b[?25l[+] Running 0/1\n",
      " ⠇ Container cassandra3  Stopping                                          \u001b[34m8.9s \u001b[0m\n",
      "\u001b[?25h\u001b[1A\u001b[1A\u001b[0G\u001b[?25l[+] Running 0/1\n",
      " ⠏ Container cassandra3  Stopping                                          \u001b[34m9.0s \u001b[0m\n",
      "\u001b[?25h\u001b[1A\u001b[1A\u001b[0G\u001b[?25l[+] Running 0/1\n",
      " ⠋ Container cassandra3  Stopping                                          \u001b[34m9.1s \u001b[0m\n",
      "\u001b[?25h\u001b[1A\u001b[1A\u001b[0G\u001b[?25l[+] Running 0/1\n",
      " ⠙ Container cassandra3  Stopping                                          \u001b[34m9.2s \u001b[0m\n",
      "\u001b[?25h\u001b[1A\u001b[1A\u001b[0G\u001b[?25l[+] Running 0/1\n",
      " ⠹ Container cassandra3  Stopping                                          \u001b[34m9.3s \u001b[0m\n",
      "\u001b[?25h\u001b[1A\u001b[1A\u001b[0G\u001b[?25l[+] Running 0/1\n",
      " ⠸ Container cassandra3  Stopping                                          \u001b[34m9.4s \u001b[0m\n",
      "\u001b[?25h\u001b[1A\u001b[1A\u001b[0G\u001b[?25l[+] Running 0/1\n",
      " ⠼ Container cassandra3  Stopping                                          \u001b[34m9.5s \u001b[0m\n",
      "\u001b[?25h\u001b[1A\u001b[1A\u001b[0G\u001b[?25l[+] Running 0/1\n",
      " ⠴ Container cassandra3  Stopping                                          \u001b[34m9.6s \u001b[0m\n",
      "\u001b[?25h\u001b[1A\u001b[1A\u001b[0G\u001b[?25l[+] Running 0/1\n",
      " ⠦ Container cassandra3  Stopping                                          \u001b[34m9.7s \u001b[0m\n",
      "\u001b[?25h\u001b[1A\u001b[1A\u001b[0G\u001b[?25l[+] Running 0/1\n",
      " ⠧ Container cassandra3  Stopping                                          \u001b[34m9.8s \u001b[0m\n",
      "\u001b[?25h\u001b[1A\u001b[1A\u001b[0G\u001b[?25l[+] Running 0/1\n",
      " ⠇ Container cassandra3  Stopping                                          \u001b[34m9.9s \u001b[0m\n",
      "\u001b[?25h\u001b[1A\u001b[1A\u001b[0G\u001b[?25l[+] Running 0/1\n",
      " ⠏ Container cassandra3  Stopping                                         \u001b[34m10.0s \u001b[0m\n",
      "\u001b[?25h\u001b[1A\u001b[1A\u001b[0G\u001b[?25l[+] Running 0/1\n",
      " ⠋ Container cassandra3  Stopping                                         \u001b[34m10.1s \u001b[0m\n",
      "\u001b[?25h\u001b[1A\u001b[1A\u001b[0G\u001b[?25l[+] Running 0/1\n",
      " ⠙ Container cassandra3  Stopping                                         \u001b[34m10.2s \u001b[0m\n",
      "\u001b[?25h\u001b[1A\u001b[1A\u001b[0G\u001b[?25l[+] Running 0/1\n",
      " ⠹ Container cassandra3  Stopping                                         \u001b[34m10.3s \u001b[0m\n",
      "\u001b[?25h\u001b[1A\u001b[1A\u001b[0G\u001b[?25l[+] Running 0/1\n",
      " ⠸ Container cassandra3  Stopping                                         \u001b[34m10.4s \u001b[0m\n",
      "\u001b[?25h\u001b[1A\u001b[1A\u001b[0G\u001b[?25l[+] Running 0/1\n",
      " ⠼ Container cassandra3  Stopping                                         \u001b[34m10.5s \u001b[0m\n",
      "\u001b[?25h\u001b[1A\u001b[1A\u001b[0G\u001b[?25l[+] Running 0/1\n",
      " ⠴ Container cassandra3  Stopping                                         \u001b[34m10.6s \u001b[0m\n",
      "\u001b[?25h\u001b[1A\u001b[1A\u001b[0G\u001b[?25l[+] Running 0/1\n",
      " ⠦ Container cassandra3  Stopping                                         \u001b[34m10.7s \u001b[0m\n",
      "\u001b[?25h\u001b[1A\u001b[1A\u001b[0G\u001b[?25l[+] Running 0/1\n",
      " ⠧ Container cassandra3  Stopping                                         \u001b[34m10.8s \u001b[0m\n",
      "\u001b[?25h\u001b[1A\u001b[1A\u001b[0G\u001b[?25l[+] Running 0/1\n",
      " ⠇ Container cassandra3  Stopping                                         \u001b[34m10.9s \u001b[0m\n",
      "\u001b[?25h\u001b[1A\u001b[1A\u001b[0G\u001b[?25l[+] Running 0/1\n",
      " ⠏ Container cassandra3  Stopping                                         \u001b[34m11.0s \u001b[0m\n",
      "\u001b[?25h\u001b[1A\u001b[1A\u001b[0G\u001b[?25l[+] Running 0/1\n",
      " ⠋ Container cassandra3  Stopping                                         \u001b[34m11.1s \u001b[0m\n",
      "\u001b[?25h\u001b[1A\u001b[1A\u001b[0G\u001b[?25l[+] Running 0/1\n",
      " ⠙ Container cassandra3  Stopping                                         \u001b[34m11.2s \u001b[0m\n",
      "\u001b[?25h\u001b[1A\u001b[1A\u001b[0G\u001b[?25l[+] Running 0/1\n",
      " ⠹ Container cassandra3  Stopping                                         \u001b[34m11.3s \u001b[0m\n",
      "\u001b[?25h\u001b[1A\u001b[1A\u001b[0G\u001b[?25l[+] Running 0/1\n",
      " ⠸ Container cassandra3  Stopping                                         \u001b[34m11.4s \u001b[0m\n",
      "\u001b[?25h\u001b[1A\u001b[1A\u001b[0G\u001b[?25l[+] Running 0/1\n",
      " ⠼ Container cassandra3  Stopping                                         \u001b[34m11.5s \u001b[0m\n",
      "\u001b[?25h\u001b[1A\u001b[1A\u001b[0G\u001b[?25l[+] Running 0/1\n",
      " ⠴ Container cassandra3  Stopping                                         \u001b[34m11.6s \u001b[0m\n",
      "\u001b[?25h\u001b[1A\u001b[1A\u001b[0G\u001b[?25l[+] Running 0/1\n",
      " ⠦ Container cassandra3  Stopping                                         \u001b[34m11.7s \u001b[0m\n",
      "\u001b[?25h\u001b[1A\u001b[1A\u001b[0G\u001b[?25l[+] Running 0/1\n",
      " ⠧ Container cassandra3  Stopping                                         \u001b[34m11.8s \u001b[0m\n",
      "\u001b[?25h\u001b[1A\u001b[1A\u001b[0G\u001b[?25l[+] Running 0/1\n",
      " ⠇ Container cassandra3  Stopping                                         \u001b[34m11.9s \u001b[0m\n",
      "\u001b[?25h\u001b[1A\u001b[1A\u001b[0G\u001b[?25l[+] Running 0/1\n",
      " ⠏ Container cassandra3  Stopping                                         \u001b[34m12.0s \u001b[0m\n",
      "\u001b[?25h\u001b[1A\u001b[1A\u001b[0G\u001b[?25l[+] Running 0/1\n",
      " ⠋ Container cassandra3  Stopping                                         \u001b[34m12.1s \u001b[0m\n",
      "\u001b[?25h\u001b[1A\u001b[1A\u001b[0G\u001b[?25l[+] Running 0/1\n",
      " ⠙ Container cassandra3  Stopping                                         \u001b[34m12.2s \u001b[0m\n",
      "\u001b[?25h\u001b[1A\u001b[1A\u001b[0G\u001b[?25l[+] Running 0/1\n",
      " ⠿ Container cassandra3  Removing                                         \u001b[34m12.3s \u001b[0m\n",
      "\u001b[?25h\u001b[1A\u001b[1A\u001b[0G\u001b[?25l\u001b[34m[+] Running 1/1\u001b[0m\n",
      " \u001b[32m✔\u001b[0m Container cassandra3  \u001b[32mRemoved\u001b[0m                                          \u001b[34m12.3s \u001b[0m\n",
      " ⠋ Container cassandra2  Stopping                                          \u001b[34m0.1s \u001b[0m\n",
      "\u001b[?25h\u001b[1A\u001b[1A\u001b[1A\u001b[0G\u001b[?25l[+] Running 1/2\n",
      " \u001b[32m✔\u001b[0m Container cassandra3  \u001b[32mRemoved\u001b[0m                                          \u001b[34m12.3s \u001b[0m\n",
      " ⠙ Container cassandra2  Stopping                                          \u001b[34m0.2s \u001b[0m\n",
      "\u001b[?25h\u001b[1A\u001b[1A\u001b[1A\u001b[0G\u001b[?25l[+] Running 1/2\n",
      " \u001b[32m✔\u001b[0m Container cassandra3  \u001b[32mRemoved\u001b[0m                                          \u001b[34m12.3s \u001b[0m\n",
      " ⠹ Container cassandra2  Stopping                                          \u001b[34m0.3s \u001b[0m\n",
      "\u001b[?25h\u001b[1A\u001b[1A\u001b[1A\u001b[0G\u001b[?25l[+] Running 1/2\n",
      " \u001b[32m✔\u001b[0m Container cassandra3  \u001b[32mRemoved\u001b[0m                                          \u001b[34m12.3s \u001b[0m\n",
      " ⠸ Container cassandra2  Stopping                                          \u001b[34m0.4s \u001b[0m\n",
      "\u001b[?25h\u001b[1A\u001b[1A\u001b[1A\u001b[0G\u001b[?25l[+] Running 1/2\n",
      " \u001b[32m✔\u001b[0m Container cassandra3  \u001b[32mRemoved\u001b[0m                                          \u001b[34m12.3s \u001b[0m\n",
      " ⠼ Container cassandra2  Stopping                                          \u001b[34m0.5s \u001b[0m\n",
      "\u001b[?25h\u001b[1A\u001b[1A\u001b[1A\u001b[0G\u001b[?25l[+] Running 1/2\n",
      " \u001b[32m✔\u001b[0m Container cassandra3  \u001b[32mRemoved\u001b[0m                                          \u001b[34m12.3s \u001b[0m\n",
      " ⠴ Container cassandra2  Stopping                                          \u001b[34m0.6s \u001b[0m\n",
      "\u001b[?25h\u001b[1A\u001b[1A\u001b[1A\u001b[0G\u001b[?25l[+] Running 1/2\n",
      " \u001b[32m✔\u001b[0m Container cassandra3  \u001b[32mRemoved\u001b[0m                                          \u001b[34m12.3s \u001b[0m\n",
      " ⠦ Container cassandra2  Stopping                                          \u001b[34m0.7s \u001b[0m\n",
      "\u001b[?25h\u001b[1A\u001b[1A\u001b[1A\u001b[0G\u001b[?25l[+] Running 1/2\n",
      " \u001b[32m✔\u001b[0m Container cassandra3  \u001b[32mRemoved\u001b[0m                                          \u001b[34m12.3s \u001b[0m\n",
      " ⠧ Container cassandra2  Stopping                                          \u001b[34m0.8s \u001b[0m\n",
      "\u001b[?25h\u001b[1A\u001b[1A\u001b[1A\u001b[0G\u001b[?25l[+] Running 1/2\n",
      " \u001b[32m✔\u001b[0m Container cassandra3  \u001b[32mRemoved\u001b[0m                                          \u001b[34m12.3s \u001b[0m\n",
      " ⠇ Container cassandra2  Stopping                                          \u001b[34m0.9s \u001b[0m\n",
      "\u001b[?25h\u001b[1A\u001b[1A\u001b[1A\u001b[0G\u001b[?25l[+] Running 1/2\n",
      " \u001b[32m✔\u001b[0m Container cassandra3  \u001b[32mRemoved\u001b[0m                                          \u001b[34m12.3s \u001b[0m\n",
      " ⠏ Container cassandra2  Stopping                                          \u001b[34m1.0s \u001b[0m\n",
      "\u001b[?25h\u001b[1A\u001b[1A\u001b[1A\u001b[0G\u001b[?25l[+] Running 1/2\n",
      " \u001b[32m✔\u001b[0m Container cassandra3  \u001b[32mRemoved\u001b[0m                                          \u001b[34m12.3s \u001b[0m\n",
      " ⠋ Container cassandra2  Stopping                                          \u001b[34m1.1s \u001b[0m\n",
      "\u001b[?25h\u001b[1A\u001b[1A\u001b[1A\u001b[0G\u001b[?25l[+] Running 1/2\n",
      " \u001b[32m✔\u001b[0m Container cassandra3  \u001b[32mRemoved\u001b[0m                                          \u001b[34m12.3s \u001b[0m\n",
      " ⠙ Container cassandra2  Stopping                                          \u001b[34m1.2s \u001b[0m\n",
      "\u001b[?25h\u001b[1A\u001b[1A\u001b[1A\u001b[0G\u001b[?25l[+] Running 1/2\n",
      " \u001b[32m✔\u001b[0m Container cassandra3  \u001b[32mRemoved\u001b[0m                                          \u001b[34m12.3s \u001b[0m\n",
      " ⠹ Container cassandra2  Stopping                                          \u001b[34m1.3s \u001b[0m\n",
      "\u001b[?25h\u001b[1A\u001b[1A\u001b[1A\u001b[0G\u001b[?25l[+] Running 1/2\n",
      " \u001b[32m✔\u001b[0m Container cassandra3  \u001b[32mRemoved\u001b[0m                                          \u001b[34m12.3s \u001b[0m\n",
      " ⠸ Container cassandra2  Stopping                                          \u001b[34m1.4s \u001b[0m\n",
      "\u001b[?25h\u001b[1A\u001b[1A\u001b[1A\u001b[0G\u001b[?25l[+] Running 1/2\n",
      " \u001b[32m✔\u001b[0m Container cassandra3  \u001b[32mRemoved\u001b[0m                                          \u001b[34m12.3s \u001b[0m\n",
      " ⠼ Container cassandra2  Stopping                                          \u001b[34m1.5s \u001b[0m\n",
      "\u001b[?25h\u001b[1A\u001b[1A\u001b[1A\u001b[0G\u001b[?25l[+] Running 1/2\n",
      " \u001b[32m✔\u001b[0m Container cassandra3  \u001b[32mRemoved\u001b[0m                                          \u001b[34m12.3s \u001b[0m\n",
      " ⠴ Container cassandra2  Stopping                                          \u001b[34m1.6s \u001b[0m\n",
      "\u001b[?25h\u001b[1A\u001b[1A\u001b[1A\u001b[0G\u001b[?25l[+] Running 1/2\n",
      " \u001b[32m✔\u001b[0m Container cassandra3  \u001b[32mRemoved\u001b[0m                                          \u001b[34m12.3s \u001b[0m\n",
      " ⠦ Container cassandra2  Stopping                                          \u001b[34m1.7s \u001b[0m\n",
      "\u001b[?25h\u001b[1A\u001b[1A\u001b[1A\u001b[0G\u001b[?25l[+] Running 1/2\n",
      " \u001b[32m✔\u001b[0m Container cassandra3  \u001b[32mRemoved\u001b[0m                                          \u001b[34m12.3s \u001b[0m\n",
      " ⠧ Container cassandra2  Stopping                                          \u001b[34m1.8s \u001b[0m\n",
      "\u001b[?25h\u001b[1A\u001b[1A\u001b[1A\u001b[0G\u001b[?25l[+] Running 1/2\n",
      " \u001b[32m✔\u001b[0m Container cassandra3  \u001b[32mRemoved\u001b[0m                                          \u001b[34m12.3s \u001b[0m\n",
      " ⠇ Container cassandra2  Stopping                                          \u001b[34m1.9s \u001b[0m\n",
      "\u001b[?25h\u001b[1A\u001b[1A\u001b[1A\u001b[0G\u001b[?25l[+] Running 1/2\n",
      " \u001b[32m✔\u001b[0m Container cassandra3  \u001b[32mRemoved\u001b[0m                                          \u001b[34m12.3s \u001b[0m\n",
      " ⠏ Container cassandra2  Stopping                                          \u001b[34m2.0s \u001b[0m\n",
      "\u001b[?25h\u001b[1A\u001b[1A\u001b[1A\u001b[0G\u001b[?25l[+] Running 1/2\n",
      " \u001b[32m✔\u001b[0m Container cassandra3  \u001b[32mRemoved\u001b[0m                                          \u001b[34m12.3s \u001b[0m\n",
      " ⠋ Container cassandra2  Stopping                                          \u001b[34m2.1s \u001b[0m\n",
      "\u001b[?25h\u001b[1A\u001b[1A\u001b[1A\u001b[0G\u001b[?25l[+] Running 1/2\n",
      " \u001b[32m✔\u001b[0m Container cassandra3  \u001b[32mRemoved\u001b[0m                                          \u001b[34m12.3s \u001b[0m\n",
      " ⠙ Container cassandra2  Stopping                                          \u001b[34m2.2s \u001b[0m\n",
      "\u001b[?25h\u001b[1A\u001b[1A\u001b[1A\u001b[0G\u001b[?25l[+] Running 1/2\n",
      " \u001b[32m✔\u001b[0m Container cassandra3  \u001b[32mRemoved\u001b[0m                                          \u001b[34m12.3s \u001b[0m\n",
      " ⠹ Container cassandra2  Stopping                                          \u001b[34m2.3s \u001b[0m\n",
      "\u001b[?25h\u001b[1A\u001b[1A\u001b[1A\u001b[0G\u001b[?25l[+] Running 1/2\n",
      " \u001b[32m✔\u001b[0m Container cassandra3  \u001b[32mRemoved\u001b[0m                                          \u001b[34m12.3s \u001b[0m\n",
      " ⠸ Container cassandra2  Stopping                                          \u001b[34m2.4s \u001b[0m\n",
      "\u001b[?25h\u001b[1A\u001b[1A\u001b[1A\u001b[0G\u001b[?25l[+] Running 1/2\n",
      " \u001b[32m✔\u001b[0m Container cassandra3  \u001b[32mRemoved\u001b[0m                                          \u001b[34m12.3s \u001b[0m\n",
      " ⠼ Container cassandra2  Stopping                                          \u001b[34m2.5s \u001b[0m\n",
      "\u001b[?25h\u001b[1A\u001b[1A\u001b[1A\u001b[0G\u001b[?25l[+] Running 1/2\n",
      " \u001b[32m✔\u001b[0m Container cassandra3  \u001b[32mRemoved\u001b[0m                                          \u001b[34m12.3s \u001b[0m\n",
      " ⠴ Container cassandra2  Stopping                                          \u001b[34m2.6s \u001b[0m\n",
      "\u001b[?25h\u001b[1A\u001b[1A\u001b[1A\u001b[0G\u001b[?25l[+] Running 1/2\n",
      " \u001b[32m✔\u001b[0m Container cassandra3  \u001b[32mRemoved\u001b[0m                                          \u001b[34m12.3s \u001b[0m\n",
      " ⠦ Container cassandra2  Stopping                                          \u001b[34m2.7s \u001b[0m\n",
      "\u001b[?25h\u001b[1A\u001b[1A\u001b[1A\u001b[0G\u001b[?25l[+] Running 1/2\n",
      " \u001b[32m✔\u001b[0m Container cassandra3  \u001b[32mRemoved\u001b[0m                                          \u001b[34m12.3s \u001b[0m\n",
      " ⠧ Container cassandra2  Stopping                                          \u001b[34m2.8s \u001b[0m\n",
      "\u001b[?25h\u001b[1A\u001b[1A\u001b[1A\u001b[0G\u001b[?25l[+] Running 1/2\n",
      " \u001b[32m✔\u001b[0m Container cassandra3  \u001b[32mRemoved\u001b[0m                                          \u001b[34m12.3s \u001b[0m\n",
      " ⠇ Container cassandra2  Stopping                                          \u001b[34m2.9s \u001b[0m\n",
      "\u001b[?25h\u001b[1A\u001b[1A\u001b[1A\u001b[0G\u001b[?25l[+] Running 1/2\n",
      " \u001b[32m✔\u001b[0m Container cassandra3  \u001b[32mRemoved\u001b[0m                                          \u001b[34m12.3s \u001b[0m\n",
      " ⠏ Container cassandra2  Stopping                                          \u001b[34m3.0s \u001b[0m\n",
      "\u001b[?25h\u001b[1A\u001b[1A\u001b[1A\u001b[0G\u001b[?25l[+] Running 1/2\n",
      " \u001b[32m✔\u001b[0m Container cassandra3  \u001b[32mRemoved\u001b[0m                                          \u001b[34m12.3s \u001b[0m\n",
      " ⠋ Container cassandra2  Stopping                                          \u001b[34m3.1s \u001b[0m\n",
      "\u001b[?25h\u001b[1A\u001b[1A\u001b[1A\u001b[0G\u001b[?25l[+] Running 1/2\n",
      " \u001b[32m✔\u001b[0m Container cassandra3  \u001b[32mRemoved\u001b[0m                                          \u001b[34m12.3s \u001b[0m\n",
      " ⠙ Container cassandra2  Stopping                                          \u001b[34m3.2s \u001b[0m\n",
      "\u001b[?25h\u001b[1A\u001b[1A\u001b[1A\u001b[0G\u001b[?25l[+] Running 1/2\n",
      " \u001b[32m✔\u001b[0m Container cassandra3  \u001b[32mRemoved\u001b[0m                                          \u001b[34m12.3s \u001b[0m\n",
      " ⠹ Container cassandra2  Stopping                                          \u001b[34m3.3s \u001b[0m\n",
      "\u001b[?25h\u001b[1A\u001b[1A\u001b[1A\u001b[0G\u001b[?25l[+] Running 1/2\n",
      " \u001b[32m✔\u001b[0m Container cassandra3  \u001b[32mRemoved\u001b[0m                                          \u001b[34m12.3s \u001b[0m\n",
      " ⠸ Container cassandra2  Stopping                                          \u001b[34m3.4s \u001b[0m\n",
      "\u001b[?25h\u001b[1A\u001b[1A\u001b[1A\u001b[0G\u001b[?25l[+] Running 1/2\n",
      " \u001b[32m✔\u001b[0m Container cassandra3  \u001b[32mRemoved\u001b[0m                                          \u001b[34m12.3s \u001b[0m\n",
      " ⠼ Container cassandra2  Stopping                                          \u001b[34m3.5s \u001b[0m\n",
      "\u001b[?25h\u001b[1A\u001b[1A\u001b[1A\u001b[0G\u001b[?25l[+] Running 1/2\n",
      " \u001b[32m✔\u001b[0m Container cassandra3  \u001b[32mRemoved\u001b[0m                                          \u001b[34m12.3s \u001b[0m\n",
      " ⠴ Container cassandra2  Stopping                                          \u001b[34m3.6s \u001b[0m\n",
      "\u001b[?25h\u001b[1A\u001b[1A\u001b[1A\u001b[0G\u001b[?25l[+] Running 1/2\n",
      " \u001b[32m✔\u001b[0m Container cassandra3  \u001b[32mRemoved\u001b[0m                                          \u001b[34m12.3s \u001b[0m\n",
      " ⠦ Container cassandra2  Stopping                                          \u001b[34m3.7s \u001b[0m\n",
      "\u001b[?25h\u001b[1A\u001b[1A\u001b[1A\u001b[0G\u001b[?25l[+] Running 1/2\n",
      " \u001b[32m✔\u001b[0m Container cassandra3  \u001b[32mRemoved\u001b[0m                                          \u001b[34m12.3s \u001b[0m\n",
      " ⠧ Container cassandra2  Stopping                                          \u001b[34m3.8s \u001b[0m\n",
      "\u001b[?25h\u001b[1A\u001b[1A\u001b[1A\u001b[0G\u001b[?25l[+] Running 1/2\n",
      " \u001b[32m✔\u001b[0m Container cassandra3  \u001b[32mRemoved\u001b[0m                                          \u001b[34m12.3s \u001b[0m\n",
      " ⠇ Container cassandra2  Stopping                                          \u001b[34m3.9s \u001b[0m\n",
      "\u001b[?25h\u001b[1A\u001b[1A\u001b[1A\u001b[0G\u001b[?25l[+] Running 1/2\n",
      " \u001b[32m✔\u001b[0m Container cassandra3  \u001b[32mRemoved\u001b[0m                                          \u001b[34m12.3s \u001b[0m\n",
      " ⠏ Container cassandra2  Stopping                                          \u001b[34m4.0s \u001b[0m\n",
      "\u001b[?25h\u001b[1A\u001b[1A\u001b[1A\u001b[0G\u001b[?25l[+] Running 1/2\n",
      " \u001b[32m✔\u001b[0m Container cassandra3  \u001b[32mRemoved\u001b[0m                                          \u001b[34m12.3s \u001b[0m\n",
      " ⠋ Container cassandra2  Stopping                                          \u001b[34m4.1s \u001b[0m\n",
      "\u001b[?25h\u001b[1A\u001b[1A\u001b[1A\u001b[0G\u001b[?25l[+] Running 1/2\n",
      " \u001b[32m✔\u001b[0m Container cassandra3  \u001b[32mRemoved\u001b[0m                                          \u001b[34m12.3s \u001b[0m\n",
      " ⠙ Container cassandra2  Stopping                                          \u001b[34m4.2s \u001b[0m\n",
      "\u001b[?25h\u001b[1A\u001b[1A\u001b[1A\u001b[0G\u001b[?25l[+] Running 1/2\n",
      " \u001b[32m✔\u001b[0m Container cassandra3  \u001b[32mRemoved\u001b[0m                                          \u001b[34m12.3s \u001b[0m\n",
      " ⠹ Container cassandra2  Stopping                                          \u001b[34m4.3s \u001b[0m\n",
      "\u001b[?25h\u001b[1A\u001b[1A\u001b[1A\u001b[0G\u001b[?25l[+] Running 1/2\n",
      " \u001b[32m✔\u001b[0m Container cassandra3  \u001b[32mRemoved\u001b[0m                                          \u001b[34m12.3s \u001b[0m\n",
      " ⠸ Container cassandra2  Stopping                                          \u001b[34m4.4s \u001b[0m\n",
      "\u001b[?25h\u001b[1A\u001b[1A\u001b[1A\u001b[0G\u001b[?25l[+] Running 1/2\n",
      " \u001b[32m✔\u001b[0m Container cassandra3  \u001b[32mRemoved\u001b[0m                                          \u001b[34m12.3s \u001b[0m\n",
      " ⠼ Container cassandra2  Stopping                                          \u001b[34m4.5s \u001b[0m\n",
      "\u001b[?25h\u001b[1A\u001b[1A\u001b[1A\u001b[0G\u001b[?25l[+] Running 1/2\n",
      " \u001b[32m✔\u001b[0m Container cassandra3  \u001b[32mRemoved\u001b[0m                                          \u001b[34m12.3s \u001b[0m\n",
      " ⠴ Container cassandra2  Stopping                                          \u001b[34m4.6s \u001b[0m\n",
      "\u001b[?25h\u001b[1A\u001b[1A\u001b[1A\u001b[0G\u001b[?25l[+] Running 1/2\n",
      " \u001b[32m✔\u001b[0m Container cassandra3  \u001b[32mRemoved\u001b[0m                                          \u001b[34m12.3s \u001b[0m\n",
      " ⠦ Container cassandra2  Stopping                                          \u001b[34m4.7s \u001b[0m\n",
      "\u001b[?25h\u001b[1A\u001b[1A\u001b[1A\u001b[0G\u001b[?25l[+] Running 1/2\n",
      " \u001b[32m✔\u001b[0m Container cassandra3  \u001b[32mRemoved\u001b[0m                                          \u001b[34m12.3s \u001b[0m\n",
      " ⠧ Container cassandra2  Stopping                                          \u001b[34m4.8s \u001b[0m\n",
      "\u001b[?25h\u001b[1A\u001b[1A\u001b[1A\u001b[0G\u001b[?25l[+] Running 1/2\n",
      " \u001b[32m✔\u001b[0m Container cassandra3  \u001b[32mRemoved\u001b[0m                                          \u001b[34m12.3s \u001b[0m\n",
      " ⠇ Container cassandra2  Stopping                                          \u001b[34m4.9s \u001b[0m\n",
      "\u001b[?25h\u001b[1A\u001b[1A\u001b[1A\u001b[0G\u001b[?25l[+] Running 1/2\n",
      " \u001b[32m✔\u001b[0m Container cassandra3  \u001b[32mRemoved\u001b[0m                                          \u001b[34m12.3s \u001b[0m\n",
      " ⠏ Container cassandra2  Stopping                                          \u001b[34m5.0s \u001b[0m\n",
      "\u001b[?25h\u001b[1A\u001b[1A\u001b[1A\u001b[0G\u001b[?25l[+] Running 1/2\n",
      " \u001b[32m✔\u001b[0m Container cassandra3  \u001b[32mRemoved\u001b[0m                                          \u001b[34m12.3s \u001b[0m\n",
      " ⠋ Container cassandra2  Stopping                                          \u001b[34m5.1s \u001b[0m\n",
      "\u001b[?25h\u001b[1A\u001b[1A\u001b[1A\u001b[0G\u001b[?25l[+] Running 1/2\n",
      " \u001b[32m✔\u001b[0m Container cassandra3  \u001b[32mRemoved\u001b[0m                                          \u001b[34m12.3s \u001b[0m\n",
      " ⠙ Container cassandra2  Stopping                                          \u001b[34m5.2s \u001b[0m\n",
      "\u001b[?25h\u001b[1A\u001b[1A\u001b[1A\u001b[0G\u001b[?25l[+] Running 1/2\n",
      " \u001b[32m✔\u001b[0m Container cassandra3  \u001b[32mRemoved\u001b[0m                                          \u001b[34m12.3s \u001b[0m\n",
      " ⠹ Container cassandra2  Stopping                                          \u001b[34m5.3s \u001b[0m\n",
      "\u001b[?25h\u001b[1A\u001b[1A\u001b[1A\u001b[0G\u001b[?25l[+] Running 1/2\n",
      " \u001b[32m✔\u001b[0m Container cassandra3  \u001b[32mRemoved\u001b[0m                                          \u001b[34m12.3s \u001b[0m\n",
      " ⠸ Container cassandra2  Stopping                                          \u001b[34m5.4s \u001b[0m\n",
      "\u001b[?25h\u001b[1A\u001b[1A\u001b[1A\u001b[0G\u001b[?25l[+] Running 1/2\n",
      " \u001b[32m✔\u001b[0m Container cassandra3  \u001b[32mRemoved\u001b[0m                                          \u001b[34m12.3s \u001b[0m\n",
      " ⠼ Container cassandra2  Stopping                                          \u001b[34m5.5s \u001b[0m\n",
      "\u001b[?25h\u001b[1A\u001b[1A\u001b[1A\u001b[0G\u001b[?25l[+] Running 1/2\n",
      " \u001b[32m✔\u001b[0m Container cassandra3  \u001b[32mRemoved\u001b[0m                                          \u001b[34m12.3s \u001b[0m\n",
      " ⠴ Container cassandra2  Stopping                                          \u001b[34m5.6s \u001b[0m\n",
      "\u001b[?25h\u001b[1A\u001b[1A\u001b[1A\u001b[0G\u001b[?25l[+] Running 1/2\n",
      " \u001b[32m✔\u001b[0m Container cassandra3  \u001b[32mRemoved\u001b[0m                                          \u001b[34m12.3s \u001b[0m\n",
      " ⠦ Container cassandra2  Stopping                                          \u001b[34m5.7s \u001b[0m\n",
      "\u001b[?25h\u001b[1A\u001b[1A\u001b[1A\u001b[0G\u001b[?25l[+] Running 1/2\n",
      " \u001b[32m✔\u001b[0m Container cassandra3  \u001b[32mRemoved\u001b[0m                                          \u001b[34m12.3s \u001b[0m\n",
      " ⠧ Container cassandra2  Stopping                                          \u001b[34m5.8s \u001b[0m\n",
      "\u001b[?25h\u001b[1A\u001b[1A\u001b[1A\u001b[0G\u001b[?25l[+] Running 1/2\n",
      " \u001b[32m✔\u001b[0m Container cassandra3  \u001b[32mRemoved\u001b[0m                                          \u001b[34m12.3s \u001b[0m\n",
      " ⠇ Container cassandra2  Stopping                                          \u001b[34m5.9s \u001b[0m\n",
      "\u001b[?25h\u001b[1A\u001b[1A\u001b[1A\u001b[0G\u001b[?25l[+] Running 1/2\n",
      " \u001b[32m✔\u001b[0m Container cassandra3  \u001b[32mRemoved\u001b[0m                                          \u001b[34m12.3s \u001b[0m\n",
      " ⠏ Container cassandra2  Stopping                                          \u001b[34m6.0s \u001b[0m\n",
      "\u001b[?25h\u001b[1A\u001b[1A\u001b[1A\u001b[0G\u001b[?25l[+] Running 1/2\n",
      " \u001b[32m✔\u001b[0m Container cassandra3  \u001b[32mRemoved\u001b[0m                                          \u001b[34m12.3s \u001b[0m\n",
      " ⠋ Container cassandra2  Stopping                                          \u001b[34m6.1s \u001b[0m\n",
      "\u001b[?25h\u001b[1A\u001b[1A\u001b[1A\u001b[0G\u001b[?25l[+] Running 1/2\n",
      " \u001b[32m✔\u001b[0m Container cassandra3  \u001b[32mRemoved\u001b[0m                                          \u001b[34m12.3s \u001b[0m\n",
      " ⠙ Container cassandra2  Stopping                                          \u001b[34m6.2s \u001b[0m\n",
      "\u001b[?25h\u001b[1A\u001b[1A\u001b[1A\u001b[0G\u001b[?25l[+] Running 1/2\n",
      " \u001b[32m✔\u001b[0m Container cassandra3  \u001b[32mRemoved\u001b[0m                                          \u001b[34m12.3s \u001b[0m\n",
      " ⠹ Container cassandra2  Stopping                                          \u001b[34m6.3s \u001b[0m\n",
      "\u001b[?25h\u001b[1A\u001b[1A\u001b[1A\u001b[0G\u001b[?25l[+] Running 1/2\n",
      " \u001b[32m✔\u001b[0m Container cassandra3  \u001b[32mRemoved\u001b[0m                                          \u001b[34m12.3s \u001b[0m\n",
      " ⠸ Container cassandra2  Stopping                                          \u001b[34m6.4s \u001b[0m\n",
      "\u001b[?25h\u001b[1A\u001b[1A\u001b[1A\u001b[0G\u001b[?25l[+] Running 1/2\n",
      " \u001b[32m✔\u001b[0m Container cassandra3  \u001b[32mRemoved\u001b[0m                                          \u001b[34m12.3s \u001b[0m\n",
      " ⠼ Container cassandra2  Stopping                                          \u001b[34m6.5s \u001b[0m\n",
      "\u001b[?25h\u001b[1A\u001b[1A\u001b[1A\u001b[0G\u001b[?25l[+] Running 1/2\n",
      " \u001b[32m✔\u001b[0m Container cassandra3  \u001b[32mRemoved\u001b[0m                                          \u001b[34m12.3s \u001b[0m\n",
      " ⠴ Container cassandra2  Stopping                                          \u001b[34m6.6s \u001b[0m\n",
      "\u001b[?25h\u001b[1A\u001b[1A\u001b[1A\u001b[0G\u001b[?25l[+] Running 1/2\n",
      " \u001b[32m✔\u001b[0m Container cassandra3  \u001b[32mRemoved\u001b[0m                                          \u001b[34m12.3s \u001b[0m\n",
      " ⠦ Container cassandra2  Stopping                                          \u001b[34m6.7s \u001b[0m\n",
      "\u001b[?25h\u001b[1A\u001b[1A\u001b[1A\u001b[0G\u001b[?25l[+] Running 1/2\n",
      " \u001b[32m✔\u001b[0m Container cassandra3  \u001b[32mRemoved\u001b[0m                                          \u001b[34m12.3s \u001b[0m\n",
      " ⠧ Container cassandra2  Stopping                                          \u001b[34m6.8s \u001b[0m\n",
      "\u001b[?25h\u001b[1A\u001b[1A\u001b[1A\u001b[0G\u001b[?25l[+] Running 1/2\n",
      " \u001b[32m✔\u001b[0m Container cassandra3  \u001b[32mRemoved\u001b[0m                                          \u001b[34m12.3s \u001b[0m\n",
      " ⠇ Container cassandra2  Stopping                                          \u001b[34m6.9s \u001b[0m\n",
      "\u001b[?25h\u001b[1A\u001b[1A\u001b[1A\u001b[0G\u001b[?25l[+] Running 1/2\n",
      " \u001b[32m✔\u001b[0m Container cassandra3  \u001b[32mRemoved\u001b[0m                                          \u001b[34m12.3s \u001b[0m\n",
      " ⠏ Container cassandra2  Stopping                                          \u001b[34m7.0s \u001b[0m\n",
      "\u001b[?25h\u001b[1A\u001b[1A\u001b[1A\u001b[0G\u001b[?25l[+] Running 1/2\n",
      " \u001b[32m✔\u001b[0m Container cassandra3  \u001b[32mRemoved\u001b[0m                                          \u001b[34m12.3s \u001b[0m\n",
      " ⠋ Container cassandra2  Stopping                                          \u001b[34m7.1s \u001b[0m\n",
      "\u001b[?25h\u001b[1A\u001b[1A\u001b[1A\u001b[0G\u001b[?25l[+] Running 1/2\n",
      " \u001b[32m✔\u001b[0m Container cassandra3  \u001b[32mRemoved\u001b[0m                                          \u001b[34m12.3s \u001b[0m\n",
      " ⠙ Container cassandra2  Stopping                                          \u001b[34m7.2s \u001b[0m\n",
      "\u001b[?25h\u001b[1A\u001b[1A\u001b[1A\u001b[0G\u001b[?25l[+] Running 1/2\n",
      " \u001b[32m✔\u001b[0m Container cassandra3  \u001b[32mRemoved\u001b[0m                                          \u001b[34m12.3s \u001b[0m\n",
      " ⠹ Container cassandra2  Stopping                                          \u001b[34m7.3s \u001b[0m\n",
      "\u001b[?25h\u001b[1A\u001b[1A\u001b[1A\u001b[0G\u001b[?25l[+] Running 1/2\n",
      " \u001b[32m✔\u001b[0m Container cassandra3  \u001b[32mRemoved\u001b[0m                                          \u001b[34m12.3s \u001b[0m\n",
      " ⠸ Container cassandra2  Stopping                                          \u001b[34m7.4s \u001b[0m\n",
      "\u001b[?25h\u001b[1A\u001b[1A\u001b[1A\u001b[0G\u001b[?25l[+] Running 1/2\n",
      " \u001b[32m✔\u001b[0m Container cassandra3  \u001b[32mRemoved\u001b[0m                                          \u001b[34m12.3s \u001b[0m\n",
      " ⠼ Container cassandra2  Stopping                                          \u001b[34m7.5s \u001b[0m\n",
      "\u001b[?25h\u001b[1A\u001b[1A\u001b[1A\u001b[0G\u001b[?25l[+] Running 1/2\n",
      " \u001b[32m✔\u001b[0m Container cassandra3  \u001b[32mRemoved\u001b[0m                                          \u001b[34m12.3s \u001b[0m\n",
      " ⠴ Container cassandra2  Stopping                                          \u001b[34m7.6s \u001b[0m\n",
      "\u001b[?25h\u001b[1A\u001b[1A\u001b[1A\u001b[0G\u001b[?25l[+] Running 1/2\n",
      " \u001b[32m✔\u001b[0m Container cassandra3  \u001b[32mRemoved\u001b[0m                                          \u001b[34m12.3s \u001b[0m\n",
      " ⠦ Container cassandra2  Stopping                                          \u001b[34m7.7s \u001b[0m\n",
      "\u001b[?25h\u001b[1A\u001b[1A\u001b[1A\u001b[0G\u001b[?25l[+] Running 1/2\n",
      " \u001b[32m✔\u001b[0m Container cassandra3  \u001b[32mRemoved\u001b[0m                                          \u001b[34m12.3s \u001b[0m\n",
      " ⠧ Container cassandra2  Stopping                                          \u001b[34m7.8s \u001b[0m\n",
      "\u001b[?25h\u001b[1A\u001b[1A\u001b[1A\u001b[0G\u001b[?25l[+] Running 1/2\n",
      " \u001b[32m✔\u001b[0m Container cassandra3  \u001b[32mRemoved\u001b[0m                                          \u001b[34m12.3s \u001b[0m\n",
      " ⠇ Container cassandra2  Stopping                                          \u001b[34m7.9s \u001b[0m\n",
      "\u001b[?25h\u001b[1A\u001b[1A\u001b[1A\u001b[0G\u001b[?25l[+] Running 1/2\n",
      " \u001b[32m✔\u001b[0m Container cassandra3  \u001b[32mRemoved\u001b[0m                                          \u001b[34m12.3s \u001b[0m\n",
      " ⠏ Container cassandra2  Stopping                                          \u001b[34m8.0s \u001b[0m\n",
      "\u001b[?25h\u001b[1A\u001b[1A\u001b[1A\u001b[0G\u001b[?25l[+] Running 1/2\n",
      " \u001b[32m✔\u001b[0m Container cassandra3  \u001b[32mRemoved\u001b[0m                                          \u001b[34m12.3s \u001b[0m\n",
      " ⠋ Container cassandra2  Stopping                                          \u001b[34m8.1s \u001b[0m\n",
      "\u001b[?25h\u001b[1A\u001b[1A\u001b[1A\u001b[0G\u001b[?25l[+] Running 1/2\n",
      " \u001b[32m✔\u001b[0m Container cassandra3  \u001b[32mRemoved\u001b[0m                                          \u001b[34m12.3s \u001b[0m\n",
      " ⠙ Container cassandra2  Stopping                                          \u001b[34m8.2s \u001b[0m\n",
      "\u001b[?25h\u001b[1A\u001b[1A\u001b[1A\u001b[0G\u001b[?25l[+] Running 1/2\n",
      " \u001b[32m✔\u001b[0m Container cassandra3  \u001b[32mRemoved\u001b[0m                                          \u001b[34m12.3s \u001b[0m\n",
      " ⠹ Container cassandra2  Stopping                                          \u001b[34m8.3s \u001b[0m\n",
      "\u001b[?25h\u001b[1A\u001b[1A\u001b[1A\u001b[0G\u001b[?25l[+] Running 1/2\n",
      " \u001b[32m✔\u001b[0m Container cassandra3  \u001b[32mRemoved\u001b[0m                                          \u001b[34m12.3s \u001b[0m\n",
      " ⠸ Container cassandra2  Stopping                                          \u001b[34m8.4s \u001b[0m\n",
      "\u001b[?25h\u001b[1A\u001b[1A\u001b[1A\u001b[0G\u001b[?25l[+] Running 1/2\n",
      " \u001b[32m✔\u001b[0m Container cassandra3  \u001b[32mRemoved\u001b[0m                                          \u001b[34m12.3s \u001b[0m\n",
      " ⠼ Container cassandra2  Stopping                                          \u001b[34m8.5s \u001b[0m\n",
      "\u001b[?25h\u001b[1A\u001b[1A\u001b[1A\u001b[0G\u001b[?25l[+] Running 1/2\n",
      " \u001b[32m✔\u001b[0m Container cassandra3  \u001b[32mRemoved\u001b[0m                                          \u001b[34m12.3s \u001b[0m\n",
      " ⠴ Container cassandra2  Stopping                                          \u001b[34m8.6s \u001b[0m\n",
      "\u001b[?25h\u001b[1A\u001b[1A\u001b[1A\u001b[0G\u001b[?25l[+] Running 1/2\n",
      " \u001b[32m✔\u001b[0m Container cassandra3  \u001b[32mRemoved\u001b[0m                                          \u001b[34m12.3s \u001b[0m\n",
      " ⠦ Container cassandra2  Stopping                                          \u001b[34m8.7s \u001b[0m\n",
      "\u001b[?25h\u001b[1A\u001b[1A\u001b[1A\u001b[0G\u001b[?25l[+] Running 1/2\n",
      " \u001b[32m✔\u001b[0m Container cassandra3  \u001b[32mRemoved\u001b[0m                                          \u001b[34m12.3s \u001b[0m\n",
      " ⠧ Container cassandra2  Stopping                                          \u001b[34m8.8s \u001b[0m\n",
      "\u001b[?25h\u001b[1A\u001b[1A\u001b[1A\u001b[0G\u001b[?25l[+] Running 1/2\n",
      " \u001b[32m✔\u001b[0m Container cassandra3  \u001b[32mRemoved\u001b[0m                                          \u001b[34m12.3s \u001b[0m\n",
      " ⠇ Container cassandra2  Stopping                                          \u001b[34m8.9s \u001b[0m\n",
      "\u001b[?25h\u001b[1A\u001b[1A\u001b[1A\u001b[0G\u001b[?25l[+] Running 1/2\n",
      " \u001b[32m✔\u001b[0m Container cassandra3  \u001b[32mRemoved\u001b[0m                                          \u001b[34m12.3s \u001b[0m\n",
      " ⠏ Container cassandra2  Stopping                                          \u001b[34m9.0s \u001b[0m\n",
      "\u001b[?25h\u001b[1A\u001b[1A\u001b[1A\u001b[0G\u001b[?25l[+] Running 1/2\n",
      " \u001b[32m✔\u001b[0m Container cassandra3  \u001b[32mRemoved\u001b[0m                                          \u001b[34m12.3s \u001b[0m\n",
      " ⠋ Container cassandra2  Stopping                                          \u001b[34m9.1s \u001b[0m\n",
      "\u001b[?25h\u001b[1A\u001b[1A\u001b[1A\u001b[0G\u001b[?25l[+] Running 1/2\n",
      " \u001b[32m✔\u001b[0m Container cassandra3  \u001b[32mRemoved\u001b[0m                                          \u001b[34m12.3s \u001b[0m\n",
      " ⠙ Container cassandra2  Stopping                                          \u001b[34m9.2s \u001b[0m\n",
      "\u001b[?25h\u001b[1A\u001b[1A\u001b[1A\u001b[0G\u001b[?25l[+] Running 1/2\n",
      " \u001b[32m✔\u001b[0m Container cassandra3  \u001b[32mRemoved\u001b[0m                                          \u001b[34m12.3s \u001b[0m\n",
      " ⠹ Container cassandra2  Stopping                                          \u001b[34m9.3s \u001b[0m\n",
      "\u001b[?25h\u001b[1A\u001b[1A\u001b[1A\u001b[0G\u001b[?25l[+] Running 1/2\n",
      " \u001b[32m✔\u001b[0m Container cassandra3  \u001b[32mRemoved\u001b[0m                                          \u001b[34m12.3s \u001b[0m\n",
      " ⠸ Container cassandra2  Stopping                                          \u001b[34m9.4s \u001b[0m\n",
      "\u001b[?25h\u001b[1A\u001b[1A\u001b[1A\u001b[0G\u001b[?25l[+] Running 1/2\n",
      " \u001b[32m✔\u001b[0m Container cassandra3  \u001b[32mRemoved\u001b[0m                                          \u001b[34m12.3s \u001b[0m\n",
      " ⠼ Container cassandra2  Stopping                                          \u001b[34m9.5s \u001b[0m\n",
      "\u001b[?25h\u001b[1A\u001b[1A\u001b[1A\u001b[0G\u001b[?25l[+] Running 1/2\n",
      " \u001b[32m✔\u001b[0m Container cassandra3  \u001b[32mRemoved\u001b[0m                                          \u001b[34m12.3s \u001b[0m\n",
      " ⠴ Container cassandra2  Stopping                                          \u001b[34m9.6s \u001b[0m\n",
      "\u001b[?25h\u001b[1A\u001b[1A\u001b[1A\u001b[0G\u001b[?25l[+] Running 1/2\n",
      " \u001b[32m✔\u001b[0m Container cassandra3  \u001b[32mRemoved\u001b[0m                                          \u001b[34m12.3s \u001b[0m\n",
      " ⠦ Container cassandra2  Stopping                                          \u001b[34m9.7s \u001b[0m\n",
      "\u001b[?25h\u001b[1A\u001b[1A\u001b[1A\u001b[0G\u001b[?25l[+] Running 1/2\n",
      " \u001b[32m✔\u001b[0m Container cassandra3  \u001b[32mRemoved\u001b[0m                                          \u001b[34m12.3s \u001b[0m\n",
      " ⠧ Container cassandra2  Stopping                                          \u001b[34m9.8s \u001b[0m\n",
      "\u001b[?25h\u001b[1A\u001b[1A\u001b[1A\u001b[0G\u001b[?25l[+] Running 1/2\n",
      " \u001b[32m✔\u001b[0m Container cassandra3  \u001b[32mRemoved\u001b[0m                                          \u001b[34m12.3s \u001b[0m\n",
      " ⠇ Container cassandra2  Stopping                                          \u001b[34m9.9s \u001b[0m\n",
      "\u001b[?25h\u001b[1A\u001b[1A\u001b[1A\u001b[0G\u001b[?25l[+] Running 1/2\n",
      " \u001b[32m✔\u001b[0m Container cassandra3  \u001b[32mRemoved\u001b[0m                                          \u001b[34m12.3s \u001b[0m\n",
      " ⠏ Container cassandra2  Stopping                                         \u001b[34m10.0s \u001b[0m\n",
      "\u001b[?25h\u001b[1A\u001b[1A\u001b[1A\u001b[0G\u001b[?25l[+] Running 1/2\n",
      " \u001b[32m✔\u001b[0m Container cassandra3  \u001b[32mRemoved\u001b[0m                                          \u001b[34m12.3s \u001b[0m\n",
      " ⠋ Container cassandra2  Stopping                                         \u001b[34m10.1s \u001b[0m\n",
      "\u001b[?25h\u001b[1A\u001b[1A\u001b[1A\u001b[0G\u001b[?25l[+] Running 1/2\n",
      " \u001b[32m✔\u001b[0m Container cassandra3  \u001b[32mRemoved\u001b[0m                                          \u001b[34m12.3s \u001b[0m\n",
      " ⠙ Container cassandra2  Stopping                                         \u001b[34m10.2s \u001b[0m\n",
      "\u001b[?25h\u001b[1A\u001b[1A\u001b[1A\u001b[0G\u001b[?25l[+] Running 1/2\n",
      " \u001b[32m✔\u001b[0m Container cassandra3  \u001b[32mRemoved\u001b[0m                                          \u001b[34m12.3s \u001b[0m\n",
      " ⠹ Container cassandra2  Stopping                                         \u001b[34m10.3s \u001b[0m\n",
      "\u001b[?25h\u001b[1A\u001b[1A\u001b[1A\u001b[0G\u001b[?25l[+] Running 1/2\n",
      " \u001b[32m✔\u001b[0m Container cassandra3  \u001b[32mRemoved\u001b[0m                                          \u001b[34m12.3s \u001b[0m\n",
      " ⠸ Container cassandra2  Stopping                                         \u001b[34m10.4s \u001b[0m\n",
      "\u001b[?25h\u001b[1A\u001b[1A\u001b[1A\u001b[0G\u001b[?25l[+] Running 1/2\n",
      " \u001b[32m✔\u001b[0m Container cassandra3  \u001b[32mRemoved\u001b[0m                                          \u001b[34m12.3s \u001b[0m\n",
      " ⠼ Container cassandra2  Stopping                                         \u001b[34m10.5s \u001b[0m\n",
      "\u001b[?25h\u001b[1A\u001b[1A\u001b[1A\u001b[0G\u001b[?25l[+] Running 1/2\n",
      " \u001b[32m✔\u001b[0m Container cassandra3  \u001b[32mRemoved\u001b[0m                                          \u001b[34m12.3s \u001b[0m\n",
      " ⠴ Container cassandra2  Stopping                                         \u001b[34m10.6s \u001b[0m\n",
      "\u001b[?25h\u001b[1A\u001b[1A\u001b[1A\u001b[0G\u001b[?25l[+] Running 1/2\n",
      " \u001b[32m✔\u001b[0m Container cassandra3  \u001b[32mRemoved\u001b[0m                                          \u001b[34m12.3s \u001b[0m\n",
      " ⠦ Container cassandra2  Stopping                                         \u001b[34m10.7s \u001b[0m\n",
      "\u001b[?25h\u001b[1A\u001b[1A\u001b[1A\u001b[0G\u001b[?25l[+] Running 1/2\n",
      " \u001b[32m✔\u001b[0m Container cassandra3  \u001b[32mRemoved\u001b[0m                                          \u001b[34m12.3s \u001b[0m\n",
      " ⠧ Container cassandra2  Stopping                                         \u001b[34m10.8s \u001b[0m\n",
      "\u001b[?25h\u001b[1A\u001b[1A\u001b[1A\u001b[0G\u001b[?25l[+] Running 1/2\n",
      " \u001b[32m✔\u001b[0m Container cassandra3  \u001b[32mRemoved\u001b[0m                                          \u001b[34m12.3s \u001b[0m\n",
      " ⠇ Container cassandra2  Stopping                                         \u001b[34m10.9s \u001b[0m\n",
      "\u001b[?25h\u001b[1A\u001b[1A\u001b[1A\u001b[0G\u001b[?25l[+] Running 1/2\n",
      " \u001b[32m✔\u001b[0m Container cassandra3  \u001b[32mRemoved\u001b[0m                                          \u001b[34m12.3s \u001b[0m\n",
      " ⠿ Container cassandra2  Removing                                         \u001b[34m11.0s \u001b[0m\n",
      "\u001b[?25h\u001b[1A\u001b[1A\u001b[1A\u001b[0G\u001b[?25l[+] Running 3/2\n",
      " \u001b[32m✔\u001b[0m Container cassandra3                          \u001b[32mRemoved\u001b[0m                  \u001b[34m12.3s \u001b[0m\n",
      " \u001b[32m✔\u001b[0m Container cassandra2                          \u001b[32mRemoved\u001b[0m                  \u001b[34m11.0s \u001b[0m\n",
      " \u001b[32m✔\u001b[0m Container cassandra1                          \u001b[32mRemoved\u001b[0m                   \u001b[34m0.0s \u001b[0m\n",
      " ⠋ Network 02_lab_keyspace_operations_cassandra  Removing                  \u001b[34m0.0s \u001b[0m\n",
      "\u001b[?25h\u001b[1A\u001b[1A\u001b[1A\u001b[1A\u001b[1A\u001b[0G\u001b[?25l\u001b[34m[+] Running 4/4\u001b[0m\n",
      " \u001b[32m✔\u001b[0m Container cassandra3                          \u001b[32mRemoved\u001b[0m                  \u001b[34m12.3s \u001b[0m\n",
      " \u001b[32m✔\u001b[0m Container cassandra2                          \u001b[32mRemoved\u001b[0m                  \u001b[34m11.0s \u001b[0m\n",
      " \u001b[32m✔\u001b[0m Container cassandra1                          \u001b[32mRemoved\u001b[0m                   \u001b[34m0.0s \u001b[0m\n",
      " \u001b[32m✔\u001b[0m Network 02_lab_keyspace_operations_cassandra  \u001b[32mRemoved\u001b[0m                   \u001b[34m0.1s \u001b[0m\n",
      "\u001b[?25h"
     ]
    }
   ],
   "source": [
    "!docker-compose down"
   ]
  },
  {
   "cell_type": "markdown",
   "id": "208ddb49",
   "metadata": {},
   "source": [
    "# **Summary**\n",
    "\n",
    "In this lab, you have gained an understanding of basic operations for keyspace in Cassandra."
   ]
  }
 ],
 "metadata": {
  "kernelspec": {
   "display_name": "base",
   "language": "python",
   "name": "python3"
  },
  "language_info": {
   "codemirror_mode": {
    "name": "ipython",
    "version": 3
   },
   "file_extension": ".py",
   "mimetype": "text/x-python",
   "name": "python",
   "nbconvert_exporter": "python",
   "pygments_lexer": "ipython3",
   "version": "3.9.13"
  }
 },
 "nbformat": 4,
 "nbformat_minor": 5
}
