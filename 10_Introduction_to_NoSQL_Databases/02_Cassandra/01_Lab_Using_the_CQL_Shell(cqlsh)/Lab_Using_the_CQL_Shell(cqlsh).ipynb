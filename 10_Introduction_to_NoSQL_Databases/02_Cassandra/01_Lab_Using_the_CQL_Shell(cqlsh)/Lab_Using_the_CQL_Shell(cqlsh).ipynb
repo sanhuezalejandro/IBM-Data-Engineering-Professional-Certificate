{
 "cells": [
  {
   "cell_type": "markdown",
   "id": "84696be6",
   "metadata": {},
   "source": [
    "# Lab: Using the CQL Shell (cqlsh)\n",
    "\n",
    "![https://cf-courses-data.s3.us.cloud-object-storage.appdomain.cloud/IBMSkillsNetwork-WD0231EN-SkillsNetwork/IDSN-logo.png](https://cf-courses-data.s3.us.cloud-object-storage.appdomain.cloud/IBMSkillsNetwork-WD0231EN-SkillsNetwork/IDSN-logo.png)\n",
    "\n",
    "Estimated time needed: **20** minutes\n",
    "\n",
    "## **Objectives**\n",
    "\n",
    "After completing this lab, you will be able to:\n",
    "\n",
    "- Access the Cassandra server with cqlsh, the command-line interface for using the Cassandra Query Language (CQL)\n",
    "- Run commands to learn more about the server and session, such as server version and host details\n",
    "- Determine the available keyspaces, which are objects similar to databases, on the server\n",
    "\n",
    "Run the following command on the newly opened terminal. (You can copy the code by clicking on the little copy button on the right end of the code block and then paste it wherever you wish)\n",
    "\n"
   ]
  },
  {
   "cell_type": "markdown",
   "id": "2d514df0",
   "metadata": {
    "vscode": {
     "languageId": "raw"
    }
   },
   "source": [
    "# **(EXTRA) Running a single Cassandra node using Docker CLI**\n",
    "\n",
    "This method uses the **[Docker CLI](https://docs.docker.com/engine/reference/commandline/cli/)** to create a container based on the **[latest official Cassandra image](https://hub.docker.com/_/cassandra)**. In this example we will:\n",
    "\n",
    "- Set up the Docker container\n",
    "- Test that it’s set up by connecting to it and running cqlsh\n",
    "- Clean up the container once you’re done with using it.\n",
    "\n",
    "## **Setting up the container**\n",
    "\n",
    "You can run Cassandra on your machine by opening up a terminal and using the following command in the Docker CLI:"
   ]
  },
  {
   "cell_type": "code",
   "execution_count": 18,
   "id": "6d8a44d3",
   "metadata": {},
   "outputs": [],
   "source": [
    "!open /Applications/Docker.app"
   ]
  },
  {
   "cell_type": "code",
   "execution_count": 19,
   "id": "c0b1f0dc",
   "metadata": {},
   "outputs": [
    {
     "name": "stdout",
     "output_type": "stream",
     "text": [
      "Client:\n",
      " Cloud integration: v1.0.31\n",
      " Version:           23.0.5\n",
      " API version:       1.42\n",
      " Go version:        go1.19.8\n",
      " Git commit:        bc4487a\n",
      " Built:             Wed Apr 26 16:12:52 2023\n",
      " OS/Arch:           darwin/arm64\n",
      " Context:           default\n",
      "\n",
      "Server: Docker Desktop 4.19.0 (106363)\n",
      " Engine:\n",
      "  Version:          23.0.5\n",
      "  API version:      1.42 (minimum version 1.12)\n",
      "  Go version:       go1.19.8\n",
      "  Git commit:       94d3ad6\n",
      "  Built:            Wed Apr 26 16:17:14 2023\n",
      "  OS/Arch:          linux/arm64\n",
      "  Experimental:     false\n",
      " containerd:\n",
      "  Version:          1.6.20\n",
      "  GitCommit:        2806fc1057397dbaeefbea0e4e17bddfbd388f38\n",
      " runc:\n",
      "  Version:          1.1.5\n",
      "  GitCommit:        v1.1.5-0-gf19387a\n",
      " docker-init:\n",
      "  Version:          0.19.0\n",
      "  GitCommit:        de40ad0\n"
     ]
    }
   ],
   "source": [
    "!docker version"
   ]
  },
  {
   "cell_type": "code",
   "execution_count": 20,
   "id": "db4c80a1",
   "metadata": {},
   "outputs": [
    {
     "name": "stdout",
     "output_type": "stream",
     "text": [
      "dea561de2bb93c6d05a4182f1100827627b3fe5731fb400a2b9480bb2ea1a98c\n"
     ]
    }
   ],
   "source": [
    "!docker run --name my-cassandra-db -d cassandra:latest"
   ]
  },
  {
   "cell_type": "markdown",
   "id": "20339e58",
   "metadata": {},
   "source": [
    "Let’s look at what this command does:\n",
    "\n",
    "- Docker uses the ‘***run***’ subcommand to run new containers.\n",
    "- The ‘–name’ field allows us to name the container, which helps for later use and cleanup; we’ll use the name ‘***my-cassandra-db’***.\n",
    "- The ‘-d’ flag tells Docker to run the container in the background, so we can run other commands or close the terminal without turning off the container.\n",
    "- The final argument ***‘cassandra:latest’*** is the image to build the container from; we’re using the **[latest official Cassandra image](https://hub.docker.com/_/cassandra)**.\n",
    "\n",
    "When you run this, you should see an ID, like the screenshot below:\n",
    "\n",
    "<html>\n",
    "  <body>\n",
    "    <img src=\"https://miro.medium.com/v2/resize:fit:1400/1*F6oIekGsew2FQfVZQN1Z8g.png\">\n",
    "  </body>\n",
    "</html>\n",
    "\n",
    "To check and make sure everything is running smoothly, run the following command:"
   ]
  },
  {
   "cell_type": "code",
   "execution_count": 21,
   "id": "2df9d5b9",
   "metadata": {},
   "outputs": [
    {
     "name": "stdout",
     "output_type": "stream",
     "text": [
      "CONTAINER ID   IMAGE              COMMAND                  CREATED          STATUS          PORTS                                         NAMES\n",
      "dea561de2bb9   cassandra:latest   \"docker-entrypoint.s…\"   15 seconds ago   Up 11 seconds   7000-7001/tcp, 7199/tcp, 9042/tcp, 9160/tcp   my-cassandra-db\n"
     ]
    }
   ],
   "source": [
    "!docker ps "
   ]
  },
  {
   "cell_type": "markdown",
   "id": "b6d61ffe",
   "metadata": {},
   "source": [
    "You should see something like this:\n",
    "\n",
    "<html>\n",
    "  <body>\n",
    "    <img src=\"https://miro.medium.com/v2/resize:fit:1400/1*EukCXUc937VFfnO0SfuEkQ.png\" alt=\"Image description\">\n",
    "  </body>\n",
    "</html>\n",
    "\n",
    "## **Connecting to the container**\n",
    "\n",
    "Now that the data container has been created, you can now connect to it using the following command:"
   ]
  },
  {
   "cell_type": "raw",
   "id": "c1e1ad39",
   "metadata": {
    "vscode": {
     "languageId": "raw"
    }
   },
   "source": [
    "docker exec -it my-cassandra-db cqlsh"
   ]
  },
  {
   "cell_type": "markdown",
   "id": "d682e494",
   "metadata": {},
   "source": [
    "This will run **[cqlsh, or CQL Shell](https://cassandra.apache.org/doc/stable/cassandra/tools/cqlsh.html)**, inside your container, allowing you to make queries to your new Cassandra database. You should see a prompt like the following:\n",
    "\n",
    "<html>\n",
    "  <body>\n",
    "    <img src=\"https://miro.medium.com/v2/resize:fit:1400/1*U5wKyoIOWnpVZM8DiYDZjA.jpeg\" alt=\"Image description\">\n",
    "  </body>\n",
    "</html>"
   ]
  },
  {
   "cell_type": "raw",
   "id": "b24ae2aa",
   "metadata": {
    "vscode": {
     "languageId": "raw"
    }
   },
   "source": [
    "show host"
   ]
  },
  {
   "cell_type": "code",
   "execution_count": 24,
   "id": "d33c4d56",
   "metadata": {},
   "outputs": [
    {
     "name": "stdout",
     "output_type": "stream",
     "text": [
      "Connected to \u001b[0;1;34mTest Cluster\u001b[0m at 127.0.0.1:9042\n"
     ]
    }
   ],
   "source": [
    "!docker exec -it my-cassandra-db cqlsh -e \"show host\""
   ]
  },
  {
   "cell_type": "markdown",
   "id": "9dfe2dfd",
   "metadata": {},
   "source": [
    "\n",
    "\n",
    "This command will show the details of the server you have connected to.\n",
    "\n",
    "# **Exercise 2: Find server version**\n",
    "\n",
    "On the cqlsh, run the following command.\n",
    "\n"
   ]
  },
  {
   "cell_type": "raw",
   "id": "c39415ec",
   "metadata": {
    "vscode": {
     "languageId": "raw"
    }
   },
   "source": [
    "show version"
   ]
  },
  {
   "cell_type": "code",
   "execution_count": 25,
   "id": "ac0b0790",
   "metadata": {},
   "outputs": [
    {
     "name": "stdout",
     "output_type": "stream",
     "text": [
      "[cqlsh 6.1.0 | Cassandra 4.1.4 | CQL spec 3.4.6 | Native protocol v5]\n"
     ]
    }
   ],
   "source": [
    "!docker exec -it my-cassandra-db cqlsh -e \"SHOW VERSION\"\n"
   ]
  },
  {
   "cell_type": "markdown",
   "id": "4ce1a33f",
   "metadata": {},
   "source": [
    "\n",
    "\n",
    "This command will show the version of the Cassandra server.\n",
    "\n",
    "# **Exercise 3: List keyspaces**\n",
    "\n",
    "Use the following command to list keyspaces in cqlsh.\n",
    "\n",
    "> A keyspace is an outermost object in a Cassandra cluster that controls how data replicates on nodes.\n",
    ">\n",
    "\n"
   ]
  },
  {
   "cell_type": "raw",
   "id": "9c9719d9",
   "metadata": {
    "vscode": {
     "languageId": "raw"
    }
   },
   "source": [
    "describe keyspaces"
   ]
  },
  {
   "cell_type": "code",
   "execution_count": 26,
   "id": "f35cb13c",
   "metadata": {},
   "outputs": [
    {
     "name": "stdout",
     "output_type": "stream",
     "text": [
      "\n",
      "system       system_distributed  system_traces  system_virtual_schema\n",
      "system_auth  system_schema       system_views \n",
      "\n"
     ]
    }
   ],
   "source": [
    "!docker exec -it my-cassandra-db cqlsh -e \"describe keyspaces\""
   ]
  },
  {
   "cell_type": "markdown",
   "id": "0e51c3b1",
   "metadata": {},
   "source": [
    "\n",
    "\n",
    "This command will print a list of the keyspaces present on the server.\n",
    "\n",
    "# **Exercise 4: Clear the screen**\n",
    "\n",
    "On the cqlsh, run the below command.\n",
    "\n"
   ]
  },
  {
   "cell_type": "raw",
   "id": "4de3776f",
   "metadata": {
    "vscode": {
     "languageId": "raw"
    }
   },
   "source": [
    "cls"
   ]
  },
  {
   "cell_type": "code",
   "execution_count": 13,
   "id": "d9891f25",
   "metadata": {},
   "outputs": [
    {
     "name": "stdout",
     "output_type": "stream",
     "text": [
      "\u001b[H\u001b[2J\u001b[3J"
     ]
    }
   ],
   "source": [
    "!docker exec -it my-cassandra-db cqlsh -e \"cls\""
   ]
  },
  {
   "cell_type": "markdown",
   "id": "dc204354",
   "metadata": {},
   "source": [
    "\n",
    "\n",
    "This command will clear the cqlsh screen.\n",
    "\n",
    "# **Exercise 5: Disconnect from Cassandra server**\n",
    "\n",
    "On the cqlsh run the below command.\n",
    "\n"
   ]
  },
  {
   "cell_type": "raw",
   "id": "b7558937",
   "metadata": {
    "vscode": {
     "languageId": "raw"
    }
   },
   "source": [
    "exit"
   ]
  },
  {
   "cell_type": "markdown",
   "id": "8f079a57",
   "metadata": {},
   "source": [
    "## **Cleaning up the container**\n",
    "\n",
    "Once you’re done, you can clean up the container with the ’docker rm’ command. First, you’ll need to stop the container though, so you must to run the following 2 commands:\n"
   ]
  },
  {
   "cell_type": "code",
   "execution_count": 27,
   "id": "ef689cc6",
   "metadata": {},
   "outputs": [
    {
     "name": "stdout",
     "output_type": "stream",
     "text": [
      "my-cassandra-db\n",
      "my-cassandra-db\n"
     ]
    }
   ],
   "source": [
    "!docker stop my-cassandra-db\n",
    "\n",
    "!docker rm my-cassandra-db"
   ]
  },
  {
   "cell_type": "markdown",
   "id": "a7b745bf",
   "metadata": {},
   "source": [
    "This will delete the database container, including all data that was written to the database. You’ll see a prompt like the following, which, if it worked correctly, will show the ID of the container being stopped/removed:"
   ]
  },
  {
   "cell_type": "markdown",
   "id": "54437f78",
   "metadata": {},
   "source": [
    "<img src = https://miro.medium.com/v2/resize:fit:1400/1*kEwodg686PZKg0C8i6evyQ.jpeg>"
   ]
  },
  {
   "cell_type": "markdown",
   "id": "247c8a41",
   "metadata": {},
   "source": [
    "\n",
    "\n",
    "# **Practice exercises**\n",
    "\n",
    "1. Problem: Connect to the Cassandra server.\n",
    "- Click here for hint\n",
    "\n",
    "> Use the cqlsh command with correct username and password.\n",
    ">\n",
    "- Click here for solution\n",
    "\n"
   ]
  },
  {
   "cell_type": "raw",
   "id": "b25a73a5",
   "metadata": {
    "vscode": {
     "languageId": "raw"
    }
   },
   "source": [
    "cqlsh --username cassandra --password MTg3MzMtcnNhbm5h"
   ]
  },
  {
   "cell_type": "markdown",
   "id": "ddf406f8",
   "metadata": {},
   "source": [
    "\n",
    "\n",
    "2. Problem: Find the version of the server.\n",
    "- Click here for hint\n",
    "\n",
    "> Use the show command.\n",
    ">\n",
    "- Click here for solution\n",
    "\n"
   ]
  },
  {
   "cell_type": "raw",
   "id": "52e7e867",
   "metadata": {
    "vscode": {
     "languageId": "raw"
    }
   },
   "source": [
    "show version"
   ]
  },
  {
   "cell_type": "markdown",
   "id": "981ec3ff",
   "metadata": {},
   "source": [
    "\n",
    "\n",
    "3. Problem: Find the host details.\n",
    "- Click here for hint\n",
    "\n",
    "> Use the show command with the host option.\n",
    ">\n",
    "- Click here for solution\n",
    "\n"
   ]
  },
  {
   "cell_type": "raw",
   "id": "b53fd2e4",
   "metadata": {
    "vscode": {
     "languageId": "raw"
    }
   },
   "source": [
    "show host"
   ]
  },
  {
   "cell_type": "markdown",
   "id": "1453553a",
   "metadata": {},
   "source": [
    "\n",
    "\n",
    "4. Problem: Show keyspaces.\n",
    "- Click here for hint\n",
    "\n",
    "> Use the describe command with the keyspaces option.\n",
    ">\n",
    "- Click here for solution\n",
    "\n"
   ]
  },
  {
   "cell_type": "raw",
   "id": "028562e5",
   "metadata": {
    "vscode": {
     "languageId": "raw"
    }
   },
   "source": [
    "describe keyspaces"
   ]
  },
  {
   "cell_type": "markdown",
   "id": "e1b32d8d",
   "metadata": {},
   "source": [
    "\n",
    "\n",
    "5. Problem: Disconnect from the server.\n",
    "- Click here for solution\n",
    "\n"
   ]
  },
  {
   "cell_type": "raw",
   "id": "d1b1b132",
   "metadata": {
    "vscode": {
     "languageId": "raw"
    }
   },
   "source": [
    "exit"
   ]
  },
  {
   "cell_type": "markdown",
   "id": "f4b288ba",
   "metadata": {},
   "source": [
    "\n",
    "\n",
    "# **Summary**\n",
    "\n",
    "In this lab, you have gained an understanding of basic CQLSH syntax and usage."
   ]
  }
 ],
 "metadata": {
  "kernelspec": {
   "display_name": "base",
   "language": "python",
   "name": "python3"
  },
  "language_info": {
   "codemirror_mode": {
    "name": "ipython",
    "version": 3
   },
   "file_extension": ".py",
   "mimetype": "text/x-python",
   "name": "python",
   "nbconvert_exporter": "python",
   "pygments_lexer": "ipython3",
   "version": "3.9.13"
  }
 },
 "nbformat": 4,
 "nbformat_minor": 5
}
