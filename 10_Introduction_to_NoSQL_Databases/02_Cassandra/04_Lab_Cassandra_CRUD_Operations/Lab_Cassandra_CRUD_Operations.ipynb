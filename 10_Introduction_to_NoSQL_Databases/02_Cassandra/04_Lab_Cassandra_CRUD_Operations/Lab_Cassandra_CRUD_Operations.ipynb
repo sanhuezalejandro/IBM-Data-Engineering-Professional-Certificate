{
 "cells": [
  {
   "cell_type": "markdown",
   "id": "60a67324",
   "metadata": {},
   "source": [
    "# Lab: Cassandra CRUD Operations\n",
    "\n",
    "![https://cf-courses-data.s3.us.cloud-object-storage.appdomain.cloud/IBMSkillsNetwork-WD0231EN-SkillsNetwork/IDSN-logo.png](https://cf-courses-data.s3.us.cloud-object-storage.appdomain.cloud/IBMSkillsNetwork-WD0231EN-SkillsNetwork/IDSN-logo.png)\n",
    "\n",
    "Estimated time needed: **15** minutes\n",
    "\n",
    "## **Objectives**\n",
    "\n",
    "After completing this lab, you will be able to:\n",
    "\n",
    "- Insert data into a table with an INSERT command\n",
    "- Read data from a table by querying from it\n",
    "- Update and delete data from the table based on specific criteria\n",
    "\n",
    "## Open Docker\n",
    "\n"
   ]
  },
  {
   "cell_type": "code",
   "execution_count": 1,
   "id": "0a5899cd",
   "metadata": {},
   "outputs": [],
   "source": [
    "!open /Applications/Docker.app"
   ]
  },
  {
   "cell_type": "markdown",
   "id": "d5cc22f0",
   "metadata": {},
   "source": [
    "\n",
    "\n"
   ]
  },
  {
   "cell_type": "code",
   "execution_count": 2,
   "id": "9b145859",
   "metadata": {},
   "outputs": [
    {
     "name": "stdout",
     "output_type": "stream",
     "text": [
      "Client:\n",
      " Cloud integration: v1.0.31\n",
      " Version:           23.0.5\n",
      " API version:       1.42\n",
      " Go version:        go1.19.8\n",
      " Git commit:        bc4487a\n",
      " Built:             Wed Apr 26 16:12:52 2023\n",
      " OS/Arch:           darwin/arm64\n",
      " Context:           default\n",
      "\n",
      "Server: Docker Desktop 4.19.0 (106363)\n",
      " Engine:\n",
      "  Version:          23.0.5\n",
      "  API version:      1.42 (minimum version 1.12)\n",
      "  Go version:       go1.19.8\n",
      "  Git commit:       94d3ad6\n",
      "  Built:            Wed Apr 26 16:17:14 2023\n",
      "  OS/Arch:          linux/arm64\n",
      "  Experimental:     false\n",
      " containerd:\n",
      "  Version:          1.6.20\n",
      "  GitCommit:        2806fc1057397dbaeefbea0e4e17bddfbd388f38\n",
      " runc:\n",
      "  Version:          1.1.5\n",
      "  GitCommit:        v1.1.5-0-gf19387a\n",
      " docker-init:\n",
      "  Version:          0.19.0\n",
      "  GitCommit:        de40ad0\n"
     ]
    }
   ],
   "source": [
    "!docker version"
   ]
  },
  {
   "cell_type": "markdown",
   "id": "b021ff2f",
   "metadata": {},
   "source": [
    "\n",
    "\n",
    "## **Deploying your Cassandra cluster and running commands**\n",
    "\n",
    "To deploy your Cassandra cluster, use the Docker CLI in the same folder as your docker-compose.yml to run the following command (the -d causes the containers to run in the background):\n",
    "\n"
   ]
  },
  {
   "cell_type": "code",
   "execution_count": 5,
   "id": "bf09d4d2",
   "metadata": {},
   "outputs": [
    {
     "name": "stdout",
     "output_type": "stream",
     "text": [
      "\u001b[1A\u001b[1B\u001b[0G\u001b[?25l[+] Running 0/0\n",
      " ⠋ Container cassandra1  Creating                                          \u001b[34m0.0s \u001b[0m\n",
      "\u001b[?25h\u001b[1A\u001b[1A\u001b[0G\u001b[?25l\u001b[34m[+] Running 1/1\u001b[0m\n",
      " \u001b[32m✔\u001b[0m Container cassandra1  \u001b[32mCreated\u001b[0m                                           \u001b[34m0.1s \u001b[0m\n",
      " ⠋ Container cassandra2  Creating                                          \u001b[34m0.0s \u001b[0m\n",
      "\u001b[?25h\u001b[1A\u001b[1A\u001b[1A\u001b[0G\u001b[?25l[+] Running 3/2\n",
      " \u001b[32m✔\u001b[0m Container cassandra1  \u001b[32mCreated\u001b[0m                                           \u001b[34m0.1s \u001b[0m\n",
      " \u001b[32m✔\u001b[0m Container cassandra2  \u001b[32mCreated\u001b[0m                                           \u001b[34m0.1s \u001b[0m\n",
      " \u001b[32m✔\u001b[0m Container cassandra3  \u001b[32mCreated\u001b[0m                                           \u001b[34m0.1s \u001b[0m\n",
      "\u001b[?25h\u001b[1A\u001b[1A\u001b[1A\u001b[1A\u001b[0G\u001b[?25l[+] Running 2/3\n",
      " ⠿ Container cassandra1  Starting                                          \u001b[34m0.3s \u001b[0m\n",
      " \u001b[32m✔\u001b[0m Container cassandra2  \u001b[32mCreated\u001b[0m                                           \u001b[34m0.1s \u001b[0m\n",
      " \u001b[32m✔\u001b[0m Container cassandra3  \u001b[32mCreated\u001b[0m                                           \u001b[34m0.1s \u001b[0m\n",
      "\u001b[?25h\u001b[1A\u001b[1A\u001b[1A\u001b[1A\u001b[0G\u001b[?25l[+] Running 2/3\n",
      " ⠿ Container cassandra1  Starting                                          \u001b[34m0.4s \u001b[0m\n",
      " \u001b[32m✔\u001b[0m Container cassandra2  \u001b[32mCreated\u001b[0m                                           \u001b[34m0.1s \u001b[0m\n",
      " \u001b[32m✔\u001b[0m Container cassandra3  \u001b[32mCreated\u001b[0m                                           \u001b[34m0.1s \u001b[0m\n",
      "\u001b[?25h\u001b[1A\u001b[1A\u001b[1A\u001b[1A\u001b[0G\u001b[?25l[+] Running 2/3\n",
      " ⠿ Container cassandra1  Starting                                          \u001b[34m0.5s \u001b[0m\n",
      " \u001b[32m✔\u001b[0m Container cassandra2  \u001b[32mCreated\u001b[0m                                           \u001b[34m0.1s \u001b[0m\n",
      " \u001b[32m✔\u001b[0m Container cassandra3  \u001b[32mCreated\u001b[0m                                           \u001b[34m0.1s \u001b[0m\n",
      "\u001b[?25h\u001b[1A\u001b[1A\u001b[1A\u001b[1A\u001b[0G\u001b[?25l[+] Running 2/3\n",
      " ⠿ Container cassandra1  Starting                                          \u001b[34m0.6s \u001b[0m\n",
      " \u001b[32m✔\u001b[0m Container cassandra2  \u001b[32mCreated\u001b[0m                                           \u001b[34m0.1s \u001b[0m\n",
      " \u001b[32m✔\u001b[0m Container cassandra3  \u001b[32mCreated\u001b[0m                                           \u001b[34m0.1s \u001b[0m\n",
      "\u001b[?25h\u001b[1A\u001b[1A\u001b[1A\u001b[1A\u001b[0G\u001b[?25l[+] Running 2/3\n",
      " ⠿ Container cassandra1  Starting                                          \u001b[34m0.7s \u001b[0m\n",
      " \u001b[32m✔\u001b[0m Container cassandra2  \u001b[32mCreated\u001b[0m                                           \u001b[34m0.1s \u001b[0m\n",
      " \u001b[32m✔\u001b[0m Container cassandra3  \u001b[32mCreated\u001b[0m                                           \u001b[34m0.1s \u001b[0m\n",
      "\u001b[?25h\u001b[1A\u001b[1A\u001b[1A\u001b[1A\u001b[0G\u001b[?25l[+] Running 2/3\n",
      " ⠿ Container cassandra1  Starting                                          \u001b[34m0.8s \u001b[0m\n",
      " \u001b[32m✔\u001b[0m Container cassandra2  \u001b[32mCreated\u001b[0m                                           \u001b[34m0.1s \u001b[0m\n",
      " \u001b[32m✔\u001b[0m Container cassandra3  \u001b[32mCreated\u001b[0m                                           \u001b[34m0.1s \u001b[0m\n",
      "\u001b[?25h\u001b[1A\u001b[1A\u001b[1A\u001b[1A\u001b[0G\u001b[?25l[+] Running 2/3\n",
      " ⠿ Container cassandra1  Starting                                          \u001b[34m0.9s \u001b[0m\n",
      " \u001b[32m✔\u001b[0m Container cassandra2  \u001b[32mCreated\u001b[0m                                           \u001b[34m0.1s \u001b[0m\n",
      " \u001b[32m✔\u001b[0m Container cassandra3  \u001b[32mCreated\u001b[0m                                           \u001b[34m0.1s \u001b[0m\n",
      "\u001b[?25h\u001b[1A\u001b[1A\u001b[1A\u001b[1A\u001b[0G\u001b[?25l[+] Running 2/3\n",
      " \u001b[32m✔\u001b[0m Container cassandra1  \u001b[32mStarted\u001b[0m                                           \u001b[34m0.9s \u001b[0m\n",
      " ⠿ Container cassandra2  Starting                                          \u001b[34m0.9s \u001b[0m\n",
      " \u001b[32m✔\u001b[0m Container cassandra3  \u001b[32mCreated\u001b[0m                                           \u001b[34m0.1s \u001b[0m\n",
      "\u001b[?25h\u001b[1A\u001b[1A\u001b[1A\u001b[1A\u001b[0G\u001b[?25l[+] Running 2/3\n",
      " \u001b[32m✔\u001b[0m Container cassandra1  \u001b[32mStarted\u001b[0m                                           \u001b[34m0.9s \u001b[0m\n",
      " ⠿ Container cassandra2  Starting                                          \u001b[34m1.0s \u001b[0m\n",
      " \u001b[32m✔\u001b[0m Container cassandra3  \u001b[32mCreated\u001b[0m                                           \u001b[34m0.1s \u001b[0m\n",
      "\u001b[?25h\u001b[1A\u001b[1A\u001b[1A\u001b[1A\u001b[0G\u001b[?25l[+] Running 2/3\n",
      " \u001b[32m✔\u001b[0m Container cassandra1  \u001b[32mStarted\u001b[0m                                           \u001b[34m0.9s \u001b[0m\n",
      " ⠿ Container cassandra2  Starting                                          \u001b[34m1.1s \u001b[0m\n",
      " \u001b[32m✔\u001b[0m Container cassandra3  \u001b[32mCreated\u001b[0m                                           \u001b[34m0.1s \u001b[0m\n",
      "\u001b[?25h\u001b[1A\u001b[1A\u001b[1A\u001b[1A\u001b[0G\u001b[?25l[+] Running 2/3\n",
      " \u001b[32m✔\u001b[0m Container cassandra1  \u001b[32mStarted\u001b[0m                                           \u001b[34m0.9s \u001b[0m\n",
      " ⠿ Container cassandra2  Starting                                          \u001b[34m1.2s \u001b[0m\n",
      " \u001b[32m✔\u001b[0m Container cassandra3  \u001b[32mCreated\u001b[0m                                           \u001b[34m0.1s \u001b[0m\n",
      "\u001b[?25h\u001b[1A\u001b[1A\u001b[1A\u001b[1A\u001b[0G\u001b[?25l[+] Running 2/3\n",
      " \u001b[32m✔\u001b[0m Container cassandra1  \u001b[32mStarted\u001b[0m                                           \u001b[34m0.9s \u001b[0m\n",
      " \u001b[32m✔\u001b[0m Container cassandra2  \u001b[32mStarted\u001b[0m                                           \u001b[34m1.2s \u001b[0m\n",
      " ⠿ Container cassandra3  Starting                                          \u001b[34m1.3s \u001b[0m\n",
      "\u001b[?25h\u001b[1A\u001b[1A\u001b[1A\u001b[1A\u001b[0G\u001b[?25l[+] Running 2/3\n",
      " \u001b[32m✔\u001b[0m Container cassandra1  \u001b[32mStarted\u001b[0m                                           \u001b[34m0.9s \u001b[0m\n",
      " \u001b[32m✔\u001b[0m Container cassandra2  \u001b[32mStarted\u001b[0m                                           \u001b[34m1.2s \u001b[0m\n",
      " ⠿ Container cassandra3  Starting                                          \u001b[34m1.4s \u001b[0m\n",
      "\u001b[?25h\u001b[1A\u001b[1A\u001b[1A\u001b[1A\u001b[0G\u001b[?25l[+] Running 2/3\n",
      " \u001b[32m✔\u001b[0m Container cassandra1  \u001b[32mStarted\u001b[0m                                           \u001b[34m0.9s \u001b[0m\n",
      " \u001b[32m✔\u001b[0m Container cassandra2  \u001b[32mStarted\u001b[0m                                           \u001b[34m1.2s \u001b[0m\n",
      " ⠿ Container cassandra3  Starting                                          \u001b[34m1.5s \u001b[0m\n",
      "\u001b[?25h\u001b[1A\u001b[1A\u001b[1A\u001b[1A\u001b[0G\u001b[?25l[+] Running 2/3\n",
      " \u001b[32m✔\u001b[0m Container cassandra1  \u001b[32mStarted\u001b[0m                                           \u001b[34m0.9s \u001b[0m\n",
      " \u001b[32m✔\u001b[0m Container cassandra2  \u001b[32mStarted\u001b[0m                                           \u001b[34m1.2s \u001b[0m\n",
      " ⠿ Container cassandra3  Starting                                          \u001b[34m1.6s \u001b[0m\n",
      "\u001b[?25h\u001b[1A\u001b[1A\u001b[1A\u001b[1A\u001b[0G\u001b[?25l[+] Running 2/3\n",
      " \u001b[32m✔\u001b[0m Container cassandra1  \u001b[32mStarted\u001b[0m                                           \u001b[34m0.9s \u001b[0m\n",
      " \u001b[32m✔\u001b[0m Container cassandra2  \u001b[32mStarted\u001b[0m                                           \u001b[34m1.2s \u001b[0m\n",
      " ⠿ Container cassandra3  Starting                                          \u001b[34m1.7s \u001b[0m\n",
      "\u001b[?25h\u001b[1A\u001b[1A\u001b[1A\u001b[1A\u001b[0G\u001b[?25l\u001b[34m[+] Running 3/3\u001b[0m\n",
      " \u001b[32m✔\u001b[0m Container cassandra1  \u001b[32mStarted\u001b[0m                                           \u001b[34m0.9s \u001b[0m\n",
      " \u001b[32m✔\u001b[0m Container cassandra2  \u001b[32mStarted\u001b[0m                                           \u001b[34m1.2s \u001b[0m\n",
      " \u001b[32m✔\u001b[0m Container cassandra3  \u001b[32mStarted\u001b[0m                                           \u001b[34m1.7s \u001b[0m\n",
      "\u001b[?25h"
     ]
    }
   ],
   "source": [
    "!docker compose up -d"
   ]
  },
  {
   "cell_type": "markdown",
   "id": "ef4f300f",
   "metadata": {},
   "source": [
    "\n",
    "\n",
    "To access your Cassandra cluster, you can use csqlsh to connect to the container database using the following commands:\n",
    "\n"
   ]
  },
  {
   "cell_type": "raw",
   "id": "3274860b",
   "metadata": {
    "vscode": {
     "languageId": "raw"
    }
   },
   "source": [
    "sudo docker exec -it cassandra1 cqlsh"
   ]
  },
  {
   "cell_type": "markdown",
   "id": "277390cf",
   "metadata": {},
   "source": [
    "\n",
    "\n",
    "You can also check the cluster configuration using:\n",
    "\n"
   ]
  },
  {
   "cell_type": "code",
   "execution_count": 10,
   "id": "f48b731d",
   "metadata": {},
   "outputs": [],
   "source": [
    "!docker exec -it cassandra1 nodetool status"
   ]
  },
  {
   "cell_type": "markdown",
   "id": "862e2d34",
   "metadata": {},
   "source": [
    "\n",
    "\n",
    "# **Exercise 1 - Create Keyspace and Table**\n",
    "\n",
    "## **Create `training` keyspace**\n",
    "\n",
    "Create a keyspace named `training` using `SimpleStrategy` and `replication factor` of `3`.\n",
    "\n",
    "- Click here for Hint\n",
    "\n",
    "> use CREATE KEYSPACEcommand with appropriate options\n",
    ">\n",
    "- Click here for Solution\n",
    "\n",
    "On the cqlsh run the below command.\n",
    "\n"
   ]
  },
  {
   "cell_type": "raw",
   "id": "cdf6f1b9",
   "metadata": {
    "vscode": {
     "languageId": "raw"
    }
   },
   "source": [
    "\n",
    "CREATE KEYSPACE training\n",
    "WITH replication = {'class':'SimpleStrategy', 'replication_factor' : 3};\n"
   ]
  },
  {
   "cell_type": "code",
   "execution_count": 9,
   "id": "bf268370",
   "metadata": {},
   "outputs": [
    {
     "name": "stdout",
     "output_type": "stream",
     "text": [
      "Connection error: ('Unable to connect to any servers', {'127.0.0.1:9042': ConnectionRefusedError(111, \"Tried connecting to [('127.0.0.1', 9042)]. Last error: Connection refused\")})\n"
     ]
    }
   ],
   "source": [
    "!docker exec -it cassandra1 cqlsh -e \"CREATE KEYSPACE training WITH replication = {'class':'SimpleStrategy', 'replication_factor' : 2};\""
   ]
  },
  {
   "cell_type": "markdown",
   "id": "371a9b25",
   "metadata": {},
   "source": [
    "## **Install `Python` Client**"
   ]
  },
  {
   "cell_type": "code",
   "execution_count": null,
   "id": "818ba52b",
   "metadata": {},
   "outputs": [],
   "source": [
    "%pip install cassandra-driver"
   ]
  },
  {
   "cell_type": "markdown",
   "id": "b47bc962",
   "metadata": {},
   "source": [
    "## **Connect to Cassandra**\n",
    "Below is a Python script that connects to the Cassandra cluster and selects the training keyspace"
   ]
  },
  {
   "cell_type": "code",
   "execution_count": null,
   "id": "f0e07db4",
   "metadata": {},
   "outputs": [],
   "source": [
    "from cassandra.cluster import Cluster\n",
    "\n",
    "# List of IPs of the Cassandra nodes (obtained previously)\n",
    "cassandra_ips = ['172.18.0.2', '172.18.0.3', '172.18.0.4']\n",
    "\n",
    "# Connect to the Cassandra cluster\n",
    "cluster = Cluster(cassandra_ips)\n",
    "session = cluster.connect()\n",
    "\n",
    "# Select the keyspace\n",
    "session.set_keyspace('training')"
   ]
  },
  {
   "cell_type": "markdown",
   "id": "73573ed4",
   "metadata": {},
   "source": [
    "\n",
    "\n",
    "\n",
    "## **Create `movies` table**\n",
    "\n",
    "Create a table named `movies` with columns:\n",
    "\n",
    "- `movie_id` is an integer and is the primary key.\n",
    "- `movie_name` is a text column.\n",
    "- `year_of_release` is an integer.\n",
    "- Click here for Hint\n",
    "\n",
    "> use CREATE TABLE command with appropriate options\n",
    ">\n",
    "- Click here for Solution\n",
    "\n",
    "On the cqlsh run the below command.\n",
    "\n"
   ]
  },
  {
   "cell_type": "raw",
   "id": "25b3897d",
   "metadata": {
    "vscode": {
     "languageId": "raw"
    }
   },
   "source": [
    "use training;\n",
    "CREATE TABLE movies(\n",
    "movie_id int PRIMARY KEY,\n",
    "movie_name text,\n",
    "year_of_release int\n",
    ");"
   ]
  },
  {
   "cell_type": "raw",
   "id": "8da3345c",
   "metadata": {
    "vscode": {
     "languageId": "raw"
    }
   },
   "source": [
    "# Create the 'movies' table\n",
    "query = '''\n",
    "CREATE TABLE IF NOT EXISTS movies (\n",
    "    movie_id int PRIMARY KEY,\n",
    "    movie_name text,\n",
    "    year_of_release int\n",
    ")\n",
    "'''\n",
    "session.execute(query)"
   ]
  },
  {
   "cell_type": "code",
   "execution_count": null,
   "id": "5c1eb041",
   "metadata": {},
   "outputs": [],
   "source": []
  },
  {
   "cell_type": "markdown",
   "id": "c226623d",
   "metadata": {},
   "source": [
    "\n",
    "\n",
    "\n",
    "# **Exercise 2 - Insert data into a table**\n",
    "\n",
    "Let's insert a row into the table movies.\n",
    "\n",
    "On cqlsh run the below command.\n",
    "\n"
   ]
  },
  {
   "cell_type": "raw",
   "id": "fd57b53e",
   "metadata": {
    "vscode": {
     "languageId": "raw"
    }
   },
   "source": [
    "INSERT into movies(\n",
    "movie_id, movie_name, year_of_release)\n",
    "VALUES (1,'Toy Story',1995);"
   ]
  },
  {
   "cell_type": "code",
   "execution_count": null,
   "id": "9811d875",
   "metadata": {},
   "outputs": [],
   "source": []
  },
  {
   "cell_type": "markdown",
   "id": "69488f58",
   "metadata": {},
   "source": [
    "\n",
    "\n",
    "Verify that the data is saved.\n",
    "\n"
   ]
  },
  {
   "cell_type": "raw",
   "id": "06dae5f8",
   "metadata": {
    "vscode": {
     "languageId": "raw"
    }
   },
   "source": [
    "select * from movies;"
   ]
  },
  {
   "cell_type": "code",
   "execution_count": null,
   "id": "08b3e4bb",
   "metadata": {},
   "outputs": [],
   "source": []
  },
  {
   "cell_type": "markdown",
   "id": "20aeb750",
   "metadata": {},
   "source": [
    "\n",
    "\n",
    "Insert the below movies into the table.\n",
    "\n",
    "| movie_id | movie_name | year_of_release |\n",
    "| --- | --- | --- |\n",
    "| 2 | Jumanji | 1995 |\n",
    "| 3 | Heat | 1995 |\n",
    "| 4 | Scream | 1995 |\n",
    "| 5 | Fargo | 1996 |\n",
    "\n"
   ]
  },
  {
   "cell_type": "raw",
   "id": "4496b4c7",
   "metadata": {
    "vscode": {
     "languageId": "raw"
    }
   },
   "source": [
    "INSERT into movies(\n",
    "movie_id, movie_name, year_of_release)\n",
    "VALUES (2,'Jumanji',1995);\n",
    "\n",
    "INSERT into movies(\n",
    "movie_id, movie_name, year_of_release)\n",
    "VALUES (3,'Heat',1995);\n",
    "\n",
    "INSERT into movies(\n",
    "movie_id, movie_name, year_of_release)\n",
    "VALUES (4,'Scream',1995);\n",
    "\n",
    "INSERT into movies(\n",
    "movie_id, movie_name, year_of_release)\n",
    "VALUES (5,'Fargo',1996);\n"
   ]
  },
  {
   "cell_type": "code",
   "execution_count": null,
   "id": "5f4c5544",
   "metadata": {},
   "outputs": [],
   "source": []
  },
  {
   "cell_type": "markdown",
   "id": "e7b9858e",
   "metadata": {},
   "source": [
    "\n",
    "\n",
    "# **Exercise 3 - Read data from a table**\n",
    "\n",
    "In the previous exercise you have inserted some data into the table named `movies`.\n",
    "\n",
    "Let's query the data in the `movies` table.\n",
    "\n",
    "Query all rows.\n",
    "\n"
   ]
  },
  {
   "cell_type": "raw",
   "id": "f024cde8",
   "metadata": {
    "vscode": {
     "languageId": "raw"
    }
   },
   "source": [
    "\n",
    "select * from movies;\n"
   ]
  },
  {
   "cell_type": "code",
   "execution_count": null,
   "id": "36a7fef9",
   "metadata": {},
   "outputs": [],
   "source": []
  },
  {
   "cell_type": "markdown",
   "id": "665779fc",
   "metadata": {},
   "source": [
    "\n",
    "\n",
    "Query the movie name where `movie_id` is `1`.\n",
    "\n"
   ]
  },
  {
   "cell_type": "raw",
   "id": "15243413",
   "metadata": {
    "vscode": {
     "languageId": "raw"
    }
   },
   "source": [
    "\n",
    "select movie_name from movies\n"
   ]
  },
  {
   "cell_type": "code",
   "execution_count": null,
   "id": "6f29d7c5",
   "metadata": {},
   "outputs": [],
   "source": []
  },
  {
   "cell_type": "markdown",
   "id": "8043f391",
   "metadata": {},
   "source": [
    "\n",
    "\n",
    "# **Exercise 4 - Update data in a table**\n",
    "\n",
    "The `movie_id` for Scream is `4`. It was released in 1996 and not 1995.\n",
    "\n",
    "Here is how you modify it.\n",
    "\n"
   ]
  },
  {
   "cell_type": "raw",
   "id": "98670e50",
   "metadata": {
    "vscode": {
     "languageId": "raw"
    }
   },
   "source": [
    "\n",
    "UPDATE movies\n",
    "SET year_of_release = 1996\n",
    "WHERE movie_id = 4;\n"
   ]
  },
  {
   "cell_type": "code",
   "execution_count": null,
   "id": "35ad14a7",
   "metadata": {},
   "outputs": [],
   "source": []
  },
  {
   "cell_type": "markdown",
   "id": "40f2ccc7",
   "metadata": {},
   "source": [
    "\n",
    "\n",
    "Verify that the update was successful.\n",
    "\n"
   ]
  },
  {
   "cell_type": "raw",
   "id": "fb3e870d",
   "metadata": {
    "vscode": {
     "languageId": "raw"
    }
   },
   "source": [
    "\n",
    "select * from movies where movie_id = 4;\n"
   ]
  },
  {
   "cell_type": "code",
   "execution_count": null,
   "id": "08e4fff5",
   "metadata": {},
   "outputs": [],
   "source": []
  },
  {
   "cell_type": "markdown",
   "id": "66b05c2a",
   "metadata": {},
   "source": [
    "\n",
    "\n",
    "# **Exercise 5 - Delete data from a table**\n",
    "\n",
    "Delete the movie with the movie_id 5.\n",
    "\n"
   ]
  },
  {
   "cell_type": "raw",
   "id": "c17ae9f1",
   "metadata": {
    "vscode": {
     "languageId": "raw"
    }
   },
   "source": [
    "\n",
    "DELETE from movies\n",
    "WHERE movie_id = 5;\n"
   ]
  },
  {
   "cell_type": "code",
   "execution_count": null,
   "id": "c5b3df08",
   "metadata": {},
   "outputs": [],
   "source": []
  },
  {
   "cell_type": "markdown",
   "id": "8a137e9e",
   "metadata": {},
   "source": [
    "\n",
    "\n",
    "Verify using the below command.\n",
    "\n"
   ]
  },
  {
   "cell_type": "raw",
   "id": "3d183b10",
   "metadata": {
    "vscode": {
     "languageId": "raw"
    }
   },
   "source": [
    "\n",
    "select * from movies;\n"
   ]
  },
  {
   "cell_type": "code",
   "execution_count": null,
   "id": "a5200ac3",
   "metadata": {},
   "outputs": [],
   "source": []
  },
  {
   "cell_type": "markdown",
   "id": "d04593aa",
   "metadata": {},
   "source": [
    "\n",
    "\n",
    "# **Practice exercises**\n",
    "\n",
    "1. Problem: Insert the below movie into the movies table.\n",
    "\n",
    "\n",
    "| movie_id | movie_name | year_of_release |\n",
    "| --- | --- | --- |\n",
    "| 6 | Twister | 1997 |\n",
    "\n",
    "> use the command insert into table’\n",
    ">\n",
    "\n"
   ]
  },
  {
   "cell_type": "raw",
   "id": "cacd2857",
   "metadata": {
    "vscode": {
     "languageId": "raw"
    }
   },
   "source": [
    "\n",
    "INSERT into movies(\n",
    "movie_id, movie_name, year_of_release)\n",
    "VALUES (6,'Twister',1997);\n"
   ]
  },
  {
   "cell_type": "code",
   "execution_count": null,
   "id": "a1cbb081",
   "metadata": {},
   "outputs": [],
   "source": []
  },
  {
   "cell_type": "markdown",
   "id": "a1bbcae0",
   "metadata": {},
   "source": [
    "\n",
    "\n",
    "1. Problem: Modify the release year of Twister to 1996.\n",
    "\n",
    "> use the command ‘update table set column=value where column=value’\n",
    ">\n",
    "\n",
    "On the cqlsh run the below command.\n",
    "\n"
   ]
  },
  {
   "cell_type": "raw",
   "id": "8ca7e9ef",
   "metadata": {
    "vscode": {
     "languageId": "raw"
    }
   },
   "source": [
    "\n",
    "UPDATE movies\n",
    "SET year_of_release = 1996\n",
    "WHERE movie_id = 6;\n"
   ]
  },
  {
   "cell_type": "code",
   "execution_count": null,
   "id": "3ce56005",
   "metadata": {},
   "outputs": [],
   "source": []
  },
  {
   "cell_type": "markdown",
   "id": "43677efb",
   "metadata": {},
   "source": [
    "\n",
    "\n",
    "1. Problem: Delete the movie Twister.\n",
    "\n",
    "> use the command delete from ...\n",
    ">\n",
    "\n",
    "On the cqlsh run the below command.\n",
    "\n"
   ]
  },
  {
   "cell_type": "raw",
   "id": "0c1de1ad",
   "metadata": {
    "vscode": {
     "languageId": "raw"
    }
   },
   "source": [
    "\n",
    "DELETE from movies\n",
    "WHERE movie_id = 6;\n"
   ]
  },
  {
   "cell_type": "code",
   "execution_count": null,
   "id": "4d058eee",
   "metadata": {},
   "outputs": [],
   "source": []
  },
  {
   "cell_type": "markdown",
   "id": "c06e6c28",
   "metadata": {},
   "source": [
    "\n",
    "\n",
    "1. Problem: Drop the `training` keyspace.\n",
    "\n",
    "> use the drop keyspace command\n",
    ">\n",
    "\n",
    "On the cqlsh run the below command.\n",
    "\n"
   ]
  },
  {
   "cell_type": "raw",
   "id": "6a477b1b",
   "metadata": {
    "vscode": {
     "languageId": "raw"
    }
   },
   "source": [
    "\n",
    "drop keyspace training;\n"
   ]
  },
  {
   "cell_type": "code",
   "execution_count": null,
   "id": "edd59782",
   "metadata": {},
   "outputs": [],
   "source": []
  },
  {
   "cell_type": "markdown",
   "id": "c8187b58",
   "metadata": {},
   "source": [
    "\n",
    "\n",
    "# **Summary**\n",
    "\n",
    "In this lab, you have gained an understanding of CRUD operations in Cassandra."
   ]
  }
 ],
 "metadata": {
  "kernelspec": {
   "display_name": "base",
   "language": "python",
   "name": "python3"
  },
  "language_info": {
   "codemirror_mode": {
    "name": "ipython",
    "version": 3
   },
   "file_extension": ".py",
   "mimetype": "text/x-python",
   "name": "python",
   "nbconvert_exporter": "python",
   "pygments_lexer": "ipython3",
   "version": "3.9.13"
  }
 },
 "nbformat": 4,
 "nbformat_minor": 5
}
