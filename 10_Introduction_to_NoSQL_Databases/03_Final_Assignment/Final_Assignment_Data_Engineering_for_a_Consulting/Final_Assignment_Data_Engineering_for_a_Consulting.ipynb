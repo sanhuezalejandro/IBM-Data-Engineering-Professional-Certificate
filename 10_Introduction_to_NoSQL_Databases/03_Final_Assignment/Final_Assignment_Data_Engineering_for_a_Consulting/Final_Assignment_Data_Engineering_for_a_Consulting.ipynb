{
 "cells": [
  {
   "cell_type": "markdown",
   "id": "9a4cca93",
   "metadata": {},
   "source": [
    "# Final Assignment: Data Engineering for a Consulting Firm\n",
    "\n",
    "![https://cf-courses-data.s3.us.cloud-object-storage.appdomain.cloud/IBM-CC0100EN-SkillsNetwork/images/IDSN-logo.png](https://cf-courses-data.s3.us.cloud-object-storage.appdomain.cloud/IBM-CC0100EN-SkillsNetwork/images/IDSN-logo.png)\n",
    "\n",
    "**Estimated time needed:** 45 mins\n",
    "\n",
    "You are a data engineer at a data analytics consulting company. Your company prides itself in being able to efficiently handle data in any format on any database on any platform. Analysts in your office need to work with data on different databases, and data in different formats. While these analysts are good at analyzing data, they count on you to be able to move data from external sources into various databases, to be able to move data from one type of database to another, and be able to run basic queries on various databases.\n",
    "\n",
    "## **Objectives**\n",
    "\n",
    "In this assignment you will:\n",
    "\n",
    "- Import data into a MongoDB database.\n",
    "- Query data in a MongoDB database.\n",
    "- Export data from MongoDB.\n",
    "- Import data into a Cassandra database.\n",
    "- Query data in a Cassandra database.\n",
    "\n",
    "# **Exercise 1: Working with a MongoDB database**\n",
    "\n",
    "## **Download sample data file**\n",
    "\n",
    "Use the following command to download the data file in your Cloud IDE project directory.\n",
    "\n"
   ]
  },
  {
   "cell_type": "code",
   "execution_count": null,
   "id": "d491d71c",
   "metadata": {},
   "outputs": [],
   "source": [
    "!curl -O https://cf-courses-data.s3.us.cloud-object-storage.appdomain.cloud/IBMSkillsNetwork-DB0151EN-edX/labs/FinalProject/movies.json"
   ]
  },
  {
   "cell_type": "markdown",
   "id": "d539acd8",
   "metadata": {},
   "source": [
    "\n",
    "\n",
    "## **A sample movie document**\n",
    "\n"
   ]
  },
  {
   "cell_type": "raw",
   "id": "d14fe983",
   "metadata": {
    "vscode": {
     "languageId": "raw"
    }
   },
   "source": [
    "{\n",
    "_id: '9',\n",
    "title: 'The Lost City of Z',\n",
    "genre: 'Action,Adventure,Biography',\n",
    "Description: 'A true-life drama, centering on British explorer Col. Percival Fawcett, who disappeared while searching for a mysterious city in the Amazon in the 1920s.',\n",
    "Director: 'James Gray',\n",
    "Actors: 'Charlie Hunnam, Robert Pattinson, Sienna Miller, Tom Holland',\n",
    "year: 2016,\n",
    "'Runtime (Minutes)': 141,\n",
    "rating: 'unrated',\n",
    "Votes: 7188,\n",
    "'Revenue (Millions)': 8.01,\n",
    "Metascore: 78\n",
    "}\n"
   ]
  },
  {
   "cell_type": "markdown",
   "id": "7acf9253",
   "metadata": {},
   "source": [
    "\n",
    "\n",
    "### **Task 1: Import `movies.json` into mongodb server into a database named `entertainment` and a collection named `movies`.**\n",
    "\n"
   ]
  },
  {
   "cell_type": "raw",
   "id": "14c50be3",
   "metadata": {
    "vscode": {
     "languageId": "raw"
    }
   },
   "source": [
    "\n",
    "mongoimport -u root -p Nzk5Mi1zYW5odWV6 --authenticationDatabase admin --db entertainment --collection movies --file /home/project/movies.json\n"
   ]
  },
  {
   "cell_type": "markdown",
   "id": "e98c00da",
   "metadata": {},
   "source": [
    "\n",
    "\n",
    "Now import the data in `movies.json` and take a screenshot of the command you used and the output.\n",
    "\n",
    "![https://cf-courses-data.s3.us.cloud-object-storage.appdomain.cloud/IBMSkillsNetwork-DB0151EN-edX/images/01-mongo-import.png](https://cf-courses-data.s3.us.cloud-object-storage.appdomain.cloud/IBMSkillsNetwork-DB0151EN-edX/images/01-mongo-import.png)\n",
    "\n",
    "**Assessment**: Take a screen capture of the output and save the screen capture as `01-mongo-import.png` (Save the images using either a `.jpg` or `.png` extension).\n",
    "\n",
    "### **Task 2: Write a mongodb query to find the year in which most number of movies were released**\n",
    "\n",
    "- Click here for Hint\n",
    "\n",
    "The `$group` stage can be used to group documents by a certain field. You can calculate the count of movies within the group using the $sum aggregation operator.\n",
    "\n",
    "Your query should:\n",
    "\n",
    "- Group movies by their release year.\n",
    "- Calculate the total count of movies for each year\n",
    "- Sort the years in descending order of movie count\n",
    "- Limit the output to 1 document (year) which has the highest movie count.\n",
    "\n"
   ]
  },
  {
   "cell_type": "raw",
   "id": "838689cd",
   "metadata": {
    "vscode": {
     "languageId": "raw"
    }
   },
   "source": [
    "\n",
    "db.movies.aggregate([\n",
    "{\n",
    "\"$group\": {\n",
    "\"_id\": \"$FIELD_TO_GROUP_ON\",\n",
    "\"calculatedField\": { \"$group_operator\": 1 }\n",
    "}\n",
    "}\n",
    "])\n"
   ]
  },
  {
   "cell_type": "markdown",
   "id": "2f25e7c8",
   "metadata": {},
   "source": [
    "\n",
    "\n",
    "\n",
    "Take a screenshot of the command you used and the output showing 73 movies in year 2016.\n",
    "\n",
    "![https://cf-courses-data.s3.us.cloud-object-storage.appdomain.cloud/IBMSkillsNetwork-DB0151EN-edX/images/02-most-movies-year.png](https://cf-courses-data.s3.us.cloud-object-storage.appdomain.cloud/IBMSkillsNetwork-DB0151EN-edX/images/02-most-movies-year.png)\n",
    "\n"
   ]
  },
  {
   "cell_type": "markdown",
   "id": "b525db4a",
   "metadata": {},
   "source": [
    "A:"
   ]
  },
  {
   "cell_type": "raw",
   "id": "f76132a1",
   "metadata": {
    "vscode": {
     "languageId": "raw"
    }
   },
   "source": [
    "use entertainment\n",
    "db.movies.aggregate([\n",
    "{\n",
    "\"$group\": {\n",
    "\"_id\": \"$year\", // Grouping by the release year\n",
    "\"count\": { \"$sum\": 1 } // Counting the number of movies in each year group\n",
    "}\n",
    "},\n",
    "{\n",
    "\"$sort\": { \"count\": -1 } // Sorting in descending order based on movie count\n",
    "},\n",
    "{\n",
    "\"$limit\": 1 // Limiting the output to only one document with the highest movie count\n",
    "}\n",
    "])\n",
    "\n"
   ]
  },
  {
   "cell_type": "markdown",
   "id": "bf8b40f2",
   "metadata": {},
   "source": [
    "\n",
    "\n",
    "**Assessment**: Take a screen capture of the output and save the screen capture as `02-most-movies-year.png` (You can save the image using either the `.jpg` or `.png` extension).\n",
    "\n",
    "### **Task 3: Write a mongodb query to find the count of movies released after the year 1999**\n",
    "\n",
    "Take a screenshot of the command you used and the output showing 99 movies after year 1999.\n",
    "\n",
    "![https://cf-courses-data.s3.us.cloud-object-storage.appdomain.cloud/IBMSkillsNetwork-DB0151EN-edX/images/03-movies-count-1999.png](https://cf-courses-data.s3.us.cloud-object-storage.appdomain.cloud/IBMSkillsNetwork-DB0151EN-edX/images/03-movies-count-1999.png)\n",
    "\n",
    "**Assessment**: Take a screen capture of the output and save the screen capture as `03-movies-count-1999.png` (You can save the image using either the `.jpg` or `.png` extension).\n",
    "\n"
   ]
  },
  {
   "cell_type": "markdown",
   "id": "159ae39d",
   "metadata": {},
   "source": [
    "A:"
   ]
  },
  {
   "cell_type": "raw",
   "id": "6101d303",
   "metadata": {
    "vscode": {
     "languageId": "raw"
    }
   },
   "source": [
    "\n",
    "db.movies.countDocuments({ \"year\": { \"$gt\": 1999 } })\n"
   ]
  },
  {
   "cell_type": "markdown",
   "id": "257a6bac",
   "metadata": {},
   "source": [
    "\n",
    "\n",
    "### **Task 4: Write a query to find out the average votes for movies released in 2007**\n",
    "\n",
    "- Click here for Hint\n",
    "\n",
    "> use the $match operator to filter for movies released in 2007. And $group with $avg operator to find average votes.\n",
    ">\n",
    "\n"
   ]
  },
  {
   "cell_type": "raw",
   "id": "e98a0228",
   "metadata": {
    "vscode": {
     "languageId": "raw"
    }
   },
   "source": [
    "\n",
    "db.books.aggregate([\n",
    "{ $match : \"filter criteria\" },\n",
    "{ $avg: { _id: \"$field\", averageVotes: \"syntax for $avg\" } }\n",
    "])\n"
   ]
  },
  {
   "cell_type": "markdown",
   "id": "66b86125",
   "metadata": {},
   "source": [
    "\n",
    "\n",
    "\n",
    "Take a screenshot of the command you used and the output.\n",
    "\n",
    "![https://cf-courses-data.s3.us.cloud-object-storage.appdomain.cloud/IBMSkillsNetwork-DB0151EN-edX/images/04-average-votes.png](https://cf-courses-data.s3.us.cloud-object-storage.appdomain.cloud/IBMSkillsNetwork-DB0151EN-edX/images/04-average-votes.png)\n",
    "\n",
    "**Assessment**: Take a screen capture of the output and save the screen capture as `04-average-votes.png` You can save the image using either the`.jpg` or `.png` extension).\n",
    "\n"
   ]
  },
  {
   "cell_type": "markdown",
   "id": "d5787d58",
   "metadata": {},
   "source": [
    "A:"
   ]
  },
  {
   "cell_type": "raw",
   "id": "3b963b23",
   "metadata": {
    "vscode": {
     "languageId": "raw"
    }
   },
   "source": [
    "db.movies.aggregate([\n",
    "{\n",
    "$match: { \"year\": 2007 } // Filtrar películas lanzadas en 2007\n",
    "},\n",
    "{\n",
    "$group: {\n",
    "_id: null, // No hay agrupamiento adicional necesario\n",
    "averageVotes: { $avg: \"$Votes\" } // Calcular el promedio de votos\n",
    "}\n",
    "}\n",
    "])\n",
    "\n"
   ]
  },
  {
   "cell_type": "markdown",
   "id": "c0d936fd",
   "metadata": {},
   "source": [
    "\n",
    "\n",
    "### **Task 5: Export the fields `_id`, `title`, `year`, `rating` and `director` from the `movies` collection into a file named `partial_data.csv`**\n",
    "\n",
    "Take a screenshot of the command you used and its output.\n",
    "\n",
    "![https://cf-courses-data.s3.us.cloud-object-storage.appdomain.cloud/IBMSkillsNetwork-DB0151EN-edX/images/05-mongo-export.png](https://cf-courses-data.s3.us.cloud-object-storage.appdomain.cloud/IBMSkillsNetwork-DB0151EN-edX/images/05-mongo-export.png)\n",
    "\n",
    "**Assessment**: Take a screen capture of the output and save the screen capture as `05-mongo-export.png` (images can be saved with either `.jpg` or `.png` extension).\n",
    "\n"
   ]
  },
  {
   "cell_type": "markdown",
   "id": "c30caf72",
   "metadata": {},
   "source": [
    "A:"
   ]
  },
  {
   "cell_type": "raw",
   "id": "f548f416",
   "metadata": {
    "vscode": {
     "languageId": "raw"
    }
   },
   "source": [
    "mongoexport -u root -p Nzk5Mi1zYW5odWV6 --authenticationDatabase admin --db entertainment --collection movies --out /home/project/partial_data.csv --type=csv --fields _id,title,year,rating,director\n"
   ]
  },
  {
   "cell_type": "markdown",
   "id": "af8d94c8",
   "metadata": {},
   "source": [
    "\n",
    "\n",
    "# **Exercise 2 - Working with a Cassandra database**\n",
    "\n",
    "## **Download sample data file**\n",
    "\n",
    "If you haven't managed to successfully export data into `partial_data.csv` file, then download the data file lready created for you with the following command.\n",
    "\n"
   ]
  },
  {
   "cell_type": "code",
   "execution_count": null,
   "id": "c5d19f22",
   "metadata": {},
   "outputs": [],
   "source": [
    "\n",
    "!curl -O https://cf-courses-data.s3.us.cloud-object-storage.appdomain.cloud/IBMSkillsNetwork-DB0151EN-edX/labs/FinalProject/partial_data.csv\n"
   ]
  },
  {
   "cell_type": "markdown",
   "id": "1cd17d1f",
   "metadata": {},
   "source": [
    "\n",
    "\n",
    "### **Task 6 - Create a keyspace named `entertainment`**\n",
    "\n",
    "- Click here for Hint\n",
    "\n",
    "> use the CREATE KEYSPACE command\n",
    ">\n",
    "\n"
   ]
  },
  {
   "cell_type": "raw",
   "id": "39aa39fa",
   "metadata": {
    "vscode": {
     "languageId": "raw"
    }
   },
   "source": [
    "\n",
    "CREATE KEYSPACE keyspace_name\n",
    "WITH replication replication_details\n"
   ]
  },
  {
   "cell_type": "markdown",
   "id": "83be1fd2",
   "metadata": {},
   "source": [
    "\n",
    "\n",
    "\n",
    "Once created, use the `describe` command and use the output for assessment.\n",
    "\n",
    "![https://cf-courses-data.s3.us.cloud-object-storage.appdomain.cloud/IBMSkillsNetwork-DB0151EN-edX/images/06-describe-keyspaces.png](https://cf-courses-data.s3.us.cloud-object-storage.appdomain.cloud/IBMSkillsNetwork-DB0151EN-edX/images/06-describe-keyspaces.png)\n",
    "\n",
    "**Assessment**: Take a screen capture of the output and save the screen capture as `06-describe-keyspaces.png` (You can save the image using either the `.jpg` or `.png` extension).\n",
    "\n"
   ]
  },
  {
   "cell_type": "markdown",
   "id": "85f55f70",
   "metadata": {},
   "source": [
    "A:"
   ]
  },
  {
   "cell_type": "raw",
   "id": "6d8585bb",
   "metadata": {
    "vscode": {
     "languageId": "raw"
    }
   },
   "source": [
    "\n",
    "CREATE KEYSPACE entertainment\n",
    "WITH replication = {'class':'SimpleStrategy', 'replication_factor' : 3};\n"
   ]
  },
  {
   "cell_type": "markdown",
   "id": "22c96d7a",
   "metadata": {},
   "source": [
    "\n",
    "\n",
    "### **Task 7 - Import `partial_data.csv` into cassandra server into a keyspace named `entertainment` and a table named `movies`**\n",
    "\n",
    "While creating the table `movies` configure all of the columns as text columns including the id column.\n",
    "\n",
    "- _id\n",
    "- title\n",
    "- year\n",
    "- rating\n",
    "- director\n",
    "- Click here for Hint\n",
    "\n",
    "> use the CREATE TABLE command\n",
    ">\n",
    "\n"
   ]
  },
  {
   "cell_type": "raw",
   "id": "6c003297",
   "metadata": {
    "vscode": {
     "languageId": "raw"
    }
   },
   "source": [
    "\n",
    "CREATE TABLE table_name(\n",
    "field_name text PRIMARY KEY,\n",
    "second_field_name text\n",
    ");\n"
   ]
  },
  {
   "cell_type": "markdown",
   "id": "62b223a6",
   "metadata": {},
   "source": [
    "\n",
    "\n",
    "\n",
    "![https://cf-courses-data.s3.us.cloud-object-storage.appdomain.cloud/IBMSkillsNetwork-DB0151EN-edX/images/movies-table.png](https://cf-courses-data.s3.us.cloud-object-storage.appdomain.cloud/IBMSkillsNetwork-DB0151EN-edX/images/movies-table.png)\n",
    "\n",
    "And now import the data present in `partial_data.csv`\n",
    "\n",
    "- Click here for Hint\n",
    "\n",
    "> use the COPY command\n",
    ">\n",
    "\n"
   ]
  },
  {
   "cell_type": "markdown",
   "id": "52b468c3",
   "metadata": {},
   "source": [
    "A:"
   ]
  },
  {
   "cell_type": "raw",
   "id": "13d88b3f",
   "metadata": {
    "vscode": {
     "languageId": "raw"
    }
   },
   "source": [
    "\n",
    "COPY keyspace.table_name(columns) FROM 'file_path' WITH DELIMITER=',' AND HEADER=TRUE;\n"
   ]
  },
  {
   "cell_type": "markdown",
   "id": "a896a842",
   "metadata": {},
   "source": [
    "\n",
    "\n",
    "\n",
    "![https://cf-courses-data.s3.us.cloud-object-storage.appdomain.cloud/IBMSkillsNetwork-DB0151EN-edX/images/07-movies-imported.png](https://cf-courses-data.s3.us.cloud-object-storage.appdomain.cloud/IBMSkillsNetwork-DB0151EN-edX/images/07-movies-imported.png)\n",
    "\n",
    "**Assessment**: Take a screen capture of the output and save the screen capture as `07-movies-imported.png` (You can save the image using either the `.jpg` or `.png` extension).\n",
    "\n"
   ]
  },
  {
   "cell_type": "markdown",
   "id": "f16f8204",
   "metadata": {},
   "source": [
    "A:"
   ]
  },
  {
   "cell_type": "raw",
   "id": "4ba2450b",
   "metadata": {
    "vscode": {
     "languageId": "raw"
    }
   },
   "source": [
    "\n",
    "USE entertainment;\n",
    "CREATE TABLE IF NOT EXISTS movies(\n",
    "id TEXT PRIMARY KEY,\n",
    "title TEXT,\n",
    "year TEXT,\n",
    "rating TEXT,\n",
    "director TEXT\n",
    ");\n",
    "COPY movies (id, title, year, rating, director) FROM 'partial_data.csv' WITH DELIMITER=',' AND HEADER=TRUE;\n"
   ]
  },
  {
   "cell_type": "markdown",
   "id": "3be6da6d",
   "metadata": {},
   "source": [
    "\n",
    "\n",
    "### **Task 8 - Write a cql query to count the number of rows in the `movies` table**\n",
    "\n",
    "- Click here for Hint\n",
    "\n",
    "> use the SELECT COUNT(*) command\n",
    ">\n",
    "\n"
   ]
  },
  {
   "cell_type": "raw",
   "id": "5c0a773a",
   "metadata": {
    "vscode": {
     "languageId": "raw"
    }
   },
   "source": [
    "\n",
    "SELECT COUNT(*) FROM table_name;\n"
   ]
  },
  {
   "cell_type": "markdown",
   "id": "af7516af",
   "metadata": {},
   "source": [
    "\n",
    "\n",
    "\n",
    "![https://cf-courses-data.s3.us.cloud-object-storage.appdomain.cloud/IBMSkillsNetwork-DB0151EN-edX/images/08-movies-count.png](https://cf-courses-data.s3.us.cloud-object-storage.appdomain.cloud/IBMSkillsNetwork-DB0151EN-edX/images/08-movies-count.png)\n",
    "\n",
    "**Assessment**: Take a screen capture of the output and save the screen capture as `08-movies-count.png` You can save the image using either the`.jpg` or `.png` extension).\n",
    "\n"
   ]
  },
  {
   "cell_type": "markdown",
   "id": "e8aeab70",
   "metadata": {},
   "source": [
    "A:"
   ]
  },
  {
   "cell_type": "raw",
   "id": "2084f503",
   "metadata": {
    "vscode": {
     "languageId": "raw"
    }
   },
   "source": [
    "\n",
    "SELECT COUNT(*) FROM movies;\n"
   ]
  },
  {
   "cell_type": "markdown",
   "id": "01765822",
   "metadata": {},
   "source": [
    "\n",
    "\n",
    "### **Task 9 - Create an index for the `rating` column in the `movies` table using cql**\n",
    "\n",
    "- Click here for Hint\n",
    "\n",
    "> use the CREATE INDEX command\n",
    ">\n",
    "\n"
   ]
  },
  {
   "cell_type": "raw",
   "id": "73f11e3c",
   "metadata": {
    "vscode": {
     "languageId": "raw"
    }
   },
   "source": [
    "\n",
    "CREATE INDEX IF NOT EXISTS index_name\n",
    "ON keyspace.table_name ( column_name )\n"
   ]
  },
  {
   "cell_type": "markdown",
   "id": "2a49f750",
   "metadata": {},
   "source": [
    "\n",
    "\n",
    "\n",
    "And then run the `describe` on `movies` that shows `CREATE INDEX` listed in the output.\n",
    "\n",
    "Take a screenshot of the command you used and the output.\n",
    "\n",
    "![https://cf-courses-data.s3.us.cloud-object-storage.appdomain.cloud/IBMSkillsNetwork-DB0151EN-edX/images/09-movies-rating-index.png](https://cf-courses-data.s3.us.cloud-object-storage.appdomain.cloud/IBMSkillsNetwork-DB0151EN-edX/images/09-movies-rating-index.png)\n",
    "\n",
    "**Assessment**: Take a screen capture of the output and save the screen capture as `09-movies-rating-index.png` (You can save the image using either the `.jpg` or `.png` extension).\n",
    "\n"
   ]
  },
  {
   "cell_type": "markdown",
   "id": "38322aba",
   "metadata": {},
   "source": [
    "A:"
   ]
  },
  {
   "cell_type": "raw",
   "id": "3d497d4b",
   "metadata": {
    "vscode": {
     "languageId": "raw"
    }
   },
   "source": [
    "\n",
    "CREATE INDEX IF NOT EXISTS rating_index\n",
    "ON entertainment.movies (rating);\n",
    "\n",
    "DESCRIBE TABLE entertainment.movies;\n",
    "\n"
   ]
  },
  {
   "cell_type": "markdown",
   "id": "accc6fae",
   "metadata": {},
   "source": [
    "\n",
    "\n",
    "### **Task 10 - Write a cql query to count the number of movies that are rated 'G'.**\n",
    "\n",
    "- Click here for Hint\n",
    "\n",
    "> use the SELECT COUNT(*) FROM table_name WHERE criteria command\n",
    ">\n",
    "\n"
   ]
  },
  {
   "cell_type": "raw",
   "id": "ccec3254",
   "metadata": {
    "vscode": {
     "languageId": "raw"
    }
   },
   "source": [
    "\n",
    "SELECT COUNT(*) FROM table_name WHERE some_field='some value';\n"
   ]
  },
  {
   "cell_type": "markdown",
   "id": "4f7f6f0c",
   "metadata": {},
   "source": [
    "\n",
    "\n",
    "\n",
    "![https://cf-courses-data.s3.us.cloud-object-storage.appdomain.cloud/IBMSkillsNetwork-DB0151EN-edX/images/10-g-rated-movies.png](https://cf-courses-data.s3.us.cloud-object-storage.appdomain.cloud/IBMSkillsNetwork-DB0151EN-edX/images/10-g-rated-movies.png)\n",
    "\n",
    "**Assessment**: Take a screen capture of the output and save the screen capture as `10-g-rated-movies.png` (You can save the image using either the`.jpg` or `.png` extension).\n",
    "\n"
   ]
  },
  {
   "cell_type": "markdown",
   "id": "e62ee12b",
   "metadata": {},
   "source": [
    "A:"
   ]
  },
  {
   "cell_type": "raw",
   "id": "cf814e72",
   "metadata": {
    "vscode": {
     "languageId": "raw"
    }
   },
   "source": [
    "SELECT COUNT(*) FROM entertainment.movies WHERE rating = 'G';\n"
   ]
  },
  {
   "cell_type": "markdown",
   "id": "6da87925",
   "metadata": {},
   "source": [
    "\n",
    "\n",
    "::page{title=”Checklist for submission”}\n",
    "\n",
    "1. **Assessment**: Take a screen capture of the output and save the screen capture as `01-mongo-import.png`.\n",
    "\n",
    "![01-mongo-import.png](img/01-mongo-import.png)\n",
    "\n",
    "1. **Assessment**: Take a screen capture of the output and save the screen capture as `02-most-movies-year.png`.\n",
    "\n",
    "![02-most-movies-year.png](img/02-most-movies-year.png)\n",
    "\n",
    "1. **Assessment**: Take a screen capture of the output and save the screen capture as `03-movies-count-1999.png`.\n",
    "\n",
    "![03-movies-count-1999.png](img/03-movies-count-1999.png)\n",
    "\n",
    "4. **Assessment**: Take a screen capture of the output and save the screen capture as `04-average-votes.png`.\n",
    "\n",
    "![04-average-votes.png](img/04-average-votes.png)\n",
    "\n",
    "1. **Assessment**: Take a screen capture of the output and save the screen capture as `05-mongo-export.png`.\n",
    "\n",
    "![05-mongo-export.png](img/05-mongo-export.png)\n",
    "\n",
    "6. **Assessment**: Take a screen capture of the output and save the screen capture as `06-describe-keyspaces.png`.\n",
    "\n",
    "![06-describe-keyspaces.png](img/06-describe-keyspaces.png)\n",
    "\n",
    "7. **Assessment**: Take a screen capture of the output and save the screen capture as `07-movies-imported.png`.\n",
    "\n",
    "![07-movies-imported.png](img/07-movies-imported.png)\n",
    "\n",
    "8. **Assessment**: Take a screen capture of the output and save the screen capture as `08-movies-count.png`.\n",
    "\n",
    "![08-movies-count.png](img/08-movies-count.png)\n",
    "\n",
    "9. **Assessment**: Take a screen capture of the output and save the screen capture as `09-movies-rating-index.png`.\n",
    "\n",
    "![09-movies-rating-index.png](img/09-movies-rating-index.png)\n",
    "\n",
    "10. **Assessment**: Take a screen capture of the output and save the screen capture as `10-g-rated-movies.png`.\n",
    "\n",
    "![10-g-rated-movies.png](img/10-g-rated-movies.png)\n",
    "\n",
    "\n",
    "### **Congratulations! That's a wrap!**\n",
    "\n",
    "### **Author: [Muhammad Yahya](https://www.linkedin.com/in/1muhammadyahya/)**\n",
    "\n",
    "### **© IBM Corporation. All rights reserved.**"
   ]
  },
  {
   "cell_type": "markdown",
   "id": "e8c25671",
   "metadata": {},
   "source": []
  }
 ],
 "metadata": {
  "language_info": {
   "name": "python"
  }
 },
 "nbformat": 4,
 "nbformat_minor": 5
}
