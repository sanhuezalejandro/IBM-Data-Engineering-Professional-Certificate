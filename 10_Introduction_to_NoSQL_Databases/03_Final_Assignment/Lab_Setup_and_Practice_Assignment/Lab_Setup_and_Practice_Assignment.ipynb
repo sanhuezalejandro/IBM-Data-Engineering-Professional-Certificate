{
 "cells": [
  {
   "cell_type": "markdown",
   "id": "f79f8a19",
   "metadata": {},
   "source": [
    "# Hands-on Lab: Setup and Practice Assignment\n",
    "\n",
    "![https://cf-courses-data.s3.us.cloud-object-storage.appdomain.cloud/IBMSkillsNetwork-WD0231EN-SkillsNetwork/IDSN-logo.png](https://cf-courses-data.s3.us.cloud-object-storage.appdomain.cloud/IBMSkillsNetwork-WD0231EN-SkillsNetwork/IDSN-logo.png)\n",
    "\n",
    "## **Estimated time needed: 30 minutes**\n",
    "\n",
    "## **Objectives**\n",
    "\n",
    "In this assignment, you will:\n",
    "\n",
    "- Export data from a MongoDB database.\n",
    "- Import data into a MongoDB database.\n",
    "- Export data from a Cassandra database.\n",
    "- Import data into a Cassandra database.\n",
    "- Create indexes on a Cassandra database.\n",
    "\n",
    "# **Exercise 1: Create sample data**\n",
    "\n",
    "## **Create diamonds.json**\n",
    "\n",
    "First, You will create a `diamonds.json` file with the following content to import in later exercises.\n",
    "\n"
   ]
  },
  {
   "cell_type": "code",
   "execution_count": null,
   "id": "a13d6202",
   "metadata": {},
   "outputs": [],
   "source": [
    "bash\n",
    "{ \"carat\": 0.31, \"cut\": \"Ideal\", \"color\": \"J\", \"clarity\": \"SI2\", \"depth\": 62.2, \"table\": 54, \"price\": 339 }\n",
    "{ \"carat\": 0.2, \"cut\": \"Premium\", \"color\": \"E\", \"clarity\": \"SI2\", \"depth\": 60.2, \"table\": 62, \"price\": 351 }\n",
    "{ \"carat\": 0.32, \"cut\": \"Premium\", \"color\": \"E\", \"clarity\": \"I1\", \"depth\": 60.9, \"table\": 58, \"price\": 342 }\n",
    "{ \"carat\": 0.3, \"cut\": \"Good\", \"color\": \"J\", \"clarity\": \"SI1\", \"depth\": 63.4, \"table\": 54, \"price\": 349 }\n",
    "{ \"carat\": 0.3, \"cut\": \"Good\", \"color\": \"J\", \"clarity\": \"SI1\", \"depth\": 63.8, \"table\": 56, \"price\": 347 }\n",
    "{ \"carat\": 0.3, \"cut\": \"Very Good\", \"color\": \"J\", \"clarity\": \"SI1\", \"depth\": 62.7, \"table\": 59, \"price\": 349 }\n",
    "{ \"carat\": 0.3, \"cut\": \"Good\", \"color\": \"I\", \"clarity\": \"SI2\", \"depth\": 63.3, \"table\": 56, \"price\": 343 }\n",
    "{ \"carat\": 0.23, \"cut\": \"Very Good\", \"color\": \"E\", \"clarity\": \"VS2\", \"depth\": 63.8, \"table\": 55, \"price\": 339 }\n",
    "{ \"carat\": 0.23, \"cut\": \"Very Good\", \"color\": \"H\", \"clarity\": \"VS1\", \"depth\": 61, \"table\": 57, \"price\": 323 }\n",
    "{ \"carat\": 0.31, \"cut\": \"Very Good\", \"color\": \"J\", \"clarity\": \"SI1\", \"depth\": 59.4, \"table\": 62, \"price\": 346 }\n"
   ]
  },
  {
   "cell_type": "markdown",
   "id": "3d7ddfb1",
   "metadata": {},
   "source": [
    "\n",
    "\n",
    "# **Exercise 2: MongoDB import/export data**\n",
    "\n",
    "## **JSON**\n",
    "\n",
    "Import data in `diamonds.json` into a collection named `diamonds` and a database named `training`, replacing the password (the characters following **-p**: `MzA2NDAtcnNhbm5h`) with your password.\n",
    "\n"
   ]
  },
  {
   "cell_type": "code",
   "execution_count": null,
   "id": "2750c9d0",
   "metadata": {},
   "outputs": [],
   "source": [
    "bash\n",
    "mongoimport -u root -p Nzk5Mi1zYW5odWV6 --authenticationDatabase admin --db training --collection diamonds --file /home/project/diamonds.json\n"
   ]
  },
  {
   "cell_type": "markdown",
   "id": "e262a905",
   "metadata": {},
   "source": [
    "\n",
    "\n",
    "Log in to mongoDB and checkfor the creation of the `training` database and the `diamonds` collection and the collection has the imported documents.\n",
    "\n",
    "Export data into json format.\n",
    "\n",
    "Export data from the `training` database, `diamonds` collection into a file named `mongodb_exported_data.json`\n",
    "\n"
   ]
  },
  {
   "cell_type": "code",
   "execution_count": null,
   "id": "9c1e4926",
   "metadata": {},
   "outputs": [],
   "source": [
    "bash\n",
    "mongoexport -u root -p Nzk5Mi1zYW5odWV6 --authenticationDatabase admin --db training --collection diamonds --out /home/project/mongodb_exported_data.json\n"
   ]
  },
  {
   "cell_type": "markdown",
   "id": "95de6eb4",
   "metadata": {},
   "source": [
    "\n",
    "\n",
    "Verify the output by opening the file.\n",
    "\n",
    "Open **mongodb_exported_data.json** in IDE\n",
    "\n",
    "## **CSV**\n",
    "\n",
    "Export data into CSV format.\n",
    "\n",
    "Export the fields `_id,clarity,cut,price` from the `training` database, `diamonds` collection into a file named `mongodb_exported_data.csv`\n",
    "\n"
   ]
  },
  {
   "cell_type": "code",
   "execution_count": null,
   "id": "f1e3006a",
   "metadata": {},
   "outputs": [],
   "source": [
    "bash\n",
    "mongoexport -u root -p Nzk5Mi1zYW5odWV6 --authenticationDatabase admin --db training --collection diamonds --out /home/project/mongodb_exported_data.csv --type=csv --fields _id,clarity,cut,price\n"
   ]
  },
  {
   "cell_type": "markdown",
   "id": "79db9f5e",
   "metadata": {},
   "source": [
    "\n",
    "\n",
    "# **Exercise 3: Cassandra import/export data**\n",
    "\n",
    "## **Import CSV into Cassandra**\n",
    "\n",
    "Import `diamonds.csv` into the `training` keyspace and the `diamonds` table/column family.\n",
    "\n",
    "**Step 1:** Log in to cqlsh.\n",
    "\n",
    "**Step 2:** Create a keyspace named `training`.\n",
    "\n",
    "- Click here for hint\n",
    "\n",
    "CREATE KEYSPACE *name*\n",
    "\n",
    "WITH *replication details*\n",
    "\n",
    "- Click here for solution\n",
    "\n"
   ]
  },
  {
   "cell_type": "code",
   "execution_count": null,
   "id": "c1709f4b",
   "metadata": {},
   "outputs": [],
   "source": [
    "\n",
    "CREATE KEYSPACE training\n",
    "WITH replication = {'class':'SimpleStrategy', 'replication_factor' : 3};\n"
   ]
  },
  {
   "cell_type": "markdown",
   "id": "52a9d933",
   "metadata": {},
   "source": [
    "\n",
    "\n",
    "\n",
    "**Step 3:** In the `training` keyspace, create a table named `diamonds` with the below schema.\n",
    "\n",
    "- id - primary key (use ‘id’ as the primary key; Cassandra does not allow you to create a column starting with underscore(_))\n",
    "- clarity - text\n",
    "- cut - text\n",
    "- price - integer\n",
    "- Click here for hint\n",
    "\n"
   ]
  },
  {
   "cell_type": "code",
   "execution_count": null,
   "id": "9723cd49",
   "metadata": {},
   "outputs": [],
   "source": [
    "\n",
    "use KEYSPACE;\n",
    "CREATE TABLE _table name_(\n",
    "column_name type\n",
    ")\n"
   ]
  },
  {
   "cell_type": "markdown",
   "id": "47f5a8e1",
   "metadata": {},
   "source": [
    "\n",
    "\n",
    "- Click here for solution\n",
    "\n"
   ]
  },
  {
   "cell_type": "code",
   "execution_count": null,
   "id": "08f12af7",
   "metadata": {},
   "outputs": [],
   "source": [
    "\n",
    "use training;\n",
    "CREATE TABLE diamonds (\n",
    "id VARCHAR PRIMARY KEY,\n",
    "clarity TEXT,\n",
    "cut TEXT,\n",
    "price INT\n",
    ");\n"
   ]
  },
  {
   "cell_type": "markdown",
   "id": "26be0578",
   "metadata": {},
   "source": [
    "\n",
    "\n",
    "\n",
    "**Step 4:** Run the below commands on cqlsh.\n",
    "\n"
   ]
  },
  {
   "cell_type": "code",
   "execution_count": null,
   "id": "0b6d2a77",
   "metadata": {},
   "outputs": [],
   "source": [
    "\n",
    "use training;\n",
    "COPY training.diamonds(id,clarity,cut,price) FROM '/home/project/mongodb_exported_data.csv' WITH DELIMITER=',' AND HEADER=TRUE;\n"
   ]
  },
  {
   "cell_type": "markdown",
   "id": "5dae908a",
   "metadata": {},
   "source": [
    "\n",
    "\n",
    "Export the `diamonds` table into a CSV file.\n",
    "\n"
   ]
  },
  {
   "cell_type": "code",
   "execution_count": null,
   "id": "7895e9c2",
   "metadata": {},
   "outputs": [],
   "source": [
    "\n",
    "COPY diamonds TO '/home/project/cassandra-diamonds.csv';\n"
   ]
  },
  {
   "cell_type": "markdown",
   "id": "099d15c5",
   "metadata": {},
   "source": [
    "\n",
    "\n",
    "Verify the output by opening the file\n",
    "\n",
    "# **Exercise 4: Creating an index on Cassandra**\n",
    "\n",
    "The following command creates a `price_index` for the `price` column in the `diamonds` table.\n",
    "\n"
   ]
  },
  {
   "cell_type": "code",
   "execution_count": null,
   "id": "0ba1650a",
   "metadata": {},
   "outputs": [],
   "source": [
    "\n",
    "create index price_index on diamonds(price);\n"
   ]
  },
  {
   "cell_type": "markdown",
   "id": "a184f847",
   "metadata": {},
   "source": [
    "\n",
    "\n",
    "# **Summary**\n",
    "\n",
    "In this lab, you have practiced working on importing and exporting data from MongoDB and Cassandra. You also created an index in Cassandra using cqlsh."
   ]
  }
 ],
 "metadata": {},
 "nbformat": 4,
 "nbformat_minor": 5
}
