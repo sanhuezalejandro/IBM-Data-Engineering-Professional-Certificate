{
 "cells": [
  {
   "cell_type": "markdown",
   "id": "39685986",
   "metadata": {},
   "source": [
    "# Lab: MongoDB Aggregation\n",
    "\n",
    "![https://cf-courses-data.s3.us.cloud-object-storage.appdomain.cloud/IBMSkillsNetwork-WD0231EN-SkillsNetwork/IDSN-logo.png](https://cf-courses-data.s3.us.cloud-object-storage.appdomain.cloud/IBMSkillsNetwork-WD0231EN-SkillsNetwork/IDSN-logo.png)\n",
    "\n",
    "Estimated time needed: **45** minutes\n",
    "\n",
    "## **Objectives**\n",
    "\n",
    "After completing this lab, you will be able to:\n",
    "\n",
    "- Describe simple aggregation operators that process and compute data such as $sort, $limit, $group, $sum, $min, $max, and $avg\n",
    "- Combine operators to create multi-stage aggregation pipelines\n",
    "- Build aggregation pipelines that draw insights about the data by returning aggregated values\n",
    "\n",
    "In MongoDB CLI (i.e. mongo shell), switch the context to `training` database.\n",
    "\n"
   ]
  },
  {
   "cell_type": "code",
   "execution_count": 1,
   "id": "18b4884d",
   "metadata": {},
   "outputs": [],
   "source": [
    "\n",
    "#use training\n"
   ]
  },
  {
   "cell_type": "markdown",
   "id": "12fcb80b",
   "metadata": {},
   "source": [
    "\n",
    "\n",
    "And create a collection called `bigdata`\n",
    "\n"
   ]
  },
  {
   "cell_type": "code",
   "execution_count": 2,
   "id": "aec03477",
   "metadata": {},
   "outputs": [],
   "source": [
    "\n",
    "#db.createCollection(\"bigdata\")\n"
   ]
  },
  {
   "cell_type": "markdown",
   "id": "79f1a749",
   "metadata": {},
   "source": [
    "# **Pymongo**"
   ]
  },
  {
   "cell_type": "code",
   "execution_count": 4,
   "id": "5e0b09a6",
   "metadata": {},
   "outputs": [],
   "source": [
    "import pymongo\n",
    "\n",
    "# Connect to MongoDB\n",
    "client = pymongo.MongoClient(\"mongodb://localhost:27017/\")\n",
    "\n",
    "# Select the training database\n",
    "db = client[\"training\"]"
   ]
  },
  {
   "cell_type": "markdown",
   "id": "15ad119c",
   "metadata": {},
   "source": [
    "\n",
    "\n",
    "# **Exercise 1 - Load sample document**\n",
    "\n",
    "Load sample data into the `training` database in `marks` collection.\n",
    "\n"
   ]
  },
  {
   "cell_type": "code",
   "execution_count": null,
   "id": "5b1f48d5",
   "metadata": {},
   "outputs": [],
   "source": [
    "\n",
    "# db.marks.insert({\"name\":\"Ramesh\",\"subject\":\"maths\",\"marks\":87})\n",
    "# db.marks.insert({\"name\":\"Ramesh\",\"subject\":\"english\",\"marks\":59})\n",
    "# db.marks.insert({\"name\":\"Ramesh\",\"subject\":\"science\",\"marks\":77})\n",
    "# db.marks.insert({\"name\":\"Rav\",\"subject\":\"maths\",\"marks\":62})\n",
    "# db.marks.insert({\"name\":\"Rav\",\"subject\":\"english\",\"marks\":83})\n",
    "# db.marks.insert({\"name\":\"Rav\",\"subject\":\"science\",\"marks\":71})\n",
    "# db.marks.insert({\"name\":\"Alison\",\"subject\":\"maths\",\"marks\":84})\n",
    "# db.marks.insert({\"name\":\"Alison\",\"subject\":\"english\",\"marks\":82})\n",
    "# db.marks.insert({\"name\":\"Alison\",\"subject\":\"science\",\"marks\":86})\n",
    "# db.marks.insert({\"name\":\"Steve\",\"subject\":\"maths\",\"marks\":81})\n",
    "# db.marks.insert({\"name\":\"Steve\",\"subject\":\"english\",\"marks\":89})\n",
    "# db.marks.insert({\"name\":\"Steve\",\"subject\":\"science\",\"marks\":77})\n",
    "# db.marks.insert({\"name\":\"Jan\",\"subject\":\"english\",\"marks\":0,\"reason\":\"absent\"})\n"
   ]
  },
  {
   "cell_type": "code",
   "execution_count": 5,
   "id": "d7733d30",
   "metadata": {},
   "outputs": [
    {
     "data": {
      "text/plain": [
       "InsertManyResult([ObjectId('66456d67e064489750eabb24'), ObjectId('66456d67e064489750eabb25'), ObjectId('66456d67e064489750eabb26'), ObjectId('66456d67e064489750eabb27'), ObjectId('66456d67e064489750eabb28'), ObjectId('66456d67e064489750eabb29'), ObjectId('66456d67e064489750eabb2a'), ObjectId('66456d67e064489750eabb2b'), ObjectId('66456d67e064489750eabb2c'), ObjectId('66456d67e064489750eabb2d'), ObjectId('66456d67e064489750eabb2e'), ObjectId('66456d67e064489750eabb2f'), ObjectId('66456d67e064489750eabb30')], acknowledged=True)"
      ]
     },
     "execution_count": 5,
     "metadata": {},
     "output_type": "execute_result"
    }
   ],
   "source": [
    "db.marks.insert_many([\n",
    "    {\"name\": \"Ramesh\", \"subject\": \"maths\", \"marks\": 87},\n",
    "    {\"name\": \"Ramesh\", \"subject\": \"english\", \"marks\": 59},\n",
    "    {\"name\": \"Ramesh\", \"subject\": \"science\", \"marks\": 77},\n",
    "    {\"name\": \"Rav\", \"subject\": \"maths\", \"marks\": 62},\n",
    "    {\"name\": \"Rav\", \"subject\": \"english\", \"marks\": 83},\n",
    "    {\"name\": \"Rav\", \"subject\": \"science\", \"marks\": 71},\n",
    "    {\"name\": \"Alison\", \"subject\": \"maths\", \"marks\": 84},\n",
    "    {\"name\": \"Alison\", \"subject\": \"english\", \"marks\": 82},\n",
    "    {\"name\": \"Alison\", \"subject\": \"science\", \"marks\": 86},\n",
    "    {\"name\": \"Steve\", \"subject\": \"maths\", \"marks\": 81},\n",
    "    {\"name\": \"Steve\", \"subject\": \"english\", \"marks\": 89},\n",
    "    {\"name\": \"Steve\", \"subject\": \"science\", \"marks\": 77},\n",
    "    {\"name\": \"Jan\", \"subject\": \"english\", \"marks\": 0, \"reason\": \"absent\"}\n",
    "])"
   ]
  },
  {
   "cell_type": "markdown",
   "id": "2db9e5f9",
   "metadata": {},
   "source": [
    "\n",
    "\n",
    "# **Exercise 2 - Limiting the rows in the output**\n",
    "\n",
    "Using the `$limit` operator we can limit the number of documents printed in the output.\n",
    "\n",
    "This command will print only 2 documents from the `marks` collection.\n",
    "\n"
   ]
  },
  {
   "cell_type": "code",
   "execution_count": 6,
   "id": "516f9fe8",
   "metadata": {},
   "outputs": [],
   "source": [
    "#db.marks.aggregate([{\"$limit\":2}])"
   ]
  },
  {
   "cell_type": "code",
   "execution_count": 7,
   "id": "dbc2577a",
   "metadata": {},
   "outputs": [
    {
     "name": "stdout",
     "output_type": "stream",
     "text": [
      "Exercise 2 - Limiting the rows in the output:\n",
      "{'_id': ObjectId('66456d67e064489750eabb24'), 'name': 'Ramesh', 'subject': 'maths', 'marks': 87}\n",
      "{'_id': ObjectId('66456d67e064489750eabb25'), 'name': 'Ramesh', 'subject': 'english', 'marks': 59}\n"
     ]
    }
   ],
   "source": [
    "# Exercise 2 - Limiting the rows in the output\n",
    "cursor = db.marks.aggregate([{\"$limit\": 2}])\n",
    "print(\"Exercise 2 - Limiting the rows in the output:\")\n",
    "for doc in cursor:\n",
    "    print(doc)"
   ]
  },
  {
   "cell_type": "markdown",
   "id": "2ff2591c",
   "metadata": {},
   "source": [
    "\n",
    "\n",
    "# **Exercise 3 - Sorting based on a column**\n",
    "\n",
    "We can use the `$sort` operator to sort the output.\n",
    "\n",
    "This command sorts the documents based on field marks in ascending order.\n",
    "\n"
   ]
  },
  {
   "cell_type": "code",
   "execution_count": 8,
   "id": "c9e825d0",
   "metadata": {},
   "outputs": [],
   "source": [
    "\n",
    "#db.marks.aggregate([{\"$sort\":{\"marks\":1}}])\n"
   ]
  },
  {
   "cell_type": "code",
   "execution_count": 9,
   "id": "36ec576a",
   "metadata": {},
   "outputs": [
    {
     "name": "stdout",
     "output_type": "stream",
     "text": [
      "{'_id': ObjectId('66456d67e064489750eabb30'), 'name': 'Jan', 'subject': 'english', 'marks': 0, 'reason': 'absent'}\n",
      "{'_id': ObjectId('66456d67e064489750eabb25'), 'name': 'Ramesh', 'subject': 'english', 'marks': 59}\n",
      "{'_id': ObjectId('66456d67e064489750eabb27'), 'name': 'Rav', 'subject': 'maths', 'marks': 62}\n",
      "{'_id': ObjectId('66456d67e064489750eabb29'), 'name': 'Rav', 'subject': 'science', 'marks': 71}\n",
      "{'_id': ObjectId('66456d67e064489750eabb26'), 'name': 'Ramesh', 'subject': 'science', 'marks': 77}\n",
      "{'_id': ObjectId('66456d67e064489750eabb2f'), 'name': 'Steve', 'subject': 'science', 'marks': 77}\n",
      "{'_id': ObjectId('66456d67e064489750eabb2d'), 'name': 'Steve', 'subject': 'maths', 'marks': 81}\n",
      "{'_id': ObjectId('66456d67e064489750eabb2b'), 'name': 'Alison', 'subject': 'english', 'marks': 82}\n",
      "{'_id': ObjectId('66456d67e064489750eabb28'), 'name': 'Rav', 'subject': 'english', 'marks': 83}\n",
      "{'_id': ObjectId('66456d67e064489750eabb2a'), 'name': 'Alison', 'subject': 'maths', 'marks': 84}\n",
      "{'_id': ObjectId('66456d67e064489750eabb2c'), 'name': 'Alison', 'subject': 'science', 'marks': 86}\n",
      "{'_id': ObjectId('66456d67e064489750eabb24'), 'name': 'Ramesh', 'subject': 'maths', 'marks': 87}\n",
      "{'_id': ObjectId('66456d67e064489750eabb2e'), 'name': 'Steve', 'subject': 'english', 'marks': 89}\n"
     ]
    }
   ],
   "source": [
    "cursor = db.marks.aggregate([{\"$sort\": {\"marks\": 1}}])\n",
    "for doc in cursor:\n",
    "    print(doc)"
   ]
  },
  {
   "cell_type": "markdown",
   "id": "5153d634",
   "metadata": {},
   "source": [
    "\n",
    "\n",
    "This command sort the documents based on field marks in descending order.\n",
    "\n"
   ]
  },
  {
   "cell_type": "code",
   "execution_count": 10,
   "id": "77f57a92",
   "metadata": {},
   "outputs": [],
   "source": [
    "\n",
    "#db.marks.aggregate([{\"$sort\":{\"marks\":-1}}])\n"
   ]
  },
  {
   "cell_type": "code",
   "execution_count": 11,
   "id": "8d0f2ea5",
   "metadata": {},
   "outputs": [
    {
     "name": "stdout",
     "output_type": "stream",
     "text": [
      "{'_id': ObjectId('66456d67e064489750eabb2e'), 'name': 'Steve', 'subject': 'english', 'marks': 89}\n",
      "{'_id': ObjectId('66456d67e064489750eabb24'), 'name': 'Ramesh', 'subject': 'maths', 'marks': 87}\n",
      "{'_id': ObjectId('66456d67e064489750eabb2c'), 'name': 'Alison', 'subject': 'science', 'marks': 86}\n",
      "{'_id': ObjectId('66456d67e064489750eabb2a'), 'name': 'Alison', 'subject': 'maths', 'marks': 84}\n",
      "{'_id': ObjectId('66456d67e064489750eabb28'), 'name': 'Rav', 'subject': 'english', 'marks': 83}\n",
      "{'_id': ObjectId('66456d67e064489750eabb2b'), 'name': 'Alison', 'subject': 'english', 'marks': 82}\n",
      "{'_id': ObjectId('66456d67e064489750eabb2d'), 'name': 'Steve', 'subject': 'maths', 'marks': 81}\n",
      "{'_id': ObjectId('66456d67e064489750eabb26'), 'name': 'Ramesh', 'subject': 'science', 'marks': 77}\n",
      "{'_id': ObjectId('66456d67e064489750eabb2f'), 'name': 'Steve', 'subject': 'science', 'marks': 77}\n",
      "{'_id': ObjectId('66456d67e064489750eabb29'), 'name': 'Rav', 'subject': 'science', 'marks': 71}\n",
      "{'_id': ObjectId('66456d67e064489750eabb27'), 'name': 'Rav', 'subject': 'maths', 'marks': 62}\n",
      "{'_id': ObjectId('66456d67e064489750eabb25'), 'name': 'Ramesh', 'subject': 'english', 'marks': 59}\n",
      "{'_id': ObjectId('66456d67e064489750eabb30'), 'name': 'Jan', 'subject': 'english', 'marks': 0, 'reason': 'absent'}\n"
     ]
    }
   ],
   "source": [
    "cursor = db.marks.aggregate([{\"$sort\": {\"marks\": -1}}])\n",
    "for doc in cursor:\n",
    "    print(doc)"
   ]
  },
  {
   "cell_type": "markdown",
   "id": "779c56c3",
   "metadata": {},
   "source": [
    "\n",
    "\n",
    "# **Exercise 4 - Sorting and limiting**\n",
    "\n",
    "Aggregation usually involves using more than one operator.\n",
    "\n",
    "A pipeline consists of one or more operators declared inside an array.\n",
    "\n",
    "The operators are comma separated.\n",
    "\n",
    "Mongodb executes the first operator in the pipeline and sends its output to the next operator.\n",
    "\n",
    "Let's create a two stage pipeline that answers the question \"What are the top 2 marks?”\n",
    "\n"
   ]
  },
  {
   "cell_type": "code",
   "execution_count": 12,
   "id": "3fc98472",
   "metadata": {},
   "outputs": [],
   "source": [
    "\n",
    "# db.marks.aggregate([\n",
    "# {\"$sort\":{\"marks\":-1}},\n",
    "# {\"$limit\":2}\n",
    "# ])\n"
   ]
  },
  {
   "cell_type": "code",
   "execution_count": 13,
   "id": "23ce9fe5",
   "metadata": {},
   "outputs": [
    {
     "name": "stdout",
     "output_type": "stream",
     "text": [
      "{'_id': ObjectId('66456d67e064489750eabb2e'), 'name': 'Steve', 'subject': 'english', 'marks': 89}\n",
      "{'_id': ObjectId('66456d67e064489750eabb24'), 'name': 'Ramesh', 'subject': 'maths', 'marks': 87}\n"
     ]
    }
   ],
   "source": [
    "pipeline = [\n",
    "    {\"$sort\": {\"marks\": -1}},\n",
    "    {\"$limit\": 2}\n",
    "]\n",
    "cursor = db.marks.aggregate(pipeline)\n",
    "for doc in cursor:\n",
    "    print(doc)"
   ]
  },
  {
   "cell_type": "markdown",
   "id": "d41beddb",
   "metadata": {},
   "source": [
    "\n",
    "\n",
    "# **Exercise 5 - Group by**\n",
    "\n",
    "The operator `$group` by, along with operators like $sum, $avg, $min, $max, allows us to perform grouping operations.\n",
    "\n",
    "This aggregation pipeline prints the average marks across all subjects.\n",
    "\n"
   ]
  },
  {
   "cell_type": "code",
   "execution_count": 14,
   "id": "c7f19b9a",
   "metadata": {},
   "outputs": [],
   "source": [
    "\n",
    "# db.marks.aggregate([\n",
    "# {\n",
    "# \"$group\":{\n",
    "# \"_id\":\"$subject\",\n",
    "# \"average\":{\"$avg\":\"$marks\"}\n",
    "# }\n",
    "# }\n",
    "# ])\n"
   ]
  },
  {
   "cell_type": "code",
   "execution_count": 15,
   "id": "d0d108cb",
   "metadata": {},
   "outputs": [
    {
     "name": "stdout",
     "output_type": "stream",
     "text": [
      "{'_id': 'science', 'average': 77.75}\n",
      "{'_id': 'maths', 'average': 78.5}\n",
      "{'_id': 'english', 'average': 62.6}\n"
     ]
    }
   ],
   "source": [
    "pipeline = [\n",
    "    {\n",
    "        \"$group\": {\n",
    "            \"_id\": \"$subject\",\n",
    "            \"average\": {\"$avg\": \"$marks\"}\n",
    "        }\n",
    "    }\n",
    "]\n",
    "cursor = db.marks.aggregate(pipeline)\n",
    "for doc in cursor:\n",
    "    print(doc)"
   ]
  },
  {
   "cell_type": "markdown",
   "id": "85c45b61",
   "metadata": {},
   "source": [
    "\n",
    "\n",
    "The above query is equivalent to the below sql query.\n",
    "\n"
   ]
  },
  {
   "cell_type": "code",
   "execution_count": null,
   "id": "a1108ac2",
   "metadata": {},
   "outputs": [],
   "source": [
    "\n",
    "# SELECT subject, average(marks)\n",
    "# FROM marks\n",
    "# GROUP BY subject\n"
   ]
  },
  {
   "cell_type": "markdown",
   "id": "2c55b255",
   "metadata": {},
   "source": [
    "\n",
    "\n",
    "# **Exercise 6 - Putting it all together**\n",
    "\n",
    "Now let's put together all the operators we have learnt to answer the question. \"Who are the top 2 students by average marks?”\n",
    "\n",
    "This involves:\n",
    "\n",
    "- finding the average marks per student\n",
    "- sorting the output based on average marks in descending order\n",
    "- limiting the output to two documents\n",
    "\n"
   ]
  },
  {
   "cell_type": "code",
   "execution_count": 16,
   "id": "a28533b4",
   "metadata": {},
   "outputs": [],
   "source": [
    "\n",
    "# db.marks.aggregate([\n",
    "# {\n",
    "# \"$group\":{\n",
    "# \"_id\":\"$name\",\n",
    "# \"average\":{\"$avg\":\"$marks\"}\n",
    "# }\n",
    "# },\n",
    "# {\n",
    "# \"$sort\":{\"average\":-1}\n",
    "# },\n",
    "# {\n",
    "# \"$limit\":2\n",
    "# }\n",
    "# ])\n"
   ]
  },
  {
   "cell_type": "code",
   "execution_count": 17,
   "id": "6641429a",
   "metadata": {},
   "outputs": [
    {
     "name": "stdout",
     "output_type": "stream",
     "text": [
      "{'_id': 'Alison', 'average': 84.0}\n",
      "{'_id': 'Steve', 'average': 82.33333333333333}\n"
     ]
    }
   ],
   "source": [
    "pipeline = [\n",
    "    {\n",
    "        \"$group\": {\n",
    "            \"_id\": \"$name\",\n",
    "            \"average\": {\"$avg\": \"$marks\"}\n",
    "        }\n",
    "    },\n",
    "    {\"$sort\": {\"average\": -1}},\n",
    "    {\"$limit\": 2}\n",
    "]\n",
    "cursor = db.marks.aggregate(pipeline)\n",
    "for doc in cursor:\n",
    "    print(doc)"
   ]
  },
  {
   "cell_type": "markdown",
   "id": "26b6940b",
   "metadata": {},
   "source": [
    "\n",
    "\n",
    "# **Practice exercises**\n",
    "\n",
    "1. Problem: Find the total marks for each student across all subjects.\n",
    "- Click here for Hint\n",
    "\n",
    "> use the $sum operator along with $group on the field ‘name’\n",
    ">\n",
    "- Click here for Solution\n",
    "\n"
   ]
  },
  {
   "cell_type": "code",
   "execution_count": null,
   "id": "70c61275",
   "metadata": {},
   "outputs": [],
   "source": [
    "\n",
    "# db.marks.aggregate([\n",
    "# {\n",
    "# \"$group\":{\"_id\":\"$name\",\"total\":{\"$sum\":\"$marks\"}}\n",
    "# }\n",
    "# ])\n"
   ]
  },
  {
   "cell_type": "code",
   "execution_count": 18,
   "id": "8e465641",
   "metadata": {},
   "outputs": [
    {
     "name": "stdout",
     "output_type": "stream",
     "text": [
      "{'_id': 'Ramesh', 'total': 223}\n",
      "{'_id': 'Alison', 'total': 252}\n",
      "{'_id': 'Steve', 'total': 247}\n",
      "{'_id': 'Jan', 'total': 0}\n",
      "{'_id': 'Rav', 'total': 216}\n"
     ]
    }
   ],
   "source": [
    "# 1. Find the total marks for each student across all subjects\n",
    "pipeline = [\n",
    "    {\"$group\": {\"_id\": \"$name\", \"total\": {\"$sum\": \"$marks\"}}}\n",
    "]\n",
    "cursor = db.marks.aggregate(pipeline)\n",
    "for doc in cursor:\n",
    "    print(doc)"
   ]
  },
  {
   "cell_type": "markdown",
   "id": "9837c18d",
   "metadata": {},
   "source": [
    "\n",
    "\n",
    "1. Problem: Find the maximum marks scored in each subject.\n",
    "- Click here for Hint\n",
    "\n",
    "> use the $max operator along with $group on the field ‘subject’\n",
    ">\n",
    "- Click here for Solution\n",
    "\n"
   ]
  },
  {
   "cell_type": "code",
   "execution_count": null,
   "id": "8b2f24b8",
   "metadata": {},
   "outputs": [],
   "source": [
    "\n",
    "# db.marks.aggregate([\n",
    "# {\n",
    "# \"$group\":{\"_id\":\"$subject\",\"max_marks\":{\"$max\":\"$marks\"}}\n",
    "# }\n",
    "# ])\n"
   ]
  },
  {
   "cell_type": "code",
   "execution_count": 21,
   "id": "9269de06",
   "metadata": {},
   "outputs": [
    {
     "name": "stdout",
     "output_type": "stream",
     "text": [
      "{'_id': 'maths', 'max_marks': 87}\n",
      "{'_id': 'english', 'max_marks': 89}\n",
      "{'_id': 'science', 'max_marks': 86}\n"
     ]
    }
   ],
   "source": [
    "# 2. Find the maximum marks scored in each subject\n",
    "pipeline = [\n",
    "    {\"$group\": {\"_id\": \"$subject\", \"max_marks\": {\"$max\": \"$marks\"}}}\n",
    "]\n",
    "cursor = db.marks.aggregate(pipeline)\n",
    "for doc in cursor:\n",
    "    print(doc)"
   ]
  },
  {
   "cell_type": "markdown",
   "id": "aa0a41a3",
   "metadata": {},
   "source": [
    "\n",
    "\n",
    "1. Problem: Find the minimum marks scored by each student.\n",
    "- Click here for Hint\n",
    "\n",
    "> use the $min operator along with $group on the field ‘name’\n",
    ">\n",
    "- Click here for Solution\n",
    "\n"
   ]
  },
  {
   "cell_type": "code",
   "execution_count": 19,
   "id": "8eb051e0",
   "metadata": {},
   "outputs": [],
   "source": [
    "\n",
    "# db.marks.aggregate([\n",
    "# {\n",
    "# \"$group\":{\"_id\":\"$name\",\"min_marks\":{\"$min\":\"$marks\"}}\n",
    "# }\n",
    "# ])\n"
   ]
  },
  {
   "cell_type": "code",
   "execution_count": 22,
   "id": "cf9a18df",
   "metadata": {},
   "outputs": [
    {
     "name": "stdout",
     "output_type": "stream",
     "text": [
      "{'_id': 'Jan', 'min_marks': 0}\n",
      "{'_id': 'Steve', 'min_marks': 77}\n",
      "{'_id': 'Ramesh', 'min_marks': 59}\n",
      "{'_id': 'Rav', 'min_marks': 62}\n",
      "{'_id': 'Alison', 'min_marks': 82}\n"
     ]
    }
   ],
   "source": [
    "# 3. Find the minimum marks scored by each student\n",
    "pipeline = [\n",
    "    {\"$group\": {\"_id\": \"$name\", \"min_marks\": {\"$min\": \"$marks\"}}}\n",
    "]\n",
    "cursor = db.marks.aggregate(pipeline)\n",
    "for doc in cursor:\n",
    "    print(doc)\n"
   ]
  },
  {
   "cell_type": "markdown",
   "id": "65a6ad12",
   "metadata": {},
   "source": [
    "\n",
    "\n",
    "1. Problem: Find the top two subjects based on average marks.\n",
    "- Click here for Hint\n",
    "\n",
    "> use the $avg operator along with $group on the field subject. Sort by average descending. Limit output to 2 documents\n",
    ">\n",
    "- Click here for Solution\n",
    "\n"
   ]
  },
  {
   "cell_type": "code",
   "execution_count": 23,
   "id": "63aa53ee",
   "metadata": {},
   "outputs": [],
   "source": [
    "# db.marks.aggregate([\n",
    "# {\n",
    "# \"$group\":{\n",
    "# \"_id\":\"$subject\",\n",
    "# \"average\":{\"$avg\":\"$marks\"}\n",
    "# }\n",
    "# },\n",
    "# {\n",
    "# \"$sort\":{\"average\":-1}\n",
    "# },\n",
    "# {\n",
    "# \"$limit\":2\n",
    "# }\n",
    "# ])\n"
   ]
  },
  {
   "cell_type": "code",
   "execution_count": 24,
   "id": "7a27c266",
   "metadata": {},
   "outputs": [
    {
     "name": "stdout",
     "output_type": "stream",
     "text": [
      "{'_id': 'maths', 'average': 78.5}\n",
      "{'_id': 'science', 'average': 77.75}\n"
     ]
    }
   ],
   "source": [
    "# 4. Find the top two subjects based on average marks\n",
    "pipeline = [\n",
    "    {\"$group\": {\"_id\": \"$subject\", \"average\": {\"$avg\": \"$marks\"}}},\n",
    "    {\"$sort\": {\"average\": -1}},\n",
    "    {\"$limit\": 2}\n",
    "]\n",
    "cursor = db.marks.aggregate(pipeline)\n",
    "for doc in cursor:\n",
    "    print(doc)"
   ]
  }
 ],
 "metadata": {
  "kernelspec": {
   "display_name": "base",
   "language": "python",
   "name": "python3"
  },
  "language_info": {
   "codemirror_mode": {
    "name": "ipython",
    "version": 3
   },
   "file_extension": ".py",
   "mimetype": "text/x-python",
   "name": "python",
   "nbconvert_exporter": "python",
   "pygments_lexer": "ipython3",
   "version": "3.9.13"
  }
 },
 "nbformat": 4,
 "nbformat_minor": 5
}
