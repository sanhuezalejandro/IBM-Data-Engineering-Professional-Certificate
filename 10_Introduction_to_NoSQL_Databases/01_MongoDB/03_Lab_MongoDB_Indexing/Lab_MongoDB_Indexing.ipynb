{
 "cells": [
  {
   "cell_type": "markdown",
   "id": "e8dd89f4",
   "metadata": {},
   "source": [
    "# Lab: MongoDB Indexing\n",
    "\n",
    "![https://cf-courses-data.s3.us.cloud-object-storage.appdomain.cloud/IBMSkillsNetwork-WD0231EN-SkillsNetwork/IDSN-logo.png](https://cf-courses-data.s3.us.cloud-object-storage.appdomain.cloud/IBMSkillsNetwork-WD0231EN-SkillsNetwork/IDSN-logo.png)\n",
    "\n",
    "Estimated time needed: **30** minutes\n",
    "\n",
    "## **Objectives**\n",
    "\n",
    "After completing this lab, you will be able to:\n",
    "\n",
    "- Measure the time it takes to execute a query with the explain function\n",
    "- Describe the process of creating, listing and deleting indexes\n",
    "- Evaluate the effectiveness of an index\n",
    "\n",
    "Run the below command on the newly opened terminal. (You can copy the code by clicking on the little copy button on the bottom right of the codeblock below and then paste it, wherever you wish.)\n",
    "\n"
   ]
  },
  {
   "cell_type": "code",
   "execution_count": 1,
   "id": "b03a5372",
   "metadata": {},
   "outputs": [],
   "source": [
    "\n",
    "#mongosh -u root -p PASSWORD --authenticationDatabase admin local\n"
   ]
  },
  {
   "cell_type": "markdown",
   "id": "3e628f57",
   "metadata": {},
   "source": [
    "\n",
    "\n",
    "![https://cf-courses-data.s3.us.cloud-object-storage.appdomain.cloud/IBMSkillsNetwork-DB0151EN-edX/images/mongo-shell.png](https://cf-courses-data.s3.us.cloud-object-storage.appdomain.cloud/IBMSkillsNetwork-DB0151EN-edX/images/mongo-shell.png)\n",
    "\n",
    "The command contains the username and password to connect to mongodb server (the text after the -p option is the password). Your output would be different from the one shown above. Copy the command given to you, and keep it handy. You will need it in the next step.\n",
    "\n",
    "Or you can simply click on MongoDB CLI which does that for you.\n",
    "\n",
    "![https://cf-courses-data.s3.us.cloud-object-storage.appdomain.cloud/IBMSkillsNetwork-DB0151EN-edX/images/mongodb-cli.png](https://cf-courses-data.s3.us.cloud-object-storage.appdomain.cloud/IBMSkillsNetwork-DB0151EN-edX/images/mongodb-cli.png)\n",
    "\n",
    "In MongoDB CLI (for example, mongo shell), switch the context to `training` database.\n",
    "\n"
   ]
  },
  {
   "cell_type": "code",
   "execution_count": 2,
   "id": "52a4bcc2",
   "metadata": {},
   "outputs": [],
   "source": [
    "\n",
    "#use training\n"
   ]
  },
  {
   "cell_type": "markdown",
   "id": "06402223",
   "metadata": {},
   "source": [
    "\n",
    "\n",
    "And create a collection called `bigdata`\n",
    "\n"
   ]
  },
  {
   "cell_type": "code",
   "execution_count": 3,
   "id": "97c5594d",
   "metadata": {},
   "outputs": [],
   "source": [
    "\n",
    "#db.createCollection(\"bigdata\")\n"
   ]
  },
  {
   "cell_type": "markdown",
   "id": "f01e15ae",
   "metadata": {},
   "source": [
    "# **Pymongo**"
   ]
  },
  {
   "cell_type": "code",
   "execution_count": 4,
   "id": "7ff50033",
   "metadata": {},
   "outputs": [],
   "source": [
    "import pymongo\n",
    "\n",
    "# Connect to MongoDB\n",
    "client = pymongo.MongoClient(\"mongodb://localhost:27017/\")\n",
    "\n",
    "# Select the training database\n",
    "db = client[\"training\"]"
   ]
  },
  {
   "cell_type": "code",
   "execution_count": 5,
   "id": "212ae596",
   "metadata": {},
   "outputs": [
    {
     "data": {
      "text/plain": [
       "Collection(Database(MongoClient(host=['localhost:27017'], document_class=dict, tz_aware=False, connect=True), 'training'), 'bigdata')"
      ]
     },
     "execution_count": 5,
     "metadata": {},
     "output_type": "execute_result"
    }
   ],
   "source": [
    "db.create_collection(\"bigdata\")"
   ]
  },
  {
   "cell_type": "markdown",
   "id": "f8c00b0f",
   "metadata": {},
   "source": [
    "\n",
    "\n",
    "# **Exercise 1 - Insert documents**\n",
    "\n",
    "- Let's insert 200k documents into the newly created collection.\n",
    "- This should take a few seconds to complete.\n",
    "- The code given below will insert these documents into the `bigdata` collection.\n",
    "- Each document has a field named `account_no` which is assigned to incrementing variable `i`.\n",
    "- Another field `balance` contains a randomly generated number, to simulate the bank balance for the account.\n",
    "\n",
    "Copy the below code and paste it on the mongo client.\n",
    "\n"
   ]
  },
  {
   "cell_type": "code",
   "execution_count": null,
   "id": "10fb6507",
   "metadata": {},
   "outputs": [],
   "source": [
    "\n",
    "# docsToInsert = []\n",
    "# for (i = 1; i <= 200000; i++) { docsToInsert[i-1] = { \"account_no\": i, \"balance\": Math.round(Math.random() * 20000) } }\n",
    "# db.bigdata.insertMany(docsToInsert);\n"
   ]
  },
  {
   "cell_type": "code",
   "execution_count": 7,
   "id": "c96a2fde",
   "metadata": {},
   "outputs": [],
   "source": [
    "import random\n",
    "\n",
    "# List to store documents to insert\n",
    "docs_to_insert = []\n",
    "\n",
    "# Generate and add documents to the list\n",
    "for i in range(1, 200001):\n",
    "    doc = {\"account_no\": i, \"balance\": round(random.random() * 20000, 2)}\n",
    "    docs_to_insert.append(doc)\n",
    "\n",
    "# Insert documents in batches of 1000 for better performance\n",
    "batch_size = 1000\n",
    "for i in range(0, len(docs_to_insert), batch_size):\n",
    "    db.bigdata.insert_many(docs_to_insert[i:i + batch_size])"
   ]
  },
  {
   "cell_type": "markdown",
   "id": "a85f7561",
   "metadata": {},
   "source": [
    "\n",
    "\n",
    "Verify that `200000` documents got inserted by running the below command.\n",
    "\n"
   ]
  },
  {
   "cell_type": "code",
   "execution_count": 8,
   "id": "5fc95987",
   "metadata": {},
   "outputs": [],
   "source": [
    "\n",
    "#db.bigdata.countDocuments()\n"
   ]
  },
  {
   "cell_type": "code",
   "execution_count": 9,
   "id": "71ce6f74",
   "metadata": {},
   "outputs": [
    {
     "data": {
      "text/plain": [
       "200000"
      ]
     },
     "execution_count": 9,
     "metadata": {},
     "output_type": "execute_result"
    }
   ],
   "source": [
    "db.bigdata.count_documents({})"
   ]
  },
  {
   "cell_type": "markdown",
   "id": "1ba077b3",
   "metadata": {},
   "source": [
    "\n",
    "\n",
    "# **Exercise 2 - Measure the time taken by a query**\n",
    "\n",
    "Let's run a query and find out how much time it takes to complete. You will query for the details of account number 58982.\n",
    "\n",
    "We will make use of the `explain` function to find the time taken to run the query in milliseconds.\n",
    "\n",
    "> The db.collection.explain(“executionStats”) method provides statistics about the performance of a query. These statistics can be useful in measuring if and how a query uses an index. See db.collection.explain() for details.\n",
    ">\n",
    "\n",
    "Run the below command.\n",
    "\n"
   ]
  },
  {
   "cell_type": "code",
   "execution_count": null,
   "id": "1a79adec",
   "metadata": {},
   "outputs": [],
   "source": [
    "\n",
    "#db.bigdata.find({\"account_no\":58982}).explain(\"executionStats\").executionStats.executionTimeMillis\n"
   ]
  },
  {
   "cell_type": "code",
   "execution_count": 11,
   "id": "5c7ad091",
   "metadata": {},
   "outputs": [
    {
     "data": {
      "text/plain": [
       "101"
      ]
     },
     "execution_count": 11,
     "metadata": {},
     "output_type": "execute_result"
    }
   ],
   "source": [
    "db.bigdata.find({\"account_no\": 58982}).explain()[\"executionStats\"][\"executionTimeMillis\"]"
   ]
  },
  {
   "cell_type": "markdown",
   "id": "e4ab4f3e",
   "metadata": {},
   "source": [
    "\n",
    "\n",
    "Make a note of the milliseconds it took to run the query. We will need this at a later stage.\n",
    "\n",
    "# **Exercise 3 - Working with indexes**\n",
    "\n",
    "Before you create an index, choose the field you wish to create an index on. It is usually the field that you query most.\n",
    "\n",
    "Run the below command to create an index on the field `account_no`.\n",
    "\n"
   ]
  },
  {
   "cell_type": "code",
   "execution_count": null,
   "id": "ab1a50a4",
   "metadata": {},
   "outputs": [],
   "source": [
    "\n",
    "#db.bigdata.createIndex({\"account_no\":1})\n"
   ]
  },
  {
   "cell_type": "code",
   "execution_count": 12,
   "id": "4bc01d06",
   "metadata": {},
   "outputs": [
    {
     "data": {
      "text/plain": [
       "'account_no_1'"
      ]
     },
     "execution_count": 12,
     "metadata": {},
     "output_type": "execute_result"
    }
   ],
   "source": [
    "db.bigdata.create_index([(\"account_no\", pymongo.ASCENDING)])"
   ]
  },
  {
   "cell_type": "markdown",
   "id": "c42660d9",
   "metadata": {},
   "source": [
    "\n",
    "\n",
    "Where `1` means `ascending` order.\n",
    "\n",
    "Run the below command to get a list of indexes on the `bigdata` collection.\n",
    "\n"
   ]
  },
  {
   "cell_type": "code",
   "execution_count": null,
   "id": "4263f45f",
   "metadata": {},
   "outputs": [],
   "source": [
    "\n",
    "#db.bigdata.getIndexes()\n"
   ]
  },
  {
   "cell_type": "code",
   "execution_count": 13,
   "id": "2dc86cc4",
   "metadata": {},
   "outputs": [
    {
     "data": {
      "text/plain": [
       "{'_id_': {'v': 2, 'key': [('_id', 1)]},\n",
       " 'account_no_1': {'v': 2, 'key': [('account_no', 1)]}}"
      ]
     },
     "execution_count": 13,
     "metadata": {},
     "output_type": "execute_result"
    }
   ],
   "source": [
    "db.bigdata.index_information()"
   ]
  },
  {
   "cell_type": "markdown",
   "id": "0ca5d018",
   "metadata": {},
   "source": [
    "\n",
    "\n",
    "You should see an index named `account_no_1`\n",
    "\n",
    "# **Exercise 4 - Find out how effective an index is**\n",
    "\n",
    "You will now run the same query for account `58982` and compare the execution time from previous run. This way, you can compare the improvement.\n",
    "\n",
    "Run the below command.\n",
    "\n"
   ]
  },
  {
   "cell_type": "code",
   "execution_count": null,
   "id": "b083bd1e",
   "metadata": {},
   "outputs": [],
   "source": [
    "\n",
    "#db.bigdata.find({\"account_no\":58982}).explain(\"executionStats\").executionStats.executionTimeMillis\n"
   ]
  },
  {
   "cell_type": "code",
   "execution_count": 14,
   "id": "180a94ae",
   "metadata": {},
   "outputs": [
    {
     "data": {
      "text/plain": [
       "17"
      ]
     },
     "execution_count": 14,
     "metadata": {},
     "output_type": "execute_result"
    }
   ],
   "source": [
    "db.bigdata.find({\"account_no\": 58982}).explain()[\"executionStats\"][\"executionTimeMillis\"]"
   ]
  },
  {
   "cell_type": "markdown",
   "id": "6a7a0e06",
   "metadata": {},
   "source": [
    "\n",
    "\n",
    "This time, the execution time should be a lot less than previously. If you see `0`, it means the query completed under 1 millisecond.\n",
    "\n",
    "# **Exercise 6 - Delete an index**\n",
    "\n",
    "Use the below command to delete the index we created earlier. Here you can provide index definition or name.\n",
    "\n"
   ]
  },
  {
   "cell_type": "code",
   "execution_count": null,
   "id": "58c23779",
   "metadata": {},
   "outputs": [],
   "source": [
    "\n",
    "#db.bigdata.dropIndex({\"account_no\":1})\n"
   ]
  },
  {
   "cell_type": "code",
   "execution_count": 15,
   "id": "b0ba868c",
   "metadata": {},
   "outputs": [],
   "source": [
    "db.bigdata.drop_index([(\"account_no\", pymongo.ASCENDING)])"
   ]
  },
  {
   "cell_type": "code",
   "execution_count": 16,
   "id": "bfa15206",
   "metadata": {},
   "outputs": [
    {
     "data": {
      "text/plain": [
       "{'_id_': {'v': 2, 'key': [('_id', 1)]}}"
      ]
     },
     "execution_count": 16,
     "metadata": {},
     "output_type": "execute_result"
    }
   ],
   "source": [
    "db.bigdata.index_information()"
   ]
  },
  {
   "cell_type": "markdown",
   "id": "94bd2c86",
   "metadata": {},
   "source": [
    "\n",
    "\n",
    "# **Bonus information**\n",
    "\n",
    "MongoDB creates a unique index on the `_id` field during the creation of a collection. The `_id` index prevents clients from inserting two documents with the same value for the `_id` field. You cannot drop this index on the `_id` field.\n",
    "\n",
    "# **Practice exercises**\n",
    "\n",
    "1. Problem:\n",
    "\n",
    "> Create an index on the balance field.\n",
    ">\n",
    "- Click here for Hint\n",
    "\n",
    "> use the command db.collection.createIndex()\n",
    ">\n",
    "- Click here for Solution\n",
    "\n",
    "On the mongo client run the below commands.\n",
    "\n"
   ]
  },
  {
   "cell_type": "code",
   "execution_count": null,
   "id": "a7a5885a",
   "metadata": {},
   "outputs": [],
   "source": [
    "\n",
    "#db.bigdata.createIndex({\"balance\":1})\n"
   ]
  },
  {
   "cell_type": "code",
   "execution_count": 17,
   "id": "6f7e1f00",
   "metadata": {},
   "outputs": [
    {
     "data": {
      "text/plain": [
       "'balance_1'"
      ]
     },
     "execution_count": 17,
     "metadata": {},
     "output_type": "execute_result"
    }
   ],
   "source": [
    "db.bigdata.create_index([(\"balance\", pymongo.ASCENDING)])"
   ]
  },
  {
   "cell_type": "markdown",
   "id": "6e6b6a0b",
   "metadata": {},
   "source": [
    "\n",
    "\n",
    "1. Problem:\n",
    "\n",
    "> Query for documents with a balance of 10000 and record the time taken.\n",
    ">\n",
    "- Click here for Hint\n",
    "\n",
    "> use the command db.collection.find().explain()\n",
    ">\n",
    "- Click here for Solution\n",
    "\n"
   ]
  },
  {
   "cell_type": "code",
   "execution_count": 18,
   "id": "08a29131",
   "metadata": {},
   "outputs": [],
   "source": [
    "\n",
    "#db.bigdata.find({\"balance\":10000}).explain(\"executionStats\").executionStats.executionTimeMillis\n"
   ]
  },
  {
   "cell_type": "code",
   "execution_count": 20,
   "id": "612ef6f5",
   "metadata": {},
   "outputs": [
    {
     "data": {
      "text/plain": [
       "0"
      ]
     },
     "execution_count": 20,
     "metadata": {},
     "output_type": "execute_result"
    }
   ],
   "source": [
    "db.bigdata.find({\"balance\": 10000}).explain()[\"executionStats\"][\"executionTimeMillis\"]\n"
   ]
  },
  {
   "cell_type": "markdown",
   "id": "b464ec29",
   "metadata": {},
   "source": [
    "\n",
    "\n",
    "1. Problem:\n",
    "\n",
    "> Drop the index you have created.\n",
    ">\n",
    "- Click here for Hint\n",
    "\n",
    "> use the command db.collection.dropIndex()\n",
    ">\n",
    "- Click here for Solution\n",
    "\n"
   ]
  },
  {
   "cell_type": "code",
   "execution_count": null,
   "id": "e7cfba00",
   "metadata": {},
   "outputs": [],
   "source": [
    "\n",
    "#db.bigdata.dropIndex({\"balance\":1})\n"
   ]
  },
  {
   "cell_type": "code",
   "execution_count": 21,
   "id": "64887b12",
   "metadata": {},
   "outputs": [],
   "source": [
    "db.bigdata.drop_index([(\"balance\", pymongo.ASCENDING)])"
   ]
  },
  {
   "cell_type": "markdown",
   "id": "e1b83c1d",
   "metadata": {},
   "source": [
    "\n",
    "\n",
    "1. Problem:\n",
    "\n",
    "> Query for documents with a balance of 10000 and record the time taken, and compare it with the previously recorded time.\n",
    ">\n",
    "- Click here for Hint\n",
    "\n",
    "> use the command db.collection.find().explain()\n",
    ">\n",
    "- Click here for Solution\n",
    "\n"
   ]
  },
  {
   "cell_type": "code",
   "execution_count": 22,
   "id": "bab23c72",
   "metadata": {},
   "outputs": [],
   "source": [
    "\n",
    "#db.bigdata.find({\"balance\": 10000}).explain(\"executionStats\").executionStats.executionTimeMillis\n"
   ]
  },
  {
   "cell_type": "code",
   "execution_count": 23,
   "id": "54924010",
   "metadata": {},
   "outputs": [
    {
     "data": {
      "text/plain": [
       "117"
      ]
     },
     "execution_count": 23,
     "metadata": {},
     "output_type": "execute_result"
    }
   ],
   "source": [
    "db.bigdata.find({\"balance\": 10000}).explain()[\"executionStats\"][\"executionTimeMillis\"]\n"
   ]
  }
 ],
 "metadata": {
  "kernelspec": {
   "display_name": "base",
   "language": "python",
   "name": "python3"
  },
  "language_info": {
   "codemirror_mode": {
    "name": "ipython",
    "version": 3
   },
   "file_extension": ".py",
   "mimetype": "text/x-python",
   "name": "python",
   "nbconvert_exporter": "python",
   "pygments_lexer": "ipython3",
   "version": "3.9.13"
  }
 },
 "nbformat": 4,
 "nbformat_minor": 5
}
