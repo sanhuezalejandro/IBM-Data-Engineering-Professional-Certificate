{
 "cells": [
  {
   "cell_type": "markdown",
   "id": "5a9a9ee9",
   "metadata": {},
   "source": [
    "# Lab: Accessing MongoDB using Python\n",
    "\n",
    "![https://cf-courses-data.s3.us.cloud-object-storage.appdomain.cloud/IBMSkillsNetwork-WD0231EN-SkillsNetwork/IDSN-logo.png](https://cf-courses-data.s3.us.cloud-object-storage.appdomain.cloud/IBMSkillsNetwork-WD0231EN-SkillsNetwork/IDSN-logo.png)\n",
    "\n",
    "Estimated time needed: **30** minutes\n",
    "\n",
    "## **Objectives**\n",
    "\n",
    "After completing this lab, you will be able to:\n",
    "\n",
    "- Access the MongoDB database from Python with the Pymongo driver\n",
    "- Perform basic operations such as selecting, inserting, and listing using Python\n",
    "- Create a Python program to run the MongoDB operations\n",
    "\n",
    "# **Working with files in Cloud IDE**\n",
    "\n",
    "If you are new to Cloud IDE, this section will show you how to create and edit files in your project.\n",
    "\n",
    "To view your files and directories inside Cloud IDE, click the file's icon.\n",
    "\n",
    "![https://cf-courses-data.s3.us.cloud-object-storage.appdomain.cloud/IBMSkillsNetwork-DB0151EN-edX/images/empty-project-directory-icon-selected.png](https://cf-courses-data.s3.us.cloud-object-storage.appdomain.cloud/IBMSkillsNetwork-DB0151EN-edX/images/empty-project-directory-icon-selected.png)\n",
    "\n",
    "If you have cloned (using the `git clone` command) boilerplate/starting code, then it will look like the following:\n",
    "\n",
    "![https://cf-courses-data.s3.us.cloud-object-storage.appdomain.cloud/IBMSkillsNetwork-DB0151EN-edX/images/boilerplate-code.png](https://cf-courses-data.s3.us.cloud-object-storage.appdomain.cloud/IBMSkillsNetwork-DB0151EN-edX/images/boilerplate-code.png)\n",
    "\n",
    "Otherwise, a blank project looks like this:\n",
    "\n",
    "![https://cf-courses-data.s3.us.cloud-object-storage.appdomain.cloud/IBMSkillsNetwork-DB0151EN-edX/images/empty-project-directory.png](https://cf-courses-data.s3.us.cloud-object-storage.appdomain.cloud/IBMSkillsNetwork-DB0151EN-edX/images/empty-project-directory.png)\n",
    "\n",
    "## **Create a new file**\n",
    "\n",
    "You can right-click and select New File to create a file in your project.\n",
    "\n",
    "![https://cf-courses-data.s3.us.cloud-object-storage.appdomain.cloud/IBMSkillsNetwork-DB0151EN-edX/images/create-new-file-menu.png](https://cf-courses-data.s3.us.cloud-object-storage.appdomain.cloud/IBMSkillsNetwork-DB0151EN-edX/images/create-new-file-menu.png)\n",
    "\n",
    "You can also choose `File -> New File` to do the same.\n",
    "\n",
    "It will then prompt you to enter the name of this new file. In the example below, the new file name is `sample.html`.\n",
    "\n",
    "![https://cf-courses-data.s3.us.cloud-object-storage.appdomain.cloud/IBMSkillsNetwork-DB0151EN-edX/images/new-file-name.png](https://cf-courses-data.s3.us.cloud-object-storage.appdomain.cloud/IBMSkillsNetwork-DB0151EN-edX/images/new-file-name.png)\n",
    "\n",
    "Clicking the file name `sample.html` in the directory structure will open the file in the right pane. You can create all different types of files, for example, `FILE_NAME.js` for JavaScript files.\n",
    "\n",
    "![https://cf-courses-data.s3.us.cloud-object-storage.appdomain.cloud/IBMSkillsNetwork-DB0151EN-edX/images/viewing-sample-file.png](https://cf-courses-data.s3.us.cloud-object-storage.appdomain.cloud/IBMSkillsNetwork-DB0151EN-edX/images/viewing-sample-file.png)\n",
    "\n",
    "In the following image, we pasted some basic HTML code and then saved the file.\n",
    "\n",
    "![https://cf-courses-data.s3.us.cloud-object-storage.appdomain.cloud/IBMSkillsNetwork-DB0151EN-edX/images/editing-sample-file.png](https://cf-courses-data.s3.us.cloud-object-storage.appdomain.cloud/IBMSkillsNetwork-DB0151EN-edX/images/editing-sample-file.png)\n",
    "\n",
    "You can save a file with one of the following methods:\n",
    "\n",
    "- Using the menu\n",
    "- Press `⌘ + S` on Mac or `CTRL + S` on Windows\n",
    "- Or it can Autosave it for you, too\n",
    "\n",
    "![https://cf-courses-data.s3.us.cloud-object-storage.appdomain.cloud/IBMSkillsNetwork-DB0151EN-edX/images/save-file.png](https://cf-courses-data.s3.us.cloud-object-storage.appdomain.cloud/IBMSkillsNetwork-DB0151EN-edX/images/save-file.png)\n",
    "\n",
    "# **Set-up: Start MongoDB**\n",
    "\n",
    "Navigate to Skills Network Toolbox.\n",
    "\n",
    "![https://cf-courses-data.s3.us.cloud-object-storage.appdomain.cloud/IBMSkillsNetwork-DB0151EN-edX/images/skills-network-toolbox.png](https://cf-courses-data.s3.us.cloud-object-storage.appdomain.cloud/IBMSkillsNetwork-DB0151EN-edX/images/skills-network-toolbox.png)\n",
    "\n",
    "You will notice MongoDB is listed there but inactive.\n",
    "\n",
    "![https://cf-courses-data.s3.us.cloud-object-storage.appdomain.cloud/IBMSkillsNetwork-DB0151EN-edX/images/inactive-mongodb.png](https://cf-courses-data.s3.us.cloud-object-storage.appdomain.cloud/IBMSkillsNetwork-DB0151EN-edX/images/inactive-mongodb.png)\n",
    "\n",
    "Once you click on it, you will see more details and an icon to start it.\n",
    "\n",
    "![https://cf-courses-data.s3.us.cloud-object-storage.appdomain.cloud/IBMSkillsNetwork-DB0151EN-edX/images/inactive-mongodb-details.png](https://cf-courses-data.s3.us.cloud-object-storage.appdomain.cloud/IBMSkillsNetwork-DB0151EN-edX/images/inactive-mongodb-details.png)\n",
    "\n",
    "Click Start to run a background process to configure and start your MongoDB server.\n",
    "\n",
    "![https://cf-courses-data.s3.us.cloud-object-storage.appdomain.cloud/IBMSkillsNetwork-DB0151EN-edX/images/starting-mongodb.png](https://cf-courses-data.s3.us.cloud-object-storage.appdomain.cloud/IBMSkillsNetwork-DB0151EN-edX/images/starting-mongodb.png)\n",
    "\n",
    "Now, your server is ready for use. This deployment has access control enabled, and MongoDB enforces authentication. So, take note of the password, as you will need it to log in as the `root` user.\n",
    "\n",
    "![https://cf-courses-data.s3.us.cloud-object-storage.appdomain.cloud/IBMSkillsNetwork-DB0151EN-edX/images/mongodb-active.png](https://cf-courses-data.s3.us.cloud-object-storage.appdomain.cloud/IBMSkillsNetwork-DB0151EN-edX/images/mongodb-active.png)\n",
    "\n",
    "You can now open the terminal and enter details yourself.\n",
    "\n",
    "![https://cf-courses-data.s3.us.cloud-object-storage.appdomain.cloud/IBMSkillsNetwork-DB0151EN-edX/images/new-terminal.png](https://cf-courses-data.s3.us.cloud-object-storage.appdomain.cloud/IBMSkillsNetwork-DB0151EN-edX/images/new-terminal.png)\n",
    "\n",
    "This action will open a new terminal at the end of the screen, as in the image below.\n",
    "\n",
    "![https://cf-courses-data.s3.us.cloud-object-storage.appdomain.cloud/IBMSkillsNetwork-DB0151EN-edX/images/terminal-launched.png](https://cf-courses-data.s3.us.cloud-object-storage.appdomain.cloud/IBMSkillsNetwork-DB0151EN-edX/images/terminal-launched.png)\n",
    "\n",
    "Run the following command on the newly opened terminal. (Copy the code by selecting the copy button on the lower right of the code block and then paste it wherever you wish.)\n",
    "\n"
   ]
  },
  {
   "cell_type": "raw",
   "id": "233acdff",
   "metadata": {
    "vscode": {
     "languageId": "raw"
    }
   },
   "source": [
    "mongosh -u root -p PASSWORD --authenticationDatabase admin local"
   ]
  },
  {
   "cell_type": "markdown",
   "id": "6d3d5c1f",
   "metadata": {},
   "source": [
    "\n",
    "\n",
    "![https://cf-courses-data.s3.us.cloud-object-storage.appdomain.cloud/IBMSkillsNetwork-DB0151EN-edX/images/mongo-shell.png](https://cf-courses-data.s3.us.cloud-object-storage.appdomain.cloud/IBMSkillsNetwork-DB0151EN-edX/images/mongo-shell.png)\n",
    "\n",
    "The command contains the username and password to connect to the MongoDB server (the text after the -p option is the password).Your output would be different from the one shown above. Copy the command given to you, and keep it handy. You will need it in the next step.\n",
    "\n",
    "Or you can click MongoDB CLI, which does it for you.\n",
    "\n",
    "![https://cf-courses-data.s3.us.cloud-object-storage.appdomain.cloud/IBMSkillsNetwork-DB0151EN-edX/images/mongodb-cli.png](https://cf-courses-data.s3.us.cloud-object-storage.appdomain.cloud/IBMSkillsNetwork-DB0151EN-edX/images/mongodb-cli.png)\n",
    "\n",
    "In MongoDB CLI (mongo shell), switch the context to the `training` database.\n",
    "\n"
   ]
  },
  {
   "cell_type": "raw",
   "id": "aca8d7ba",
   "metadata": {
    "vscode": {
     "languageId": "raw"
    }
   },
   "source": [
    "use training"
   ]
  },
  {
   "cell_type": "markdown",
   "id": "efb6fad0",
   "metadata": {},
   "source": [
    "\n",
    "\n",
    "And create a collection called `mycollection`\n",
    "\n"
   ]
  },
  {
   "cell_type": "raw",
   "id": "f78e3d34",
   "metadata": {
    "vscode": {
     "languageId": "raw"
    }
   },
   "source": [
    "db.createCollection(\"mycollection\")"
   ]
  },
  {
   "cell_type": "markdown",
   "id": "b39bddf8",
   "metadata": {},
   "source": [
    "\n",
    "\n",
    "# **Exercise 1: Install the Pymongo driver**\n",
    "\n",
    "You need the Pymongo driver installed to access the MongoDB database from Python.\n",
    "\n",
    "Open a new terminal and run the following command:\n",
    "\n"
   ]
  },
  {
   "cell_type": "raw",
   "id": "4dbac7d1",
   "metadata": {
    "vscode": {
     "languageId": "raw"
    }
   },
   "source": [
    "python3 -m pip install pymongo"
   ]
  },
  {
   "cell_type": "markdown",
   "id": "0c45ca92",
   "metadata": {},
   "source": [
    "\n",
    "\n",
    "If the above command results in error `/usr/bin/python3: No module named pip`, you need to install pip (PIP is a package manager for Python packages or modules) and then install `pymongo.`\n",
    "\n"
   ]
  },
  {
   "cell_type": "raw",
   "id": "0b19a1bb",
   "metadata": {
    "vscode": {
     "languageId": "raw"
    }
   },
   "source": [
    "curl https://bootstrap.pypa.io/get-pip.py -o get-pip.py\n",
    "python3 get-pip.py\n",
    "python3 -m pip install pymongo\n"
   ]
  },
  {
   "cell_type": "markdown",
   "id": "6989815a",
   "metadata": {},
   "source": [
    "\n",
    "\n",
    "This action installs the Python MongoDB driver like in the following image.\n",
    "\n",
    "![https://cf-courses-data.s3.us.cloud-object-storage.appdomain.cloud/IBMSkillsNetwork-DB0151EN-edX/images/pymongo_installation.png](https://cf-courses-data.s3.us.cloud-object-storage.appdomain.cloud/IBMSkillsNetwork-DB0151EN-edX/images/pymongo_installation.png)\n",
    "\n",
    "# **Exercise 2: Connect to mongodb server using Python**\n",
    "\n",
    "Open **mongo_connect.py** in IDE\n",
    "\n",
    "Copy and paste the below code into this file.\n",
    "\n"
   ]
  },
  {
   "cell_type": "raw",
   "id": "70710d56",
   "metadata": {
    "vscode": {
     "languageId": "raw"
    }
   },
   "source": [
    "from pymongo import MongoClient\n",
    "user = 'root'\n",
    "password = 'MjQwOTgtcnNhbm5h' # CHANGE THIS TO THE PASSWORD YOU NOTED IN THE EARLIER EXCERCISE - 2\n",
    "host='localhost'\n",
    "#create the connection url\n",
    "connecturl = \"mongodb://{}:{}@{}:27017/?authSource=admin\".format(user,password,host)\n",
    "\n",
    "# connect to mongodb server\n",
    "print(\"Connecting to mongodb server\")\n",
    "connection = MongoClient(connecturl)\n",
    "\n",
    "# get database list\n",
    "print(\"Getting list of databases\")\n",
    "dbs = connection.list_database_names()\n",
    "\n",
    "# print the database names\n",
    "\n",
    "for db in dbs:\n",
    "print(db)\n",
    "print(\"Closing the connection to the mongodb server\")\n",
    "\n",
    "# close the server connecton\n",
    "connection.close()\n"
   ]
  },
  {
   "cell_type": "code",
   "execution_count": 5,
   "id": "42be9c21",
   "metadata": {},
   "outputs": [
    {
     "name": "stdout",
     "output_type": "stream",
     "text": [
      "Connecting to mongodb server\n",
      "Getting list of databases\n",
      "admin\n",
      "config\n",
      "local\n",
      "mydatabase\n",
      "training\n",
      "Closing the connection to the mongodb server\n"
     ]
    }
   ],
   "source": [
    "from pymongo import MongoClient\n",
    "\n",
    "#create the connection url\n",
    "connecturl = \"mongodb://localhost:27017/\"\n",
    "\n",
    "# connect to mongodb server\n",
    "print(\"Connecting to mongodb server\")\n",
    "connection = MongoClient(connecturl)\n",
    "\n",
    "# get database list\n",
    "print(\"Getting list of databases\")\n",
    "dbs = connection.list_database_names()\n",
    "\n",
    "# print the database names\n",
    "\n",
    "for db in dbs:\n",
    "    print(db)\n",
    "print(\"Closing the connection to the mongodb server\")\n",
    "\n",
    "# close the server connecton\n",
    "connection.close()"
   ]
  },
  {
   "cell_type": "markdown",
   "id": "21ec3732",
   "metadata": {},
   "source": [
    "\n",
    "\n",
    "> Note: Please ensure that you have replaced the password value in the file above with the password for your MongoDB server.\n",
    ">\n",
    "\n",
    "Save the code file using the `File->Save` menu option, like in the following image.\n",
    "\n",
    "![https://cf-courses-data.s3.us.cloud-object-storage.appdomain.cloud/IBMSkillsNetwork-DB0151EN-edX/images/File_save.png](https://cf-courses-data.s3.us.cloud-object-storage.appdomain.cloud/IBMSkillsNetwork-DB0151EN-edX/images/File_save.png)\n",
    "\n",
    "Copy and paste the following code on the terminal to run this file.\n",
    "\n"
   ]
  },
  {
   "cell_type": "code",
   "execution_count": null,
   "id": "a0600457",
   "metadata": {},
   "outputs": [],
   "source": [
    "\n",
    "#python3 mongo_connect.py\n"
   ]
  },
  {
   "cell_type": "markdown",
   "id": "e2074269",
   "metadata": {},
   "source": [
    "\n",
    "\n",
    "You should see an output like the one in the following image.\n",
    "\n",
    "![https://cf-courses-data.s3.us.cloud-object-storage.appdomain.cloud/IBMSkillsNetwork-DB0151EN-edX/images/run_python_program.png](https://cf-courses-data.s3.us.cloud-object-storage.appdomain.cloud/IBMSkillsNetwork-DB0151EN-edX/images/run_python_program.png)\n",
    "\n",
    "# **Exercise 4 - Working with documents**\n",
    "\n",
    "In this exercise, you will make the Python program do the following tasks:\n",
    "\n",
    "- Connect to the MongoDB server\n",
    "- Select a database named `training`\n",
    "- Select a collection named `python`\n",
    "- Insert a sample document\n",
    "- Query all the documents in the `training` database and `python` collection\n",
    "- Close the connection to the server\n",
    "\n",
    "Open **mongo_connect.py** in IDE\n",
    "\n",
    "Copy and paste the following code into `mongo_query.py`.\n",
    "\n"
   ]
  },
  {
   "cell_type": "raw",
   "id": "e14dece3",
   "metadata": {
    "vscode": {
     "languageId": "raw"
    }
   },
   "source": [
    "from pymongo import MongoClient\n",
    "user = 'root'\n",
    "password = 'MjQwOTgtcnNhbm5h' # CHANGE THIS TO THE PASSWORD YOU NOTED IN THE EARLIER EXCERCISE - 2\n",
    "host='localhost'\n",
    "#create the connection url\n",
    "connecturl = \"mongodb://{}:{}@{}:27017/?authSource=admin\".format(user,password,host)\n",
    "\n",
    "# connect to mongodb server\n",
    "print(\"Connecting to mongodb server\")\n",
    "connection = MongoClient(connecturl)\n",
    "\n",
    "# select the 'training' database\n",
    "\n",
    "db = connection.training\n",
    "\n",
    "# select the 'python' collection\n",
    "\n",
    "collection = db.python\n",
    "\n",
    "# create a sample document\n",
    "\n",
    "doc = {\"lab\":\"Accessing mongodb using python\", \"Subject\":\"No SQL Databases\"}\n",
    "\n",
    "# insert a sample document\n",
    "\n",
    "print(\"Inserting a document into collection.\")\n",
    "db.collection.insert_one(doc)\n",
    "\n",
    "# query for all documents in 'training' database and 'python' collection\n",
    "\n",
    "docs = db.collection.find()\n",
    "\n",
    "print(\"Printing the documents in the collection.\")\n",
    "\n",
    "for document in docs:\n",
    "print(document)\n",
    "\n",
    "# close the server connecton\n",
    "print(\"Closing the connection.\")\n",
    "connection.close()\n"
   ]
  },
  {
   "cell_type": "code",
   "execution_count": 6,
   "id": "d4623ae7",
   "metadata": {},
   "outputs": [
    {
     "name": "stdout",
     "output_type": "stream",
     "text": [
      "Connecting to mongodb server\n",
      "Inserting a document into collection.\n",
      "Printing the documents in the collection.\n",
      "{'_id': ObjectId('664586388e6e240ebd409769'), 'lab': 'Accessing mongodb using python', 'Subject': 'No SQL Databases'}\n",
      "Closing the connection.\n"
     ]
    }
   ],
   "source": [
    "from pymongo import MongoClient\n",
    "\n",
    "#create the connection url\n",
    "connecturl = \"mongodb://localhost:27017/\"\n",
    "\n",
    "# connect to mongodb server\n",
    "print(\"Connecting to mongodb server\")\n",
    "connection = MongoClient(connecturl)\n",
    "\n",
    "# select the 'training' database\n",
    "\n",
    "db = connection.training\n",
    "\n",
    "# select the 'python' collection\n",
    "\n",
    "collection = db.python\n",
    "\n",
    "# create a sample document\n",
    "\n",
    "doc = {\"lab\":\"Accessing mongodb using python\", \"Subject\":\"No SQL Databases\"}\n",
    "\n",
    "# insert a sample document\n",
    "\n",
    "print(\"Inserting a document into collection.\")\n",
    "db.collection.insert_one(doc)\n",
    "\n",
    "# query for all documents in 'training' database and 'python' collection\n",
    "\n",
    "docs = db.collection.find()\n",
    "\n",
    "print(\"Printing the documents in the collection.\")\n",
    "\n",
    "for document in docs:\n",
    "    print(document)\n",
    "\n",
    "# close the server connecton\n",
    "print(\"Closing the connection.\")\n",
    "connection.close()\n"
   ]
  },
  {
   "cell_type": "markdown",
   "id": "37c2a007",
   "metadata": {},
   "source": [
    "\n",
    "\n",
    "> Note: Please ensure you have replaced the password value in the above file with the password for the MongoDB server you copied.\n",
    ">\n",
    "\n",
    "Save the file.\n",
    "\n",
    "Run the file using the following command.\n",
    "\n"
   ]
  },
  {
   "cell_type": "raw",
   "id": "af982cbe",
   "metadata": {
    "vscode": {
     "languageId": "raw"
    }
   },
   "source": [
    "\n",
    "python3 mongo_query.py\n"
   ]
  },
  {
   "cell_type": "markdown",
   "id": "8ad6e779",
   "metadata": {},
   "source": [
    "\n",
    "\n",
    "You should see an output like the one in the following below.\n",
    "\n",
    "![https://cf-courses-data.s3.us.cloud-object-storage.appdomain.cloud/IBMSkillsNetwork-DB0151EN-edX/images/mongo-query-output.png](https://cf-courses-data.s3.us.cloud-object-storage.appdomain.cloud/IBMSkillsNetwork-DB0151EN-edX/images/mongo-query-output.png)\n",
    "\n",
    "# **Practice exercise**\n",
    "\n",
    "Write a Python program that can:\n",
    "\n",
    "- Connect to the MongoDB server\n",
    "- Select a database named `training`\n",
    "- Select a collection named `mongodb_glossary`\n",
    "- Insert the following documents into the collection `mongodb_glossary`\n",
    "\n"
   ]
  },
  {
   "cell_type": "raw",
   "id": "0fc1fc79",
   "metadata": {
    "vscode": {
     "languageId": "raw"
    }
   },
   "source": [
    "\n",
    "{\"database\":\"a database contains collections\"}\n",
    "{\"collection\":\"a collection stores the documents\"}\n",
    "{\"document\":\"a document contains the data in the form of key value pairs.\"}\n"
   ]
  },
  {
   "cell_type": "markdown",
   "id": "3cc491bb",
   "metadata": {},
   "source": [
    "\n",
    "\n",
    "- Query and print all the documents in the `training` database and `mongodb_glossary` collection\n",
    "- Close the connection to the server\n",
    "\n",
    "**Solution to practice exercise**\n",
    "\n"
   ]
  },
  {
   "cell_type": "code",
   "execution_count": 8,
   "id": "e2cdd0a3",
   "metadata": {},
   "outputs": [
    {
     "name": "stdout",
     "output_type": "stream",
     "text": [
      "Connecting to mongodb server\n",
      "Inserting documents into collection.\n",
      "Printing the documents in the collection.\n",
      "{'_id': ObjectId('664586388e6e240ebd409769'), 'lab': 'Accessing mongodb using python', 'Subject': 'No SQL Databases'}\n",
      "{'_id': ObjectId('664586c38e6e240ebd40976b'), 'database': 'a database contains collections'}\n",
      "{'_id': ObjectId('664586c38e6e240ebd40976c'), 'collection': 'a collection stores the documents'}\n",
      "{'_id': ObjectId('664586c38e6e240ebd40976d'), 'document': 'a document contains the data in the form or key value pairs.'}\n",
      "Closing the connection.\n"
     ]
    }
   ],
   "source": [
    "from pymongo import MongoClient\n",
    "\n",
    "#create the connection url\n",
    "connecturl = \"mongodb://localhost:27017/\"\n",
    "\n",
    "# connect to mongodb server\n",
    "print(\"Connecting to mongodb server\")\n",
    "connection = MongoClient(connecturl)\n",
    "\n",
    "# select the 'training' database\n",
    "\n",
    "db = connection.training\n",
    "\n",
    "# select the 'python' collection\n",
    "\n",
    "collection = db.mongodb_glossary\n",
    "\n",
    "# create documents\n",
    "\n",
    "doc1 = {\"database\":\"a database contains collections\"}\n",
    "doc2 = {\"collection\":\"a collection stores the documents\"}\n",
    "doc3 = {\"document\":\"a document contains the data in the form or key value pairs.\"}\n",
    "\n",
    "# insert documents\n",
    "print(\"Inserting documents into collection.\")\n",
    "\n",
    "db.collection.insert_one(doc1)\n",
    "db.collection.insert_one(doc2)\n",
    "db.collection.insert_one(doc3)\n",
    "\n",
    "# query for all documents in 'training' database and 'python' collection\n",
    "\n",
    "docs = db.collection.find()\n",
    "\n",
    "print(\"Printing the documents in the collection.\")\n",
    "\n",
    "for document in docs:\n",
    "    print(document)\n",
    "\n",
    "# close the server connecton\n",
    "print(\"Closing the connection.\")\n",
    "connection.close()\n"
   ]
  },
  {
   "cell_type": "markdown",
   "id": "545f9736",
   "metadata": {},
   "source": [
    "\n",
    "\n",
    "# **Summary**\n",
    "\n",
    "In this lab, you have gained an understanding of working with MongoDB in Python."
   ]
  }
 ],
 "metadata": {
  "kernelspec": {
   "display_name": "base",
   "language": "python",
   "name": "python3"
  },
  "language_info": {
   "codemirror_mode": {
    "name": "ipython",
    "version": 3
   },
   "file_extension": ".py",
   "mimetype": "text/x-python",
   "name": "python",
   "nbconvert_exporter": "python",
   "pygments_lexer": "ipython3",
   "version": "3.9.13"
  }
 },
 "nbformat": 4,
 "nbformat_minor": 5
}
