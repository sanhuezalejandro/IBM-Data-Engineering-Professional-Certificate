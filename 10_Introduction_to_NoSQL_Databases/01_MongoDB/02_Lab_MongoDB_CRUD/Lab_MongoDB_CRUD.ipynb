{
 "cells": [
  {
   "cell_type": "markdown",
   "id": "0a9fdd6d",
   "metadata": {},
   "source": [
    "# Lab: MongoDB CRUD\n",
    "\n",
    "<img src=\"https://cf-courses-data.s3.us.cloud-object-storage.appdomain.cloud/IBMSkillsNetwork-WD0231EN-SkillsNetwork/IDSN-logo.png\">\n",
    "\n",
    "Estimated time needed: **30** minutes\n",
    "\n",
    "## **Objectives**\n",
    "\n",
    "After completing this lab, you will be able to:\n",
    "\n",
    "- Create documents in MongoDB with the insert method\n",
    "- Read documents by listing them, counting them and matching them to a query\n",
    "- Update and delete documents in MongoDB based on specific criteria\n",
    "\n",
    "\n",
    "Run the below command on the newly opened terminal. (You can copy the code by clicking on the little copy button on the bottom right of the codeblock below and then paste it, wherever you wish.)\n",
    "\n"
   ]
  },
  {
   "cell_type": "code",
   "execution_count": null,
   "id": "796e137c",
   "metadata": {},
   "outputs": [],
   "source": [
    "#mongosh -u root -p PASSWORD --authenticationDatabase admin"
   ]
  },
  {
   "cell_type": "markdown",
   "id": "e9b4c454",
   "metadata": {},
   "source": [
    "# **Exercise 1 - Getting the database and collection ready**\n",
    "\n",
    "## **Select the training database**\n",
    "\n"
   ]
  },
  {
   "cell_type": "code",
   "execution_count": 1,
   "id": "88849cd2",
   "metadata": {},
   "outputs": [],
   "source": [
    "\n",
    "#use training\n"
   ]
  },
  {
   "cell_type": "markdown",
   "id": "b1446cc9",
   "metadata": {},
   "source": [
    "\n",
    "\n",
    "\n",
    "## **Create languages collection**\n",
    "\n",
    "\n",
    "\n"
   ]
  },
  {
   "cell_type": "code",
   "execution_count": 2,
   "id": "ba78f9e4",
   "metadata": {},
   "outputs": [],
   "source": [
    "\n",
    "#db.createCollection(\"languages\")\n"
   ]
  },
  {
   "cell_type": "markdown",
   "id": "f050a00d",
   "metadata": {},
   "source": [
    "## **PYMONGO**"
   ]
  },
  {
   "cell_type": "code",
   "execution_count": 1,
   "id": "75d1848b",
   "metadata": {},
   "outputs": [],
   "source": [
    "import pymongo\n",
    "\n",
    "# Connect to MongoDB\n",
    "client = pymongo.MongoClient(\"mongodb://localhost:27017/\")\n",
    "\n",
    "# Select the training database\n",
    "db = client[\"training\"]"
   ]
  },
  {
   "cell_type": "markdown",
   "id": "c9e726c6",
   "metadata": {},
   "source": [
    "\n",
    "\n",
    "\n",
    "# **Exercise 2 - Create documents**\n",
    "\n",
    "1. Run the below commands in mongo client to insert two documents into the collection `languages` one at a time.\n",
    "\n"
   ]
  },
  {
   "cell_type": "code",
   "execution_count": 3,
   "id": "e72db2c7",
   "metadata": {},
   "outputs": [],
   "source": [
    "\n",
    "# db.languages.insertOne({\"name\":\"java\",\"type\":\"object oriented\"})\n",
    "# db.languages.insertOne({\"name\":\"python\",\"type\":\"general purpose\",\"versions\":201})\n"
   ]
  },
  {
   "cell_type": "code",
   "execution_count": 4,
   "id": "5327f6eb",
   "metadata": {},
   "outputs": [
    {
     "data": {
      "text/plain": [
       "InsertOneResult(ObjectId('66452b56058d5fea773a8dcf'), acknowledged=True)"
      ]
     },
     "execution_count": 4,
     "metadata": {},
     "output_type": "execute_result"
    }
   ],
   "source": [
    "db.languages.insert_one({\"name\": \"java\", \"type\": \"object oriented\"})\n",
    "db.languages.insert_one({\"name\": \"python\", \"type\": \"general purpose\", \"versions\": 201})\n"
   ]
  },
  {
   "cell_type": "markdown",
   "id": "698d871b",
   "metadata": {},
   "source": [
    "\n",
    "\n",
    "2. To insert more than one document at the same time, you can use `insertMany` command; which accepts an array as the argument.\n",
    "\n"
   ]
  },
  {
   "cell_type": "code",
   "execution_count": 7,
   "id": "9ddb062b",
   "metadata": {},
   "outputs": [
    {
     "data": {
      "text/plain": [
       "InsertManyResult([ObjectId('66452c1b058d5fea773a8dd0'), ObjectId('66452c1b058d5fea773a8dd1'), ObjectId('66452c1b058d5fea773a8dd2')], acknowledged=True)"
      ]
     },
     "execution_count": 7,
     "metadata": {},
     "output_type": "execute_result"
    }
   ],
   "source": [
    "\n",
    "db.languages.insert_many([\n",
    "{\"name\":\"scala\",\"type\":\"functional\"},\n",
    "{\"name\":\"c\",\"type\":\"procedural\"},\n",
    "{\"name\":\"c++\",\"type\":\"object oriented\"}\n",
    "])\n"
   ]
  },
  {
   "cell_type": "markdown",
   "id": "2f5c1d1e",
   "metadata": {},
   "source": [
    "\n",
    "\n",
    "\n",
    "# **Exercise 3 - Read documents**\n",
    "\n",
    "Let's try out different ways of querying documents.\n",
    "\n",
    "1. Find how many documents in `languages` collection.\n",
    "\n"
   ]
  },
  {
   "cell_type": "code",
   "execution_count": 10,
   "id": "89ed406f",
   "metadata": {},
   "outputs": [
    {
     "data": {
      "text/plain": [
       "5"
      ]
     },
     "execution_count": 10,
     "metadata": {},
     "output_type": "execute_result"
    }
   ],
   "source": [
    "\n",
    "db.languages.count_documents({}) \n"
   ]
  },
  {
   "cell_type": "markdown",
   "id": "9fb83f81",
   "metadata": {},
   "source": [
    "\n",
    "\n",
    "2. List the first document in the collection.\n",
    "\n"
   ]
  },
  {
   "cell_type": "code",
   "execution_count": 11,
   "id": "f9fe7799",
   "metadata": {},
   "outputs": [
    {
     "data": {
      "text/plain": [
       "{'_id': ObjectId('66452b56058d5fea773a8dce'),\n",
       " 'name': 'java',\n",
       " 'type': 'object oriented'}"
      ]
     },
     "execution_count": 11,
     "metadata": {},
     "output_type": "execute_result"
    }
   ],
   "source": [
    "\n",
    "db.languages.find_one() \n"
   ]
  },
  {
   "cell_type": "markdown",
   "id": "28a95e67",
   "metadata": {},
   "source": [
    "\n",
    "\n",
    "3. List all documents in the collection.\n",
    "\n"
   ]
  },
  {
   "cell_type": "code",
   "execution_count": 13,
   "id": "28ab4790",
   "metadata": {},
   "outputs": [],
   "source": [
    "\n",
    "#db.languages.find() \n"
   ]
  },
  {
   "cell_type": "code",
   "execution_count": 14,
   "id": "cd87463c",
   "metadata": {},
   "outputs": [
    {
     "name": "stdout",
     "output_type": "stream",
     "text": [
      "{'_id': ObjectId('66452b56058d5fea773a8dce'), 'name': 'java', 'type': 'object oriented'}\n",
      "{'_id': ObjectId('66452b56058d5fea773a8dcf'), 'name': 'python', 'type': 'general purpose', 'versions': 201}\n",
      "{'_id': ObjectId('66452c1b058d5fea773a8dd0'), 'name': 'scala', 'type': 'functional'}\n",
      "{'_id': ObjectId('66452c1b058d5fea773a8dd1'), 'name': 'c', 'type': 'procedural'}\n",
      "{'_id': ObjectId('66452c1b058d5fea773a8dd2'), 'name': 'c++', 'type': 'object oriented'}\n"
     ]
    }
   ],
   "source": [
    "for doc in db.languages.find():\n",
    "    print(doc)"
   ]
  },
  {
   "cell_type": "markdown",
   "id": "cde562b6",
   "metadata": {},
   "source": [
    "\n",
    "\n",
    "4. List first 3 documents in the collection.\n",
    "\n"
   ]
  },
  {
   "cell_type": "code",
   "execution_count": 16,
   "id": "f8944c9c",
   "metadata": {},
   "outputs": [],
   "source": [
    "\n",
    "#db.languages.find().limit(3) \n"
   ]
  },
  {
   "cell_type": "code",
   "execution_count": 18,
   "id": "99ac8d46",
   "metadata": {},
   "outputs": [
    {
     "name": "stdout",
     "output_type": "stream",
     "text": [
      "{'_id': ObjectId('66452b56058d5fea773a8dce'), 'name': 'java', 'type': 'object oriented'}\n",
      "{'_id': ObjectId('66452b56058d5fea773a8dcf'), 'name': 'python', 'type': 'general purpose', 'versions': 201}\n",
      "{'_id': ObjectId('66452c1b058d5fea773a8dd0'), 'name': 'scala', 'type': 'functional'}\n"
     ]
    }
   ],
   "source": [
    "for doc in db.languages.find().limit(3):\n",
    "    print(doc)"
   ]
  },
  {
   "cell_type": "markdown",
   "id": "cdef7bcc",
   "metadata": {},
   "source": [
    "\n",
    "\n",
    "5. Query for \"python\" language.\n",
    "\n"
   ]
  },
  {
   "cell_type": "code",
   "execution_count": 20,
   "id": "94e3b1a5",
   "metadata": {},
   "outputs": [],
   "source": [
    "\n",
    "#db.languages.find({\"name\":\"python\"}) \n"
   ]
  },
  {
   "cell_type": "code",
   "execution_count": 21,
   "id": "115b3ed5",
   "metadata": {},
   "outputs": [
    {
     "name": "stdout",
     "output_type": "stream",
     "text": [
      "{'_id': ObjectId('66452b56058d5fea773a8dcf'), 'name': 'python', 'type': 'general purpose', 'versions': 201}\n"
     ]
    }
   ],
   "source": [
    "for doc in db.languages.find({\"name\":\"python\"}):\n",
    "    print(doc)"
   ]
  },
  {
   "cell_type": "markdown",
   "id": "a0fbddc0",
   "metadata": {},
   "source": [
    "\n",
    "\n",
    "6. Query for \"object oriented\" languages.\n",
    "\n"
   ]
  },
  {
   "cell_type": "code",
   "execution_count": 22,
   "id": "720056f6",
   "metadata": {},
   "outputs": [],
   "source": [
    "\n",
    "#db.languages.find({\"type\":\"object oriented\"})\n"
   ]
  },
  {
   "cell_type": "code",
   "execution_count": 23,
   "id": "51747c24",
   "metadata": {},
   "outputs": [
    {
     "name": "stdout",
     "output_type": "stream",
     "text": [
      "{'_id': ObjectId('66452b56058d5fea773a8dce'), 'name': 'java', 'type': 'object oriented'}\n",
      "{'_id': ObjectId('66452c1b058d5fea773a8dd2'), 'name': 'c++', 'type': 'object oriented'}\n"
     ]
    }
   ],
   "source": [
    "for doc in db.languages.find({\"type\":\"object oriented\"}):\n",
    "    print(doc)"
   ]
  },
  {
   "cell_type": "markdown",
   "id": "e43550e9",
   "metadata": {},
   "source": [
    "\n",
    "\n",
    "7. Use projection to only `project` specific fields. Using a projection document you can specify what fields we wish to see or skip in the output.\n",
    "\n",
    "This command lists all the documents with only `name` field in the output.\n",
    "\n"
   ]
  },
  {
   "cell_type": "code",
   "execution_count": 24,
   "id": "4c8c03db",
   "metadata": {},
   "outputs": [],
   "source": [
    "\n",
    "#db.languages.find({},{\"name\":1}) \n"
   ]
  },
  {
   "cell_type": "code",
   "execution_count": 25,
   "id": "af63c387",
   "metadata": {},
   "outputs": [
    {
     "name": "stdout",
     "output_type": "stream",
     "text": [
      "{'_id': ObjectId('66452b56058d5fea773a8dce'), 'name': 'java'}\n",
      "{'_id': ObjectId('66452b56058d5fea773a8dcf'), 'name': 'python'}\n",
      "{'_id': ObjectId('66452c1b058d5fea773a8dd0'), 'name': 'scala'}\n",
      "{'_id': ObjectId('66452c1b058d5fea773a8dd1'), 'name': 'c'}\n",
      "{'_id': ObjectId('66452c1b058d5fea773a8dd2'), 'name': 'c++'}\n"
     ]
    }
   ],
   "source": [
    "for doc in db.languages.find({},{\"name\":1}):\n",
    "    print(doc)"
   ]
  },
  {
   "cell_type": "markdown",
   "id": "403d2d22",
   "metadata": {},
   "source": [
    "\n",
    "\n",
    "8. This command lists all the documents without the `name` field in the output.\n",
    "\n"
   ]
  },
  {
   "cell_type": "code",
   "execution_count": 26,
   "id": "8debbd35",
   "metadata": {},
   "outputs": [],
   "source": [
    "\n",
    "#db.languages.find({},{\"name\":0})\n"
   ]
  },
  {
   "cell_type": "code",
   "execution_count": 27,
   "id": "5ce5ecac",
   "metadata": {},
   "outputs": [
    {
     "name": "stdout",
     "output_type": "stream",
     "text": [
      "{'_id': ObjectId('66452b56058d5fea773a8dce'), 'type': 'object oriented'}\n",
      "{'_id': ObjectId('66452b56058d5fea773a8dcf'), 'type': 'general purpose', 'versions': 201}\n",
      "{'_id': ObjectId('66452c1b058d5fea773a8dd0'), 'type': 'functional'}\n",
      "{'_id': ObjectId('66452c1b058d5fea773a8dd1'), 'type': 'procedural'}\n",
      "{'_id': ObjectId('66452c1b058d5fea773a8dd2'), 'type': 'object oriented'}\n"
     ]
    }
   ],
   "source": [
    "for doc in db.languages.find({},{\"name\":0}):\n",
    "    print(doc)"
   ]
  },
  {
   "cell_type": "markdown",
   "id": "f48c4c0f",
   "metadata": {},
   "source": [
    "\n",
    "\n",
    "9. This command lists all the `object oriented` languages with only `name` field in the output.\n",
    "\n"
   ]
  },
  {
   "cell_type": "code",
   "execution_count": 28,
   "id": "6e1e5fc1",
   "metadata": {},
   "outputs": [],
   "source": [
    "\n",
    "#db.languages.find({\"type\":\"object oriented\"},{\"name\":1})\n"
   ]
  },
  {
   "cell_type": "code",
   "execution_count": 29,
   "id": "e0fee046",
   "metadata": {},
   "outputs": [
    {
     "name": "stdout",
     "output_type": "stream",
     "text": [
      "{'_id': ObjectId('66452b56058d5fea773a8dce'), 'name': 'java'}\n",
      "{'_id': ObjectId('66452c1b058d5fea773a8dd2'), 'name': 'c++'}\n"
     ]
    }
   ],
   "source": [
    "for doc in db.languages.find({\"type\":\"object oriented\"},{\"name\":1}):\n",
    "    print(doc)"
   ]
  },
  {
   "cell_type": "markdown",
   "id": "d674e8c5",
   "metadata": {},
   "source": [
    "\n",
    "\n",
    "# **Exercise 4 - Update documents**\n",
    "\n",
    "You will now update documents based on a criteria.\n",
    "\n",
    "1. Add a field to all documents\n",
    "\n",
    "The `updateMany` command is used to update documents in a mongodb collection, and it has the following generic syntax.\n",
    "\n"
   ]
  },
  {
   "cell_type": "code",
   "execution_count": 30,
   "id": "21b3cb20",
   "metadata": {},
   "outputs": [],
   "source": [
    "\n",
    "#db.collection.updateMany(<filter>,<update>)\n"
   ]
  },
  {
   "cell_type": "markdown",
   "id": "57636f06",
   "metadata": {},
   "source": [
    "\n",
    "\n",
    "Here we are adding a field `description` with value `programming language` to all documents.\n",
    "\n"
   ]
  },
  {
   "cell_type": "code",
   "execution_count": 32,
   "id": "f416b281",
   "metadata": {},
   "outputs": [],
   "source": [
    "\n",
    "#db.languages.updateMany({},{$set:{\"description\":\"programming language\"}}) # type: ignore # type: ignore\n"
   ]
  },
  {
   "cell_type": "code",
   "execution_count": 33,
   "id": "0ecc352f",
   "metadata": {},
   "outputs": [
    {
     "data": {
      "text/plain": [
       "UpdateResult({'n': 5, 'nModified': 5, 'ok': 1.0, 'updatedExisting': True}, acknowledged=True)"
      ]
     },
     "execution_count": 33,
     "metadata": {},
     "output_type": "execute_result"
    }
   ],
   "source": [
    "db.languages.update_many({}, {\"$set\": {\"description\": \"programming language\"}})"
   ]
  },
  {
   "cell_type": "markdown",
   "id": "a955a3ff",
   "metadata": {},
   "source": [
    "\n",
    "\n",
    "2. Set the `creater` for python language.\n",
    "\n"
   ]
  },
  {
   "cell_type": "code",
   "execution_count": 34,
   "id": "bcb4f330",
   "metadata": {},
   "outputs": [],
   "source": [
    "\n",
    "#db.languages.updateMany({\"name\":\"python\"},{$set:{\"creator\":\"Guido van Rossum\"}}) # type: ignore # type: ignore # type: ignore # type: ignore # type: ignore # type: ignore\n"
   ]
  },
  {
   "cell_type": "code",
   "execution_count": 35,
   "id": "fa62b0b4",
   "metadata": {},
   "outputs": [
    {
     "data": {
      "text/plain": [
       "UpdateResult({'n': 1, 'nModified': 1, 'ok': 1.0, 'updatedExisting': True}, acknowledged=True)"
      ]
     },
     "execution_count": 35,
     "metadata": {},
     "output_type": "execute_result"
    }
   ],
   "source": [
    "db.languages.update_many({\"name\": \"python\"}, {\"$set\": {\"creator\": \"Guido van Rossum\"}})"
   ]
  },
  {
   "cell_type": "markdown",
   "id": "b23a8680",
   "metadata": {},
   "source": [
    "\n",
    "\n",
    "3. Set a field named `compiled` with a value `true` for all the `object oriented` languages.\n",
    "\n"
   ]
  },
  {
   "cell_type": "code",
   "execution_count": 36,
   "id": "f3dbb19e",
   "metadata": {},
   "outputs": [],
   "source": [
    "\n",
    "#db.languages.updateMany({\"type\":\"object oriented\"},{$set:{\"compiled\":true}}) # type: ignore\n"
   ]
  },
  {
   "cell_type": "code",
   "execution_count": 37,
   "id": "6f5cbef8",
   "metadata": {},
   "outputs": [
    {
     "data": {
      "text/plain": [
       "UpdateResult({'n': 2, 'nModified': 2, 'ok': 1.0, 'updatedExisting': True}, acknowledged=True)"
      ]
     },
     "execution_count": 37,
     "metadata": {},
     "output_type": "execute_result"
    }
   ],
   "source": [
    "db.languages.update_many({\"type\": \"object oriented\"}, {\"$set\": {\"compiled\": True}})"
   ]
  },
  {
   "cell_type": "markdown",
   "id": "a2303ed9",
   "metadata": {},
   "source": [
    "\n",
    "\n",
    "4. Increment `version` for `python` by `1`.\n",
    "\n"
   ]
  },
  {
   "cell_type": "code",
   "execution_count": 38,
   "id": "38487bc0",
   "metadata": {},
   "outputs": [],
   "source": [
    "\n",
    "#db.languages.updateOne({\"name\":\"python\"},{$inc:{\"version\":1}})\n"
   ]
  },
  {
   "cell_type": "code",
   "execution_count": 39,
   "id": "8b514896",
   "metadata": {},
   "outputs": [
    {
     "data": {
      "text/plain": [
       "UpdateResult({'n': 1, 'nModified': 1, 'ok': 1.0, 'updatedExisting': True}, acknowledged=True)"
      ]
     },
     "execution_count": 39,
     "metadata": {},
     "output_type": "execute_result"
    }
   ],
   "source": [
    "db.languages.update_one({\"name\": \"python\"}, {\"$inc\": {\"versions\": 1}})"
   ]
  },
  {
   "cell_type": "markdown",
   "id": "1cedead0",
   "metadata": {},
   "source": [
    "\n",
    "\n",
    "\n",
    "# **Exercise 5 - Delete documents**\n",
    "\n",
    "Delete documents based on a criteria.\n",
    "\n",
    "1. Delete one `scala` language document.\n",
    "\n"
   ]
  },
  {
   "cell_type": "code",
   "execution_count": null,
   "id": "7503600b",
   "metadata": {},
   "outputs": [],
   "source": [
    "\n",
    "#db.languages.deleteOne({\"name\":\"scala\"})\n"
   ]
  },
  {
   "cell_type": "code",
   "execution_count": 40,
   "id": "d63cba7e",
   "metadata": {},
   "outputs": [
    {
     "data": {
      "text/plain": [
       "DeleteResult({'n': 1, 'ok': 1.0}, acknowledged=True)"
      ]
     },
     "execution_count": 40,
     "metadata": {},
     "output_type": "execute_result"
    }
   ],
   "source": [
    "db.languages.delete_one({\"name\": \"scala\"})"
   ]
  },
  {
   "cell_type": "markdown",
   "id": "e0791f14",
   "metadata": {},
   "source": [
    "\n",
    "\n",
    "2. Delete all `object oriented` languages.\n",
    "\n"
   ]
  },
  {
   "cell_type": "code",
   "execution_count": 41,
   "id": "ce2d8d5a",
   "metadata": {},
   "outputs": [],
   "source": [
    "\n",
    "#db.languages.deleteMany({\"type\":\"object oriented\"})\n"
   ]
  },
  {
   "cell_type": "code",
   "execution_count": 42,
   "id": "aac034c9",
   "metadata": {},
   "outputs": [
    {
     "data": {
      "text/plain": [
       "DeleteResult({'n': 2, 'ok': 1.0}, acknowledged=True)"
      ]
     },
     "execution_count": 42,
     "metadata": {},
     "output_type": "execute_result"
    }
   ],
   "source": [
    "db.languages.delete_many({\"type\": \"object oriented\"})"
   ]
  },
  {
   "cell_type": "markdown",
   "id": "ec9b521f",
   "metadata": {},
   "source": [
    "\n",
    "\n",
    "3. Delete all the documents in a collection.\n",
    "\n"
   ]
  },
  {
   "cell_type": "code",
   "execution_count": 43,
   "id": "87d34a6a",
   "metadata": {},
   "outputs": [],
   "source": [
    "\n",
    "#db.languages.deleteMany({})\n"
   ]
  },
  {
   "cell_type": "code",
   "execution_count": 44,
   "id": "f6f2293e",
   "metadata": {},
   "outputs": [
    {
     "data": {
      "text/plain": [
       "DeleteResult({'n': 2, 'ok': 1.0}, acknowledged=True)"
      ]
     },
     "execution_count": 44,
     "metadata": {},
     "output_type": "execute_result"
    }
   ],
   "source": [
    "db.languages.delete_many({})"
   ]
  },
  {
   "cell_type": "markdown",
   "id": "e7dadf03",
   "metadata": {},
   "source": [
    "\n",
    "\n",
    "\n",
    "# **Practice exercises**\n",
    "\n",
    "Run the below code on mongo console. It will insert 5 documents, which will serve as sample data for the next steps.\n",
    "\n"
   ]
  },
  {
   "cell_type": "code",
   "execution_count": 45,
   "id": "a5b233c7",
   "metadata": {},
   "outputs": [],
   "source": [
    "\n",
    "# use training\n",
    "# db.languages.insertMany([\n",
    "# {\"name\":\"java\",\"type\":\"object oriented\"},\n",
    "# {\"name\":\"python\",\"type\":\"general purpose\"},\n",
    "# {\"name\":\"scala\",\"type\":\"functional\"},\n",
    "# {\"name\":\"c\",\"type\":\"procedural\"},\n",
    "# {\"name\":\"c++\",\"type\":\"object oriented\"}\n",
    "# ])\n"
   ]
  },
  {
   "cell_type": "code",
   "execution_count": 46,
   "id": "2b0133f4",
   "metadata": {},
   "outputs": [
    {
     "data": {
      "text/plain": [
       "InsertManyResult([ObjectId('664532b5058d5fea773a8dd3'), ObjectId('664532b5058d5fea773a8dd4'), ObjectId('664532b5058d5fea773a8dd5'), ObjectId('664532b5058d5fea773a8dd6'), ObjectId('664532b5058d5fea773a8dd7')], acknowledged=True)"
      ]
     },
     "execution_count": 46,
     "metadata": {},
     "output_type": "execute_result"
    }
   ],
   "source": [
    "db.languages.insert_many([\n",
    "    {\"name\": \"java\", \"type\": \"object oriented\"},\n",
    "    {\"name\": \"python\", \"type\": \"general purpose\"},\n",
    "    {\"name\": \"scala\", \"type\": \"functional\"},\n",
    "    {\"name\": \"c\", \"type\": \"procedural\"},\n",
    "    {\"name\": \"c++\", \"type\": \"object oriented\"}\n",
    "])"
   ]
  },
  {
   "cell_type": "markdown",
   "id": "8dc3cb25",
   "metadata": {},
   "source": [
    "\n",
    "\n",
    "1. Problem:\n",
    "\n",
    "> Insert an entry for Haskell programming language which is of type functional.\n",
    "\n",
    "> use the command db.collection.insert() or db.collection.insertOne()\n",
    "\n",
    "On the mongo client run the below commands.\n",
    "\n"
   ]
  },
  {
   "cell_type": "code",
   "execution_count": 47,
   "id": "a04cf0d5",
   "metadata": {},
   "outputs": [],
   "source": [
    "\n",
    "#db.languages.insertOne({\"name\":\"Haskell\",\"type\":\"functional\"})\n"
   ]
  },
  {
   "cell_type": "code",
   "execution_count": 48,
   "id": "99676833",
   "metadata": {},
   "outputs": [
    {
     "data": {
      "text/plain": [
       "InsertOneResult(ObjectId('664532c8058d5fea773a8dd8'), acknowledged=True)"
      ]
     },
     "execution_count": 48,
     "metadata": {},
     "output_type": "execute_result"
    }
   ],
   "source": [
    "db.languages.insert_one({\"name\": \"Haskell\", \"type\": \"functional\"})"
   ]
  },
  {
   "cell_type": "markdown",
   "id": "56a48783",
   "metadata": {},
   "source": [
    "\n",
    "\n",
    "1. Problem:\n",
    "\n",
    "> Query all languages with type as functional.\n",
    ">\n",
    "- Click here for Hint\n",
    "\n",
    "> use the command db.collection.find(<filter>) with suitable options\n",
    ">\n",
    "- Click here for Solution\n",
    "\n",
    "On the mongo client run the below commands.\n",
    "\n"
   ]
  },
  {
   "cell_type": "code",
   "execution_count": 49,
   "id": "68e7632b",
   "metadata": {},
   "outputs": [],
   "source": [
    "\n",
    "#db.languages.find({\"type\":\"functional\"})\n"
   ]
  },
  {
   "cell_type": "code",
   "execution_count": 50,
   "id": "b189a530",
   "metadata": {},
   "outputs": [
    {
     "name": "stdout",
     "output_type": "stream",
     "text": [
      "{'_id': ObjectId('664532b5058d5fea773a8dd5'), 'name': 'scala', 'type': 'functional'}\n",
      "{'_id': ObjectId('664532c8058d5fea773a8dd8'), 'name': 'Haskell', 'type': 'functional'}\n"
     ]
    }
   ],
   "source": [
    "for doc in db.languages.find({\"type\": \"functional\"}):\n",
    "    print(doc)"
   ]
  },
  {
   "cell_type": "markdown",
   "id": "380762a8",
   "metadata": {},
   "source": [
    "\n",
    "\n",
    "1. Problem:\n",
    "\n",
    "> Add Bjarne Stroustrup as creator for c++.\n",
    ">\n",
    "- Click here for Hint\n",
    "\n",
    "> use the command db.collection.updateOne(<filter>,<change>) with suitable options\n",
    ">\n",
    "- Click here for Solution\n",
    "\n",
    "On the mongo client run the below commands.\n",
    "\n"
   ]
  },
  {
   "cell_type": "code",
   "execution_count": 51,
   "id": "3e811550",
   "metadata": {},
   "outputs": [],
   "source": [
    "\n",
    "#db.languages.updateOne({\"name\":\"c++\"},{$set:{\"creator\":\"Bjarne Stroustrup\"}})\n"
   ]
  },
  {
   "cell_type": "code",
   "execution_count": 52,
   "id": "958bca86",
   "metadata": {},
   "outputs": [
    {
     "data": {
      "text/plain": [
       "UpdateResult({'n': 1, 'nModified': 1, 'ok': 1.0, 'updatedExisting': True}, acknowledged=True)"
      ]
     },
     "execution_count": 52,
     "metadata": {},
     "output_type": "execute_result"
    }
   ],
   "source": [
    "db.languages.update_one({\"name\": \"c++\"}, {\"$set\": {\"creator\": \"Bjarne Stroustrup\"}})\n"
   ]
  },
  {
   "cell_type": "markdown",
   "id": "d520b19f",
   "metadata": {},
   "source": [
    "\n",
    "\n",
    "1. Problem:\n",
    "\n",
    "> Delete all functional programming languages.\n",
    ">\n",
    "\n",
    "\n",
    "> use the command db.collection.deleteMany(<criteria>) with suitable options\n",
    ">\n",
    "\n",
    "\n",
    "On the mongo client run the below commands.\n",
    "\n"
   ]
  },
  {
   "cell_type": "code",
   "execution_count": null,
   "id": "39ef9a57",
   "metadata": {},
   "outputs": [],
   "source": [
    "\n",
    "#db.languages.deleteMany({\"type\":\"functional\"})\n"
   ]
  },
  {
   "cell_type": "code",
   "execution_count": 53,
   "id": "80f5f50a",
   "metadata": {},
   "outputs": [
    {
     "data": {
      "text/plain": [
       "DeleteResult({'n': 2, 'ok': 1.0}, acknowledged=True)"
      ]
     },
     "execution_count": 53,
     "metadata": {},
     "output_type": "execute_result"
    }
   ],
   "source": [
    "db.languages.delete_many({\"type\": \"functional\"})\n"
   ]
  },
  {
   "cell_type": "markdown",
   "id": "7cd753e4",
   "metadata": {},
   "source": [
    "\n",
    "\n",
    "1. Problem:\n",
    "\n",
    "> Disconnect from the mongodb server.\n",
    ">\n",
    "- Click here for Solution\n",
    "\n",
    "Run the below command on the terminal.\n",
    "\n"
   ]
  },
  {
   "cell_type": "code",
   "execution_count": 54,
   "id": "0f4d1b0e",
   "metadata": {},
   "outputs": [],
   "source": [
    "\n",
    "#exit\n"
   ]
  },
  {
   "cell_type": "code",
   "execution_count": 55,
   "id": "3bd30386",
   "metadata": {},
   "outputs": [],
   "source": [
    "# Disconnect from the MongoDB server\n",
    "client.close()"
   ]
  }
 ],
 "metadata": {
  "kernelspec": {
   "display_name": "base",
   "language": "python",
   "name": "python3"
  },
  "language_info": {
   "codemirror_mode": {
    "name": "ipython",
    "version": 3
   },
   "file_extension": ".py",
   "mimetype": "text/x-python",
   "name": "python",
   "nbconvert_exporter": "python",
   "pygments_lexer": "ipython3",
   "version": "3.9.13"
  }
 },
 "nbformat": 4,
 "nbformat_minor": 5
}
