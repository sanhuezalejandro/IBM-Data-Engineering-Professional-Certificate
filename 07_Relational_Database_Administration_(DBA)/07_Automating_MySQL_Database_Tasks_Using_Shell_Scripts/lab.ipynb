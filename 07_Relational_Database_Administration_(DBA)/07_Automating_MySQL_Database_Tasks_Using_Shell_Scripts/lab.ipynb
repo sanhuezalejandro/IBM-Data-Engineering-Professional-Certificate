{
 "cells": [
  {
   "cell_type": "markdown",
   "metadata": {},
   "source": [
    "# Hands-on Lab: Automating MySQL Database Tasks Using Shell Scripts\n",
    "https://www.coursera.org/learn/relational-database-administration/ungradedLti/k5Cjq/hands-on-lab-automating-tasks-in-mysql-using-shell-scripts\n",
    "\n",
    "## Objectives\n",
    "After completing this lab, you will be able to use the MySQL command line to:\n",
    "\n",
    "Create the shell script to back up the database.\n",
    "Create a cron job to run the backup script thereby creating a backup file.\n",
    "Truncate the tables in the database.\n",
    "Restore the database using the backup file.\n",
    "\n",
    "## Exercise\n",
    "In this exercise you will create a database, backup the database using an automated script, and finally truncate and restore it back.\n"
   ]
  },
  {
   "cell_type": "markdown",
   "metadata": {},
   "source": [
    "## Task A: Create a Database"
   ]
  },
  {
   "cell_type": "code",
   "execution_count": 1,
   "metadata": {},
   "outputs": [
    {
     "name": "stdout",
     "output_type": "stream",
     "text": [
      "  % Total    % Received % Xferd  Average Speed   Time    Time     Time  Current\n",
      "                                 Dload  Upload   Total   Spent    Left  Speed\n",
      "100 3121k  100 3121k    0     0   245k      0  0:00:12  0:00:12 --:--:--  352k:00:28   97k\n"
     ]
    }
   ],
   "source": [
    "!curl -O https://cf-courses-data.s3.us.cloud-object-storage.appdomain.cloud/IBM-DB0110EN-SkillsNetwork/datasets/sakila/sakila_mysql_dump.sql"
   ]
  },
  {
   "cell_type": "markdown",
   "metadata": {},
   "source": [
    "Open the .my.cnf as root user, with nano editor to configure your mysql password ."
   ]
  },
  {
   "cell_type": "code",
   "execution_count": 2,
   "metadata": {},
   "outputs": [],
   "source": [
    "#sudo nano ~/.my.cnf"
   ]
  },
  {
   "cell_type": "markdown",
   "metadata": {},
   "source": [
    "Add the password you noted in the previous step to the .my.cnf file. This aids in not entering the password over and over again and keeps the password hidden in the config file."
   ]
  },
  {
   "cell_type": "markdown",
   "metadata": {},
   "source": [
    "[mysql]\n",
    "host = 127.0.0.1\n",
    "port = 3306\n",
    "user = root\n",
    "password = <Your MySQL Password>\n",
    "\n",
    "[mysqlimport]\n",
    "host = 127.0.0.1\n",
    "port = 3306\n",
    "user = root\n",
    "password = <Your MySQL Password>\n",
    "\n",
    "[mysqldump]\n",
    "host = 127.0.0.1\n",
    "port = 3306\n",
    "user = root\n",
    "password = <Your MySQL Password>\n",
    "\n",
    "[mysqlshow]\n",
    "host = 127.0.0.1\n",
    "port = 3306\n",
    "user = root\n",
    "password = <Your MySQL Password>\n",
    "\n",
    "[mysqlcheck]\n",
    "host = 127.0.0.1\n",
    "port = 3306\n",
    "user = root\n",
    "password = <Your MySQL Password>\n",
    "\n",
    "[mysqladmin]\n",
    "host = 127.0.0.1\n",
    "port = 3306\n",
    "user = root\n",
    "password = <Your MySQL Password>"
   ]
  },
  {
   "cell_type": "markdown",
   "metadata": {},
   "source": [
    "Press Ctrl+O followed by the Enter key to save the file.\n",
    "\n",
    "Press Ctrl+X to quit the nano editor.\n",
    "\n",
    "Initiate the mysql command prompt session within the MySQL service session using the command below in the terminal:"
   ]
  },
  {
   "cell_type": "code",
   "execution_count": 3,
   "metadata": {},
   "outputs": [],
   "source": [
    "#mysql"
   ]
  },
  {
   "cell_type": "markdown",
   "metadata": {},
   "source": [
    "<img src=\"https://cf-courses-data.s3.us.cloud-object-storage.appdomain.cloud/IBM-DB0231EN-SkillsNetwork/labs/MySQL/Lab%20-%20Automate%20Backup%20in%20MySQL/images/mysql.png\" w=\"500\" h=\"400\">"
   ]
  },
  {
   "cell_type": "markdown",
   "metadata": {},
   "source": [
    "Here you find that you are able to login to mysql without entering the password as it is already configured in the ~/.my.cnf file.\n",
    "\n",
    "Create a new database sakila using the command below in the terminal and proceed to Task B:"
   ]
  },
  {
   "cell_type": "code",
   "execution_count": 5,
   "metadata": {},
   "outputs": [],
   "source": [
    "#create database sakila;"
   ]
  },
  {
   "cell_type": "markdown",
   "metadata": {},
   "source": [
    "<img src=\"https://cf-courses-data.s3.us.cloud-object-storage.appdomain.cloud/IBM-DB0231EN-SkillsNetwork/labs/MySQL/Lab%20-%20Automate%20Backup%20in%20MySQL/images/sakila.png\" w=500 h=400>"
   ]
  },
  {
   "cell_type": "markdown",
   "metadata": {},
   "source": [
    "## Task B: Restore the Structure and Data of a Table\n",
    "To use the newly created empty sakila database, use the command below in the terminal:"
   ]
  },
  {
   "cell_type": "code",
   "execution_count": 6,
   "metadata": {},
   "outputs": [],
   "source": [
    "#use sakila;"
   ]
  },
  {
   "cell_type": "code",
   "execution_count": 7,
   "metadata": {},
   "outputs": [],
   "source": [
    "#source sakila_mysql_dump.sql;"
   ]
  },
  {
   "cell_type": "markdown",
   "metadata": {},
   "source": [
    "To check, list all the table names from the sakila database using the command below in the terminal\n"
   ]
  },
  {
   "cell_type": "code",
   "execution_count": 8,
   "metadata": {},
   "outputs": [],
   "source": [
    "#SHOW FULL TABLES WHERE table_type = 'BASE TABLE';"
   ]
  },
  {
   "cell_type": "markdown",
   "metadata": {},
   "source": [
    "<img src=\"https://cf-courses-data.s3.us.cloud-object-storage.appdomain.cloud/IBM-DB0110EN-SkillsNetwork/labs/Lab%20-%20Getting%20started%20with%20MySQL%20command%20line/images/C.1.png\" w=500 h=400>"
   ]
  },
  {
   "cell_type": "markdown",
   "metadata": {},
   "source": [
    "## Task C: Understanding the Process Involved in Creating MySQL Database Backups\n",
    "\n",
    "You will create a shell script that does the following:\n",
    "\n",
    "* Writes the database to an sqlfile created with a timestamp, using the mysqldump command\n",
    "\n",
    "* Zips the sqlfile into a zip file using the gzip command\n",
    "\n",
    "* Removes the sqlfile using rm command\n",
    "\n",
    "* Deletes the backup after 30 days\n",
    "\n",
    "Before you create the script, let’s understand each of the command blocks you will be adding to the file.\n",
    "\n",
    "* To start with, you have a database that you want to back up. You will store the name of the database in a variable."
   ]
  },
  {
   "cell_type": "code",
   "execution_count": 9,
   "metadata": {},
   "outputs": [],
   "source": [
    "#DATABASE='sakila'"
   ]
  },
  {
   "cell_type": "code",
   "execution_count": null,
   "metadata": {},
   "outputs": [],
   "source": []
  }
 ],
 "metadata": {
  "kernelspec": {
   "display_name": "base",
   "language": "python",
   "name": "python3"
  },
  "language_info": {
   "codemirror_mode": {
    "name": "ipython",
    "version": 3
   },
   "file_extension": ".py",
   "mimetype": "text/x-python",
   "name": "python",
   "nbconvert_exporter": "python",
   "pygments_lexer": "ipython3",
   "version": "3.9.13"
  }
 },
 "nbformat": 4,
 "nbformat_minor": 2
}
