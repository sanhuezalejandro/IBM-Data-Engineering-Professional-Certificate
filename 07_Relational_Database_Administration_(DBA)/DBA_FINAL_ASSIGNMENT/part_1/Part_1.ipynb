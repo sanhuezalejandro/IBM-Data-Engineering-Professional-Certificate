{
 "cells": [
  {
   "cell_type": "markdown",
   "metadata": {},
   "source": [
    "# Final Assignment - Database Administration - Part 1\n",
    "https://www.coursera.org/learn/relational-database-administration/ungradedLti/gAEgV/hands-on-lab-final-assignment-database-administration-part-1\n",
    "\n"
   ]
  },
  {
   "cell_type": "markdown",
   "metadata": {},
   "source": [
    "## Scenario\n",
    "You have assumed the role of database administrator for the PostgreSQL server and you will perform the User Management tasks and handle the backup of the databases.\n",
    "\n",
    "## Objectives\n",
    "In Part 1 of this assignment you will be working on the following aspects of Database Administration.\n",
    "\n",
    "* Installation/Provisioning\n",
    "* Configuration\n",
    "* User Management\n",
    "* Backup"
   ]
  },
  {
   "cell_type": "markdown",
   "metadata": {},
   "source": [
    "### Exercise 1.1 - Set up the lab environment\n",
    "Before you proceed with the assignment\n",
    "\n",
    "* Start the PostgreSQL Server\n",
    "* Download the lab setup bash file from https://cf-courses-data.s3.us.cloud-object-storage.appdomain.cloud/IBM-DB0231EN-SkillsNetwork/labs/Final%20Assignment/postgres-setup.sh\n",
    "* Run the bash file"
   ]
  },
  {
   "cell_type": "code",
   "execution_count": null,
   "metadata": {},
   "outputs": [],
   "source": [
    "#!wget  https://cf-courses-data.s3.us.cloud-object-storage.appdomain.cloud/IBM-DB0231EN-SkillsNetwork/labs/Final%20Assignment/postgres-setup.sh"
   ]
  },
  {
   "cell_type": "code",
   "execution_count": null,
   "metadata": {},
   "outputs": [],
   "source": [
    "!curl -O https://cf-courses-data.s3.us.cloud-object-storage.appdomain.cloud/IBM-DB0231EN-SkillsNetwork/labs/Final%20Assignment/postgres-setup.sh"
   ]
  },
  {
   "cell_type": "code",
   "execution_count": null,
   "metadata": {},
   "outputs": [],
   "source": [
    "!chmod +x postgres-setup.sh"
   ]
  },
  {
   "cell_type": "code",
   "execution_count": null,
   "metadata": {},
   "outputs": [],
   "source": [
    "#!./postgres-setup.sh"
   ]
  },
  {
   "cell_type": "markdown",
   "metadata": {},
   "source": [
    "### Task 1.1 - Find the settings in PostgreSQL\n",
    "What is the maximum number of connections allowed for the postgres server on theia lab?\n",
    "\n",
    "Hint: /home/project/postgres/data/postgresql.conf is the configuration file for PostgreSQL.\n",
    "\n",
    "Take a screenshot of the config file that clearly shows this information.\n",
    "Name the screenshot as max-connections.jpg. (images can be saved with either .jpg or .png extension)"
   ]
  },
  {
   "cell_type": "code",
   "execution_count": null,
   "metadata": {},
   "outputs": [],
   "source": [
    "#grep \"max_connections\" /home/project/postgres/data/postgresql.conf\n"
   ]
  },
  {
   "cell_type": "code",
   "execution_count": 5,
   "metadata": {},
   "outputs": [],
   "source": [
    "#!sudo grep \"max_connections\" /Library/PostgreSQL/16/data/postgresql.conf\n"
   ]
  },
  {
   "cell_type": "markdown",
   "metadata": {},
   "source": [
    "### Task 1.2 - Create a User:\n",
    "To create a user named backup_operator, you can use the CREATE USER command:\n"
   ]
  },
  {
   "cell_type": "code",
   "execution_count": null,
   "metadata": {},
   "outputs": [],
   "source": [
    "#CREATE USER backup_operator;"
   ]
  },
  {
   "cell_type": "markdown",
   "metadata": {},
   "source": [
    "### Task 1.3 - Create a Role:\n",
    "To create a role named backup, you can use the CREATE ROLE command:"
   ]
  },
  {
   "cell_type": "code",
   "execution_count": null,
   "metadata": {},
   "outputs": [],
   "source": [
    "#CREATE ROLE backup;\n"
   ]
  },
  {
   "cell_type": "markdown",
   "metadata": {},
   "source": [
    "### Task 1.4 - Grant privileges to the role:\n",
    "To grant the specified privileges to the backup role, you can use the GRANT command:"
   ]
  },
  {
   "cell_type": "code",
   "execution_count": null,
   "metadata": {},
   "outputs": [],
   "source": [
    "# -- Grant CONNECT privilege on the tolldata database to the backup role\n",
    "# GRANT CONNECT ON DATABASE tolldata TO backup;\n",
    "\n",
    "# -- Grant SELECT privilege on all tables in the toll schema to the backup role\n",
    "# GRANT SELECT ON ALL TABLES IN SCHEMA toll TO backup;\n"
   ]
  },
  {
   "cell_type": "markdown",
   "metadata": {},
   "source": [
    "### Task 1.5 - Grant role to a user:\n",
    "To grant the backup role to the backup_operator user, you can use the GRANT command as well:"
   ]
  },
  {
   "cell_type": "code",
   "execution_count": null,
   "metadata": {},
   "outputs": [],
   "source": [
    "# GRANT backup TO backup_operator;\n"
   ]
  },
  {
   "cell_type": "markdown",
   "metadata": {},
   "source": [
    "### Task 1.6 - Backup a database on PostgreSQL server\n",
    "Backup the database tolldata using PGADMIN GUI.\n",
    "\n",
    "Backup the database tolldata into a file named tolldatabackup.tar, select the backup format as Tar"
   ]
  },
  {
   "cell_type": "markdown",
   "metadata": {},
   "source": [
    "![](backup-database.png)"
   ]
  },
  {
   "cell_type": "markdown",
   "metadata": {},
   "source": [
    "To backup the tolldata database using the command-line interface (CLI) of PostgreSQL, you can use the pg_dump utility. Here's how you can do it:\n",
    "\n",
    "bash\n"
   ]
  },
  {
   "cell_type": "code",
   "execution_count": null,
   "metadata": {},
   "outputs": [],
   "source": [
    "# pg_dump -Ft -d tolldata -f /path/to/tolldatabackup.tar"
   ]
  },
  {
   "cell_type": "markdown",
   "metadata": {},
   "source": []
  }
 ],
 "metadata": {
  "kernelspec": {
   "display_name": "base",
   "language": "python",
   "name": "python3"
  },
  "language_info": {
   "codemirror_mode": {
    "name": "ipython",
    "version": 3
   },
   "file_extension": ".py",
   "mimetype": "text/x-python",
   "name": "python",
   "nbconvert_exporter": "python",
   "pygments_lexer": "ipython3",
   "version": "3.9.13"
  }
 },
 "nbformat": 4,
 "nbformat_minor": 2
}
