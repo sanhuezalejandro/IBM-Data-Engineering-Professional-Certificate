{
 "cells": [
  {
   "cell_type": "markdown",
   "metadata": {},
   "source": [
    "# Final Assignment - Database Administration - Part 3\n",
    "https://www.coursera.org/learn/relational-database-administration/ungradedLti/BSiwr/hands-on-lab-final-assignment-database-administration-part-3\n",
    "\n",
    "## Scenario\n",
    "You have been assigned the work to provison a cloud instance of IBM DB2 server and perform the tasks like restoration of data, index creation to improve the query performance. You will create views to make queries easier to write. Optionally You will also connect to the cloud instance of IBM DB2 server and from command line.\n",
    "\n",
    "## Objectives\n",
    "In part 3 of this assignment you will be working on the following aspects of Database Administration.\n",
    "\n",
    "- Restore data\n",
    "- Indexing\n",
    "- View creation\n",
    "- Connecting from command line"
   ]
  },
  {
   "cell_type": "markdown",
   "metadata": {},
   "source": [
    "## Exercise 3.1 - Prepare the lab environment\n",
    "Before you proceed with the assignment, you need to have access to a cloud instance of IBM DB2 database. If you do not have access, use the instructions in this lab Hands-on Lab: Sign up for IBM Cloud and Create a Db2 service instance to create a instance for yourself.\n",
    "\n",
    "Download the file **billing.csv**\n",
    "https://cf-courses-data.s3.us.cloud-object-storage.appdomain.cloud/IBM-DB0231EN-SkillsNetwork/labs/Final%20Assignment/billing.csv"
   ]
  },
  {
   "cell_type": "code",
   "execution_count": 1,
   "metadata": {},
   "outputs": [
    {
     "name": "stdout",
     "output_type": "stream",
     "text": [
      "  % Total    % Received % Xferd  Average Speed   Time    Time     Time  Current\n",
      "                                 Dload  Upload   Total   Spent    Left  Speed\n",
      "100 6103k  100 6103k    0     0   235k      0  0:00:25  0:00:25 --:--:--  266k92k\n"
     ]
    }
   ],
   "source": [
    "!curl -O https://cf-courses-data.s3.us.cloud-object-storage.appdomain.cloud/IBM-DB0231EN-SkillsNetwork/labs/Final%20Assignment/billing.csv"
   ]
  },
  {
   "cell_type": "markdown",
   "metadata": {},
   "source": [
    "## Exercise 3.2 - Restore data\n",
    "### Task 3.1 - Restore the table billing\n",
    "Use the billing.csv you have downloaded earlier, restore the csv file into a table named billing.\n",
    "\n",
    "Note: You will see that each column has data type and column width auto generated based on the content. Edit column attributes by clicking on the pencil icon next to the respective attributes to change the width of country column to varchar of 30 and month column to varchar of 7.\n",
    "\n",
    "Take a screenshot of the import status clearly showing the number of rows imported.\n",
    "\n",
    "Name the screenshot as restore-table.jpg. (images can be saved with either .jpg or .png extension)"
   ]
  },
  {
   "cell_type": "markdown",
   "metadata": {},
   "source": [
    "![](3_1-restore-table.png)"
   ]
  },
  {
   "cell_type": "markdown",
   "metadata": {},
   "source": [
    "## Exercise 3.3 - Create a view\n",
    "### Task 3.2 - Create a view named basicbilldetailswith the columns customerid, month, billedamount\n",
    "Take a screenshot of the sql statement used to create the view.\n",
    "\n",
    "Name the screenshot as create-view.jpg. (images can be saved with either .jpg or .png extension)"
   ]
  },
  {
   "cell_type": "markdown",
   "metadata": {},
   "source": [
    "![](3_2-create-view.png)"
   ]
  },
  {
   "cell_type": "markdown",
   "metadata": {},
   "source": [
    "## Exercise 3.4 - Indexing\n",
    "### Task 3.3 - Baseline query performance\n",
    "Write a query to find out all the rows with a billing amount of 19929.\n",
    "\n",
    "Take a screenshot of the command you used along with the query run time.\n",
    "\n",
    "Name the screenshot as query-base-line-db2.jpg. (images can be saved with either .jpg or .png extension)"
   ]
  },
  {
   "cell_type": "markdown",
   "metadata": {},
   "source": [
    "![](3_3-query-base-line-db2.png)"
   ]
  },
  {
   "cell_type": "markdown",
   "metadata": {},
   "source": [
    "### Task 3.4 - Create an index\n",
    "Create an index that can make the query in the previous task faster. Name the index as billingamount.\n",
    "\n",
    "Take a screenshot of the sql statement you used and the output.\n",
    "\n",
    "Name the screenshot as index-creation-db2.jpg. (images can be saved with either .jpg or .png extension)"
   ]
  },
  {
   "cell_type": "markdown",
   "metadata": {},
   "source": [
    "![](3_4-index-creation-db2.png)"
   ]
  },
  {
   "cell_type": "markdown",
   "metadata": {},
   "source": [
    "### Task 3.5 - Document the improvement in query performance\n",
    "Find out if the index has any impact on query performance.\n",
    "\n",
    "Re-run the query to find out all the rows with a billing amount of 19929.\n",
    "\n",
    "Take a screenshot of the command you used and the output along with the query time.\n",
    "\n",
    "Note: Sometimes, the query time after index creation may increase. This can happen due to various factors like\n",
    "\n",
    "bandwidth at the time of firing the query\n",
    "the load on free cloud tier that your IBM DB2 instance uses is dynamic and other load may impact your query time\n",
    "You will NOT be evaluated on the query run time. However, you are encouraged to run the query multiple times and pick the result with lowest query run time.\n",
    "\n",
    "Name the screenshot as query-after-index.jpg. (images can be saved with either .jpg or .png extension)"
   ]
  },
  {
   "cell_type": "markdown",
   "metadata": {},
   "source": [
    "![](3_5-query-after-index.png)"
   ]
  },
  {
   "cell_type": "markdown",
   "metadata": {},
   "source": [
    "## OPTIONAL Exercise (Non-graded) - Connecting to IBM DB2 from command line\n",
    "### Bonus Task 3.6 - Connect to the clould instance of IBM DB2 using the db2cli command line tool\n",
    "From the theia lab environment, you can use the db2cli to connect the IBM DB2. The generic syntax to connect is as follows.\n",
    "\n",
    "db2cli execsql -connString “DATABASE=<databasename>;UID=<username>;PWD=<password>;HOSTNAME=<hostname>;port=<port>;Security=SSL”\n",
    "\n",
    "Collect the databasename, username, password, hostname and port details using the service credentials of the IBM DB2 cloud console.\n",
    "\n",
    "Run a sql query on the db2cli command line to find out the number of rows in the table billing.\n",
    "\n",
    "Note the row count.\n",
    "\n",
    "End of assignment - Part 3."
   ]
  },
  {
   "cell_type": "markdown",
   "metadata": {},
   "source": []
  }
 ],
 "metadata": {
  "kernelspec": {
   "display_name": "base",
   "language": "python",
   "name": "python3"
  },
  "language_info": {
   "codemirror_mode": {
    "name": "ipython",
    "version": 3
   },
   "file_extension": ".py",
   "mimetype": "text/x-python",
   "name": "python",
   "nbconvert_exporter": "python",
   "pygments_lexer": "ipython3",
   "version": "3.9.13"
  }
 },
 "nbformat": 4,
 "nbformat_minor": 2
}
