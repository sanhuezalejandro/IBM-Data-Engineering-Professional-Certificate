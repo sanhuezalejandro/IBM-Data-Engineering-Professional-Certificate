{
 "cells": [
  {
   "cell_type": "markdown",
   "metadata": {},
   "source": [
    "# **Hands-on Lab: Setting up a Staging Area**\n",
    "\n",
    "https://www.coursera.org/learn/getting-started-with-data-warehousing-and-bi-analytics/ungradedLti/ixPVN/hands-on-lab-setting-up-a-staging-area\n"
   ]
  },
  {
   "cell_type": "markdown",
   "metadata": {},
   "source": [
    "## **Purpose of the Lab:**\n",
    "\n",
    "The purpose of the lab is to equip you with practical skills in setting up and managing a staging server for a data warehouse, specifically using PostgreSQL. The lab focuses on teaching how to design and implement a database schema, load data into tables, and run sample queries to interact with the data. This is aimed at providing you with a hands-on understanding of the intricacies involved in preparing and managing a data warehouse environment.\n",
    "\n",
    "## **Benefits of Learning the Lab:**\n",
    "\n",
    "The key benefit of this lab is the hands-on experience it offers in data warehousing concepts and practices. By working in the Skills Network Cloud IDE, an interactive environment, you can practice and hone your database management skills. This practical exposure is crucial for developing a solid foundation in data management and analysis, skills that are highly valued in real-world business scenarios. The lab helps you to understand the operational aspects of data warehouses, making you better prepared for challenges in data management and analysis in professional settings.\n",
    "\n",
    "## **Objectives**\n",
    "\n",
    "In this lab you will:\n",
    "\n",
    "- Setup a staging server for a data warehouse\n",
    "- Create the schema to store the data\n",
    "- Load the data into the tables\n",
    "- Run a sample query"
   ]
  },
  {
   "cell_type": "markdown",
   "metadata": {},
   "source": [
    "# **Exercise 1 - Start the PostgreSQL server**\n",
    "\n",
    "We will be using the PostgreSQL server as our staging server.\n",
    "\n",
    "Start the PostgreSQL server.\n",
    "\n",
    "Open a new terminal, by clicking on the menu bar and selecting **Terminal**->**New Terminal**.\n",
    "\n",
    "This will open a new terminal at the bottom of the screen.\n",
    "\n",
    "Run the commands below on the newly opened terminal. (You can copy the code by clicking on the little copy button on the bottom right of the codeblock below and then paste it, wherever you wish.)\n",
    "\n",
    "Start the PostgreSQL server"
   ]
  },
  {
   "cell_type": "markdown",
   "metadata": {},
   "source": [
    "# **Exercise 2 - Create Database**\n",
    "\n",
    "Create the database on the data warehouse.\n",
    "\n",
    "Using the createdb command of the PostgreSQL server, we can directly create the database from the terminal.\n",
    "\n",
    "Run the command below to create a database named billingDW."
   ]
  },
  {
   "cell_type": "markdown",
   "metadata": {},
   "source": [
    "drop if exist"
   ]
  },
  {
   "cell_type": "code",
   "execution_count": 3,
   "metadata": {},
   "outputs": [],
   "source": [
    "#dropdb -h localhost -U postgres -p 5432 billingDW"
   ]
  },
  {
   "cell_type": "code",
   "execution_count": 1,
   "metadata": {},
   "outputs": [],
   "source": [
    "#createdb -h localhost -U postgres -p 5432 billingDW"
   ]
  },
  {
   "cell_type": "markdown",
   "metadata": {},
   "source": [
    "# **Exercise 3 - Create data warehouse schema**\n",
    "\n",
    "Step 1:\n",
    "\n",
    "Download the schema files.\n",
    "\n",
    "The commands to create the schema are available in the file below.\n",
    "\n",
    "https://cf-courses-data.s3.us.cloud-object-storage.appdomain.cloud/IBM-DB0260EN-SkillsNetwork/labs/Setting%20up%20a%20staging%20area/billing-datawarehouse.tgz\n",
    "\n",
    "Run the commands below to download and extract the schema files."
   ]
  },
  {
   "cell_type": "code",
   "execution_count": 4,
   "metadata": {},
   "outputs": [],
   "source": [
    "#curl -O https://cf-courses-data.s3.us.cloud-object-storage.appdomain.cloud/IBM-DB0260EN-SkillsNetwork/labs/Setting%20up%20a%20staging%20area/billing-datawarehouse.tgz"
   ]
  },
  {
   "cell_type": "markdown",
   "metadata": {},
   "source": [
    "extract the schema files"
   ]
  },
  {
   "cell_type": "code",
   "execution_count": 5,
   "metadata": {},
   "outputs": [],
   "source": [
    "#tar -xvzf billing-datawarehouse.tgz"
   ]
  },
  {
   "cell_type": "markdown",
   "metadata": {},
   "source": [
    "You should see 4 .sql files listed in the output"
   ]
  },
  {
   "cell_type": "code",
   "execution_count": 7,
   "metadata": {},
   "outputs": [
    {
     "name": "stdout",
     "output_type": "stream",
     "text": [
      "DimCustomer.sql DimMonth.sql    FactBilling.sql star-schema.sql verify.sql\n"
     ]
    }
   ],
   "source": [
    "!ls *.sql"
   ]
  },
  {
   "cell_type": "markdown",
   "metadata": {},
   "source": [
    "Step 2: Create the schema\n",
    "\n",
    "Run the command below to create the schema in the `billingDW` database."
   ]
  },
  {
   "cell_type": "code",
   "execution_count": 8,
   "metadata": {},
   "outputs": [],
   "source": [
    "#psql  -h localhost -U postgres -p 5432 billingDW < star-schema.sql"
   ]
  },
  {
   "cell_type": "markdown",
   "metadata": {},
   "source": [
    "# **Exercise 4 - Load data into Dimension tables**\n",
    "\n",
    "When we load data into the tables, it is a good practice to load the data into dimension tables first.\n",
    "\n",
    "Step 1: Load data into DimCustomer table\n",
    "\n",
    "Run the command below to load the data into DimCustomer table in `billingDW` database."
   ]
  },
  {
   "cell_type": "code",
   "execution_count": 9,
   "metadata": {},
   "outputs": [],
   "source": [
    "#psql  -h localhost -U postgres -p 5432 billingDW < DimCustomer.sql"
   ]
  },
  {
   "cell_type": "markdown",
   "metadata": {},
   "source": [
    "Step 2: Load data into DimMonth table\n",
    "\n",
    "Run the command below to load the data into DimMonth table in `billingDW` database."
   ]
  },
  {
   "cell_type": "code",
   "execution_count": 10,
   "metadata": {},
   "outputs": [],
   "source": [
    "#psql  -h localhost -U postgres -p 5432 billingDW < DimMonth.sql"
   ]
  },
  {
   "cell_type": "markdown",
   "metadata": {},
   "source": [
    "# **Exercise 5 - Load data into Fact table**\n",
    "\n",
    "Load data into FactBilling table\n",
    "\n",
    "Run the command below to load the data into FactBilling table in `billingDW` database."
   ]
  },
  {
   "cell_type": "code",
   "execution_count": 11,
   "metadata": {},
   "outputs": [],
   "source": [
    "#psql  -h localhost -U postgres -p 5432 billingDW < FactBilling.sql"
   ]
  },
  {
   "cell_type": "markdown",
   "metadata": {},
   "source": [
    "# **Exercise 6 - Run a sample query**\n",
    "\n",
    "Run the command below to check the number of rows in all the tables in the `billingDW` database."
   ]
  },
  {
   "cell_type": "code",
   "execution_count": 12,
   "metadata": {},
   "outputs": [],
   "source": [
    "#psql  -h localhost -U postgres -p 5432 billingDW < verify.sql"
   ]
  },
  {
   "cell_type": "markdown",
   "metadata": {},
   "source": [
    "You should see an output similar to the one below."
   ]
  },
  {
   "cell_type": "markdown",
   "metadata": {},
   "source": [
    "<img src=https://cf-courses-data.s3.us.cloud-object-storage.appdomain.cloud/IBM-DB0260EN-SkillsNetwork/labs/Setting%20up%20a%20staging%20area/images/verify.png >"
   ]
  },
  {
   "cell_type": "markdown",
   "metadata": {},
   "source": [
    "Your data warehouse staging area is now ready."
   ]
  }
 ],
 "metadata": {
  "kernelspec": {
   "display_name": "base",
   "language": "python",
   "name": "python3"
  },
  "language_info": {
   "codemirror_mode": {
    "name": "ipython",
    "version": 3
   },
   "file_extension": ".py",
   "mimetype": "text/x-python",
   "name": "python",
   "nbconvert_exporter": "python",
   "pygments_lexer": "ipython3",
   "version": "3.9.13"
  }
 },
 "nbformat": 4,
 "nbformat_minor": 2
}
