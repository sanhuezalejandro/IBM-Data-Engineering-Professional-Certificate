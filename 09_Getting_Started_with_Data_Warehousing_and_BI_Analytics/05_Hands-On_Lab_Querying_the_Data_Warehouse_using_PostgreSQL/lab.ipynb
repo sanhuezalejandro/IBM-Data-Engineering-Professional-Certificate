{
 "cells": [
  {
   "cell_type": "markdown",
   "metadata": {},
   "source": [
    "# **Hands-On Lab: Querying the Data Warehouse using PostgreSQL (Cubes, Rollups, Grouping Sets and Materialized Views)**\n",
    "\n",
    "https://www.coursera.org/learn/getting-started-with-data-warehousing-and-bi-analytics/ungradedLti/gIGkx/hands-on-lab-querying-the-data-warehouse-using-postgresql-cubes-rollups-grouping\n",
    "\n",
    "## **Purpose of the Lab:**\n",
    "\n",
    "The purpose of this lab is to provide hands-on experience in advanced SQL query techniques using PostgreSQL in a Cloud IDE environment. The lab focuses on teaching how to create grouping sets, rollups, and cubes for data aggregation and summarization, as well as how to implement and utilize Materialized Query Tables (MQT) for efficient data querying. These skills are essential for managing and analyzing large datasets, particularly in data warehousing and business intelligence contexts.\n",
    "\n",
    "## **Benefits of Learning the Lab:**\n",
    "\n",
    "By completing this lab, you will gain valuable insights into the practical application of complex SQL queries and data manipulation techniques. The knowledge of grouping sets, rollups, and cubes will enable learners to effectively summarize and analyze data, which is crucial in making informed business decisions. Understanding and implementing MQTs provides an efficient way to handle large-scale data by reducing the computational load during frequent query executions. These skills are highly beneficial for careers in data analysis, database administration, and business intelligence, enhancing your ability to manage and analyze data in real-world scenarios.\n",
    "\n",
    "## **Objectives**\n",
    "\n",
    "In this lab you will learn how to create:\n",
    "\n",
    "- Grouping sets\n",
    "- Rollup\n",
    "- Cube\n",
    "- Materialized Query Tables (MQT)"
   ]
  },
  {
   "cell_type": "markdown",
   "metadata": {},
   "source": [
    "# **Exercise 1 - Launch a PostgreSQL server instance on Cloud IDE and open up the pgAdmin Graphical User Interface**\n",
    "\n",
    "This lab requires that you complete the previous lab Populate a Data Warehouse.\n",
    "\n",
    "If you have not finished the Populate a Data Warehouse Lab yet, please finish it before you continue.\n",
    "\n",
    "**GROUPING SETS, CUBE, and ROLLUP** allow us to easily create subtotals and grand totals in a variety of ways. All these operators are used along with the GROUP BY operator.\n",
    "\n",
    "**GROUPING SETS** operator allows us to group data in a number of different ways in a single SELECT statement.\n",
    "\n",
    "The **ROLLUP** operator is used to create subtotals and grand totals for a set of columns. The summarized totals are created based on the columns passed to the ROLLUP operator.\n",
    "\n",
    "The **CUBE** operator produces subtotals and grand totals. In addition, it produces subtotals and grand totals for every permutation of the columns provided to the CUBE operator."
   ]
  },
  {
   "cell_type": "markdown",
   "metadata": {},
   "source": [
    "# **Exercise 2 - Write a query using grouping sets**\n",
    "\n",
    "After you launch a PostgreSQL server instance on Cloud IDE and open up the pgAdmin Graphical User Interface run the below query.\n",
    "\n",
    "To create a grouping set for three columns labeled year, category, and sum of billedamount, run the sql statement below."
   ]
  },
  {
   "cell_type": "code",
   "execution_count": 2,
   "metadata": {},
   "outputs": [],
   "source": [
    "# select year,category, sum(billedamount) as totalbilledamount\n",
    "# from \"FactBilling\"\n",
    "# left join \"DimCustomer\"\n",
    "# on \"FactBilling\".customerid = \"DimCustomer\".customerid\n",
    "# left join \"DimMonth\"\n",
    "# on \"FactBilling\".monthid=\"DimMonth\".monthid\n",
    "# group by grouping sets(year,category);"
   ]
  },
  {
   "cell_type": "markdown",
   "metadata": {},
   "source": [
    "The partial output can be seen in the image below."
   ]
  },
  {
   "cell_type": "markdown",
   "metadata": {},
   "source": [
    "<img src = https://cf-courses-data.s3.us.cloud-object-storage.appdomain.cloud/IBM-DB0260EN-SkillsNetwork/images/image1.jpg>"
   ]
  },
  {
   "cell_type": "markdown",
   "metadata": {},
   "source": [
    "# **Exercise 3 - Write a query using rollup**\n",
    "\n",
    "To create a rollup using the three columns year, category and sum of billedamount, run the sql statement below."
   ]
  },
  {
   "cell_type": "code",
   "execution_count": 1,
   "metadata": {},
   "outputs": [],
   "source": [
    "# select year,category, sum(billedamount) as totalbilledamount\n",
    "# from \"FactBilling\"\n",
    "# left join \"DimCustomer\"\n",
    "# on \"FactBilling\".customerid = \"DimCustomer\".customerid\n",
    "# left join \"DimMonth\"\n",
    "# on \"FactBilling\".monthid=\"DimMonth\".monthid\n",
    "# group by rollup(year,category)\n",
    "# order by year, category;"
   ]
  },
  {
   "cell_type": "markdown",
   "metadata": {},
   "source": [
    "The partial output can be seen in the image below."
   ]
  },
  {
   "cell_type": "markdown",
   "metadata": {},
   "source": [
    "<img src = https://cf-courses-data.s3.us.cloud-object-storage.appdomain.cloud/IBM-DB0260EN-SkillsNetwork/labs/BIWorkaroundFiles/week2/images/36.1.png>"
   ]
  },
  {
   "cell_type": "markdown",
   "metadata": {},
   "source": [
    "# **Exercise 4 - Write a query using cube**\n",
    "\n",
    "To create a cube using the three columns labeled year, category, and sum of billedamount, run the sql statement below."
   ]
  },
  {
   "cell_type": "code",
   "execution_count": 3,
   "metadata": {},
   "outputs": [],
   "source": [
    "# select year,category, sum(billedamount) as totalbilledamount\n",
    "# from \"FactBilling\"\n",
    "# left join \"DimCustomer\"\n",
    "# on \"FactBilling\".customerid = \"DimCustomer\".customerid\n",
    "# left join \"DimMonth\"\n",
    "# on \"FactBilling\".monthid=\"DimMonth\".monthid\n",
    "# group by cube(year,category)\n",
    "# order by year, category;"
   ]
  },
  {
   "cell_type": "markdown",
   "metadata": {},
   "source": [
    "The partial output can be seen in the image below."
   ]
  },
  {
   "cell_type": "markdown",
   "metadata": {},
   "source": [
    "<img src = https://cf-courses-data.s3.us.cloud-object-storage.appdomain.cloud/IBM-DB0260EN-SkillsNetwork/labs/BIWorkaroundFiles/week2/images/37.1.png>"
   ]
  },
  {
   "cell_type": "markdown",
   "metadata": {},
   "source": [
    "# **Exercise 5 - Create a Materialized Query Table(MQT)**\n",
    "\n",
    "In pgAdmin we can implement materialized views using Materialized Query Tables.\n",
    "\n",
    "### **Step 1: Create the MQT.**\n",
    "\n",
    "Execute the sql statement below to create an MQT named countrystats."
   ]
  },
  {
   "cell_type": "code",
   "execution_count": 4,
   "metadata": {},
   "outputs": [],
   "source": [
    "# CREATE MATERIALIZED VIEW countrystats (country, year, totalbilledamount) AS\n",
    "# (select country, year, sum(billedamount)\n",
    "# from \"FactBilling\"\n",
    "# left join \"DimCustomer\"\n",
    "# on \"FactBilling\".customerid = \"DimCustomer\".customerid\n",
    "# left join \"DimMonth\"\n",
    "# on \"FactBilling\".monthid=\"DimMonth\".monthid\n",
    "# group by country,year);"
   ]
  },
  {
   "cell_type": "markdown",
   "metadata": {},
   "source": [
    "The above command creates an MQT named countrystats that has 3 columns.\n",
    "\n",
    "- Country\n",
    "- Year\n",
    "- totalbilledamount\n",
    "\n",
    "The MQT is essentially the result of the below query, which gives you the year, quartername and the sum of billed amount grouped by year and quartername."
   ]
  },
  {
   "cell_type": "code",
   "execution_count": 5,
   "metadata": {},
   "outputs": [],
   "source": [
    "# select year, quartername, sum(billedamount) as totalbilledamount\n",
    "# from \"FactBilling\"\n",
    "# left join \"DimCustomer\"\n",
    "# on \"FactBilling\".customerid = \"DimCustomer\".customerid\n",
    "# left join \"DimMonth\"\n",
    "# on \"FactBilling\".monthid=\"DimMonth\".monthid\n",
    "# group by grouping sets(year, quartername);"
   ]
  },
  {
   "cell_type": "markdown",
   "metadata": {},
   "source": [
    "### **Step 2: Populate/refresh data into the MQT.**\n",
    "\n",
    "Execute the sql statement below to populate the MQT countrystats."
   ]
  },
  {
   "cell_type": "code",
   "execution_count": 6,
   "metadata": {},
   "outputs": [],
   "source": [
    "# REFRESH MATERIALIZED VIEW countrystats;"
   ]
  },
  {
   "cell_type": "markdown",
   "metadata": {},
   "source": [
    "The command above populates the MQT with relevant data.\n",
    "\n",
    "Step 3: Query the MQT.\n",
    "\n",
    "Once an MQT is refreshed, you can query it.\n",
    "\n",
    "Execute the sql statement below to query the MQT countrystats."
   ]
  },
  {
   "cell_type": "code",
   "execution_count": 7,
   "metadata": {},
   "outputs": [],
   "source": [
    "# select * from countrystats;"
   ]
  },
  {
   "cell_type": "markdown",
   "metadata": {},
   "source": [
    "# **Practice exercises**\n",
    "\n",
    "### **Problem 1: Create a grouping set for the columns year, quartername, sum(billedamount).**\n",
    "\n",
    "\n",
    "    \n",
    "Make sure that this table contains the year and quartername."
   ]
  },
  {
   "cell_type": "code",
   "execution_count": 8,
   "metadata": {},
   "outputs": [],
   "source": [
    "# select year, quartername, sum(billedamount) as totalbilledamount\n",
    "# from \"FactBilling\"\n",
    "# left join \"DimCustomer\"\n",
    "# on \"FactBilling\".customerid = \"DimCustomer\".customerid\n",
    "# left join \"DimMonth\"\n",
    "# on \"FactBilling\".monthid=\"DimMonth\".monthid\n",
    "# group by grouping sets(year, quartername);"
   ]
  },
  {
   "cell_type": "markdown",
   "metadata": {},
   "source": [
    "### **Problem 2: Create a rollup for the columns country, category, sum(billedamount).**\n",
    "\n",
    "\n",
    "    \n",
    "Select columns year, quartername, sum(billedamount), and use a group by query and join the dimcustomer and dimmonth tables to factbilling table_."
   ]
  },
  {
   "cell_type": "code",
   "execution_count": 9,
   "metadata": {},
   "outputs": [],
   "source": [
    "# select year, quartername,  sum(billedamount) as totalbilledamount\n",
    "# from \"FactBilling\"\n",
    "# left join \"DimCustomer\"\n",
    "# on \"FactBilling\".customerid = \"DimCustomer\".customerid\n",
    "# left join \"DimMonth\"\n",
    "# on \"FactBilling\".monthid=\"DimMonth\".monthid\n",
    "# group by rollup(year, quartername)\n",
    "# order by year, quartername;"
   ]
  },
  {
   "cell_type": "markdown",
   "metadata": {},
   "source": [
    "### **Problem 3: Create a cube for the columns year,country, category, sum(billedamount).**\n",
    "\n",
    "\n",
    "    \n",
    "Select columns year,quartername , sum of billedamount, and use a group by query and join the dimcustomer and dimmonth tables to factbilling table_."
   ]
  },
  {
   "cell_type": "code",
   "execution_count": 10,
   "metadata": {},
   "outputs": [],
   "source": [
    "# select year, quartername, sum(billedamount) as totalbilledamount\n",
    "# from \"FactBilling\"\n",
    "# left join \"DimCustomer\"\n",
    "# on \"FactBilling\".customerid = \"DimCustomer\".customerid\n",
    "# left join \"DimMonth\"\n",
    "# on \"FactBilling\".monthid=\"DimMonth\".monthid\n",
    "# group by cube(year,quartername);"
   ]
  },
  {
   "cell_type": "markdown",
   "metadata": {},
   "source": [
    "### **Problem 4: Create an MQT named average_billamount with columns year, quarter, category, country, average_bill_amount.**\n",
    "\n",
    "\n",
    "    \n",
    "Select columns year, quarter, category, country, avg(billedamount), and use a group by query and join the dimcustomer and dimmonth tables to factbilling table_."
   ]
  },
  {
   "cell_type": "code",
   "execution_count": 11,
   "metadata": {},
   "outputs": [],
   "source": [
    "# CREATE MATERIALIZED VIEW average_billamount (year,quarter,category,country, average_bill_amount) AS\n",
    "#     (select   year,quarter,category,country, avg(billedamount) as average_bill_amount\n",
    "#     from \"FactBilling\"\n",
    "#     left join  \"DimCustomer\"\n",
    "#     on \"FactBilling\".customerid =  \"DimCustomer\".customerid\n",
    "#     left join \"DimMonth\"\n",
    "#     on \"FactBilling\".monthid=\"DimMonth\".monthid\n",
    "#     group by year,quarter,category,country\n",
    "#     );"
   ]
  },
  {
   "cell_type": "code",
   "execution_count": 12,
   "metadata": {},
   "outputs": [],
   "source": [
    "# refresh MATERIALIZED VIEW average_billamount;"
   ]
  },
  {
   "cell_type": "markdown",
   "metadata": {},
   "source": [
    "Congratulations! You have successfully finished the Populating a Data Warehouse lab."
   ]
  }
 ],
 "metadata": {
  "kernelspec": {
   "display_name": "base",
   "language": "python",
   "name": "python3"
  },
  "language_info": {
   "codemirror_mode": {
    "name": "ipython",
    "version": 3
   },
   "file_extension": ".py",
   "mimetype": "text/x-python",
   "name": "python",
   "nbconvert_exporter": "python",
   "pygments_lexer": "ipython3",
   "version": "3.9.13"
  }
 },
 "nbformat": 4,
 "nbformat_minor": 2
}
