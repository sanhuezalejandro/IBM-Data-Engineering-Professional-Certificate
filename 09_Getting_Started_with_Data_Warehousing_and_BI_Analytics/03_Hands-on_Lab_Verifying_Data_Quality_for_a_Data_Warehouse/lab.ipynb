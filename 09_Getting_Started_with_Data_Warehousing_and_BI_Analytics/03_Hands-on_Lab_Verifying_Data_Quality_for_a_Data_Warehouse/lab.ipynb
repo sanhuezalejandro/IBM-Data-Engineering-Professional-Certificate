{
 "cells": [
  {
   "cell_type": "markdown",
   "metadata": {},
   "source": [
    "# **Hands-on Lab: Verifying Data Quality for a Data Warehouse**\n",
    "\n",
    "https://www.coursera.org/learn/getting-started-with-data-warehousing-and-bi-analytics/ungradedLti/RDzaq/hands-on-lab-verifying-data-quality-for-a-data-warehouse\n",
    "\n",
    "## **Purpose of the Lab:**\n",
    "\n",
    "The primary purpose of this lab is to instruct participants on the process of conducting thorough data quality checks in a data warehousing environment. It focuses on using a Python-based framework within a PostgreSQL database to validate data integrity. Key areas of emphasis include identifying null values, duplicates, and invalid entries, as well as verifying data ranges. The lab aims to equip learners with the necessary skills to set up and utilize a testing framework for data validation, ensuring data accuracy and consistency.\n",
    "\n",
    "## **Benefits of Learning the Lab:**\n",
    "\n",
    "Engaging in this lab offers several benefits, particularly in enhancing one's capabilities in data management and quality assurance. Learners will gain hands-on experience in implementing automated data quality checks, a skill crucial for maintaining the reliability of data in real-world applications. This proficiency is especially beneficial for professionals working with large datasets, as it ensures the integrity of data used for analysis and decision-making. Moreover, understanding these concepts is essential for anyone aspiring to specialize in data science, database administration, or any field that relies heavily on accurate and reliable data.\n",
    "\n",
    "## **Objectives**\n",
    "\n",
    "In this lab, you will:\n",
    "\n",
    "- Check Null values\n",
    "- Check Duplicate values\n",
    "- Check Min Max\n",
    "- Check Invalid values\n",
    "- Generate a report on data quality"
   ]
  },
  {
   "cell_type": "markdown",
   "metadata": {},
   "source": [
    "Download the staging area setup script.\n",
    "\n",
    "Run the command below to download the staging area setup script."
   ]
  },
  {
   "cell_type": "markdown",
   "metadata": {},
   "source": [
    "# **Exercise 1 - Getting the environment ready**"
   ]
  },
  {
   "cell_type": "code",
   "execution_count": 1,
   "metadata": {},
   "outputs": [
    {
     "name": "stdout",
     "output_type": "stream",
     "text": [
      "  % Total    % Received % Xferd  Average Speed   Time    Time     Time  Current\n",
      "                                 Dload  Upload   Total   Spent    Left  Speed\n",
      "100   816  100   816    0     0   1051      0 --:--:-- --:--:-- --:--:--  1  0056\n"
     ]
    }
   ],
   "source": [
    "!curl -O https://cf-courses-data.s3.us.cloud-object-storage.appdomain.cloud/IBM-DB0260EN-SkillsNetwork/labs/Verifying%20Data%20Quality%20for%20a%20Data%20Warehouse/setup_staging_area.sh"
   ]
  },
  {
   "cell_type": "markdown",
   "metadata": {},
   "source": [
    "Run the setup script.\n",
    "\n",
    "Run the command below to execute the staging area setup script."
   ]
  },
  {
   "cell_type": "code",
   "execution_count": 3,
   "metadata": {},
   "outputs": [],
   "source": [
    "#dropdb -h localhost -U postgres -p 5432 billingDW"
   ]
  },
  {
   "cell_type": "code",
   "execution_count": 2,
   "metadata": {},
   "outputs": [],
   "source": [
    "#bash setup_staging_area.sh"
   ]
  },
  {
   "cell_type": "markdown",
   "metadata": {},
   "source": [
    "# **Exercise 2 - Getting the testing framework ready**\n",
    "\n",
    "You can perform most of the data quality checks by manually running sql queries on the data warehouse.\n",
    "\n",
    "It is a good idea to automate these checks using custom programs or tools. Automation helps you to easily\n",
    "\n",
    "- create new tests,\n",
    "- run tests,\n",
    "- and schedule tests.\n",
    "\n",
    "We will be using a python based framework to run the data quality tests.\n",
    "\n",
    "Step 1: Download the framework.\n",
    "\n",
    "Run the commands below to download the framework"
   ]
  },
  {
   "cell_type": "code",
   "execution_count": 4,
   "metadata": {},
   "outputs": [
    {
     "name": "stdout",
     "output_type": "stream",
     "text": [
      "  % Total    % Received % Xferd  Average Speed   Time    Time     Time  Current\n",
      "                                 Dload  Upload   Total   Spent    Left  Speed\n",
      "100  2054  100  2054    0     0   2735      0 --:--:-- --:--:-- --:--:--  2764\n",
      "  % Total    % Received % Xferd  Average Speed   Time    Time     Time  Current\n",
      "                                 Dload  Upload   Total   Spent    Left  Speed\n",
      "100   433  100   433    0     0    778      0 --:--:-- --:--:-- --:--:--   784\n",
      "  % Total    % Received % Xferd  Average Speed   Time    Time     Time  Current\n",
      "                                 Dload  Upload   Total   Spent    Left  Speed\n",
      "100   748  100   748    0     0   1194      0 --:--:-- --:--:-- --:--:--  1200\n",
      "  % Total    % Received % Xferd  Average Speed   Time    Time     Time  Current\n",
      "                                 Dload  Upload   Total   Spent    Left  Speed\n",
      "100  1124  100  1124    0     0   1853      0 --:--:-- --:--:-- --:--:--  1864\n"
     ]
    }
   ],
   "source": [
    "!curl -O https://cf-courses-data.s3.us.cloud-object-storage.appdomain.cloud/IBM-DB0260EN-SkillsNetwork/labs/Verifying%20Data%20Quality%20for%20a%20Data%20Warehouse/dataqualitychecks.py\n",
    "!curl -O https://cf-courses-data.s3.us.cloud-object-storage.appdomain.cloud/IBM-DB0260EN-SkillsNetwork/labs/Verifying%20Data%20Quality%20for%20a%20Data%20Warehouse/dbconnect.py\n",
    "!curl -O https://cf-courses-data.s3.us.cloud-object-storage.appdomain.cloud/IBM-DB0260EN-SkillsNetwork/labs/Verifying%20Data%20Quality%20for%20a%20Data%20Warehouse/mytests.py\n",
    "!curl -O https://cf-courses-data.s3.us.cloud-object-storage.appdomain.cloud/IBM-DB0260EN-SkillsNetwork/labs/Verifying%20Data%20Quality%20for%20a%20Data%20Warehouse/generate-data-quality-report.py"
   ]
  },
  {
   "cell_type": "markdown",
   "metadata": {},
   "source": [
    "Step 2: Install the python driver for Postgresql.\n",
    "\n",
    "Run the command below to install the python driver for Postgresql database"
   ]
  },
  {
   "cell_type": "code",
   "execution_count": 5,
   "metadata": {},
   "outputs": [
    {
     "name": "stdout",
     "output_type": "stream",
     "text": [
      "Collecting psycopg2\n",
      "  Downloading psycopg2-2.9.9.tar.gz (384 kB)\n",
      "\u001b[2K     \u001b[90m━━━━━━━━━━━━━━━━━━━━━━━━━━━━━━━━━━━━━━━\u001b[0m \u001b[32m384.9/384.9 kB\u001b[0m \u001b[31m1.5 MB/s\u001b[0m eta \u001b[36m0:00:00\u001b[0m00:01\u001b[0m00:01\u001b[0m\n",
      "\u001b[?25h  Preparing metadata (setup.py) ... \u001b[?25ldone\n",
      "\u001b[?25hBuilding wheels for collected packages: psycopg2\n",
      "  Building wheel for psycopg2 (setup.py) ... \u001b[?25ldone\n",
      "\u001b[?25h  Created wheel for psycopg2: filename=psycopg2-2.9.9-cp39-cp39-macosx_11_0_arm64.whl size=133030 sha256=cbcf08e50ee483ad90121da48be18c8777276a7dc11d8a8d90dc6a357a407c1a\n",
      "  Stored in directory: /Users/sanhuezalejandro/Library/Caches/pip/wheels/3a/06/25/adb124afd8c8346e45c455f6586f7289cde2b4e339dfbcd9e9\n",
      "Successfully built psycopg2\n",
      "\u001b[33mDEPRECATION: pytorch-lightning 1.6.5 has a non-standard dependency specifier torch>=1.8.*. pip 24.0 will enforce this behaviour change. A possible replacement is to upgrade to a newer version of pytorch-lightning or contact the author to suggest that they release a version with a conforming dependency specifiers. Discussion can be found at https://github.com/pypa/pip/issues/12063\u001b[0m\u001b[33m\n",
      "\u001b[0mInstalling collected packages: psycopg2\n",
      "Successfully installed psycopg2-2.9.9\n",
      "\u001b[33mWARNING: There was an error checking the latest version of pip.\u001b[0m\u001b[33m\n",
      "\u001b[0m"
     ]
    }
   ],
   "source": [
    "!python3 -m pip install psycopg2"
   ]
  },
  {
   "cell_type": "markdown",
   "metadata": {},
   "source": [
    "Step 3: Test database connectivity.\n",
    "\n",
    "Now we need to check\n",
    "\n",
    "- if the Postgresql python driver is installed properly.\n",
    "- if Postgresql server is up and running.\n",
    "- if our micro framework can connect to the database.\n",
    "\n",
    "The command below to check all the above cases."
   ]
  },
  {
   "cell_type": "code",
   "execution_count": 8,
   "metadata": {},
   "outputs": [
    {
     "name": "stdout",
     "output_type": "stream",
     "text": [
      "Successfully connected to warehouse\n",
      "Connection closed\n"
     ]
    }
   ],
   "source": [
    "!python3 dbconnect.py"
   ]
  },
  {
   "cell_type": "markdown",
   "metadata": {},
   "source": [
    "If all goes well, you should a message `Successfully connected to database`.\n",
    "\n",
    "The command also disconnects from the server with a message `Connection closed`."
   ]
  },
  {
   "cell_type": "markdown",
   "metadata": {},
   "source": [
    "# **Exercise 3 - Create a sample data quality report**\n",
    "\n",
    "Run the command below to install pandas."
   ]
  },
  {
   "cell_type": "code",
   "execution_count": 10,
   "metadata": {},
   "outputs": [],
   "source": [
    "#!python3 -m pip install pandas tabulate"
   ]
  },
  {
   "cell_type": "markdown",
   "metadata": {},
   "source": [
    "Run the command below to generate a sample data quality report."
   ]
  },
  {
   "cell_type": "code",
   "execution_count": 12,
   "metadata": {},
   "outputs": [
    {
     "name": "stdout",
     "output_type": "stream",
     "text": [
      "Connected to data warehouse\n",
      "**************************************************\n",
      "Tue May  7 00:02:02 2024\n",
      "Starting test Check for nulls\n",
      "Finished test Check for nulls\n",
      "Test Passed True\n",
      "Test Parameters\n",
      "column = monthid\n",
      "table = DimMonth\n",
      "\n",
      "Duration :  0.05770707130432129\n",
      "Tue May  7 00:02:02 2024\n",
      "**************************************************\n",
      "**************************************************\n",
      "Tue May  7 00:02:02 2024\n",
      "Starting test Check for min and max\n",
      "Finished test Check for min and max\n",
      "Test Passed True\n",
      "Test Parameters\n",
      "column = month\n",
      "table = DimMonth\n",
      "minimum = 1\n",
      "maximum = 12\n",
      "\n",
      "Duration :  0.0024340152740478516\n",
      "Tue May  7 00:02:02 2024\n",
      "**************************************************\n",
      "**************************************************\n",
      "Tue May  7 00:02:02 2024\n",
      "Starting test Check for valid values\n",
      "{'Company', 'Individual'}\n",
      "Finished test Check for valid values\n",
      "Test Passed True\n",
      "Test Parameters\n",
      "column = category\n",
      "table = DimCustomer\n",
      "valid_values = {'Company', 'Individual'}\n",
      "\n",
      "Duration :  0.022813796997070312\n",
      "Tue May  7 00:02:02 2024\n",
      "**************************************************\n",
      "**************************************************\n",
      "Tue May  7 00:02:02 2024\n",
      "Starting test Check for duplicates\n",
      "Finished test Check for duplicates\n",
      "Test Passed True\n",
      "Test Parameters\n",
      "column = monthid\n",
      "table = DimMonth\n",
      "\n",
      "Duration :  0.003092050552368164\n",
      "Tue May  7 00:02:02 2024\n",
      "**************************************************\n",
      "+----+------------------------+-------------+----------+---------------+\n",
      "|    | Test Name              | Table       | Column   | Test Passed   |\n",
      "|----+------------------------+-------------+----------+---------------|\n",
      "|  1 | Check for nulls        | DimMonth    | monthid  | True          |\n",
      "|  2 | Check for min and max  | DimMonth    | month    | True          |\n",
      "|  3 | Check for valid values | DimCustomer | category | True          |\n",
      "|  4 | Check for duplicates   | DimMonth    | monthid  | True          |\n",
      "+----+------------------------+-------------+----------+---------------+\n",
      "Disconnected from data warehouse\n"
     ]
    }
   ],
   "source": [
    "!python3 generate-data-quality-report.py"
   ]
  },
  {
   "cell_type": "markdown",
   "metadata": {},
   "source": [
    "# **Exercise 4 - Explore the data quality tests**\n",
    "\n",
    "Open the file `mytests.py` in the editor by using the steps below."
   ]
  },
  {
   "cell_type": "markdown",
   "metadata": {},
   "source": [
    "<img src= https://cf-courses-data.s3.us.cloud-object-storage.appdomain.cloud/IBM-DB0260EN-SkillsNetwork/labs/Verifying%20Data%20Quality%20for%20a%20Data%20Warehouse/images/mytests.py.png>"
   ]
  },
  {
   "cell_type": "markdown",
   "metadata": {},
   "source": [
    "The file `mytests.py` contains all the data quality tests.\n",
    "\n",
    "It provides a quick and easy way to author and run new data quality tests.\n",
    "\n",
    "The testing framework provides the following tests:\n",
    "\n",
    "- check_for_nulls - this test will check for nulls in a column\n",
    "- check_for_min_max - this test will check if the values in a column are with a range of min and max values\n",
    "- check_for_valid_values - this test will check for any invalid values in a column\n",
    "- check_for_duplicates - this test will check for duplicates in a column\n",
    "\n",
    "Each test can be authored by mentioning a minimum of 4 parameters.\n",
    "\n",
    "- testname - The human readable name of the test for reporting purposes\n",
    "- test - The actual test name that the testing micro framework provides\n",
    "- table - The table name on which the test is to be performed\n",
    "- column - The table name on which the test is to be performed"
   ]
  },
  {
   "cell_type": "markdown",
   "metadata": {},
   "source": [
    "# **Exercise 5 - Check for nulls**\n",
    "\n",
    "Let us now see what a `check_for_nulls` test looks like.\n",
    "\n",
    "Here is a sample `check_for_nulls` test:"
   ]
  },
  {
   "cell_type": "code",
   "execution_count": 14,
   "metadata": {},
   "outputs": [],
   "source": [
    "# test1={\n",
    "#     \"testname\":\"Check for nulls\",\n",
    "#     \"test\":check_for_nulls,\n",
    "#     \"column\": \"monthid\",\n",
    "#     \"table\": \"DimMonth\"\n",
    "# }"
   ]
  },
  {
   "cell_type": "markdown",
   "metadata": {},
   "source": [
    "All tests must be named as `test` following by a unique number to identify the test.\n",
    "\n",
    "- Give an easy to understand description for `testname`\n",
    "- mention `check_for_nulls` for `test`\n",
    "- mention the column name on which you wish to check for nulls\n",
    "- mention the table name where this column exists\n",
    "\n",
    "Let us now create a new `check_for_nulls` test and run it.\n",
    "\n",
    "The test below checks if there are any null values in the column `year` in the table `DimMonth`.\n",
    "\n",
    "The test fails if nulls exist.\n",
    "\n",
    "Copy and paste the code below at the end of mytests.py file."
   ]
  },
  {
   "cell_type": "code",
   "execution_count": null,
   "metadata": {},
   "outputs": [],
   "source": [
    "# test5={\n",
    "#     \"testname\":\"Check for nulls\",\n",
    "#     \"test\":check_for_nulls,\n",
    "#     \"column\": \"year\",\n",
    "#     \"table\": \"DimMonth\"\n",
    "# }"
   ]
  },
  {
   "cell_type": "markdown",
   "metadata": {},
   "source": [
    "Save the file using Menu -> File -> Save\n",
    "\n",
    "Run the command below to generate the new data quality report."
   ]
  },
  {
   "cell_type": "code",
   "execution_count": 15,
   "metadata": {},
   "outputs": [],
   "source": [
    "#python3 generate-data-quality-report.py"
   ]
  },
  {
   "cell_type": "markdown",
   "metadata": {},
   "source": [
    "# **Exercise 6 - Check for min max range**\n",
    "\n",
    "Let us now see what a `check_for_min_max` test looks like.\n",
    "\n",
    "Here is a sample `check_for_min_max` test"
   ]
  },
  {
   "cell_type": "code",
   "execution_count": null,
   "metadata": {},
   "outputs": [],
   "source": [
    "# test2={\n",
    "#     \"testname\":\"Check for min and max\",\n",
    "#     \"test\":check_for_min_max,\n",
    "#     \"column\": \"monthid\",\n",
    "#     \"table\": \"DimMonth\",\n",
    "#     \"minimum\":1,\n",
    "#     \"maximum\":12\n",
    "# }"
   ]
  },
  {
   "cell_type": "markdown",
   "metadata": {},
   "source": [
    "Save the file using Menu -> File -> Save\n",
    "\n",
    "Run the command below to generate the new data quality report."
   ]
  },
  {
   "cell_type": "code",
   "execution_count": 16,
   "metadata": {},
   "outputs": [],
   "source": [
    "#python3 generate-data-quality-report.py"
   ]
  },
  {
   "cell_type": "markdown",
   "metadata": {},
   "source": [
    "# **Exercise 7 - Check for any invalid entries**\n",
    "\n",
    "Let us now see what a `check_for_valid_values` test looks like.\n",
    "\n",
    "Here is a sample `check_for_valid_values` test:"
   ]
  },
  {
   "cell_type": "code",
   "execution_count": 17,
   "metadata": {},
   "outputs": [],
   "source": [
    "# test3={\n",
    "#     \"testname\":\"Check for valid values\",\n",
    "#     \"test\":check_for_valid_values,\n",
    "#     \"column\": \"category\",\n",
    "#     \"table\": \"DimCustomer\",\n",
    "#     \"valid_values\":{'Individual','Company'}\n",
    "# }"
   ]
  },
  {
   "cell_type": "markdown",
   "metadata": {},
   "source": [
    "In addition to the usual fields, you have an additional field here.\n",
    "\n",
    "- use the field `valid_values` to mention what are the valid values for this column.\n",
    "\n",
    "Let us now create a new `check_for_valid_values` test and run it.\n",
    "\n",
    "The test below checks for valid values in the column `quartername` in the table `DimMonth`.\n",
    "\n",
    "The valid values are Q1,Q2,Q3,Q4\n",
    "\n",
    "The test fails if there any values less than minimum or more than maximum.\n",
    "\n",
    "Copy and paste the code below at the end of mytests.py file."
   ]
  },
  {
   "cell_type": "code",
   "execution_count": null,
   "metadata": {},
   "outputs": [],
   "source": [
    "# test7={\n",
    "#     \"testname\":\"Check for valid values\",\n",
    "#     \"test\":check_for_valid_values,\n",
    "#     \"column\": \"quartername\",\n",
    "#     \"table\": \"DimMonth\",\n",
    "#     \"valid_values\":{'Q1','Q2','Q3','Q4'}\n",
    "# }"
   ]
  },
  {
   "cell_type": "markdown",
   "metadata": {},
   "source": [
    "Save the file using Menu -> File -> Save\n",
    "\n",
    "Run the command below to generate the new data quality report."
   ]
  },
  {
   "cell_type": "code",
   "execution_count": 18,
   "metadata": {},
   "outputs": [],
   "source": [
    "#python3 generate-data-quality-report.py"
   ]
  },
  {
   "cell_type": "markdown",
   "metadata": {},
   "source": [
    "# **Exercise 8 - Check for duplicate entries**\n",
    "\n",
    "Let us now see what a `check_for_duplicates` test looks like.\n",
    "\n",
    "Here is a sample `check_for_duplicates` test"
   ]
  },
  {
   "cell_type": "code",
   "execution_count": null,
   "metadata": {},
   "outputs": [],
   "source": [
    "# test4={\n",
    "#     \"testname\":\"Check for duplicates\",\n",
    "#     \"test\":check_for_duplicates,\n",
    "#     \"column\": \"monthid\",\n",
    "#     \"table\": \"DimMonth\"\n",
    "# }"
   ]
  },
  {
   "cell_type": "markdown",
   "metadata": {},
   "source": [
    "Let us now create a new `check_for_duplicates` test and run it.\n",
    "\n",
    "The test below checks for any duplicate values in the column `customerid` in the table `DimCustomer`.\n",
    "\n",
    "The test fails if duplicates exist.\n",
    "\n",
    "Copy and paste the code below at the end of mytests.py file."
   ]
  },
  {
   "cell_type": "code",
   "execution_count": null,
   "metadata": {},
   "outputs": [],
   "source": [
    "# test8={\n",
    "#     \"testname\":\"Check for duplicates\",\n",
    "#     \"test\":check_for_duplicates,\n",
    "#     \"column\": \"customerid\",\n",
    "#     \"table\": \"DimCustomer\"\n",
    "# }"
   ]
  },
  {
   "cell_type": "markdown",
   "metadata": {},
   "source": [
    "Save the file using Menu -> File -> Save\n",
    "\n",
    "Run the command below to generate the new data quality report."
   ]
  },
  {
   "cell_type": "code",
   "execution_count": 19,
   "metadata": {},
   "outputs": [],
   "source": [
    "#python3 generate-data-quality-report.py"
   ]
  },
  {
   "cell_type": "markdown",
   "metadata": {},
   "source": [
    "# **Practice exercises**\n",
    "\n",
    "\n",
    "> Create a check_for_nulls test on column billedamount in the table FactBilling\n",
    "> \n",
    "- Click here for Hint\n",
    "    \n",
    "    > Use the check_for_nulls test with column=billedamount and table=FactBilling\n",
    "    > \n",
    "- Click here for Solution\n",
    "    \n",
    "    Copy and paste the code below at the end of mytests.py file."
   ]
  },
  {
   "cell_type": "code",
   "execution_count": null,
   "metadata": {},
   "outputs": [],
   "source": [
    "# test9={\n",
    "#     \"testname\":\"Check for nulls\",\n",
    "#     \"test\":check_for_nulls,\n",
    "#     \"column\": \"billedamount\",\n",
    "#     \"table\": \"FactBilling\"\n",
    "# }"
   ]
  },
  {
   "cell_type": "markdown",
   "metadata": {},
   "source": [
    "> Create a check_for_duplicates test on column billid in the table FactBilling\n",
    "> \n",
    "- Click here for Hint\n",
    "    \n",
    "    > Use the check_for_duplicates test with column=billid and table=FactBilling\n",
    "    > \n",
    "- Click here for Solution\n",
    "    \n",
    "    Copy and paste the code below at the end of mytests.py file."
   ]
  },
  {
   "cell_type": "code",
   "execution_count": 20,
   "metadata": {},
   "outputs": [],
   "source": [
    "# test10={\n",
    "#     \"testname\":\"Check for duplicates\",\n",
    "#     \"test\":check_for_duplicates,\n",
    "#     \"column\": \"billid\",\n",
    "#     \"table\": \"FactBilling\"\n",
    "# }"
   ]
  },
  {
   "cell_type": "markdown",
   "metadata": {},
   "source": [
    "> Create a check_for_valid_values test on column quarter in the table DimMonth. The valid values are 1, 2, 3, 4\n",
    "> \n",
    "- Click here for Hint\n",
    "    \n",
    "    > Use the check_for_valid_values test with column=quarter and table=DimMonth and valid_values={1, 2, 3, 4}\n",
    "    > \n",
    "- Click here for Solution\n",
    "    \n",
    "    Copy and paste the code below at the end of mytests.py file."
   ]
  },
  {
   "cell_type": "code",
   "execution_count": null,
   "metadata": {},
   "outputs": [],
   "source": [
    "# test11={\n",
    "#     \"testname\":\"Check for valid values\",\n",
    "#     \"test\":check_for_valid_values,\n",
    "#     \"column\": \"quarter\",\n",
    "#     \"table\": \"DimMonth\",\n",
    "#     \"valid_values\":{1,2,3,4}\n",
    "# }"
   ]
  },
  {
   "cell_type": "markdown",
   "metadata": {},
   "source": [
    "Congratulations!! You have successfully finished this lab."
   ]
  }
 ],
 "metadata": {
  "kernelspec": {
   "display_name": "base",
   "language": "python",
   "name": "python3"
  },
  "language_info": {
   "codemirror_mode": {
    "name": "ipython",
    "version": 3
   },
   "file_extension": ".py",
   "mimetype": "text/x-python",
   "name": "python",
   "nbconvert_exporter": "python",
   "pygments_lexer": "ipython3",
   "version": "3.9.13"
  }
 },
 "nbformat": 4,
 "nbformat_minor": 2
}
