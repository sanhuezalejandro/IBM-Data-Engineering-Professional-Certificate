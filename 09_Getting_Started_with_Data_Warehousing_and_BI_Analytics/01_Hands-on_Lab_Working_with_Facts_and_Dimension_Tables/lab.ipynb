{
 "cells": [
  {
   "cell_type": "markdown",
   "metadata": {},
   "source": [
    "# **Hands-on Lab: Working with Facts and Dimension Tables**\n",
    "\n",
    "## **Purpose of the lab:**\n",
    "\n",
    "The lab is designed to guide you through the process of designing a data warehouse for a cloud service provider. It focuses on using billing data provided in a CSV file to create a star schema, including the design of fact and dimension tables. This schema will support complex queries related to billing, such as average billing per customer, billing by country, industry, and category, as well as trends over time.\n",
    "\n",
    "## **Benefits of Learning the Lab:**\n",
    "\n",
    "By completing this lab, you will acquire practical skills in organizing and analyzing large datasets using data warehousing techniques. These skills are essential for making informed business decisions, optimizing data retrieval, and enhancing the understanding of data relationships. This knowledge is particularly beneficial in real-world scenarios, such as analyzing cloud billing data, where it can lead to more efficient data management and insightful analyses.\n",
    "\n",
    "## **Objectives**\n",
    "\n",
    "In this lab you will:\n",
    "\n",
    "- Study the schema of the given csv file\n",
    "- Design the fact tables\n",
    "- Design the dimension tables\n",
    "- Create a star schema using the fact and dimension tables"
   ]
  },
  {
   "cell_type": "markdown",
   "metadata": {},
   "source": [
    "# **Exercise 1: Study the schema of the given csv file**\n",
    "\n",
    "In this lab, we will design a data warehouse for a cloud service provider.\n",
    "\n",
    "The cloud service provider has given us their billing data in the csv file `cloud-billing-dataset.csv`. This file contains the billing data for the past decade.\n",
    "\n",
    "Here are the field wise details of the billing data."
   ]
  },
  {
   "cell_type": "markdown",
   "metadata": {},
   "source": [
    "| Field Name | Details |\n",
    "| --- | --- |\n",
    "| customerid | Id of the customer |\n",
    "| category | Category of the customer. Example: Individual or Company |\n",
    "| country | Country of the customer |\n",
    "| industry | Which domain/industry the customer belongs to. Example: Legal, Engineering |\n",
    "| month | The billed month, stored as YYYY-MM. Example: 2009-01 refers to the month January in the year 2009 |\n",
    "| billedamount | Amount charged by the cloud services provided for that month in USD || Field Name | Details |\n"
   ]
  },
  {
   "cell_type": "markdown",
   "metadata": {},
   "source": [
    "We need to design a data warehouse that can support the queries listed below:\n",
    "\n",
    "- average billing per customer\n",
    "- billing by country\n",
    "- top 10 customers\n",
    "- top 10 countries\n",
    "- billing by industry\n",
    "- billing by category\n",
    "- billing by year\n",
    "- billing by month\n",
    "- billing by quarter\n",
    "- average billing per industry per month\n",
    "- average billing per industry per quarter\n",
    "- average billing per country per quarter\n",
    "- average billing per country per industry per quarter\n",
    "\n",
    "Here are five rows picked at random from the csv file."
   ]
  },
  {
   "cell_type": "markdown",
   "metadata": {},
   "source": [
    "<img src=\"https://cf-courses-data.s3.us.cloud-object-storage.appdomain.cloud/IBM-DB0260EN-SkillsNetwork/labs/Working%20with%20Facts%20and%20Dimension%20Tables/images/csv-rows.png\" alt=\"CSV Rows Image\">"
   ]
  },
  {
   "cell_type": "markdown",
   "metadata": {},
   "source": [
    "# **Exercise 2: Design the fact tables**\n",
    "\n",
    "The fact in this data is the bill which is generated monthly.\n",
    "\n",
    "The fields `customerid` and `billedamount` are the important fields in the fact table.\n",
    "\n",
    "We also need a way to identify the additional customer information, other than the id, and date information. So we need fields that refer to the customer and date information in other tables.\n",
    "\n",
    "The final fact table for the bill would look like this:"
   ]
  },
  {
   "cell_type": "markdown",
   "metadata": {},
   "source": [
    "| Field Name | Details |\n",
    "| --- | --- |\n",
    "| billid | Primary key - Unique identifier for every bill |\n",
    "| customerid | Foreign Key - Id of the customer |\n",
    "| monthid | Foreign Key - Id of the month. We can resolve the billed month info using this |\n",
    "| billedamount | Amount charged by the cloud services provided for that month in USD |\n"
   ]
  },
  {
   "cell_type": "markdown",
   "metadata": {},
   "source": [
    "# **Exercise 3: Design the dimension tables**\n",
    "\n",
    "There are two dimensions to our fact(monthly bill).\n",
    "\n",
    "1. Customer information\n",
    "2. Date information\n",
    "\n",
    "Let us organize all the fields that give information about the customer into a dimension table."
   ]
  },
  {
   "cell_type": "markdown",
   "metadata": {},
   "source": [
    "| Field Name | Details |\n",
    "| --- | --- |\n",
    "| customerid | Primary Key - Id of the customer |\n",
    "| category | Category of the customer. Example: Individual or Company |\n",
    "| country | Country of the customer |\n",
    "| industry | Which domain/industry the customer belongs to. Example: Legal, Engineering |\n"
   ]
  },
  {
   "cell_type": "markdown",
   "metadata": {},
   "source": [
    "Let us organize or derive all the fields that give information about the date of the bill."
   ]
  },
  {
   "cell_type": "markdown",
   "metadata": {},
   "source": [
    "| Field Name | Details |\n",
    "| --- | --- |\n",
    "| monthid | Primary Key - Id of the month |\n",
    "| year | Year derived from the month field of the original data. Example: 2010 |\n",
    "| month | Month number derived from the month field of the original data. Example: 1, 2, 3 |\n",
    "| monthname | Month name derived from the month field of the original data. Example: March |\n",
    "| quarter | Quarter number derived from the month field of the original data. Example: 1, 2, 3, 4 |\n",
    "| quartername | Quarter name derived from the month field of the original data. Example: Q1, Q2, Q3, Q4 |\n"
   ]
  },
  {
   "cell_type": "markdown",
   "metadata": {},
   "source": [
    "Exercise 4: Create a star schema using the fact and dimension tables"
   ]
  },
  {
   "cell_type": "markdown",
   "metadata": {},
   "source": [
    "| Table Name | Type | Details |\n",
    "| --- | --- | --- |\n",
    "| FactBilling | Fact | This table contains the billing amount, and the foreign keys to customer and month data |\n",
    "| DimCustomer | Dimension | This table contains all the information related to the customer |\n",
    "| DimMonth | Dimension | This table contains all the information related to the month of billing |\n"
   ]
  },
  {
   "cell_type": "markdown",
   "metadata": {},
   "source": [
    "When we arrange the above tables in Star Schema style, we get a table strucutre that looks likes the one in the image below."
   ]
  },
  {
   "cell_type": "markdown",
   "metadata": {},
   "source": [
    "<img src=\"https://cf-courses-data.s3.us.cloud-object-storage.appdomain.cloud/IBM-DB0260EN-SkillsNetwork/labs/Working%20with%20Facts%20and%20Dimension%20Tables/images/erd-diagram.png\" alt=\"ERD Diagram\">"
   ]
  },
  {
   "cell_type": "markdown",
   "metadata": {},
   "source": [
    "The image shows the fact and dimension tables along with the relaionships between them."
   ]
  },
  {
   "cell_type": "markdown",
   "metadata": {},
   "source": [
    "# **Exercise 5: Create the schema on the data warehouse**\n",
    "\n",
    "Step 1: Start the postgresql server.\n",
    "\n",
    "Open a new terminal, by clicking on the menu bar and selecting **Terminal**->**New Terminal**, as shown in the image below."
   ]
  },
  {
   "cell_type": "markdown",
   "metadata": {},
   "source": [
    "<img src=\"https://cf-courses-data.s3.us.cloud-object-storage.appdomain.cloud/IBM-DB0260EN-SkillsNetwork/labs/Working%20with%20Facts%20and%20Dimension%20Tables/images/new-terminal.png\" alt=\"New Terminal\">\n"
   ]
  },
  {
   "cell_type": "markdown",
   "metadata": {},
   "source": [
    "This will open a new terminal at the bottom of the screen."
   ]
  },
  {
   "cell_type": "markdown",
   "metadata": {},
   "source": [
    "<img src=\"https://cf-courses-data.s3.us.cloud-object-storage.appdomain.cloud/IBM-DB0260EN-SkillsNetwork/labs/Working%20with%20Facts%20and%20Dimension%20Tables/images/terminal_bottom_screen.png\" alt=\"Terminal Bottom Screen\">\n"
   ]
  },
  {
   "cell_type": "markdown",
   "metadata": {},
   "source": [
    "Run the commands below on the newly opened terminal. (You can copy the code by clicking on the little copy button on the bottom right of the codeblock below and then paste it, wherever you wish.)\n",
    "\n",
    "Start the PostgreSQL server, by running the command below:"
   ]
  },
  {
   "cell_type": "code",
   "execution_count": null,
   "metadata": {},
   "outputs": [],
   "source": [
    "#createdb -h localhost -U postgres -p 5432 billingDW"
   ]
  },
  {
   "cell_type": "markdown",
   "metadata": {},
   "source": [
    "In the above command\n",
    "\n",
    "- h mentions that the database server is running on the localhost\n",
    "- U mentions that we are using the user name postgres to log into the database\n",
    "- p mentions that the database server is running on port number 5432"
   ]
  },
  {
   "cell_type": "markdown",
   "metadata": {},
   "source": [
    "Step 3: Download the schema .sql file.\n",
    "\n",
    "The commands to create the schema are available in the file below.\n",
    "\n",
    "https://cf-courses-data.s3.us.cloud-object-storage.appdomain.cloud/IBM-DB0260EN-SkillsNetwork/labs/Working%20with%20Facts%20and%20Dimension%20Tables/star-schema.sql\n",
    "\n",
    "Download the file by running the command below."
   ]
  },
  {
   "cell_type": "code",
   "execution_count": 1,
   "metadata": {},
   "outputs": [],
   "source": [
    "#curl -O https://cf-courses-data.s3.us.cloud-object-storage.appdomain.cloud/IBM-DB0260EN-SkillsNetwork/labs/Working%20with%20Facts%20and%20Dimension%20Tables/star-schema.sql"
   ]
  },
  {
   "cell_type": "markdown",
   "metadata": {},
   "source": [
    "Step 4: Create the schema\n",
    "\n",
    "Run the command below to create the schema in the under `billingDW` database."
   ]
  },
  {
   "cell_type": "code",
   "execution_count": 2,
   "metadata": {},
   "outputs": [],
   "source": [
    "#psql  -h localhost -U postgres -p 5432 billingDW < star-schema.sql"
   ]
  },
  {
   "cell_type": "markdown",
   "metadata": {},
   "source": [
    "<img src=\"https://cf-courses-data.s3.us.cloud-object-storage.appdomain.cloud/IBM-DB0260EN-SkillsNetwork/labs/Working%20with%20Facts%20and%20Dimension%20Tables/images/postgres-createschema.png\" alt=\"Postgres Create Schema\">\n"
   ]
  },
  {
   "cell_type": "markdown",
   "metadata": {},
   "source": [
    "# **Practice exercises**\n",
    "\n",
    "In this practice exercise, you will analyze the below csv file, which contains data about the daily sales at different stores of an international fashion retailer."
   ]
  },
  {
   "cell_type": "markdown",
   "metadata": {},
   "source": [
    "<img src=\"https://cf-courses-data.s3.us.cloud-object-storage.appdomain.cloud/IBM-DB0260EN-SkillsNetwork/labs/Working%20with%20Facts%20and%20Dimension%20Tables/images/sales-csv.png\" alt=\"Sales CSV\">\n"
   ]
  },
  {
   "cell_type": "markdown",
   "metadata": {},
   "source": [
    "1. Problem:\n",
    "\n",
    "> Design the schema for the dimension table DimStore.\n",
    ">"
   ]
  },
  {
   "cell_type": "markdown",
   "metadata": {},
   "source": [
    "| Field Name | Details |\n",
    "| --- | --- |\n",
    "| storeid | Primary key - Unique identifier for every store |\n",
    "| city | City where the store is located. |\n",
    "| country | Country where the store is located. |\n",
    "\n"
   ]
  },
  {
   "cell_type": "markdown",
   "metadata": {},
   "source": [
    "2.  Problem:\n",
    "\n",
    "> Design the schema for the dimension table DimDate.\n",
    ">"
   ]
  },
  {
   "cell_type": "markdown",
   "metadata": {},
   "source": [
    "| Field Name | Details |\n",
    "| --- | --- |\n",
    "| dateid | Primary Key - Id of the date |\n",
    "| day | Day derived from the date field of the original data. Example: 13, 19 |\n",
    "| weekday | Weekday derived from the date field of the original data. Example: 1, 2, 3, 4, 5, 6, 7. 1 for sunday, 7 for saturday |\n",
    "| weekdayname | Weekday name derived from the date field of the original data. Example: Sunday, Monday |\n",
    "| year | Year derived from the date field of the original data. Example: 2010 |\n",
    "| month | Month number derived from the date field of the original data. Example: 1, 2, 3 |\n",
    "| monthname | Month name derived from the date field of the original data. Example: March |\n",
    "| quarter | Quarter number derived from the date field of the original data. Example: 1, 2, 3, 4 |\n",
    "| quartername | Quarter name derived from the date field of the original data. Example: Q1, Q2, Q3, Q4 |\n",
    "\n"
   ]
  },
  {
   "cell_type": "markdown",
   "metadata": {},
   "source": [
    "3.  Problem:\n",
    "\n",
    "> Design the schema for the fact table FactSales.\n",
    ">"
   ]
  },
  {
   "cell_type": "markdown",
   "metadata": {},
   "source": [
    "| Field Name | Details |\n",
    "| --- | --- |\n",
    "| rowid | Primary key - Unique identifier for every row |\n",
    "| storeid | Foreign Key - Id of the store |\n",
    "| dateid | Foreign Key - Id of the date |\n",
    "| totalsales | Total sales |\n",
    "\n"
   ]
  },
  {
   "cell_type": "markdown",
   "metadata": {},
   "source": [
    "Congratulations! You have successfully finished this lab."
   ]
  },
  {
   "cell_type": "markdown",
   "metadata": {},
   "source": []
  }
 ],
 "metadata": {
  "kernelspec": {
   "display_name": "base",
   "language": "python",
   "name": "python3"
  },
  "language_info": {
   "codemirror_mode": {
    "name": "ipython",
    "version": 3
   },
   "file_extension": ".py",
   "mimetype": "text/x-python",
   "name": "python",
   "nbconvert_exporter": "python",
   "pygments_lexer": "ipython3",
   "version": "3.9.13"
  }
 },
 "nbformat": 4,
 "nbformat_minor": 2
}
