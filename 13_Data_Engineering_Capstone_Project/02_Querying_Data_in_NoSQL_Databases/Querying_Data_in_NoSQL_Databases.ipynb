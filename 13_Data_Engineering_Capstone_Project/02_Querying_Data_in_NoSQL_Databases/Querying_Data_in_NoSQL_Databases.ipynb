{
 "cells": [
  {
   "cell_type": "markdown",
   "id": "9e4c710e",
   "metadata": {},
   "source": [
    "# Hands-on Lab: Querying Data in NoSQL Databases\n",
    "\n",
    "https://www.coursera.org/learn/data-enginering-capstone-project/ungradedLti/isFA9/hands-on-lab-querying-data-in-nosql-databases\n",
    "\n",
    "## **About This SN Labs Cloud IDE**\n",
    "\n",
    "This Skills Network Labs Cloud IDE provides a hands-on environment for course and project related labs. It utilizes Theia, an open-source IDE (Integrated Development Environment) platform, that can be run on desktop or on the cloud. To complete this lab, we will be using the Cloud IDE based on Theia and Mongodb running in a Docker container.\n",
    "\n",
    "## **Important Notice about this lab environment**\n",
    "\n",
    "Please be aware that sessions for this lab environment are not persisted. Every time you connect to this lab, a new environment is created for you. Any data you may have saved in the earlier session would get lost. Plan to complete these labs in a single session, to avoid losing your data.\n",
    "\n",
    "## **Scenario**\n",
    "\n",
    "You are a data engineer at an e-commerce company. Your company needs you to design a data platform that uses MongoDB as a NoSQL database. You will be using MongoDB to store the e-commerce catalog data.\n",
    "\n",
    "## **Objectives**\n",
    "\n",
    "In this assignment you will:\n",
    "\n",
    "- import data into a MongoDB database.\n",
    "- query data in a MongoDB database.\n",
    "- export data from MongoDB.\n",
    "\n",
    "## **Tools / Software**\n",
    "\n",
    "- MongoDB Server\n",
    "- MongoDB Command Line Backup Tools\n",
    "\n",
    "## **Note - Screenshots**\n",
    "\n",
    "Throughout this lab you will be prompted to take screenshots and save them on your own device. You will need these screenshots to either answer graded quiz questions or to upload as your submission for peer review at the end of this course. You can use various free screengrabbing tools to do this or use your operating system's shortcut keys to do this (for example Alt+PrintScreen in Windows).\n",
    "\n",
    "# **Exercise 1 - Check the lab environment**\n",
    "\n",
    "Before you proceed with the assignment :\n",
    "\n",
    "- Check if you have the ‘mongoimport’ and ‘mongoexport’ installed on the lab, otherwise install them.\n",
    "- Download the `catalog.json` file from [https://cf-courses-data.s3.us.cloud-object-storage.appdomain.cloud/IBM-DB0321EN-SkillsNetwork/nosql/catalog.json](https://cf-courses-data.s3.us.cloud-object-storage.appdomain.cloud/IBM-DB0321EN-SkillsNetwork/nosql/catalog.json).\n",
    "\n"
   ]
  },
  {
   "cell_type": "code",
   "execution_count": 1,
   "id": "a2135533",
   "metadata": {},
   "outputs": [
    {
     "name": "stdout",
     "output_type": "stream",
     "text": [
      "  % Total    % Received % Xferd  Average Speed   Time    Time     Time  Current\n",
      "                                 Dload  Upload   Total   Spent    Left  Speed\n",
      "100 37503  100 37503    0     0  30822      0  0:00:01  0:00:01 --:--:-- 30815\n"
     ]
    }
   ],
   "source": [
    "!curl -O  https://cf-courses-data.s3.us.cloud-object-storage.appdomain.cloud/IBM-DB0321EN-SkillsNetwork/nosql/catalog.json\n",
    "\n"
   ]
  },
  {
   "cell_type": "raw",
   "id": "f952506a",
   "metadata": {
    "vscode": {
     "languageId": "raw"
    }
   },
   "source": [
    "docker-compose up -d"
   ]
  },
  {
   "cell_type": "code",
   "execution_count": 2,
   "id": "ab3d1f3f",
   "metadata": {},
   "outputs": [],
   "source": [
    "!mv catalog.json MongoDB/data"
   ]
  },
  {
   "cell_type": "raw",
   "id": "9a6591a0",
   "metadata": {
    "vscode": {
     "languageId": "raw"
    }
   },
   "source": [
    "docker exec -it --user 'root'  'mongo' '/bin/bash' "
   ]
  },
  {
   "cell_type": "markdown",
   "id": "a3a77534",
   "metadata": {},
   "source": [
    "\n",
    "\n",
    "# **Exercise 2 - Working with MongoDB**\n",
    "\n",
    "### **Task 1 - Import ‘catalog.json’ into mongodb server into a database named ‘catalog’ and a collection named ‘electronics’**\n",
    "\n",
    "Take a screenshot of the command you used and the output.\n",
    "\n",
    "Name the screenshot as `mongoimport.jpg`. (images can be saved with either .jpg or .png extension)\n",
    "\n"
   ]
  },
  {
   "cell_type": "raw",
   "id": "16650f44",
   "metadata": {
    "vscode": {
     "languageId": "raw"
    }
   },
   "source": [
    "\n",
    "mongoimport -u root -p 1234  --authenticationDatabase admin --db catalog --collection electronics --file '/data/db/catalog.json'"
   ]
  },
  {
   "cell_type": "markdown",
   "id": "80935213",
   "metadata": {},
   "source": [
    "\n",
    "\n",
    "![mongoimport.png](lab/mongoimport.png)\n",
    "\n",
    "### **Task 2 - List out all the databases**\n",
    "\n",
    "Take a screenshot of the command you used and the output.\n",
    "\n",
    "Name the screenshot as `list-dbs.jpg`. (images can be saved with either .jpg or .png extension)\n",
    "\n"
   ]
  },
  {
   "cell_type": "raw",
   "id": "51417a81",
   "metadata": {
    "vscode": {
     "languageId": "raw"
    }
   },
   "source": [
    "mongosh -u root -p  --authenticationDatabase admin"
   ]
  },
  {
   "cell_type": "raw",
   "id": "c3135b8e",
   "metadata": {
    "vscode": {
     "languageId": "raw"
    }
   },
   "source": [
    "show dbs\n"
   ]
  },
  {
   "cell_type": "markdown",
   "id": "62565e5c",
   "metadata": {},
   "source": [
    "\n",
    "![](lab/list-dbs.png)"
   ]
  },
  {
   "cell_type": "markdown",
   "id": "1d6201d4",
   "metadata": {},
   "source": [
    "\n",
    "\n",
    "### **Task 3 - List out all the collections in the database `catalog`.**\n",
    "\n",
    "Take a screenshot of the command you used and the output.\n",
    "\n",
    "Name the screenshot as `list-collections.jpg`. (images can be saved with either .jpg or .png extension)\n",
    "\n"
   ]
  },
  {
   "cell_type": "raw",
   "id": "6262a41c",
   "metadata": {
    "vscode": {
     "languageId": "raw"
    }
   },
   "source": [
    "use catalog\n",
    "show collections"
   ]
  },
  {
   "cell_type": "markdown",
   "id": "75e83dc4",
   "metadata": {},
   "source": [
    "\n",
    "\n",
    "![list-collections.png](lab/list-collections.png)\n",
    "\n",
    "### **Task 4 - Create an index on the field “type”**\n",
    "\n",
    "Take a screenshot of the command you used and the output.\n",
    "\n",
    "Name the screenshot as `create-index.jpg`. (images can be saved with either .jpg or .png extension)\n",
    "\n"
   ]
  },
  {
   "cell_type": "raw",
   "id": "86577845",
   "metadata": {
    "vscode": {
     "languageId": "raw"
    }
   },
   "source": [
    "db.electronics.createIndex({\"type\":1})\n"
   ]
  },
  {
   "cell_type": "markdown",
   "id": "10988057",
   "metadata": {},
   "source": [
    "\n",
    "\n",
    "![create-index.png](lab/create-index.png)\n",
    "\n",
    "### **Task 5 - Write a query to find the count of laptops**\n",
    "\n",
    "Take a screenshot of the command you used and the output.\n",
    "\n",
    "Name the screenshot as `mongo-query-laptops.jpg`. (images can be saved with either .jpg or .png extension)\n",
    "\n"
   ]
  },
  {
   "cell_type": "raw",
   "id": "fc6b155a",
   "metadata": {
    "vscode": {
     "languageId": "raw"
    }
   },
   "source": [
    "db.electronics.count({\"type\":\"laptop\"})\n"
   ]
  },
  {
   "cell_type": "markdown",
   "id": "23304a38",
   "metadata": {},
   "source": [
    "\n",
    "\n",
    "![mongo-query-laptops.png](lab/mongo-query-laptops.png)\n",
    "\n",
    "### **Task 6 - Write a query to find the number of `smart phones` with screen size of 6 inches.**\n",
    "\n",
    "Take a screenshot of the command you used and the output.\n",
    "\n",
    "Name the screenshot as `mongo-query-mobiles1.jpg`. (images can be saved with either .jpg or .png extension)\n",
    "\n"
   ]
  },
  {
   "cell_type": "raw",
   "id": "f4d66a8f",
   "metadata": {
    "vscode": {
     "languageId": "raw"
    }
   },
   "source": [
    "db.electronics.count({\"type\":\"smart phone\"}, {\"screen size\":6})\n"
   ]
  },
  {
   "cell_type": "markdown",
   "id": "0525ba0e",
   "metadata": {},
   "source": [
    "\n",
    "\n",
    "![mongo-query-mobiles1.png](lab/mongo-query-mobiles1.png)\n",
    "\n",
    "### **Task 7. Write a query to find out the average screen size of `smart phones`.**\n",
    "\n",
    "Take a screenshot of the command you used and the output.\n",
    "\n",
    "Name the screenshot as `mongo-query-mobiles2.jpg`. (images can be saved with either .jpg or .png extension)\n",
    "\n"
   ]
  },
  {
   "cell_type": "raw",
   "id": "b4d43c90",
   "metadata": {
    "vscode": {
     "languageId": "raw"
    }
   },
   "source": [
    "\n",
    "db.electronics.aggregate([\n",
    "    {\n",
    "        $match: { type: \"smart phone\" }\n",
    "    },\n",
    "    {\n",
    "        $group: {\n",
    "            _id: \"$type\",\n",
    "            averageScreenSize: { $avg: \"$screen size\" }\n",
    "        }\n",
    "    }\n",
    "])\n"
   ]
  },
  {
   "cell_type": "markdown",
   "id": "a8f5b80f",
   "metadata": {},
   "source": [
    "\n",
    "\n",
    "![mongo-query-mobiles2.png](lab/mongo-query-mobiles2.png)\n",
    "\n",
    "### **Task 8 - Export the fields `_id`, “type”, “model”, from the ‘electronics’ collection into a file named `electronics.csv`**\n",
    "\n",
    "Take a screenshot of the command you used and the output.\n",
    "\n",
    "Name the screenshot as `mongoexport.jpg`. (images can be saved with either .jpg or .png extension)\n",
    "\n",
    "End of assignment.\n",
    "\n"
   ]
  },
  {
   "cell_type": "raw",
   "id": "27a59b84",
   "metadata": {
    "vscode": {
     "languageId": "raw"
    }
   },
   "source": [
    "\n",
    "mongoexport -u root -p 1234  --authenticationDatabase admin --db catalog --collection electronics --out /data/db/electronics.csv --type=csv --fields _id,type,model"
   ]
  },
  {
   "cell_type": "markdown",
   "id": "4cc35e9b",
   "metadata": {},
   "source": [
    "\n",
    "\n",
    "![mongoexport.png](lab/mongoexport.png)\n",
    "\n",
    "## **Authors**\n",
    "\n",
    "Ramesh Sannareddy\n",
    "\n",
    "## **Other Contributors**\n",
    "\n",
    "Rav Ahuja\n",
    "\n",
    "## **Change Log**\n",
    "\n",
    "| Date (YYYY-MM-DD) | Version | Changed By | Change Description |\n",
    "| --- | --- | --- | --- |\n",
    "| 2022-04-14 | 0.2 | Lakshmi Holla | Changed question |\n",
    "| 2021-14-18 | 0.1 | Ramesh Sannareddy | Created initial version |\n",
    "\n",
    "**Copyright (c) 2022 IBM Corporation. All rights reserved.**"
   ]
  }
 ],
 "metadata": {
  "kernelspec": {
   "display_name": "base",
   "language": "python",
   "name": "python3"
  },
  "language_info": {
   "codemirror_mode": {
    "name": "ipython",
    "version": 3
   },
   "file_extension": ".py",
   "mimetype": "text/x-python",
   "name": "python",
   "nbconvert_exporter": "python",
   "pygments_lexer": "ipython3",
   "version": "3.11.7"
  }
 },
 "nbformat": 4,
 "nbformat_minor": 5
}
