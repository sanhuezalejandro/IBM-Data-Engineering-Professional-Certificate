{
 "cells": [
  {
   "cell_type": "markdown",
   "id": "c88481b0",
   "metadata": {},
   "source": [
    "# Final Assignment Part A: Dashboard Creation using IBM Cognos Analytics\n",
    "\n",
    "https://www.coursera.org/learn/data-enginering-capstone-project/ungradedWidget/dLBNE/final-assignment-part-a-dashboard-creation-using-ibm-cognos-analytics\n",
    "\n",
    "![https://cf-courses-data.s3.us.cloud-object-storage.appdomain.cloud/IBM-DB0321EN-SkillsNetwork/Images/SN_web_lightmode.png](https://cf-courses-data.s3.us.cloud-object-storage.appdomain.cloud/IBM-DB0321EN-SkillsNetwork/Images/SN_web_lightmode.png)\n",
    "\n",
    "# **Dashboard Creation Part A: IBM Cognos Analytics**\n",
    "\n",
    "Estimated time needed: **30** minutes.\n",
    "\n",
    "# **Scenario**\n",
    "\n",
    "You are a data engineer at an e-commerce company. Your company has finished setting up a data warehouse. Now you are assigned the responsibility to design a reporting dashboard that reflects the key metrics of the business.\n",
    "\n",
    "## **Objectives**\n",
    "\n",
    "In this assignment you will:\n",
    "\n",
    "- Create a dashboard using Cognos Analytics\n",
    "\n",
    "## **Software Required**\n",
    "\n",
    "- IBM Cognos Analytics\n",
    "\n",
    "## **Note - Screenshots**\n",
    "\n",
    "Throughout this lab you will be prompted to take screenshots and save them on your own device. You will need these screenshots to either answer graded quiz questions or to upload as your submission for peer review at the end of this course. You can use various free screengrabbing tools to do this or use your operating system’s shortcut keys to do this (for example Alt+PrintScreen in Windows).\n",
    "\n",
    "## **Pre-requisites**\n",
    "\n",
    "- IBM Cognos Analytics Trial version is required to do this lab, so it is presumed that you have worked on it already. If you want to brush up on the basics of using Cognos Analytics, it is recommeneded that you complete the following labs:\n",
    "\n",
    "[Getting Started with Cognos Analytics](https://cf-courses-data.s3.us.cloud-object-storage.appdomain.cloud/IBMDeveloperSkillsNetwork-DV0130EN-SkillsNetwork/Hands-on%20Labs/Lab%204%20-%20Getting%20Started%20with%20Cognos%20Analytics/instructions.md.html?origin=www.coursera.org)\n",
    "\n",
    "[Different Methods for Creating Dashboard Visualizations with Cognos Analytics](https://cf-courses-data.s3.us.cloud-object-storage.appdomain.cloud/IBMDeveloperSkillsNetwork-DV0130EN-SkillsNetwork/Hands-on%20Labs/Lab%205%20-%20Different%20Methods%20for%20Creating%20Dashboard%20Visualizations%20with%20Cognos%20Analytics/instructions.md.html) .\n",
    "\n",
    "\n",
    "## **Environment Setup**\n",
    "\n",
    "Before you proceed with the assignment :\n",
    "\n",
    "- Download the data from this [link](https://cf-courses-data.s3.us.cloud-object-storage.appdomain.cloud/IBM-DB0321EN-SkillsNetwork/analytics/ecommerce.csv)\n",
    "\n",
    "## **Exercise 1 - Load data into the data warehouse**\n",
    "\n",
    "In order to complete Tasks 1-3 below, you have to load the CSV file directly into Cognos.\n",
    "\n",
    "### **Task 1 - Import data**\n",
    "\n",
    "Upload the downloaded csv file `ecommerce.csv` into Cognos Analytics and take a screenshot of successful loading of the CSV file into Cognos.\n",
    "\n",
    "Name the screenshot as `dataimport.jpg`. (images can be saved with either .jpg or .png extension)\n",
    "\n"
   ]
  },
  {
   "cell_type": "code",
   "execution_count": null,
   "id": "49114a3d",
   "metadata": {},
   "outputs": [],
   "source": [
    "\n"
   ]
  },
  {
   "cell_type": "markdown",
   "id": "65b5f324",
   "metadata": {},
   "source": [
    "![](lab/dataimport.png)"
   ]
  },
  {
   "cell_type": "markdown",
   "id": "b8eaff7d",
   "metadata": {},
   "source": [
    "\n",
    "\n",
    "### **Task 2 - List first 10 rows**\n",
    "\n",
    "Convert the uploaded dataset `ecommerce.csv` into a `Data module` and take a screenshot of the first 10 rows of the table.\n",
    "\n",
    "Name the screenshot as `first10rows.jpg`. (images can be saved with either .jpg or .png extension)\n",
    "\n"
   ]
  },
  {
   "cell_type": "code",
   "execution_count": null,
   "id": "ad411b27",
   "metadata": {},
   "outputs": [],
   "source": [
    "\n"
   ]
  },
  {
   "cell_type": "markdown",
   "id": "fa871d55",
   "metadata": {},
   "source": [
    "![](lab/first10rows.png)"
   ]
  },
  {
   "cell_type": "markdown",
   "id": "2652dfdb",
   "metadata": {},
   "source": [
    "\n",
    "\n",
    "## **Exercise 2 - Accessing the DataSource in Cognos**\n",
    "\n",
    "### **Task 3 - Create a data source**\n",
    "\n",
    "Take a screenshot of the `datasource` created in the Cognos Analytics workspace.\n",
    "\n",
    "Name the screenshot as `datasource.jpg`. (images can be saved with either .jpg or .png extension)\n",
    "\n"
   ]
  },
  {
   "cell_type": "code",
   "execution_count": null,
   "id": "ff7ec252",
   "metadata": {},
   "outputs": [],
   "source": [
    "\n"
   ]
  },
  {
   "cell_type": "markdown",
   "id": "0cef99ff",
   "metadata": {},
   "source": [
    "![](lab/datasource.png)"
   ]
  },
  {
   "cell_type": "markdown",
   "id": "0998c9d3",
   "metadata": {},
   "source": [
    "\n",
    "\n",
    "## **Exercise 3 - Create a dashboard**\n",
    "\n",
    "### **Task 4 - Create a line chart**\n",
    "\n",
    "Create a line chart of month wise total sales for the year 2020.\n",
    "\n",
    "Take a screenshot of the line chart you created.\n",
    "\n",
    "Name the screenshot as `linechart.jpg`. (images can be saved with either .jpg or .png extension)\n",
    "\n"
   ]
  },
  {
   "cell_type": "code",
   "execution_count": null,
   "id": "88341c96",
   "metadata": {},
   "outputs": [],
   "source": [
    "\n"
   ]
  },
  {
   "cell_type": "markdown",
   "id": "2c6fc36b",
   "metadata": {},
   "source": [
    "![](lab/linechart.png)"
   ]
  },
  {
   "cell_type": "markdown",
   "id": "f8f53aff",
   "metadata": {},
   "source": [
    "\n",
    "\n",
    "### **Task 5 - Create a pie chart**\n",
    "\n",
    "Create a pie chart of category wise total sales.\n",
    "\n",
    "Take a screenshot of the pie chart you created.\n",
    "\n",
    "Name the screenshot as `piechart.jpg`. (images can be saved with either .jpg or .png extension)\n",
    "\n"
   ]
  },
  {
   "cell_type": "code",
   "execution_count": null,
   "id": "6dc32745",
   "metadata": {},
   "outputs": [],
   "source": [
    "\n"
   ]
  },
  {
   "cell_type": "markdown",
   "id": "c76ec85e",
   "metadata": {},
   "source": [
    "![](lab/piechart.png)"
   ]
  },
  {
   "cell_type": "markdown",
   "id": "607fe285",
   "metadata": {},
   "source": [
    "\n",
    "\n",
    "### **Task 6 - Create a bar chart**\n",
    "\n",
    "Create a bar chart of Quarterly sales of mobile phones\n",
    "\n",
    "Take a screenshot of the bar chart you created.\n",
    "\n",
    "Name the screenshot as `barchart.jpg`. (images can be saved with either .jpg or .png extension)\n",
    "\n"
   ]
  },
  {
   "cell_type": "code",
   "execution_count": null,
   "id": "7a686a5a",
   "metadata": {},
   "outputs": [],
   "source": [
    "\n"
   ]
  },
  {
   "cell_type": "markdown",
   "id": "0a2679b3",
   "metadata": {},
   "source": [
    "![](lab/barchart.png)"
   ]
  },
  {
   "cell_type": "markdown",
   "id": "9b216a65",
   "metadata": {},
   "source": [
    "\n",
    "\n",
    "**End of assignment**\n",
    "\n",
    "## **Authors**\n",
    "\n",
    "Ramesh Sannareddy\n",
    "\n",
    "### **Other Contributors**\n",
    "\n",
    "Rav Ahuja\n",
    "\n",
    "## **Change Log**\n",
    "\n",
    "| Date (YYYY-MM-DD) | Version | Changed By | Change Description |\n",
    "| --- | --- | --- | --- |\n",
    "| 2021-11-23 | 0.1 | Ramesh Sannareddy | Created initial version |\n",
    "| 2022-02-02 | 0.2 | Ramesh Sannareddy | Updated version |\n",
    "| 2023-04-28 | 0.3 | Steve Ryan | Edits from Item Level Feedback |\n",
    "| 2023-06-24 | 0.4 | Lakshmi Holla | Updated version |\n",
    "\n",
    "**Copyright (c) 2022 IBM Corporation. All rights reserved.**"
   ]
  }
 ],
 "metadata": {
  "language_info": {
   "name": "python"
  }
 },
 "nbformat": 4,
 "nbformat_minor": 5
}
