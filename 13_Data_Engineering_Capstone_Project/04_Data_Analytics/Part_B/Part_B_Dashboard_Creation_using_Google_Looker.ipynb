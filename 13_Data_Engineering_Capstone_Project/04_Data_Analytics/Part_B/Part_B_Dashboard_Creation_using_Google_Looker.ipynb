{
 "cells": [
  {
   "cell_type": "markdown",
   "id": "e75012b8",
   "metadata": {},
   "source": [
    "# Final Assignment Part B: Dashboard Creation using Google Looker Studio\n",
    "\n",
    "https://www.coursera.org/learn/data-enginering-capstone-project/ungradedWidget/65bzt/final-assignment-part-b-dashboard-creation-using-google-looker-studio\n",
    "\n",
    "![https://cf-courses-data.s3.us.cloud-object-storage.appdomain.cloud/IBM-DB0321EN-SkillsNetwork/Images/SN_web_lightmode.png](https://cf-courses-data.s3.us.cloud-object-storage.appdomain.cloud/IBM-DB0321EN-SkillsNetwork/Images/SN_web_lightmode.png)\n",
    "\n",
    "# **Dashboard Creation Part B: Google Looker Studio**\n",
    "\n",
    "Estimated time needed: **30** minutes.\n",
    "\n",
    "# **Scenario**\n",
    "\n",
    "You are a data engineer at an e-commerce company. Your company has finished setting up a data warehouse. Now you are assigned the responsibility to design a reporting dashboard that reflects the key metrics of the business.\n",
    "\n",
    "## **Objectives**\n",
    "\n",
    "In this assignment you will:\n",
    "\n",
    "- Create a dashboard using Google Looker Studio\n",
    "\n",
    "## **Software Required**\n",
    "\n",
    "- Google Looker Studio\n",
    "\n",
    "## **Note - Screenshots**\n",
    "\n",
    "Throughout this lab you will be prompted to take screenshots and save them on your own device. You will need these screenshots to either answer graded quiz questions or to upload as your submission for peer review at the end of this course. You can use various free screengrabbing tools to do this or use your operating system’s shortcut keys to do this (for example Alt+PrintScreen in Windows).\n",
    "\n",
    "## **Pre-requisites**\n",
    "\n",
    "- Google Looker Studio Free version is required to do this lab, so it is presumed that you have worked on it already. If you want to brush up on the basics of using Google Looker Studio, it is recommeneded that you complete the following labs:\n",
    "\n",
    "[Getting Started with Google Looker Studio](https://cf-courses-data.s3.us.cloud-object-storage.appdomain.cloud/IBMSkillsNetwork-DV0130EN-Coursera/labs/v2/Hands-on_Lab%3A_Getting_started_with_Looker_Studio.md.html?origin=www.coursera.org)\n",
    "\n",
    "[Creating and Configuring Visualizations in Reports with Google Looker Studio](https://cf-courses-data.s3.us.cloud-object-storage.appdomain.cloud/IBMSkillsNetwork-DV0130EN-Coursera/labs/v2/Creating_visualizations_and_dashboards_with_Looker.md.html?origin=www.coursera.org)\n",
    "\n",
    "\n",
    "## **Environment Setup**\n",
    "\n",
    "Before you proceed with the assignment :\n",
    "\n",
    "- Download the data from this [link](https://cf-courses-data.s3.us.cloud-object-storage.appdomain.cloud/IBM-DB0321EN-SkillsNetwork/analytics/ecommerce.csv)\n",
    "\n",
    "## **Exercise 1 - Load data into the Google Looker Studio**\n",
    "\n",
    "In order to complete Tasks 1-3 below, you have to upload the CSV file into Google Looker Studio.\n",
    "\n",
    "### **Task 1 - Import data**\n",
    "\n",
    "Upload the downloaded csv file `ecommerce.csv` into Google Looker Studio and take a screenshot of successful loading of the CSV file.\n",
    "\n",
    "Name the screenshot as `dataimport.jpg`. (images can be saved with either .jpg or .png extension)\n",
    "\n"
   ]
  },
  {
   "cell_type": "code",
   "execution_count": null,
   "id": "d2202cc2",
   "metadata": {},
   "outputs": [],
   "source": [
    "\n"
   ]
  },
  {
   "cell_type": "markdown",
   "id": "fb81fb08",
   "metadata": {},
   "source": [
    "\n",
    "\n",
    "### **Task 2 - List first 10 rows**\n",
    "\n",
    "List the `first 10 rows` of the table and take a screenshot of the result.\n",
    "\n",
    "Name the screenshot as `first10rows.jpg`. (images can be saved with either .jpg or .png extension)\n",
    "\n"
   ]
  },
  {
   "cell_type": "code",
   "execution_count": null,
   "id": "cce3015c",
   "metadata": {},
   "outputs": [],
   "source": [
    "\n"
   ]
  },
  {
   "cell_type": "markdown",
   "id": "97244577",
   "metadata": {},
   "source": [
    "\n",
    "\n",
    "## **Exercise 2 - Accessing the DataSource in Google Looker Studio**\n",
    "\n",
    "### **Task 3 - Create a data source**\n",
    "\n",
    "Take a screenshot of the `datasource` created in the Google Looker Studio.\n",
    "\n",
    "Name the screenshot as `datasource.jpg`. (images can be saved with either .jpg or .png extension)\n",
    "\n"
   ]
  },
  {
   "cell_type": "code",
   "execution_count": null,
   "id": "7dbae7c5",
   "metadata": {},
   "outputs": [],
   "source": [
    "\n"
   ]
  },
  {
   "cell_type": "markdown",
   "id": "fb04806a",
   "metadata": {},
   "source": [
    "\n",
    "\n",
    "## **Exercise 3 - Create a dashboard**\n",
    "\n",
    "### **Task 4 - Create a line chart**\n",
    "\n",
    "Create a line chart of month wise total sales for the year 2020.\n",
    "\n",
    "Take a screenshot of the line chart you created.\n",
    "\n",
    "Name the screenshot as `linechart.jpg`. (images can be saved with either .jpg or .png extension)\n",
    "\n"
   ]
  },
  {
   "cell_type": "code",
   "execution_count": null,
   "id": "1ec923f6",
   "metadata": {},
   "outputs": [],
   "source": [
    "\n"
   ]
  },
  {
   "cell_type": "markdown",
   "id": "fd4ea737",
   "metadata": {},
   "source": [
    "\n",
    "\n",
    "### **Task 5 - Create a pie chart**\n",
    "\n",
    "Create a pie chart of category wise total sales.\n",
    "\n",
    "Take a screenshot of the pie chart you created.\n",
    "\n",
    "Name the screenshot as `piechart.jpg`. (images can be saved with either .jpg or .png extension)\n",
    "\n"
   ]
  },
  {
   "cell_type": "code",
   "execution_count": null,
   "id": "1a488875",
   "metadata": {},
   "outputs": [],
   "source": [
    "\n"
   ]
  },
  {
   "cell_type": "markdown",
   "id": "013e0124",
   "metadata": {},
   "source": [
    "\n",
    "\n",
    "### **Task 6 - Create a bar chart**\n",
    "\n",
    "Create a bar chart of Quarterly sales of mobile phones\n",
    "\n",
    "Take a screenshot of the bar chart you created.\n",
    "\n",
    "Name the screenshot as `barchart.jpg`. (images can be saved with either .jpg or .png extension)\n",
    "\n"
   ]
  },
  {
   "cell_type": "code",
   "execution_count": null,
   "id": "57535668",
   "metadata": {},
   "outputs": [],
   "source": [
    "\n"
   ]
  },
  {
   "cell_type": "markdown",
   "id": "debbc40c",
   "metadata": {},
   "source": [
    "\n",
    "\n",
    "**End of assignment**\n",
    "\n",
    "## **Author(s)**\n",
    "\n",
    "Appalabhaktula Hema"
   ]
  }
 ],
 "metadata": {},
 "nbformat": 4,
 "nbformat_minor": 5
}
