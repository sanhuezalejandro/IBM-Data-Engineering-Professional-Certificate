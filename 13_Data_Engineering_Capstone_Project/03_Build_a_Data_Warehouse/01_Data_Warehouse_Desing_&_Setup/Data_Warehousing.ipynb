{
 "cells": [
  {
   "cell_type": "markdown",
   "id": "c3c784fc",
   "metadata": {},
   "source": [
    "# Hands-on Lab: Data Warehousing\n",
    "\n",
    "https://www.coursera.org/learn/data-enginering-capstone-project/ungradedLti/F2LLa/hands-on-lab-data-warehousing\n",
    "\n",
    "![https://cf-courses-data.s3.us.cloud-object-storage.appdomain.cloud/IBM-DB0321EN-SkillsNetwork/Images/SN_web_lightmode.png](https://cf-courses-data.s3.us.cloud-object-storage.appdomain.cloud/IBM-DB0321EN-SkillsNetwork/Images/SN_web_lightmode.png)\n",
    "\n",
    "# **Data Warehousing**\n",
    "\n",
    "Estimated time needed: **60** minutes.\n",
    "\n",
    "# **About This SN Labs Cloud IDE**\n",
    "\n",
    "This Skills Network Labs Cloud IDE provides a hands-on environment for course and project related labs. It utilizes Theia, an open-source IDE (Integrated Development Environment) platform, that can be run on desktop or on the cloud. To complete this lab, we will be using the Cloud IDE based on Theia and PostgreSQL database running in a Docker container.\n",
    "\n",
    "## **Important Notice about this lab environment**\n",
    "\n",
    "Please be aware that sessions for this lab environment are not persistent. A new environment is created for you every time you connect to this lab. Any data you may have saved in an earlier session will get lost. To avoid losing your data, please plan to complete these labs in a single session.\n",
    "\n",
    "# **Scenario**\n",
    "\n",
    "You are a data engineer hired by an ecommerce company named SoftCart.com . The company retails download only items like E-Books, Movies, Songs etc. The company has international presence and customers from all over the world. The company would like to create a data warehouse so that it can create reports like\n",
    "\n",
    "- total sales per year per country\n",
    "- total sales per month per category\n",
    "- total sales per quarter per country\n",
    "- total sales per category per country\n",
    "\n",
    "You will use your data warehousing skills to design and implement a data warehouse for the company.\n",
    "\n",
    "## **Objectives**\n",
    "\n",
    "In this assignment you will:\n",
    "\n",
    "- Design a Data Warehouse using the pgAdmin ERD design tool.\n",
    "- Create the schema in the Data Warehouse\n",
    "\n",
    "# **Tools / Software**\n",
    "\n",
    "- ERD Design Tool of pgAdmin\n",
    "- PostgreSQL Database Server\n",
    "\n",
    "# **Note - Screenshots**\n",
    "\n",
    "Throughout this lab you will be prompted to take screenshots and save them on your own device. You will need these screenshots to either answer graded quiz questions or to upload as your submission for peer review at the end of this course. You can use various free screengrabbing tools to do this or use your operating system’s shortcut keys to do this (for example Alt+PrintScreen in Windows).\n",
    "\n"
   ]
  },
  {
   "cell_type": "code",
   "execution_count": null,
   "id": "917b947f",
   "metadata": {},
   "outputs": [],
   "source": [
    "\n"
   ]
  },
  {
   "cell_type": "markdown",
   "id": "1ded00d7",
   "metadata": {},
   "source": [
    "\n",
    "\n",
    "# **About the dataset**\n",
    "\n",
    "The dataset you would be using in this assignment is not a real life dataset. It was programmatically created for this assignment purpose.\n",
    "\n",
    "# **Exercise 1 - Design a Data Warehouse**\n",
    "\n",
    "The ecommerce company has provied you the sample data.\n",
    "\n",
    "![https://cf-courses-data.s3.us.cloud-object-storage.appdomain.cloud/IBM-DB0321EN-SkillsNetwork/datawarehousing/ecom-sample-data.png](https://cf-courses-data.s3.us.cloud-object-storage.appdomain.cloud/IBM-DB0321EN-SkillsNetwork/datawarehousing/ecom-sample-data.png)\n",
    "\n",
    "You will start your project by designing a Star Schema for the warehouse by identifying the columns for the various dimension and fact tables in the schema. Name your database as softcart\n",
    "\n",
    "### **Task 1 - Design the dimension table softcartDimDate**\n",
    "\n",
    "Using the ERD design tool design the table softcartDimDate. The company is looking at a granularity of a day. Which means they would like to have the ability to generate the report on yearly, monthly, daily, and weekday basis.\n",
    "\n",
    "Here is a partial list of fields to serve as an example:\n",
    "\n",
    "dateid\n",
    "\n",
    "month\n",
    "\n",
    "monthname\n",
    "\n",
    "…\n",
    "\n",
    "…\n",
    "\n",
    "Take a screenshot of the table softcartDimDate in the ERD tool clearly showing all the fieldnames and data types.\n",
    "\n",
    "Name the screenshot `softcartDimDate.jpg`. (Images can be saved with either the .jpg or .png extension.)\n",
    "\n"
   ]
  },
  {
   "cell_type": "code",
   "execution_count": null,
   "id": "5b11476b",
   "metadata": {},
   "outputs": [],
   "source": [
    "\n"
   ]
  },
  {
   "cell_type": "markdown",
   "id": "0b3f709e",
   "metadata": {},
   "source": [
    "\n",
    "\n",
    "![softcartDimDate.png](lab/softcartDimDate.png)\n",
    "\n",
    "### **Task 2 - Design the dimension table softcartDimCategory**\n",
    "\n",
    "Using the ERD design tool design the table softcartDimCategory.\n",
    "\n"
   ]
  },
  {
   "cell_type": "code",
   "execution_count": null,
   "id": "e6445806",
   "metadata": {},
   "outputs": [],
   "source": [
    "\n"
   ]
  },
  {
   "cell_type": "markdown",
   "id": "180e9f67",
   "metadata": {},
   "source": [
    "\n",
    "\n",
    "![softcartDimCategory.png](lab/softcartDimCategory.png)\n",
    "\n",
    "### **Task 3 - Design the dimension table softcartDimItem**\n",
    "\n",
    "Using the ERD design tool design the table softcartDimItem.\n",
    "\n"
   ]
  },
  {
   "cell_type": "code",
   "execution_count": null,
   "id": "0bde101b",
   "metadata": {},
   "outputs": [],
   "source": [
    "\n"
   ]
  },
  {
   "cell_type": "markdown",
   "id": "7841b5e2",
   "metadata": {},
   "source": [
    "\n",
    "\n",
    "![softcartDimItem.png](lab/softcartDimItem.png)\n",
    "\n",
    "### **Task 4 - Design the dimension table softcartDimCountry**\n",
    "\n",
    "Using the ERD design tool design the table softcartDimCountry.\n",
    "\n",
    "Take a screenshot clearly showing all three tables(softcartDimCategory, softcartDimItem, softcartDimCountry) in the ERD tool with all the fieldnames and data types. Name the screenshot `dimtables.jpg`. (Images can be saved with either the .jpg or .png extension.)\n",
    "\n"
   ]
  },
  {
   "cell_type": "code",
   "execution_count": null,
   "id": "d28f5b3b",
   "metadata": {},
   "outputs": [],
   "source": [
    "\n"
   ]
  },
  {
   "cell_type": "markdown",
   "id": "e3ed3f5d",
   "metadata": {},
   "source": [
    "\n",
    "\n",
    "![dimtables.png](lab/dimtables.png)\n",
    "\n",
    "### **Task 5 - Design the fact table softcartFactSales**\n",
    "\n",
    "Using the ERD design tool design the table softcartFactSales.\n",
    "\n",
    "Take a screenshot of the table softcartFactSales in the ERD tool clearly showing all the fieldnames and data types.\n",
    "\n",
    "Name the screenshot `softcartFactSales.jpg`. (Images can be saved with either the .jpg or .png extension.)\n",
    "\n"
   ]
  },
  {
   "cell_type": "code",
   "execution_count": null,
   "id": "c07e24f6",
   "metadata": {},
   "outputs": [],
   "source": [
    "\n"
   ]
  },
  {
   "cell_type": "markdown",
   "id": "710f3b92",
   "metadata": {},
   "source": [
    "\n",
    "\n",
    "![softcartFactSales.png](lab/softcartFactSales.png)\n",
    "\n",
    "### **Task 6 - Design the relationships**\n",
    "\n",
    "Using the ERD design tool design the required relationships(one-to-one, one-to-many etc) amongst the tables.\n",
    "\n",
    "Take a screenshot of the entire ERD clearly showing all the relationships amongst the tables.\n",
    "\n",
    "Name the screenshot `softcartRelationships.jpg`. (Images can be saved with either the .jpg or .png extension.)\n",
    "\n"
   ]
  },
  {
   "cell_type": "code",
   "execution_count": null,
   "id": "2d3e852e",
   "metadata": {
    "vscode": {
     "languageId": "sql"
    }
   },
   "outputs": [],
   "source": []
  },
  {
   "cell_type": "markdown",
   "id": "c6e344a7",
   "metadata": {},
   "source": [
    "\n",
    "\n",
    "![softcartRelationships.png](lab/softcartRelationships.png)\n",
    "\n",
    "# **Exercise 2 - Create the schema**\n",
    "\n",
    "In this exercise you will create the schema of the data warehouse.\n",
    "\n",
    "### **Task 7 - Create the schema.**\n",
    "\n",
    "Download the schema sql from ERD tool and create the schema in a database named `staging`.\n",
    "\n",
    "Take a screenshot showing the success of the schema creation.\n",
    "\n",
    "Name the screenshot `createschema.jpg`. (Images can be saved with either the .jpg or .png extension.)\n",
    "\n",
    "End of the assignment.\n",
    "\n"
   ]
  },
  {
   "cell_type": "code",
   "execution_count": null,
   "id": "be6db34e",
   "metadata": {
    "vscode": {
     "languageId": "sql"
    }
   },
   "outputs": [],
   "source": [
    "\n",
    "CREATE SCHEMA staging;\n",
    "\n",
    "CREATE TABLE staging.softcartDimDate (\n",
    "    dateid INTEGER PRIMARY KEY,\n",
    "    day DATE,\n",
    "    weekday INTEGER,\n",
    "    weekdayname VARCHAR(20),\n",
    "    year INTEGER,\n",
    "    month INTEGER,\n",
    "    monthname VARCHAR(20),\n",
    "    quarter INTEGER,\n",
    "    quartername VARCHAR(20)\n",
    ");\n",
    "\n",
    "CREATE TABLE staging.softcartDimItem (\n",
    "    itemid INTEGER PRIMARY KEY,\n",
    "    itemname VARCHAR(200),\n",
    "    categoryid INTEGER,\n",
    "    price NUMERIC(9,3),\n",
    "    FOREIGN KEY (categoryid) REFERENCES staging.softcartDimCategory(categoryid)\n",
    ");\n",
    "\n",
    "CREATE TABLE staging.softcartDimCategory (\n",
    "    categoryid INTEGER PRIMARY KEY,\n",
    "    categoryname VARCHAR(200)\n",
    ");\n",
    "\n",
    "CREATE TABLE staging.softcartDimCountry (\n",
    "    countryid INTEGER PRIMARY KEY,\n",
    "    countryname VARCHAR(200)\n",
    ");\n",
    "\n",
    "CREATE TABLE staging.softcartFactSales (\n",
    "    orderid INTEGER PRIMARY KEY,\n",
    "    itemid INTEGER,\n",
    "    countryid INTEGER,\n",
    "    dateid INTEGER,\n",
    "    FOREIGN KEY (itemid) REFERENCES staging.softcartDimItem(itemid),\n",
    "    FOREIGN KEY (countryid) REFERENCES staging.softcartDimCountry(countryid),\n",
    "    FOREIGN KEY (dateid) REFERENCES staging.softcartDimDate(dateid)\n",
    ");\n",
    "\n"
   ]
  },
  {
   "cell_type": "markdown",
   "id": "513b920a",
   "metadata": {},
   "source": [
    "\n",
    "\n",
    "![createschema.png](lab/createschema.png)\n",
    "\n",
    "## **Authors**\n",
    "\n",
    "Ramesh Sannareddy\n",
    "\n",
    "### **Other Contributors**\n",
    "\n",
    "Rav Ahuja\n",
    "\n",
    "## **Change Log**\n",
    "\n",
    "| Date (YYYY-MM-DD) | Version | Changed By | Change Description |\n",
    "| --- | --- | --- | --- |\n",
    "| 2021-12-12 | 0.1 | Ramesh Sannareddy | Created initial version |\n",
    "| 2022-02-02 | 0.2 | Ramesh Sannareddy | Updated version |\n",
    "| 2022-09-14 | 0.3 | Appalabhaktula Hema | Updated instructions |\n",
    "\n",
    "**Copyright (c) 2022 IBM Corporation. All rights reserved.**"
   ]
  },
  {
   "cell_type": "markdown",
   "id": "4396b107",
   "metadata": {},
   "source": []
  }
 ],
 "metadata": {
  "language_info": {
   "name": "python"
  }
 },
 "nbformat": 4,
 "nbformat_minor": 5
}
