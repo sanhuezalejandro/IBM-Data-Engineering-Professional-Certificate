{
 "cells": [
  {
   "cell_type": "markdown",
   "id": "059ac84b",
   "metadata": {},
   "source": [
    "# Hands-on Lab: Data Warehouse Reporting using PostgreSQL\n",
    "\n",
    "https://www.coursera.org/learn/data-enginering-capstone-project/ungradedLti/EAIVy/hands-on-lab-data-warehouse-reporting-using-postgresql\n",
    "\n",
    "# **Data Warehouse Reporting**\n",
    "\n",
    "![https://cf-courses-data.s3.us.cloud-object-storage.appdomain.cloud/IBM-DB0321EN-SkillsNetwork/images/IDSN-logo.png](https://cf-courses-data.s3.us.cloud-object-storage.appdomain.cloud/IBM-DB0321EN-SkillsNetwork/images/IDSN-logo.png)\n",
    "\n",
    "## **Estimated time needed: 30 minutes.**\n",
    "\n",
    "## **Software Used in this Lab**\n",
    "\n",
    "To complete this lab you will utilize the [PostgreSQL Database](https://www.postgresql.org/?utm_medium=Exinfluencer&utm_source=Exinfluencer&utm_content=000026UJ&utm_term=10006555&utm_id=NA-SkillsNetwork-Channel-SkillsNetworkCoursesIBMDB0110ENSkillsNetwork24601058-2021-01-01) relational database service available as part of IBM Skills Network Labs (SN Labs) Cloud IDE. SN Labs is a virtual lab environment used in this course.\n",
    "\n",
    "![https://cf-courses-data.s3.us.cloud-object-storage.appdomain.cloud/IBM-DB0321EN-SkillsNetwork/datawarehousing/images/postgresql.png](https://cf-courses-data.s3.us.cloud-object-storage.appdomain.cloud/IBM-DB0321EN-SkillsNetwork/datawarehousing/images/postgresql.png)\n",
    "\n",
    "## **Scenario**\n",
    "\n",
    "You are a data engineer hired by an ecommerce company named SoftCart.com . The company retails download only items like E-Books, Movies, Songs etc. The company has international presence and customers from all over the world. You have designed the schema for the data warehouse in the previous assignment. Data engineering is a team game. Your senior data engineer reviewed your design. Your schema design was improvised to suit the production needs of the company. In this assignment you will generate reports out of the data in the data warehouse.\n",
    "\n",
    "## **Objectives**\n",
    "\n",
    "In this assignment you will:\n",
    "\n",
    "- Load data into Data Warehouse\n",
    "- Write aggregation queries\n",
    "- Create MQTs\n",
    "\n",
    "> Throughout this lab you will be prompted to take screenshots and save them on your own device. You will need these screenshots to either answer graded quiz questions or to upload as your submission for peer review at the end of this course. You can use various free screengrabbing tools to do this or use your operating system’s shortcut keys to do this (for example Alt+PrintScreen in Windows).\n",
    ">\n",
    "\n",
    "# **About the dataset**\n",
    "\n",
    "The dataset you would be using in this assignment is not a real life dataset. It was programmatically created for this assignment purpose.\n",
    "\n",
    "## **Prepare the lab environment**\n",
    "\n",
    "Before you start the assignment:\n",
    "\n",
    "1. Right Click on this [link](https://cf-courses-data.s3.us.cloud-object-storage.appdomain.cloud/IBM-DB0321EN-SkillsNetwork/datawarehousing/CREATE_SCRIPT.sql) and save this SQL file in you local system.\n",
    "2. Start PostgreSQL server\n",
    "3. Create a new database Test1\n",
    "4. Create the following tables\n",
    "- DimDate\n",
    "- DimCategory\n",
    "- DimCountry\n",
    "- FactSales\n",
    "\n",
    "# **Loading Data**\n",
    "\n",
    "In this exercise you will load the data into the tables. You will load the data provided by the company in csv format.\n",
    "\n",
    "### **Task 1 - Load data into the dimension table DimDate**\n",
    "\n",
    "- Download the data from [this link](https://cf-courses-data.s3.us.cloud-object-storage.appdomain.cloud/IBM-DB0321EN-SkillsNetwork/datawarehousing/data/DimDate.csv)\n",
    "- Load the downloaded data into DimDate table.\n",
    "- Take a screenshot of the first 5 rows in the table DimDate.\n",
    "- Name the screenshot `DimDate.jpg`. (Images can be saved with either the .jpg or .png extension.)\n",
    "\n"
   ]
  },
  {
   "cell_type": "code",
   "execution_count": null,
   "id": "ccb4c677",
   "metadata": {},
   "outputs": [],
   "source": [
    "\n"
   ]
  },
  {
   "cell_type": "markdown",
   "id": "62efdf3b",
   "metadata": {},
   "source": [
    "![](lab/DimDate.png)"
   ]
  },
  {
   "cell_type": "markdown",
   "id": "d4c63cd6",
   "metadata": {},
   "source": [
    "\n",
    "\n",
    "### **Task 2 - Load data into the dimension table DimCategory**\n",
    "\n",
    "- Download the data from [this link](https://cf-courses-data.s3.us.cloud-object-storage.appdomain.cloud/IBM-DB0321EN-SkillsNetwork/datawarehousing/DimCategory.csv)\n",
    "- Load the downloaded data into DimCategory table.\n",
    "- Take a screenshot of the first 5 rows in the table DimCategory.\n",
    "- Name the screenshot `DimCategory.jpg`. (Images can be saved with either the .jpg or .png extension.)\n",
    "\n"
   ]
  },
  {
   "cell_type": "code",
   "execution_count": null,
   "id": "3f3a4eda",
   "metadata": {},
   "outputs": [],
   "source": [
    "\n"
   ]
  },
  {
   "cell_type": "markdown",
   "id": "6cd1dc57",
   "metadata": {},
   "source": [
    "![](lab/DimCategory.png)"
   ]
  },
  {
   "cell_type": "markdown",
   "id": "281fe2c9",
   "metadata": {},
   "source": [
    "\n",
    "\n",
    "### **Task 3 - Load data into the dimension table DimCountry**\n",
    "\n",
    "- Download the data from [this link](https://cf-courses-data.s3.us.cloud-object-storage.appdomain.cloud/IBM-DB0321EN-SkillsNetwork/datawarehousing/DimCountry.csv)\n",
    "- Load the downloaded data into DimCountry table.\n",
    "- Take a screenshot of the first 5 rows in the table DimCountry.\n",
    "- Name the screenshot `DimCountry.jpg`. (Images can be saved with either the .jpg or .png extension.)\n",
    "\n"
   ]
  },
  {
   "cell_type": "code",
   "execution_count": null,
   "id": "ad2605a9",
   "metadata": {},
   "outputs": [],
   "source": [
    "\n"
   ]
  },
  {
   "cell_type": "markdown",
   "id": "0cc1998b",
   "metadata": {},
   "source": [
    "![](lab/DimCountry.png)"
   ]
  },
  {
   "cell_type": "markdown",
   "id": "93f0ca42",
   "metadata": {},
   "source": [
    "\n",
    "\n",
    "### **Task 4 - Load data into the fact table FactSales**\n",
    "\n",
    "- Download the data from [this link](https://cf-courses-data.s3.us.cloud-object-storage.appdomain.cloud/IBM-DB0321EN-SkillsNetwork/datawarehousing/FactSales.csv)\n",
    "- Load this data into FactSales table.\n",
    "- Take a screenshot of the first 5 rows in the table FactSales.\n",
    "- Name the screenshot `FactSales.jpg`. (Images can be saved with either the .jpg or .png extension.)\n",
    "\n"
   ]
  },
  {
   "cell_type": "code",
   "execution_count": null,
   "id": "e1199e52",
   "metadata": {},
   "outputs": [],
   "source": [
    "\n"
   ]
  },
  {
   "cell_type": "markdown",
   "id": "86804261",
   "metadata": {},
   "source": [
    "![](lab/FactSales.png)"
   ]
  },
  {
   "cell_type": "markdown",
   "id": "c5b93f55",
   "metadata": {},
   "source": [
    "\n",
    "\n",
    "# **Queries for data analytics**\n",
    "\n",
    "In this exercise you will query the data you have loaded in the previous exercise.\n",
    "\n",
    "### **Task 5 - Create a grouping sets query**\n",
    "\n",
    "- Create a grouping sets query using the columns country, category, totalsales.\n",
    "- Take a screenshot of the sql and the output rows.\n",
    "- Name the screenshot `groupingsets.jpg`. (Images can be saved with either the .jpg or .png extension.)\n",
    "\n"
   ]
  },
  {
   "cell_type": "code",
   "execution_count": null,
   "id": "6d238011",
   "metadata": {
    "vscode": {
     "languageId": "sql"
    }
   },
   "outputs": [],
   "source": [
    "\n",
    "SELECT\n",
    "    dco.country,\n",
    "    dca.category,\n",
    "    SUM(fs.amount) AS totalsales\n",
    "FROM\n",
    "    public.\"FactSales\" fs\n",
    "    JOIN public.\"DimCountry\" dco ON fs.countryid = dco.countryid\n",
    "    JOIN public.\"DimCategory\" dca ON fs.categoryid = dca.categoryid\n",
    "GROUP BY GROUPING SETS (\n",
    "    (dco.country, dca.category),\n",
    "    (dco.country),\n",
    "    (dca.category),\n",
    "    ()\n",
    ")\n",
    "ORDER BY\n",
    "    dco.country,\n",
    "    dca.category;\n"
   ]
  },
  {
   "cell_type": "markdown",
   "id": "af17ed66",
   "metadata": {},
   "source": [
    "![](lab/groupingsets.png)"
   ]
  },
  {
   "cell_type": "markdown",
   "id": "79b3e271",
   "metadata": {},
   "source": [
    "\n",
    "\n",
    "### **Task 6 - Create a rollup query**\n",
    "\n",
    "- Create a rollup query using the columns year, country, and totalsales.\n",
    "- Take a screenshot of the sql and the output rows.\n",
    "- Name the screenshot `rollup.jpg`. (Images can be saved with either the .jpg or .png extension.)\n",
    "\n"
   ]
  },
  {
   "cell_type": "code",
   "execution_count": null,
   "id": "9832e85d",
   "metadata": {
    "vscode": {
     "languageId": "sql"
    }
   },
   "outputs": [],
   "source": [
    "SELECT\n",
    "    dd.year,\n",
    "    dc.country,\n",
    "    SUM(fs.amount) AS totalsales\n",
    "FROM\n",
    "    public.\"FactSales\" fs\n",
    "    JOIN public.\"DimDate\" dd ON fs.dateid = dd.dateid\n",
    "    JOIN public.\"DimCountry\" dc ON fs.countryid = dc.countryid\n",
    "GROUP BY ROLLUP (dd.year, dc.country)\n",
    "ORDER BY\n",
    "    dd.year,\n",
    "    dc.country;\n"
   ]
  },
  {
   "cell_type": "markdown",
   "id": "29971393",
   "metadata": {},
   "source": [
    "![](lab/rollup.png)"
   ]
  },
  {
   "cell_type": "markdown",
   "id": "8ce385db",
   "metadata": {},
   "source": [
    "\n",
    "\n",
    "### **Task 7 - Create a cube query**\n",
    "\n",
    "- Create a cube query using the columns year, country, and average sales.\n",
    "- Take a screenshot of the sql and the output rows.\n",
    "- Name the screenshot `cube.jpg`. (Images can be saved with either the .jpg or .png extension.)\n",
    "\n"
   ]
  },
  {
   "cell_type": "code",
   "execution_count": null,
   "id": "76d2cab6",
   "metadata": {
    "vscode": {
     "languageId": "sql"
    }
   },
   "outputs": [],
   "source": [
    "SELECT\n",
    "    dd.year,\n",
    "    dc.country,\n",
    "    AVG(fs.amount) AS averagesales\n",
    "FROM\n",
    "    public.\"FactSales\" fs\n",
    "    JOIN public.\"DimDate\" dd ON fs.dateid = dd.dateid\n",
    "    JOIN public.\"DimCountry\" dc ON fs.countryid = dc.countryid\n",
    "GROUP BY CUBE (dd.year, dc.country)\n",
    "ORDER BY\n",
    "    dd.year,\n",
    "    dc.country;\n"
   ]
  },
  {
   "cell_type": "markdown",
   "id": "a17a8d89",
   "metadata": {},
   "source": [
    "![](lab/rollup.png)"
   ]
  },
  {
   "cell_type": "markdown",
   "id": "8c45ffa4",
   "metadata": {},
   "source": [
    "\n",
    "\n",
    "### **Task 8 - Create an MQT**\n",
    "\n",
    "- Create an MQT named total_sales_per_country that has the columns country and total_sales.\n",
    "- Take a screenshot of the sql.\n",
    "- Name the screenshot `mqt.jpg`. (Images can be saved with either the .jpg or .png extension.)\n",
    "\n"
   ]
  },
  {
   "cell_type": "code",
   "execution_count": null,
   "id": "4a9c8c65",
   "metadata": {
    "vscode": {
     "languageId": "sql"
    }
   },
   "outputs": [],
   "source": [
    "\n",
    "CREATE MATERIALIZED VIEW public.total_sales_per_country AS\n",
    "SELECT\n",
    "    dc.country,\n",
    "    SUM(fs.amount) AS total_sales\n",
    "FROM\n",
    "    public.\"FactSales\" fs\n",
    "    JOIN public.\"DimCountry\" dc ON fs.countryid = dc.countryid\n",
    "GROUP BY\n",
    "    dc.country;\n"
   ]
  },
  {
   "cell_type": "markdown",
   "id": "1d325910",
   "metadata": {},
   "source": [
    "![](lab/mqt.png)"
   ]
  },
  {
   "cell_type": "markdown",
   "id": "c31f93b4",
   "metadata": {},
   "source": [
    "\n",
    "\n",
    "End of the assignment.\n",
    "\n",
    "## **Authors**\n",
    "\n",
    "[Niveditha Pandith](https://www.linkedin.com/in/niveditha-pandith-53a057231)\n",
    "\n",
    "### **Other Contributors**\n",
    "\n",
    "Rav Ahuja\n",
    "\n",
    "## **Change Log**\n",
    "\n",
    "| Date (YYYY-MM-DD) | Version | Changed By | Change Description |\n",
    "| --- | --- | --- | --- |\n",
    "| 2022-12-16 | 0.3 | Niveditha Pandith | Converted initial version to Postgres |\n",
    "| 2021-12-12 | 0.1 | Ramesh Sannareddy | Created initial version |\n",
    "| 2022-02-02 | 0.2 | Ramesh Sannareddy | Updated version |\n",
    "\n",
    "**Copyright (c) 2022 IBM Corporation. All rights reserved.**"
   ]
  }
 ],
 "metadata": {
  "language_info": {
   "name": "python"
  }
 },
 "nbformat": 4,
 "nbformat_minor": 5
}
