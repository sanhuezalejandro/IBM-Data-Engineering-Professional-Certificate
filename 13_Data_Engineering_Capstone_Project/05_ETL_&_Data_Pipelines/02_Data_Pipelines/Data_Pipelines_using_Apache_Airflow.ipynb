{
 "cells": [
  {
   "cell_type": "markdown",
   "id": "a0d91cf7",
   "metadata": {},
   "source": [
    "# Hands-on Lab: Data Pipelines using Apache Airflow\n",
    "\n",
    "![https://cf-courses-data.s3.us.cloud-object-storage.appdomain.cloud/IBM-DB0321EN-SkillsNetwork/Images/SN_web_lightmode.png](https://cf-courses-data.s3.us.cloud-object-storage.appdomain.cloud/IBM-DB0321EN-SkillsNetwork/Images/SN_web_lightmode.png)\n",
    "\n",
    "# **Data Pipelines Using Apache AirFlow**\n",
    "\n",
    "Estimated time needed: **30** minutes.\n",
    "\n",
    "# **About This SN Labs Cloud IDE**\n",
    "\n",
    "This Skills Network Labs Cloud IDE provides a hands-on environment for course and project related labs. It utilizes Theia, an open-source IDE (Integrated Development Environment) platform, that can be run on desktop or on the cloud. To complete this lab, we will be using the Cloud IDE based on Theia and Apache Airflow running in a Docker container.\n",
    "\n",
    "## **Important Notice about this lab environment**\n",
    "\n",
    "Please be aware that sessions for this lab environment are not persistent. A new environment is created for you every time you connect to this lab. Any data you may have saved in an earlier session will get lost. To avoid losing your data, please plan to complete these labs in a single session.\n",
    "\n",
    "# **Scenario**\n",
    "\n",
    "Write a pipeline that analyzes the web server log file, extracts the required lines(ending with html) and fields(time stamp, size ) and transforms (bytes to mb) and load (append to an existing file.)\n",
    "\n",
    "## **Objectives**\n",
    "\n",
    "In this assignment you will author an Apache Airflow DAG that will:\n",
    "\n",
    "- Extract data from a web server log file\n",
    "- Transform the data\n",
    "- Load the transformed data into a tar file\n",
    "\n",
    "# **Tools / Software**\n",
    "\n",
    "- Apache AirFlow\n",
    "\n",
    "# **Note - Screenshots**\n",
    "\n",
    "Throughout this lab you will be prompted to take screenshots and save them on your own device. You will need these screenshots to either answer graded quiz questions or to upload as your submission for peer review at the end of this course. You can use various free screengrabbing tools to do this or use your operating system’s shortcut keys to do this (for example Alt+PrintScreen in Windows).\n",
    "\n",
    "# **Exercise 1 - Prepare the lab environment**\n",
    "\n",
    "Before you start the assignment:\n",
    "\n",
    "- Start Apache Airflow.\n",
    "- Download the dataset from the source to the destination mentioned below.\n",
    "\n",
    "Source : [https://cf-courses-data.s3.us.cloud-object-storage.appdomain.cloud/IBM-DB0321EN-SkillsNetwork/ETL/accesslog.txt](https://cf-courses-data.s3.us.cloud-object-storage.appdomain.cloud/IBM-DB0321EN-SkillsNetwork/ETL/accesslog.txt)\n",
    "\n",
    "Destination : /home/project/airflow/dags/capstone\n",
    "\n"
   ]
  },
  {
   "cell_type": "code",
   "execution_count": 2,
   "id": "141dc8f2",
   "metadata": {},
   "outputs": [
    {
     "name": "stdout",
     "output_type": "stream",
     "text": [
      "  % Total    % Received % Xferd  Average Speed   Time    Time     Time  Current\n",
      "                                 Dload  Upload   Total   Spent    Left  Speed\n",
      "100 2315k  100 2315k    0     0   998k      0  0:00:02  0:00:02 --:--:--  998k\n"
     ]
    }
   ],
   "source": [
    "\n",
    "!curl -O https://cf-courses-data.s3.us.cloud-object-storage.appdomain.cloud/IBM-DB0321EN-SkillsNetwork/ETL/accesslog.txt && mv accesslog.txt data/"
   ]
  },
  {
   "cell_type": "markdown",
   "id": "563ea27b",
   "metadata": {},
   "source": [
    "\n",
    "\n",
    "# **Exercise 2 - Create a DAG**\n",
    "\n",
    "### **Task 1 - Define the DAG arguments**\n",
    "\n",
    "Create a DAG with these arguments.\n",
    "\n",
    "- owner\n",
    "- start_date\n",
    "- email\n",
    "\n",
    "You may define any suitable additional arguments.\n",
    "\n",
    "Take a screenshot of the code you used clearly showing the above arguments.\n",
    "\n",
    "Name the screenshot `dag_args.jpg`. (Images can be saved with either the .jpg or .png extension.)\n",
    "\n"
   ]
  },
  {
   "cell_type": "code",
   "execution_count": null,
   "id": "9c537497",
   "metadata": {},
   "outputs": [],
   "source": [
    "\n"
   ]
  },
  {
   "cell_type": "markdown",
   "id": "448e6b45",
   "metadata": {},
   "source": [
    "![](img/dag_args.png)"
   ]
  },
  {
   "cell_type": "markdown",
   "id": "3a132e73",
   "metadata": {},
   "source": [
    "\n",
    "\n",
    "### **Task 2 - Define the DAG**\n",
    "\n",
    "Create a DAG named `process_web_log` that runs daily.\n",
    "\n",
    "Use suitable description.\n",
    "\n",
    "Take a screenshot of the code you used to define the DAG.\n",
    "\n",
    "Name the screenshot `dag_definition.jpg`. (Images can be saved with either the .jpg or .png extension.)\n",
    "\n"
   ]
  },
  {
   "cell_type": "code",
   "execution_count": null,
   "id": "ad22973f",
   "metadata": {},
   "outputs": [],
   "source": [
    "\n"
   ]
  },
  {
   "cell_type": "markdown",
   "id": "dd85e942",
   "metadata": {},
   "source": [
    "![](img/dag_definition.png)"
   ]
  },
  {
   "cell_type": "markdown",
   "id": "598ca5c6",
   "metadata": {},
   "source": [
    "\n",
    "\n",
    "### **Task 3 - Create a task to extract data**\n",
    "\n",
    "Create a task named `extract_data`.\n",
    "\n",
    "This task should extract the ipaddress field from the web server log file and save it into a file named extracted_data.txt\n",
    "\n",
    "Take a screenshot of the task code.\n",
    "\n",
    "Name the screenshot `extract_data.jpg`. (Images can be saved with either the .jpg or .png extension.)\n",
    "\n"
   ]
  },
  {
   "cell_type": "code",
   "execution_count": null,
   "id": "a11a7ee5",
   "metadata": {},
   "outputs": [],
   "source": [
    "\n"
   ]
  },
  {
   "cell_type": "markdown",
   "id": "8f0b757e",
   "metadata": {},
   "source": [
    "![](img/extract_data.png)"
   ]
  },
  {
   "cell_type": "markdown",
   "id": "1fb41b7b",
   "metadata": {},
   "source": [
    "\n",
    "\n",
    "### **Task 4 - Create a task to transform the data in the txt file**\n",
    "\n",
    "Create a task named `transform_data`.\n",
    "\n",
    "This task should filter out all the occurrences of ipaddress “198.46.149.143” from extracted_data.txt and save the output to a file named `transformed_data.txt`.\n",
    "\n",
    "Take a screenshot of the task code.\n",
    "\n",
    "Name the screenshot `transform_data.jpg`. (Images can be saved with either the .jpg or .png extension.)\n",
    "\n"
   ]
  },
  {
   "cell_type": "code",
   "execution_count": null,
   "id": "289f040b",
   "metadata": {},
   "outputs": [],
   "source": [
    "\n"
   ]
  },
  {
   "cell_type": "markdown",
   "id": "b7aa3b5c",
   "metadata": {},
   "source": [
    "![](img/transform_data.png)"
   ]
  },
  {
   "cell_type": "markdown",
   "id": "50fe8250",
   "metadata": {},
   "source": [
    "\n",
    "\n",
    "### **Task 5 - Create a task to load the data**\n",
    "\n",
    "Create a task named `load_data`.\n",
    "\n",
    "This task should archive the file `transformed_data.txt` into a tar file named `weblog.tar`.\n",
    "\n",
    "Take a screenshot of the task code.\n",
    "\n",
    "Name the screenshot `load_data.jpg`. (Images can be saved with either the .jpg or .png extension.)\n",
    "\n"
   ]
  },
  {
   "cell_type": "code",
   "execution_count": null,
   "id": "bc278674",
   "metadata": {},
   "outputs": [],
   "source": [
    "\n"
   ]
  },
  {
   "cell_type": "markdown",
   "id": "d7da7eff",
   "metadata": {},
   "source": [
    "![](img/load_data.png)"
   ]
  },
  {
   "cell_type": "markdown",
   "id": "4789e1ea",
   "metadata": {},
   "source": [
    "\n",
    "\n",
    "### **Task 6 - Define the task pipeline**\n",
    "\n",
    "Define the task pipeline as per the details given below:\n",
    "\n",
    "| Task | Functionality |\n",
    "| --- | --- |\n",
    "| First task | extract_data |\n",
    "| Second task | transform_data |\n",
    "| Third task | load_data |\n",
    "\n",
    "Take a screenshot of the task pipeline section of the DAG.\n",
    "\n",
    "Name the screenshot `pipeline.jpg`. (Images can be saved with either the .jpg or .png extension.)\n",
    "\n"
   ]
  },
  {
   "cell_type": "code",
   "execution_count": null,
   "id": "05fb1520",
   "metadata": {},
   "outputs": [],
   "source": [
    "\n"
   ]
  },
  {
   "cell_type": "markdown",
   "id": "173de968",
   "metadata": {},
   "source": [
    "![](img/pipeline.png)"
   ]
  },
  {
   "cell_type": "markdown",
   "id": "179a936b",
   "metadata": {},
   "source": [
    "\n",
    "\n",
    "# **Exercise 3 - Getting the DAG operational.**\n",
    "\n",
    "Save the DAG you defined into a file named `process_web_log.py`.\n",
    "\n",
    "### **Task 7 - Submit the DAG**\n",
    "\n",
    "Take a screenshot of the command you used and the output.\n",
    "\n",
    "Name the screenshot `submit_dag.jpg`. (Images can be saved with either the .jpg or .png extension.)\n",
    "\n"
   ]
  },
  {
   "cell_type": "code",
   "execution_count": null,
   "id": "54991da8",
   "metadata": {},
   "outputs": [],
   "source": [
    "\n"
   ]
  },
  {
   "cell_type": "markdown",
   "id": "22679ba7",
   "metadata": {},
   "source": [
    "![](img/submit_dag.png)"
   ]
  },
  {
   "cell_type": "markdown",
   "id": "b907d322",
   "metadata": {},
   "source": [
    "\n",
    "\n",
    "### **Task 8 - Unpause the DAG**\n",
    "\n",
    "Take a screenshot of the command you used and the output.\n",
    "\n",
    "Name the screenshot `unpause_dag.jpg`. (Images can be saved with either the .jpg or .png extension.)\n",
    "\n"
   ]
  },
  {
   "cell_type": "code",
   "execution_count": null,
   "id": "cc43c55b",
   "metadata": {},
   "outputs": [],
   "source": [
    "\n"
   ]
  },
  {
   "cell_type": "markdown",
   "id": "153d6771",
   "metadata": {},
   "source": [
    "![](img/unpause_dag.png)"
   ]
  },
  {
   "cell_type": "markdown",
   "id": "41bbcb86",
   "metadata": {},
   "source": [
    "\n",
    "\n",
    "### **Task 9 - Monitor the DAG**\n",
    "\n",
    "Take a screenshot of the DAG runs for the Airflow console.\n",
    "\n",
    "Name the screenshot `dag_runs.jpg`. (Images can be saved with either the .jpg or .png extension.)\n",
    "\n",
    "End of the assignment.\n",
    "\n"
   ]
  },
  {
   "cell_type": "code",
   "execution_count": null,
   "id": "6c144baf",
   "metadata": {},
   "outputs": [],
   "source": [
    "\n"
   ]
  },
  {
   "cell_type": "markdown",
   "id": "88953821",
   "metadata": {},
   "source": [
    "![](img/dag_runs.png)"
   ]
  },
  {
   "cell_type": "markdown",
   "id": "ca456331",
   "metadata": {},
   "source": [
    "\n",
    "\n",
    "## **Authors**\n",
    "\n",
    "Ramesh Sannareddy\n",
    "\n",
    "### **Other Contributors**\n",
    "\n",
    "Rav Ahuja\n",
    "\n",
    "## **Change Log**\n",
    "\n",
    "| Date (YYYY-MM-DD) | Version | Changed By | Change Description |\n",
    "| --- | --- | --- | --- |\n",
    "| 2021-13-12 | 0.1 | Ramesh Sannareddy | Created initial version |\n",
    "| 2022-30-01 | 0.2 | Alison Woolford | Updated version |\n",
    "| 2022-04-14 | 0.2 | Alison Woolford | Updated version |\n",
    "\n",
    "**Copyright (c) 2022 IBM Corporation. All rights reserved.**"
   ]
  }
 ],
 "metadata": {
  "kernelspec": {
   "display_name": "base",
   "language": "python",
   "name": "python3"
  },
  "language_info": {
   "codemirror_mode": {
    "name": "ipython",
    "version": 3
   },
   "file_extension": ".py",
   "mimetype": "text/x-python",
   "name": "python",
   "nbconvert_exporter": "python",
   "pygments_lexer": "ipython3",
   "version": "3.11.7"
  }
 },
 "nbformat": 4,
 "nbformat_minor": 5
}
