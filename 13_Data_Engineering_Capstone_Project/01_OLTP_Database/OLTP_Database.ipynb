{
 "cells": [
  {
   "cell_type": "markdown",
   "id": "f73ff6bd",
   "metadata": {},
   "source": [
    "# Hands-on Lab: OLTP Database\n",
    "\n",
    "![https://cf-courses-data.s3.us.cloud-object-storage.appdomain.cloud/IBM-DB0321EN-SkillsNetwork/Images/SN_web_lightmode.png](https://cf-courses-data.s3.us.cloud-object-storage.appdomain.cloud/IBM-DB0321EN-SkillsNetwork/Images/SN_web_lightmode.png)\n",
    "\n",
    "# **OLTP Database**\n",
    "\n",
    "Estimated time needed: **30** minutes.\n",
    "\n",
    "## **About This SN Labs Cloud IDE**\n",
    "\n",
    "This Skills Network Labs Cloud IDE provides a hands-on environment for course and project related labs. It utilizes Theia, an open-source IDE (Integrated Development Environment) platform, that can be run on desktop or on the cloud. To complete this lab, we will be using the Cloud IDE based on Theia and MySQL running in a Docker container.\n",
    "\n",
    "# **Important Notice about this lab environment**\n",
    "\n",
    "Please be aware that sessions for this lab environment are not persisted. Every time you connect to this lab, a new environment is created for you. Any data you may have saved in the earlier session would get lost. Plan to complete these labs in a single session, to avoid losing your data.\n",
    "\n",
    "## **Scenario**\n",
    "\n",
    "You are a data engineer at an e-commerce company. Your company needs you to design a data platform that uses MySQL as an OLTP database. You will be using MySQL to store the OLTP data.\n",
    "\n",
    "## **Objectives**\n",
    "\n",
    "In this assignment you will:\n",
    "\n",
    "- design the schema for OLTP database.\n",
    "- load data into OLTP database.\n",
    "- automate admin tasks.\n",
    "\n",
    "## **Tools / Software**\n",
    "\n",
    "- MySQL 8.0.22\n",
    "- phpMyAdmin 5.0.4\n",
    "\n",
    "## **Note - Screenshots**\n",
    "\n",
    "Throughout this lab you will be prompted to take screenshots and save them on your own device. You will need these screenshots to either answer graded quiz questions or to upload as your submission for peer review at the end of this course. You can use various free screengrabbing tools to do this or use your operating system's shortcut keys to do this (for example Alt+PrintScreen in Windows).\n",
    "\n",
    "# **Exercise 1 - Check the lab environment**\n",
    "\n",
    "Before you proceed with the assignment :\n",
    "\n",
    "- Start MySQL server.\n",
    "\n",
    "\n",
    "\n"
   ]
  },
  {
   "cell_type": "code",
   "execution_count": 61,
   "id": "998b846f",
   "metadata": {},
   "outputs": [
    {
     "name": "stdout",
     "output_type": "stream",
     "text": [
      "The MySQL root password is: 1234\n"
     ]
    }
   ],
   "source": [
    "import os\n",
    "from dotenv import load_dotenv\n",
    "\n",
    "# Specify the full path to the .env file\n",
    "env_path = os.path.join(os.path.dirname(os.path.abspath('__file__')), 'MySQL', '.env')\n",
    "\n",
    "# Load environment variables from the .env file\n",
    "load_dotenv(dotenv_path=env_path)\n",
    "\n",
    "# Get the password from the environment variable\n",
    "password = os.getenv(\"MYSQL_ROOT_PASSWORD\")\n",
    "\n",
    "# Print the password to verify that it was loaded correctly (optional)\n",
    "#print(f\"The MySQL root password is: {password}\")"
   ]
  },
  {
   "cell_type": "code",
   "execution_count": 62,
   "id": "f648558a",
   "metadata": {},
   "outputs": [],
   "source": [
    "# Define the shell command with proper password substitution\n",
    "path = f\"docker exec -it --user 'root' 'mysql_container' bash -c\""
   ]
  },
  {
   "cell_type": "code",
   "execution_count": 63,
   "id": "60ddf998",
   "metadata": {},
   "outputs": [],
   "source": [
    "shell_command = f\"{path} 'mysql  --user=root --password={password} --execute=\\\"SHOW DATABASES\\\"' 2>/dev/null\"\n"
   ]
  },
  {
   "cell_type": "code",
   "execution_count": 64,
   "id": "3143a692",
   "metadata": {},
   "outputs": [
    {
     "name": "stdout",
     "output_type": "stream",
     "text": [
      "mysql: [Warning] Using a password on the command line interface can be insecure.\n",
      "+--------------------+\n",
      "| Database           |\n",
      "+--------------------+\n",
      "| information_schema |\n",
      "| mysql              |\n",
      "| performance_schema |\n",
      "| sys                |\n",
      "+--------------------+\n"
     ]
    }
   ],
   "source": [
    "# Execute the shell command\n",
    "!{shell_command}"
   ]
  },
  {
   "cell_type": "raw",
   "id": "75693f6b",
   "metadata": {
    "vscode": {
     "languageId": "raw"
    }
   },
   "source": [
    "docker exec -it --user 'root'  'mysql_container' '/bin/bash' "
   ]
  },
  {
   "cell_type": "markdown",
   "id": "eafae16c",
   "metadata": {},
   "source": [
    "# **Exercise 2 - Design the OLTP Database**\n",
    "\n",
    "### **Task 1 - Create a database.**\n",
    "\n",
    "Create a database named sales."
   ]
  },
  {
   "cell_type": "code",
   "execution_count": 74,
   "id": "11a74ac3",
   "metadata": {},
   "outputs": [],
   "source": [
    "query = \"CREATE DATABASE sales\""
   ]
  },
  {
   "cell_type": "code",
   "execution_count": 75,
   "id": "1aa506cb",
   "metadata": {},
   "outputs": [],
   "source": [
    "shell_command = f\"{path} 'mysql  --user=root --password={password} --execute=\\\"{query}\\\"' 2>/dev/null\""
   ]
  },
  {
   "cell_type": "code",
   "execution_count": 76,
   "id": "823506fa",
   "metadata": {},
   "outputs": [
    {
     "name": "stdout",
     "output_type": "stream",
     "text": [
      "mysql: [Warning] Using a password on the command line interface can be insecure.\n"
     ]
    }
   ],
   "source": [
    "!{shell_command}"
   ]
  },
  {
   "cell_type": "code",
   "execution_count": 77,
   "id": "7b6f8470",
   "metadata": {},
   "outputs": [],
   "source": [
    "query = \"SHOW DATABASES\""
   ]
  },
  {
   "cell_type": "code",
   "execution_count": 78,
   "id": "579a7a40",
   "metadata": {},
   "outputs": [],
   "source": [
    "shell_command = f\"{path} 'mysql  --user=root --password={password} --execute=\\\"{query}\\\"' 2>/dev/null\"\n"
   ]
  },
  {
   "cell_type": "code",
   "execution_count": 79,
   "id": "9aefbee4",
   "metadata": {},
   "outputs": [
    {
     "name": "stdout",
     "output_type": "stream",
     "text": [
      "mysql: [Warning] Using a password on the command line interface can be insecure.\n",
      "+--------------------+\n",
      "| Database           |\n",
      "+--------------------+\n",
      "| information_schema |\n",
      "| mysql              |\n",
      "| performance_schema |\n",
      "| sales              |\n",
      "| sys                |\n",
      "+--------------------+\n"
     ]
    }
   ],
   "source": [
    "!{shell_command}"
   ]
  },
  {
   "cell_type": "markdown",
   "id": "73584419",
   "metadata": {},
   "source": [
    "### **Task 2 - Design a table named sales_data.**\n",
    "\n",
    "Design a table named sales_data based on the sample data given.\n",
    "\n",
    "![https://cf-courses-data.s3.us.cloud-object-storage.appdomain.cloud/IBM-DB0321EN-SkillsNetwork/oltp/sampledata.png](https://cf-courses-data.s3.us.cloud-object-storage.appdomain.cloud/IBM-DB0321EN-SkillsNetwork/oltp/sampledata.png)\n",
    "\n",
    "Create the sales_data table in `sales` database.\n",
    "\n",
    "Take a screenshot of the sql statement you used and the output.\n",
    "\n",
    "Name the screenshot as `createtable.jpg`. (images can be saved with either .jpg or .png extension)"
   ]
  },
  {
   "cell_type": "code",
   "execution_count": 80,
   "id": "2af65391",
   "metadata": {},
   "outputs": [],
   "source": [
    "query=\"create table sales_data (product_id int, customer_id int, price float (10,3), quantity int, timestamp timestamp ); \""
   ]
  },
  {
   "cell_type": "code",
   "execution_count": 81,
   "id": "3e351802",
   "metadata": {},
   "outputs": [],
   "source": [
    "shell_command = f\"{path} 'mysql  --user=root --password={password} sales --execute=\\\"{query}\\\"' 2>/dev/null\"\n"
   ]
  },
  {
   "cell_type": "code",
   "execution_count": 82,
   "id": "6954902b",
   "metadata": {},
   "outputs": [
    {
     "name": "stdout",
     "output_type": "stream",
     "text": [
      "mysql: [Warning] Using a password on the command line interface can be insecure.\n"
     ]
    }
   ],
   "source": [
    "!{shell_command}"
   ]
  },
  {
   "cell_type": "markdown",
   "id": "678cea46",
   "metadata": {},
   "source": [
    "# **Exercise 3 - Load the Data**\n",
    "\n",
    "### **Task 3 - Import the data in the file oltpdata.csv**\n",
    "\n",
    "Download the file oltpdata.csv from [https://cf-courses-data.s3.us.cloud-object-storage.appdomain.cloud/IBM-DB0321EN-SkillsNetwork/oltp/oltpdata.csv](https://cf-courses-data.s3.us.cloud-object-storage.appdomain.cloud/IBM-DB0321EN-SkillsNetwork/oltp/oltpdata.csv)\n",
    "\n",
    "Import the data from oltpdata.csv into sales_data table using phpMyAdmin.\n",
    "\n",
    "Take a screenshot of the phpMyAdmin import status.\n",
    "\n",
    "Name the screenshot as `importdata.jpg`. (images can be saved with either .jpg or .png extension)"
   ]
  },
  {
   "cell_type": "code",
   "execution_count": 40,
   "id": "cff89c68",
   "metadata": {},
   "outputs": [
    {
     "name": "stdout",
     "output_type": "stream",
     "text": [
      "  % Total    % Received % Xferd  Average Speed   Time    Time     Time  Current\n",
      "                                 Dload  Upload   Total   Spent    Left  Speed\n",
      "100 98061  100 98061    0     0  47232      0  0:00:02  0:00:02 --:--:-- 47235\n"
     ]
    }
   ],
   "source": [
    "!curl -O \"https://cf-courses-data.s3.us.cloud-object-storage.appdomain.cloud/IBM-DB0321EN-SkillsNetwork/oltp/oltpdata.csv\""
   ]
  },
  {
   "cell_type": "markdown",
   "id": "06289140",
   "metadata": {},
   "source": [
    "### **Task 4 - List the tables in the database `sales`.**\n",
    "\n",
    "Take a screenshot of the command you used and the output.\n",
    "\n",
    "Name the screenshot as `listtables.jpg`. (images can be saved with either .jpg or .png extension)\n"
   ]
  },
  {
   "cell_type": "code",
   "execution_count": 84,
   "id": "55024984",
   "metadata": {},
   "outputs": [],
   "source": [
    "query=\"SHOW TABLES\""
   ]
  },
  {
   "cell_type": "code",
   "execution_count": 85,
   "id": "d853a98b",
   "metadata": {},
   "outputs": [],
   "source": [
    "shell_command = f\"{path} 'mysql  --user=root --password={password} sales --execute=\\\"{query}\\\"' 2>/dev/null\"\n"
   ]
  },
  {
   "cell_type": "code",
   "execution_count": 86,
   "id": "68cad92e",
   "metadata": {},
   "outputs": [
    {
     "name": "stdout",
     "output_type": "stream",
     "text": [
      "mysql: [Warning] Using a password on the command line interface can be insecure.\n",
      "+-----------------+\n",
      "| Tables_in_sales |\n",
      "+-----------------+\n",
      "| sales_data      |\n",
      "+-----------------+\n"
     ]
    }
   ],
   "source": [
    "!{shell_command}"
   ]
  },
  {
   "cell_type": "markdown",
   "id": "55b5ae02",
   "metadata": {},
   "source": [
    "### **Task 5. Write a query to find out the count of records in the tables sales_data.**\n",
    "\n",
    "Take a screenshot of the command you used and the output.\n",
    "\n",
    "Name the screenshot as `salesrows.jpg`. (images can be saved with either .jpg or .png extension)\n"
   ]
  },
  {
   "cell_type": "code",
   "execution_count": 88,
   "id": "61034731",
   "metadata": {},
   "outputs": [],
   "source": [
    "query=\"SELECT count(*) FROM sales_data\""
   ]
  },
  {
   "cell_type": "code",
   "execution_count": 90,
   "id": "ed5cda0e",
   "metadata": {},
   "outputs": [
    {
     "name": "stdout",
     "output_type": "stream",
     "text": [
      "mysql: [Warning] Using a password on the command line interface can be insecure.\n",
      "+----------+\n",
      "| count(*) |\n",
      "+----------+\n",
      "|     2605 |\n",
      "+----------+\n"
     ]
    }
   ],
   "source": [
    "shell_command = f\"{path} 'mysql  --user=root --password={password} sales --execute=\\\"{query}\\\"' 2>/dev/null\"\n",
    "!{shell_command}\n"
   ]
  },
  {
   "cell_type": "markdown",
   "id": "69d1e8a7",
   "metadata": {},
   "source": [
    "# **Exercise 4 - Set up Admin tasks**\n",
    "\n",
    "### **Task 6 - Create an index**\n",
    "\n",
    "Create an index named ts on the timestamp field.\n",
    "\n"
   ]
  },
  {
   "cell_type": "code",
   "execution_count": 91,
   "id": "05bf088c",
   "metadata": {},
   "outputs": [],
   "source": [
    "# Definir la consulta\n",
    "query = \"CREATE INDEX ts ON sales_data (timestamp)\""
   ]
  },
  {
   "cell_type": "code",
   "execution_count": 92,
   "id": "53136a90",
   "metadata": {},
   "outputs": [
    {
     "name": "stdout",
     "output_type": "stream",
     "text": [
      "mysql: [Warning] Using a password on the command line interface can be insecure.\n"
     ]
    }
   ],
   "source": [
    "shell_command = f\"{path} 'mysql  --user=root --password={password} sales --execute=\\\"{query}\\\"' 2>/dev/null\"\n",
    "!{shell_command}"
   ]
  },
  {
   "cell_type": "markdown",
   "id": "bcf74c29",
   "metadata": {},
   "source": [
    "### **Task 7 - List indexes**\n",
    "\n",
    "List indexes on the table sales_data.\n",
    "\n",
    "Take a screenshot of the command you used and the output.\n",
    "\n",
    "Name the screenshot as `listindexes.jpg`. (images can be saved with either .jpg or .png extension)\n",
    "\n"
   ]
  },
  {
   "cell_type": "code",
   "execution_count": 93,
   "id": "bdefe34f",
   "metadata": {},
   "outputs": [],
   "source": [
    "query=\"SHOW INDEX FROM sales_data;\""
   ]
  },
  {
   "cell_type": "code",
   "execution_count": 94,
   "id": "be3516fa",
   "metadata": {},
   "outputs": [
    {
     "name": "stdout",
     "output_type": "stream",
     "text": [
      "mysql: [Warning] Using a password on the command line interface can be insecure.\n",
      "+------------+------------+----------+--------------+-------------+-----------+-------------+----------+--------+------+------------+---------+---------------+---------+------------+\n",
      "| Table      | Non_unique | Key_name | Seq_in_index | Column_name | Collation | Cardinality | Sub_part | Packed | Null | Index_type | Comment | Index_comment | Visible | Expression |\n",
      "+------------+------------+----------+--------------+-------------+-----------+-------------+----------+--------+------+------------+---------+---------------+---------+------------+\n",
      "| sales_data |          1 | ts       |            1 | timestamp   | A         |        2605 |     NULL |   NULL | YES  | BTREE      |         |               | YES     | NULL       |\n",
      "+------------+------------+----------+--------------+-------------+-----------+-------------+----------+--------+------+------------+---------+---------------+---------+------------+\n"
     ]
    }
   ],
   "source": [
    "shell_command = f\"{path} 'mysql  --user=root --password={password} sales --execute=\\\"{query}\\\"' 2>/dev/null\"\n",
    "!{shell_command}"
   ]
  },
  {
   "cell_type": "markdown",
   "id": "0d71e92a",
   "metadata": {},
   "source": [
    "### **Task 8 - Write a bash script to export data.**\n",
    "\n",
    "Write a bash script named `datadump.sh` that exports all the rows in the sales_data table to a file named sales_data.sql\n",
    "\n",
    "Take a screenshot of the contents of the `datadump.sh` bash file command you used and the output.\n",
    "\n",
    "Name the screenshot as `exportdata.jpg`. (images can be saved with either .jpg or .png extension)\n",
    "\n",
    "End of assignment.\n",
    "\n"
   ]
  },
  {
   "cell_type": "code",
   "execution_count": 52,
   "id": "0673ffef",
   "metadata": {},
   "outputs": [],
   "source": [
    "!touch datadump.sh"
   ]
  },
  {
   "cell_type": "raw",
   "id": "4b67f6d4",
   "metadata": {
    "vscode": {
     "languageId": "raw"
    }
   },
   "source": [
    "#!/bin/bash\n",
    "\n",
    "# Get the MySQL root password from the .env file\n",
    "MYSQL_ROOT_PASSWORD=$(grep MYSQL_ROOT_PASSWORD MySQL/.env | cut -d '=' -f2)\n",
    "\n",
    "# Define the command to export the data\n",
    "COMMAND=\"docker exec -i mysql_container mysqldump -uroot -p${MYSQL_ROOT_PASSWORD} sales sales_data > sales_data.sql\"\n",
    "\n",
    "# Execute the command\n",
    "eval $COMMAND"
   ]
  },
  {
   "cell_type": "code",
   "execution_count": 55,
   "id": "e4312544",
   "metadata": {},
   "outputs": [],
   "source": [
    "!chmod +x datadump.sh"
   ]
  },
  {
   "cell_type": "code",
   "execution_count": 56,
   "id": "406b1bce",
   "metadata": {},
   "outputs": [
    {
     "name": "stdout",
     "output_type": "stream",
     "text": [
      "mysqldump: [Warning] Using a password on the command line interface can be insecure.\n"
     ]
    }
   ],
   "source": [
    "!./datadump.sh\n"
   ]
  },
  {
   "cell_type": "markdown",
   "id": "81e66d99",
   "metadata": {},
   "source": [
    "## **Authors**\n",
    "\n",
    "Ramesh Sannareddy\n",
    "\n",
    "## **Other Contributors**\n",
    "\n",
    "Rav Ahuja\n",
    "\n",
    "## **Change Log**\n",
    "\n",
    "| Date (YYYY-MM-DD) | Version | Changed By | Change Description |\n",
    "| --- | --- | --- | --- |\n",
    "| 2021-11-22 | 0.1 | Ramesh Sannareddy | Created initial version |\n",
    "| 2022-10-17 | 0.2 | Ramesh Sannareddy | Updated version |\n",
    "| 2022-10-24 | 0.3 | Alison Woolford | Updated version |\n",
    "| 2022-05-16 | 0.4 | Lakshmi Holla | Changed Task8 markdown |\n",
    "\n",
    "**Copyright (c) 2022 IBM Corporation. All rights reserved.**\n"
   ]
  }
 ],
 "metadata": {
  "kernelspec": {
   "display_name": "base",
   "language": "python",
   "name": "python3"
  },
  "language_info": {
   "codemirror_mode": {
    "name": "ipython",
    "version": 3
   },
   "file_extension": ".py",
   "mimetype": "text/x-python",
   "name": "python",
   "nbconvert_exporter": "python",
   "pygments_lexer": "ipython3",
   "version": "3.11.7"
  }
 },
 "nbformat": 4,
 "nbformat_minor": 5
}
