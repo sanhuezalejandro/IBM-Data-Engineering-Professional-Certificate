{
 "cells": [
  {
   "cell_type": "markdown",
   "id": "dd33fd03",
   "metadata": {},
   "source": [
    "# Hands-on Lab: Apache Spark on Kubernetes\n",
    "\n",
    "![https://cf-courses-data.s3.us.cloud-object-storage.appdomain.cloud/IBM-BD0225EN-SkillsNetwork/images/IDSN-logo.png](https://cf-courses-data.s3.us.cloud-object-storage.appdomain.cloud/IBM-BD0225EN-SkillsNetwork/images/IDSN-logo.png)\n",
    "\n",
    "## **Learning Objectives**\n",
    "\n",
    "In this lab, you will:\n",
    "\n",
    "- Create a Kubernetes Pod - a set of containers running inside Kubernetes - here, containing Apache Spark which we use to submit jobs against Kubernetes\n",
    "- Submit Apache Spark jobs to Kubernetes\n",
    "\n",
    "## **Overview**\n",
    "\n",
    "Welcome to the lab on how to submit Apache Spark applications to a Kubernetes cluster. This exercise is straightforward thanks to the new native Kubernetes scheduler that has been added to Spark recently.\n",
    "\n",
    "Kubernetes is a container orchestrator which allows to schedule millions of “docker” containers on huge compute clusters containing thousands of compute nodes. Originally invented and open-sourced by Google, Kubernetes became the de-facto standard for cloud-native application development and deployment inside and outside IBM. With RedHat OpenShift, IBM is the leader in hybrid cloud Kubernetes and within the top three companies contributing to Kubernetes’ open source code base.\n",
    "\n",
    "# **Prerequisites**\n",
    "\n",
    "Note: If you are running this lab within the Skillsnetwort Lab environment, all prerequisites are already installed for you\n",
    "\n",
    "The only pre-requisites to this lab are:\n",
    "\n",
    "- A working *docker* installation\n",
    "- A working *kubernetes* installation\n",
    "- The *git* command line tool\n",
    "\n",
    "# **Setup**\n",
    "\n",
    "1. On the right hand side to this instructions you’ll see the Theia IDE. Select the *Lab* tab. On the menu bar select *Terminal>New Terminal*.\n",
    "\n",
    "![https://cf-courses-data.s3.us.cloud-object-storage.appdomain.cloud/IBM-BD0225EN-SkillsNetwork/images/NewTerminal.png](https://cf-courses-data.s3.us.cloud-object-storage.appdomain.cloud/IBM-BD0225EN-SkillsNetwork/images/NewTerminal.png)\n",
    "\n",
    "1. Please enter the following command in the terminal to get the latest code.\n",
    "\n"
   ]
  },
  {
   "cell_type": "code",
   "execution_count": null,
   "id": "f19ffad7",
   "metadata": {},
   "outputs": [],
   "source": [
    "!git clone https://github.com/ibm-developer-skills-network/fgskh-new_horizons.git\n"
   ]
  },
  {
   "cell_type": "markdown",
   "id": "8d9f7778",
   "metadata": {},
   "source": [
    "\n",
    "\n",
    "1. Change the directory to the downloaded code.\n",
    "\n"
   ]
  },
  {
   "cell_type": "code",
   "execution_count": null,
   "id": "ab32564f",
   "metadata": {},
   "outputs": [],
   "source": [
    "cd fgskh-new_horizons\n"
   ]
  },
  {
   "cell_type": "markdown",
   "id": "7e64a9de",
   "metadata": {},
   "source": [
    "\n",
    "\n",
    "1. Add an alias to `kubectl`. This will help you just type `k` instead of `kubectl`.\n",
    "\n"
   ]
  },
  {
   "cell_type": "code",
   "execution_count": null,
   "id": "2f982933",
   "metadata": {},
   "outputs": [],
   "source": [
    "alias k='kubectl'\n"
   ]
  },
  {
   "cell_type": "markdown",
   "id": "2f6ecec9",
   "metadata": {},
   "source": [
    "\n",
    "\n",
    "1. Save the current namespace in an environment variable that will be used later\n",
    "\n"
   ]
  },
  {
   "cell_type": "code",
   "execution_count": null,
   "id": "a98a22c4",
   "metadata": {},
   "outputs": [],
   "source": [
    "my_namespace=$\n"
   ]
  },
  {
   "cell_type": "markdown",
   "id": "7d4a62c7",
   "metadata": {},
   "source": [
    "\n",
    "\n",
    "# **Deploy the Apache Spark Kubernetes Pod**\n",
    "\n",
    "1. Install the Apache Spark POD\n",
    "\n"
   ]
  },
  {
   "cell_type": "code",
   "execution_count": null,
   "id": "a371acf5",
   "metadata": {},
   "outputs": [],
   "source": [
    "\n",
    "k apply -f spark/pod_spark.yaml\n"
   ]
  },
  {
   "cell_type": "markdown",
   "id": "93de10a8",
   "metadata": {},
   "source": [
    "\n",
    "\n",
    "1. Now it is time to check the status of the Pod by running the following command.\n",
    "\n"
   ]
  },
  {
   "cell_type": "code",
   "execution_count": null,
   "id": "c0ea594d",
   "metadata": {},
   "outputs": [],
   "source": [
    "\n",
    "k get po\n"
   ]
  },
  {
   "cell_type": "markdown",
   "id": "03320c3e",
   "metadata": {},
   "source": [
    "\n",
    "\n",
    "If you see the following output it means that the Pod is not yet available and you need to wait a bit.\n",
    "\n"
   ]
  },
  {
   "cell_type": "code",
   "execution_count": null,
   "id": "150cc310",
   "metadata": {},
   "outputs": [],
   "source": [
    "\n",
    "NAME  READY   STATUS    RESTARTS   AGE\n",
    "spark 2/2     Running   0          10m\n"
   ]
  },
  {
   "cell_type": "markdown",
   "id": "cceb5d40",
   "metadata": {},
   "source": [
    "\n",
    "\n",
    "1. Wait for a few second and issue the command again after some time.\n",
    "\n"
   ]
  },
  {
   "cell_type": "code",
   "execution_count": null,
   "id": "c744093b",
   "metadata": {},
   "outputs": [],
   "source": [
    "\n",
    "k get po\n"
   ]
  },
  {
   "cell_type": "markdown",
   "id": "c9ef9ca6",
   "metadata": {},
   "source": [
    "\n",
    "\n",
    "> Please repeat the step 2 until you have a STATUS that reflects that it is Running.\n",
    ">\n",
    "1. You should see an output as given below. The `AGE` attribute might be different, depending on how long it took you to get it running.\n",
    "\n"
   ]
  },
  {
   "cell_type": "code",
   "execution_count": null,
   "id": "2ddb7fab",
   "metadata": {},
   "outputs": [],
   "source": [
    "\n",
    "NAME   READY   STATUS              RESTARTS   AGE\n",
    "spark  0/2     ImagePullBackOff    0          29s\n"
   ]
  },
  {
   "cell_type": "markdown",
   "id": "8527bfd7",
   "metadata": {},
   "source": [
    "\n",
    "\n",
    "> In case you see the following status you need to delete the pod and start over again later as this usually happens when the image registry is unreliable or offline.\n",
    ">\n",
    "\n"
   ]
  },
  {
   "cell_type": "code",
   "execution_count": null,
   "id": "f5f17b0e",
   "metadata": {},
   "outputs": [],
   "source": [
    "\n",
    "RESTARTS   AGE\n",
    "spark  0/2     ImagePullBackOff    0          29s\n",
    "\n"
   ]
  },
  {
   "cell_type": "markdown",
   "id": "e26d4207",
   "metadata": {},
   "source": [
    "\n",
    "\n",
    "1. Just in this case please delete the pod:\n",
    "\n"
   ]
  },
  {
   "cell_type": "code",
   "execution_count": null,
   "id": "c9978278",
   "metadata": {},
   "outputs": [],
   "source": [
    "\n",
    "k delete po spark\n"
   ]
  },
  {
   "cell_type": "markdown",
   "id": "06636993",
   "metadata": {},
   "source": [
    "\n",
    "\n",
    "Then start over:\n",
    "\n"
   ]
  },
  {
   "cell_type": "code",
   "execution_count": null,
   "id": "4820066a",
   "metadata": {},
   "outputs": [],
   "source": [
    "k apply -f spark/pod_spark.yaml\n"
   ]
  },
  {
   "cell_type": "markdown",
   "id": "f857d6b5",
   "metadata": {},
   "source": [
    "\n",
    "\n",
    "Again, regularly check status:\n",
    "\n"
   ]
  },
  {
   "cell_type": "code",
   "execution_count": null,
   "id": "107cba7c",
   "metadata": {},
   "outputs": [],
   "source": [
    "k get po\n"
   ]
  },
  {
   "cell_type": "markdown",
   "id": "f03236d3",
   "metadata": {},
   "source": [
    "\n",
    "\n",
    "Note that this Pod is called *spark* and contains two\n",
    "\n",
    "containers *(2/2)* of which are both in status *Running*. Please also note that Kubernetes automatically *RESTARTS* failed pods - this hasn’t happened here so far. Most probably because the *AGE* of this pod is only 10 minutes.\n",
    "\n",
    "# **Submit Apache Spark jobs to Kubernetes**\n",
    "\n",
    "Now it is time to run a command inside the *spark* container of this Pod.\n",
    "\n",
    "The command *exec* is told to provide access to the container called *spark* (-c). With *–* we execute a command, in this example we just echo a message.\n",
    "\n"
   ]
  },
  {
   "cell_type": "code",
   "execution_count": null,
   "id": "2060accb",
   "metadata": {},
   "outputs": [],
   "source": [
    "k exec spark -c spark  -- echo \"Hello from inside the container\"\n"
   ]
  },
  {
   "cell_type": "markdown",
   "id": "dd61a332",
   "metadata": {},
   "source": [
    "\n",
    "\n",
    "You just ran a command in *spark* container residing in *spark* pod inside Kubernetes. We will use this container to submit Spark applications to the Kubernetes cluster. This container is based on an image with the Apache Spark distribution and the *kubectl* command pre-installed.\n",
    "\n",
    "If you are interested you can have a look at the [Dockerfile](https://github.com/romeokienzler/new_horizons/blob/main/spark/Dockerfile) to understand what’s really inside.\n",
    "\n",
    "You can also check out the [pod.yaml](https://github.com/romeokienzler/new_horizons/blob/main/spark/pod_spark.yaml). You’ll notice that it contains two containers. One is Apache Spark, another one is providing a Kubernetes Proxy - a so called side car container - allowing to interact with the Kubernetes cluster from inside a Pod.\n",
    "\n",
    "Inside the container you can use the *spark-submit* command which makes use of the new native Kubernetes scheduler that has been added to Spark recently.\n",
    "\n",
    "The following command submits the *SparkPi* sample application to the cluster. SparkPi computes Pi and the more iterations you run, the more precise it gets:\n",
    "\n"
   ]
  },
  {
   "cell_type": "code",
   "execution_count": null,
   "id": "c7727972",
   "metadata": {},
   "outputs": [],
   "source": [
    "\n",
    "k exec spark -c spark -- ./bin/spark-submit \\\n",
    "--master k8s://http://127.0.0.1:8001 \\\n",
    "--deploy-mode cluster \\\n",
    "--name spark-pi \\\n",
    "--class org.apache.spark.examples.SparkPi \\\n",
    "--conf spark.executor.instances=1 \\\n",
    "--conf spark.kubernetes.container.image=romeokienzler/spark-py:3.1.2 \\\n",
    "--conf spark.kubernetes.executor.request.cores=0.2 \\\n",
    "--conf spark.kubernetes.executor.limit.cores=0.3 \\\n",
    "--conf spark.kubernetes.driver.request.cores=0.2 \\\n",
    "--conf spark.kubernetes.driver.limit.cores=0.3 \\\n",
    "--conf spark.driver.memory=512m \\\n",
    "--conf spark.kubernetes.namespace=${my_namespace} \\\n",
    "local:///opt/spark/examples/jars/spark-examples_2.12-3.1.2.jar \\\n",
    "10\n"
   ]
  },
  {
   "cell_type": "markdown",
   "id": "d8afef46",
   "metadata": {},
   "source": [
    "\n",
    "\n",
    "You should see output like below, please ignore the WARNINGS. Unless you don’t see ERRORS all is fine:\n",
    "\n",
    "![https://cf-courses-data.s3.us.cloud-object-storage.appdomain.cloud/IBM-BD0225EN-SkillsNetwork/labs/images/kube_lab_spark_submit_output.png](https://cf-courses-data.s3.us.cloud-object-storage.appdomain.cloud/IBM-BD0225EN-SkillsNetwork/labs/images/kube_lab_spark_submit_output.png)\n",
    "\n",
    "# **Understanding the spark-submit command**\n",
    "\n",
    "So let’s have a look what’s going on here:\n",
    "\n",
    "- *./bin/spark-submit* is the command to submit applications to a Apache Spark cluster\n",
    "- *–master k8s://[http://127.0.0.1:8001](http://127.0.0.1:8001/)* is the address of the Kubernetes API server - the way *kubectl* but also the Apache Spark native Kubernetes scheduler interacts with the Kubernetes cluster\n",
    "- *–name spark-pi* provides a name for the job and the subsequent Pods created by the Apache Spark native Kubernetes scheduler are prefixed with that name\n",
    "- *–class org.apache.spark.examples.SparkPi* provides the canonical name for the Spark application to run (Java package and class name)\n",
    "- *–conf spark.executor.instances=1* tells the Apache Spark native Kubernetes scheduler how many Pods it has to create to parallelize the application. Note that on this single node development Kubernetes cluster increasing this number doesn’t make any sense (besides adding overhead for parallelization)\n",
    "- *–conf spark.kubernetes.container.image=romeokienzler/spark-py:3.1.2* tells the Apache Spark native Kubernetes scheduler which container image it should use for creating the driver and executor Pods. This image can be custom build using the provided Dockerfiles in *kubernetes/dockerfiles/spark/* and *bin/docker-image-tool.sh* in the Apache Spark distribution\n",
    "- *–conf spark.kubernetes.executor.limit.cores=0.3* tells the Apache Spark native Kubernetes scheduler to set the CPU core limit to only use 0.3 core per executor Pod\n",
    "- *–conf spark.kubernetes.driver.limit.cores=0.3* tells the Apache Spark native Kubernetes scheduler to set the CPU core limit to only use 0.3 core for the driver Pod\n",
    "- *–conf spark.driver.memory=512m* tells the Apache Spark native Kubernetes scheduler to set the memory limit to only use 512MBs for the driver Pod\n",
    "- *–conf spark.kubernetes.namespace=${my_namespace}* tells the Apache Spark native Kubernetes scheduler to set the namespace to *my_namespace* environment variable that we set before.\n",
    "- *local:///opt/spark/examples/jars/spark-examples_2.12-3.1.2.jar* indicates the *jar* file the application is contained in. Note that the *local://* prefix addresses a path within the container images provided by the *spark.kubernetes.container.image* option. Since we’re using a *jar* provided by the Apache Spark distribution this is not a problem, otherwise the *spark.kubernetes.file.upload.path* option has to be set and an appropriate storage subsystem has to be configured, as described in the [documentation](https://spark.apache.org/docs/latest/running-on-kubernetes.html#running-spark-on-kubernetes)\n",
    "- *10* tells the application to run for *10* iterations, then output the computed value of *Pi*\n",
    "\n",
    "Please see the [documentation](https://spark.apache.org/docs/latest/running-on-kubernetes.html#configuration) for a full list of available parameters.\n",
    "\n",
    "# **Monitor the Spark application in a parallel terminal**\n",
    "\n",
    "Once this command runs you can *open a second terminal window* within Theia and issue the following command:\n",
    "\n",
    "> Note: To see at least one executor, run the below-mentioned command while the other terminal is still executing spark-submit command\n",
    ">\n",
    "\n"
   ]
  },
  {
   "cell_type": "code",
   "execution_count": null,
   "id": "de5633fb",
   "metadata": {},
   "outputs": [],
   "source": [
    "\n",
    "kubectl get po\n"
   ]
  },
  {
   "cell_type": "markdown",
   "id": "d9f81d05",
   "metadata": {},
   "source": [
    "\n",
    "\n",
    "This will show you the additional Pods being created by the Apache Spark native Kubernetes scheduler - one driver and at least one executor. Note that with only one executor the driver may run the executor within its own pod. Here’s an example when using one executor running separately from the driver pod (exact IDs replaced by X and Y for readability):\n",
    "\n"
   ]
  },
  {
   "cell_type": "code",
   "execution_count": null,
   "id": "54c5100b",
   "metadata": {},
   "outputs": [],
   "source": [
    "\n",
    "NAME              READY STATUS    RESTARTS AGE\n",
    "spark             2/2   Running   0        28m\n",
    "spark-pi-X-exec-1 1/1   Running   0        33s\n",
    "spark-pi-X-driver 1/1   Running   0        44s\n",
    "spark-pi-Y-driver 0/1   Completed 0        12m\n"
   ]
  },
  {
   "cell_type": "markdown",
   "id": "9a3dc4ff",
   "metadata": {},
   "source": [
    "\n",
    "\n",
    "You can see that Pod *spark-pi-Y-driver* is in status *Completed*, from a single executor run twelve minutes ago and that there are one driver and three executors actually running for job *spark-pi-X- ..*.\n",
    "\n",
    "To check the job’s elapsed time just execute (you need to replace the Pod name of course with the one on your system):\n",
    "\n",
    "**Please make sure you run the following code in the newly created terminal window which allows you to execute commands within the Spark driver running in a POD.**\n",
    "\n",
    "> Note: Replace the ID in the Spark-pi-ID-driver with the one which is created by you. For example: if your pod is spark-pi-6f62d17a800beb3e-driver then replace ID with 6f62d17a800beb3e\n",
    ">\n",
    "\n"
   ]
  },
  {
   "cell_type": "code",
   "execution_count": null,
   "id": "89a0b2c3",
   "metadata": {},
   "outputs": [],
   "source": [
    "\n",
    "kubectl logs spark-pi-6f62d17a800beb3e-driver |grep \"Job 0 finished:\"\n"
   ]
  },
  {
   "cell_type": "markdown",
   "id": "3801efc5",
   "metadata": {},
   "source": [
    "\n",
    "\n",
    "You should get something like:\n",
    "\n"
   ]
  },
  {
   "cell_type": "code",
   "execution_count": null,
   "id": "0a415527",
   "metadata": {},
   "outputs": [],
   "source": [
    "\n",
    "Job 0 finished: reduce at SparkPi.scala:38, took 8.446024 s\n"
   ]
  },
  {
   "cell_type": "markdown",
   "id": "89cb5c3d",
   "metadata": {},
   "source": [
    "\n",
    "\n",
    "If you are interested in knowing what value for *Pi* the application came up with just issue:\n",
    "\n",
    "> Note: Replace the ID in the Spark-pi-ID-driver with the one which is created by you. For example: if your pod is spark-pi-6f62d17a800beb3e-driver then replace ID with 6f62d17a800beb3e\n",
    ">\n",
    "\n"
   ]
  },
  {
   "cell_type": "code",
   "execution_count": null,
   "id": "881889c0",
   "metadata": {},
   "outputs": [],
   "source": [
    "\n",
    "kubectl logs spark-pi-6f62d17a800beb3e-driver |grep \"Pi is roughly \"\n"
   ]
  },
  {
   "cell_type": "markdown",
   "id": "2e5455e4",
   "metadata": {},
   "source": [
    "\n",
    "\n",
    "And you’ll see something like:\n",
    "\n"
   ]
  },
  {
   "cell_type": "code",
   "execution_count": null,
   "id": "9023bea7",
   "metadata": {},
   "outputs": [],
   "source": [
    "\n",
    "Pi is roughly 3.1416551416551415\n"
   ]
  },
  {
   "cell_type": "markdown",
   "id": "7aefc54e",
   "metadata": {},
   "source": [
    "\n",
    "\n",
    "# **Experiment yourself**\n",
    "\n",
    "Now you can play around with values for *spark.executor.instances*, *spark.kubernetes.executor.limit.cores=0.5* (0.1 is also a valid number) and number of iterations and see how it affects runtime and precision of the outcome. Just make sure you don’t exceed SkillsNetwork resource quota limit. Watch `Kubectl logs [driver pod]` to check logs for exceeding quota.\n",
    "\n",
    "This concludes this lab.\n",
    "\n",
    "# **Summary**\n",
    "\n",
    "In this lab you’ve learned how to create an Apache Spark client POD within the kubernetes cluster to submit jobs. Then, you’ve used the spark-submit command to create a job running inside this Kubernetes cluster. You are now able to scale your Apache Spark jobs on any Kubernetes cluster running in the cloud or in your data center to thousands of nodes, CPUs and GB of main memory.\n",
    "\n",
    "## **Credits**\n",
    "\n",
    "Thanks a lot to Aije Egwaikhide for testing and her feedback to improve the lab.\n",
    "\n",
    "### **© IBM Corporation 2022. All rights reserved.**"
   ]
  }
 ],
 "metadata": {
  "language_info": {
   "name": "python"
  }
 },
 "nbformat": 4,
 "nbformat_minor": 5
}
