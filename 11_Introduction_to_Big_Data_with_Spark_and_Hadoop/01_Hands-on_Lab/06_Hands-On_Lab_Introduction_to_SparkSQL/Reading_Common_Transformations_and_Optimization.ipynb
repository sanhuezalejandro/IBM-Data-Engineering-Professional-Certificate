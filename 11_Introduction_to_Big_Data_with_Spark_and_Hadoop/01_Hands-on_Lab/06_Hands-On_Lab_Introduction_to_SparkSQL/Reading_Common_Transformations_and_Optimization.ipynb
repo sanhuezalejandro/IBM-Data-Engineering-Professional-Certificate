{
 "cells": [
  {
   "cell_type": "markdown",
   "id": "3facfb7c",
   "metadata": {},
   "source": [
    "# Reading: Common Transformations and Optimization Techniques in Spark\n",
    "\n",
    "When you're working with PySpark DataFrames for data processing, it's important to know about the two types of transformations: narrow and wide. Narrow transformations in Spark work within partitions without shuffling data between them. They're applied locally to each partition, avoiding data exchange. On the other hand, wide transformations in Spark involve redistributing and shuffling data between partitions, often leading to more resource-intensive and complex operations.\n",
    "\n",
    "To understand this concept better, let's take a look at the following illustration.\n",
    "\n",
    "![https://cf-courses-data.s3.us.cloud-object-storage.appdomain.cloud/IBM-BD0225EN-SkillsNetwork/images/Picture1.png](https://cf-courses-data.s3.us.cloud-object-storage.appdomain.cloud/IBM-BD0225EN-SkillsNetwork/images/Picture1.png)\n",
    "\n",
    "Within narrow transformations, data is transferred without executing data shuffling operations.\n",
    "\n",
    "![https://cf-courses-data.s3.us.cloud-object-storage.appdomain.cloud/IBM-BD0225EN-SkillsNetwork/images/Picture2.png](https://cf-courses-data.s3.us.cloud-object-storage.appdomain.cloud/IBM-BD0225EN-SkillsNetwork/images/Picture2.png)\n",
    "\n",
    "Wide transformations involve the shuffling of data across partitions.\n",
    "\n",
    "**Examples of narrow transformations**\n",
    "\n",
    "Narrow transformations can be compared to performing straightforward operations on distinct data sets. Consider having various types of data in separate containers. You can perform actions on each data container or shift data between containers independently without requiring interaction or transfer. Examples of narrow transformations include modifying individual pieces of data, selecting specific items, or combining two data containers.\n",
    "\n",
    "1. **Map:** Applying a function to each element in the data set.\n",
    "\n"
   ]
  },
  {
   "cell_type": "code",
   "execution_count": null,
   "id": "9f0a7e1a",
   "metadata": {},
   "outputs": [],
   "source": [
    "from pyspark import SparkContext\n",
    "sc = SparkContext(\"local\", \"MapExample\")\n",
    "data = [1, 2, 3, 4, 5]\n",
    "rdd = sc.parallelize(data)\n",
    "mapped_rdd = rdd.map(lambda x: x * 2)\n",
    "mapped_rdd.collect() # Output: [2, 4, 6, 8, 10]\n"
   ]
  },
  {
   "cell_type": "markdown",
   "id": "6463d463",
   "metadata": {},
   "source": [
    "\n",
    "\n",
    "1. **Filter:** Selecting elements based on a specified condition.\n",
    "\n"
   ]
  },
  {
   "cell_type": "code",
   "execution_count": null,
   "id": "891871d7",
   "metadata": {},
   "outputs": [],
   "source": [
    "from pyspark import SparkContext\n",
    "sc = SparkContext(\"local\", \"FilterExample\")\n",
    "data = [1, 2, 3, 4, 5]\n",
    "rdd = sc.parallelize(data)\n",
    "filtered_rdd = rdd.filter(lambda x: x % 2 == 0)\n",
    "filtered_rdd.collect() # Output: [2, 4]\n"
   ]
  },
  {
   "cell_type": "markdown",
   "id": "c174b667",
   "metadata": {},
   "source": [
    "\n",
    "\n",
    "**3. Union:** Combining two data sets with the same schema.\n",
    "\n"
   ]
  },
  {
   "cell_type": "code",
   "execution_count": null,
   "id": "acb0c2b9",
   "metadata": {},
   "outputs": [],
   "source": [
    "from pyspark import SparkContext\n",
    "sc = SparkContext(\"local\", \"UnionExample\")\n",
    "rdd1 = sc.parallelize([1, 2, 3])\n",
    "rdd2 = sc.parallelize([4, 5, 6])\n",
    "union_rdd = rdd1.union(rdd2)\n",
    "union_rdd.collect() # Output: [1, 2, 3, 4, 5, 6]\n"
   ]
  },
  {
   "cell_type": "markdown",
   "id": "4f4cb582",
   "metadata": {},
   "source": [
    "\n",
    "\n",
    "**Examples of wide transformations**\n",
    "\n",
    "Wide transformations can be compared to tasks accomplished with teamwork and where information is needed from different groups to conclude. Imagine you have a group of friends, each with a puzzle piece. In order to put the puzzle together, you might need to trade pieces between your friends to make everything fit. These kinds of tasks are a good example of wide transformation. Such tasks can be a little more complicated because everyone needs to collaborate and move pieces around.\n",
    "\n",
    "1. **GroupBy:** Aggregating data based on a specific key.\n",
    "\n"
   ]
  },
  {
   "cell_type": "code",
   "execution_count": null,
   "id": "fbbaf1c3",
   "metadata": {},
   "outputs": [],
   "source": [
    "from pyspark import SparkContext\n",
    "sc = SparkContext(\"local\", \"GroupByExample\")\n",
    "data = [(\"apple\", 2), (\"banana\", 3), (\"apple\", 5), (\"banana\", 1)]\n",
    "rdd = sc.parallelize(data)\n",
    "grouped_rdd = rdd.groupBy(lambda x: x[0])\n",
    "sum_rdd = grouped_rdd.mapValues(lambda values: sum([v[1] for v in values]))\n",
    "sum_rdd.collect() # Output: [('apple', 7), ('banana', 4)]\n"
   ]
  },
  {
   "cell_type": "markdown",
   "id": "13aaf2a2",
   "metadata": {},
   "source": [
    "\n",
    "\n",
    "1. **Join:** Combining two data sets based on a common key.\n",
    "\n"
   ]
  },
  {
   "cell_type": "code",
   "execution_count": null,
   "id": "579dc808",
   "metadata": {},
   "outputs": [],
   "source": [
    "from pyspark import SparkContext\n",
    "sc = SparkContext(\"local\", \"JoinExample\")\n",
    "rdd1 = sc.parallelize([(\"apple\", 2), (\"banana\", 3)])\n",
    "rdd2 = sc.parallelize([(\"apple\", 5), (\"banana\", 1)])\n",
    "joined_rdd = rdd1.join(rdd2)\n",
    "joined_rdd.collect() # Output: [('apple', (2, 5)), ('banana', (3, 1))]\n",
    "\n"
   ]
  },
  {
   "cell_type": "markdown",
   "id": "57513438",
   "metadata": {},
   "source": [
    "\n",
    "\n",
    "**3. Sort:** Rearranging data based on a specific criterion.\n",
    "\n"
   ]
  },
  {
   "cell_type": "code",
   "execution_count": null,
   "id": "151df285",
   "metadata": {},
   "outputs": [],
   "source": [
    "from pyspark import SparkContext\n",
    "sc = SparkContext(\"local\", \"SortExample\")\n",
    "data = [4, 2, 1, 3, 5]\n",
    "rdd = sc.parallelize(data)\n",
    "sorted_rdd = rdd.sortBy(lambda x: x, ascending=True)\n",
    "sorted_rdd.collect() # Output: [1, 2, 3, 4, 5]\n"
   ]
  },
  {
   "cell_type": "markdown",
   "id": "4ce38918",
   "metadata": {},
   "source": [
    "\n",
    "\n",
    "Wide transformations are similar to reshuffling and redistributing data between different groups. Imagine having data sets that you want to combine or organize in a new way. However, this task is not as straightforward as working with just one data set. You need to coordinate and move data between these sets, which involves more complexity. For example, merging two data sets based on a common attribute requires rearranging the data between them, making it a wide transformation in data engineering.\n",
    "\n",
    "**PySpark DataFrame: Rule-based common transformations**\n",
    "\n",
    "The DataFrame API in PySpark offers various transformations based on predefined rules. These transformations are designed to improve how queries are executed and boost overall performance. Let's take a look at some common rule-based transformations.\n",
    "\n",
    "1. **Predicate pushdown:** Pushing filtering conditions closer to the data source before processing to minimize data movement.\n",
    "2. **Constant folding:** Evaluating constant expressions during query compilation to reduce computation during runtime.\n",
    "3. **Column pruning:** Eliminating unnecessary columns from the query plan to enhance processing efficiency.\n",
    "4. **Join reordering:** Rearranging join operations to minimize the intermediate data size and enhance the join performance.\n",
    "\n"
   ]
  },
  {
   "cell_type": "code",
   "execution_count": null,
   "id": "79080ccf",
   "metadata": {},
   "outputs": [],
   "source": [
    "from pyspark.sql import SparkSession\n",
    "from pyspark.sql.functions import col\n",
    "# Create a Spark session\n",
    "spark = SparkSession.builder.appName(\"RuleBasedTransformations\").getOrCreate()\n",
    "# Sample input data for DataFrame 1\n",
    "data1 = [\n",
    "(\"Alice\", 25, \"F\"),\n",
    "(\"Bob\", 30, \"M\"),\n",
    "(\"Charlie\", 22, \"M\"),\n",
    "(\"Diana\", 28, \"F\")\n",
    "]\n",
    "# Sample input data for DataFrame 2\n",
    "data2 = [\n",
    "(\"Alice\", \"New York\"),\n",
    "(\"Bob\", \"San Francisco\"),\n",
    "(\"Charlie\", \"Los Angeles\"),\n",
    "(\"Eve\", \"Chicago\")\n",
    "]\n",
    "# Create DataFrames\n",
    "columns1 = [\"name\", \"age\", \"gender\"]\n",
    "df1 = spark.createDataFrame(data1, columns1)\n",
    "columns2 = [\"name\", \"city\"]\n",
    "df2 = spark.createDataFrame(data2, columns2)\n",
    "# Applying Predicate Pushdown (Filtering)\n",
    "filtered_df = df1.filter(col(\"age\") > 25)\n",
    "# Applying Constant Folding\n",
    "folded_df = filtered_df.select(col(\"name\"), col(\"age\") + 2)\n",
    "# Applying Column Pruning\n",
    "pruned_df = folded_df.select(col(\"name\"))\n",
    "# Join Reordering\n",
    "reordered_join = df1.join(df2, on=\"name\")\n",
    "# Show the final results\n",
    "print(\"Filtered DataFrame:\")\n",
    "filtered_df.show()\n",
    "print(\"Folded DataFrame:\")\n",
    "folded_df.show()\n",
    "print(\"Pruned DataFrame:\")\n",
    "pruned_df.show()\n",
    "print(\"Reordered Join DataFrame:\")\n",
    "reordered_join.show()\n",
    "# Stop the Spark session\n",
    "spark.stop()\n"
   ]
  },
  {
   "cell_type": "markdown",
   "id": "12a2f93b",
   "metadata": {},
   "source": [
    "\n",
    "\n",
    "**Optimization techniques used in Spark SQL**\n",
    "\n",
    "1. **Predicate pushdown:** Apply a filter to DataFrame \"df1\" to only select rows where the \"age\" column is greater than 25.\n",
    "2. **Constant folding:** Perform an arithmetic operation on the \"age\" column in the folded_df, adding a constant value of 2.\n",
    "3. **Column pruning:** Select only the \"name\" column in the pruned_df, eliminating unnecessary columns from the query plan.\n",
    "4. **Join reordering:** Perform a join between df1 and df2 on the \"name\" column, allowing Spark to potentially reorder the join for better performance.\n",
    "\n",
    "**Cost-Based optimization techniques in Spark**\n",
    "\n",
    "Spark employs cost-based optimization techniques to enhance the efficiency of query execution. These methods involve estimating and analyzing the costs associated with queries, leading to more informed decisions that result in improved performance.\n",
    "\n",
    "1. **Adaptive query execution:** Dynamically adjusts the query plan during execution based on runtime statistics to optimize performance.\n",
    "2. **Cost-based join reordering:** Optimizes join order based on estimated costs of different join paths.\n",
    "3. **Broadcast hash join:** Optimizes small-table joins by broadcasting one table to all nodes, reducing data shuffling.\n",
    "4. **Shuffle partitioning and memory management:** Efficiently manages data shuffling during operations like groupBy and aggregation and optimizes memory usage.\n",
    "\n",
    "By utilizing these methods, Spark endeavors to deliver efficient and scalable data processing capabilities. It is essential to grasp the effective application of these transformations and optimizations to attain the best possible query performance and optimal utilization of system resources.\n",
    "\n"
   ]
  },
  {
   "cell_type": "code",
   "execution_count": null,
   "id": "ab7c33c7",
   "metadata": {},
   "outputs": [],
   "source": [
    "from pyspark.sql import SparkSession\n",
    "from pyspark.sql.functions import col\n",
    "# Create a Spark session\n",
    "spark = SparkSession.builder.appName(\"CostBasedOptimization\").getOrCreate()\n",
    "# Sample input data for DataFrame 1\n",
    "data1 = [\n",
    "(\"Alice\", 25),\n",
    "(\"Bob\", 30),\n",
    "(\"Charlie\", 22),\n",
    "(\"Diana\", 28)\n",
    "]\n",
    "# Sample input data for DataFrame 2\n",
    "data2 = [\n",
    "(\"Alice\", \"New York\"),\n",
    "(\"Bob\", \"San Francisco\"),\n",
    "(\"Charlie\", \"Los Angeles\"),\n",
    "(\"Eve\", \"Chicago\")\n",
    "]\n",
    "# Create DataFrames\n",
    "columns1 = [\"name\", \"age\"]\n",
    "df1 = spark.createDataFrame(data1, columns1)\n",
    "columns2 = [\"name\", \"city\"]\n",
    "df2 = spark.createDataFrame(data2, columns2)\n",
    "# Enable adaptive query execution\n",
    "spark.conf.set(\"spark.sql.adaptive.enabled\", \"true\")\n",
    "# Applying Adaptive Query Execution (Runtime adaptive optimization)\n",
    "optimized_join = df1.join(df2, on=\"name\")\n",
    "# Show the optimized join result\n",
    "print(\"Optimized Join DataFrame:\")\n",
    "optimized_join.show()\n",
    "# Stop the Spark session\n",
    "spark.stop()\n"
   ]
  },
  {
   "cell_type": "markdown",
   "id": "c1e2ef06",
   "metadata": {},
   "source": [
    "\n",
    "\n",
    "In this example, we created two DataFrames (**df1** and **df2**) with sample input data. Then, we enabled the adaptive query execution feature by setting the configuration parameter **\"spark.sql.adaptive.enabled\"** to **\"true\"**. Adaptive Query Execution allows Spark to adjust the query plan during execution based on runtime statistics.\n",
    "\n",
    "The code performs a join between **df1** and **df2** on the \"name\" column. Spark's adaptive query execution dynamically adjusts the query plan based on runtime statistics, which can result in improved performance.\n",
    "\n",
    "## **Author(s)**\n",
    "\n",
    "Raghul Ramesh\n",
    "\n",
    "![https://cf-courses-data.s3.us.cloud-object-storage.appdomain.cloud/IBM-BD0225EN-SkillsNetwork/images/footer%20logo.png](https://cf-courses-data.s3.us.cloud-object-storage.appdomain.cloud/IBM-BD0225EN-SkillsNetwork/images/footer%20logo.png)"
   ]
  }
 ],
 "metadata": {},
 "nbformat": 4,
 "nbformat_minor": 5
}
